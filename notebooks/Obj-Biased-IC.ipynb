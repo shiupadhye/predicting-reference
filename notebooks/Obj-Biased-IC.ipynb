{
 "cells": [
  {
   "cell_type": "code",
   "execution_count": 5,
   "metadata": {},
   "outputs": [],
   "source": [
    "import pandas as pd\n",
    "import numpy as np"
   ]
  },
  {
   "cell_type": "code",
   "execution_count": 6,
   "metadata": {},
   "outputs": [],
   "source": [
    "def compute_average(df,col):\n",
    "    return np.mean(df[col].values)"
   ]
  },
  {
   "cell_type": "markdown",
   "metadata": {},
   "source": [
    "## No-prompt"
   ]
  },
  {
   "cell_type": "code",
   "execution_count": 7,
   "metadata": {},
   "outputs": [],
   "source": [
    "np_average_subj_female_subj_pron = {}\n",
    "np_average_subj_female_obj_pron = {}\n",
    "np_average_subj_male_subj_pron = {}\n",
    "np_average_subj_male_obj_pron = {}"
   ]
  },
  {
   "cell_type": "markdown",
   "metadata": {},
   "source": [
    "### Verb: \"chucked\" (NOTE: gets tokenized to 'unk)"
   ]
  },
  {
   "cell_type": "code",
   "execution_count": 8,
   "metadata": {
    "scrolled": true
   },
   "outputs": [
    {
     "data": {
      "text/html": [
       "<div>\n",
       "<style scoped>\n",
       "    .dataframe tbody tr th:only-of-type {\n",
       "        vertical-align: middle;\n",
       "    }\n",
       "\n",
       "    .dataframe tbody tr th {\n",
       "        vertical-align: top;\n",
       "    }\n",
       "\n",
       "    .dataframe thead th {\n",
       "        text-align: right;\n",
       "    }\n",
       "</style>\n",
       "<table border=\"1\" class=\"dataframe\">\n",
       "  <thead>\n",
       "    <tr style=\"text-align: right;\">\n",
       "      <th></th>\n",
       "      <th>stimulus</th>\n",
       "      <th>He</th>\n",
       "      <th>She</th>\n",
       "    </tr>\n",
       "  </thead>\n",
       "  <tbody>\n",
       "    <tr>\n",
       "      <th>0</th>\n",
       "      <td>Miss Smith chucked a wrench to Mr. Smith.</td>\n",
       "      <td>0.771096</td>\n",
       "      <td>0.228904</td>\n",
       "    </tr>\n",
       "    <tr>\n",
       "      <th>1</th>\n",
       "      <td>The woman chucked a wrench to the man.</td>\n",
       "      <td>0.814792</td>\n",
       "      <td>0.185208</td>\n",
       "    </tr>\n",
       "    <tr>\n",
       "      <th>2</th>\n",
       "      <td>Mary chucked a wrench to John.</td>\n",
       "      <td>0.589467</td>\n",
       "      <td>0.410533</td>\n",
       "    </tr>\n",
       "    <tr>\n",
       "      <th>3</th>\n",
       "      <td>Alice chucked a wrench to Bob.</td>\n",
       "      <td>0.494569</td>\n",
       "      <td>0.505431</td>\n",
       "    </tr>\n",
       "    <tr>\n",
       "      <th>4</th>\n",
       "      <td>The actress chucked a wrench to the actor.</td>\n",
       "      <td>0.834358</td>\n",
       "      <td>0.165642</td>\n",
       "    </tr>\n",
       "  </tbody>\n",
       "</table>\n",
       "</div>"
      ],
      "text/plain": [
       "                                     stimulus        He       She\n",
       "0   Miss Smith chucked a wrench to Mr. Smith.  0.771096  0.228904\n",
       "1      The woman chucked a wrench to the man.  0.814792  0.185208\n",
       "2              Mary chucked a wrench to John.  0.589467  0.410533\n",
       "3              Alice chucked a wrench to Bob.  0.494569  0.505431\n",
       "4  The actress chucked a wrench to the actor.  0.834358  0.165642"
      ]
     },
     "execution_count": 8,
     "metadata": {},
     "output_type": "execute_result"
    }
   ],
   "source": [
    "IC2_noprompt_1 = pd.read_csv(\"../results/IC2/no-prompt/1.csv\")\n",
    "IC2_noprompt_1.head()"
   ]
  },
  {
   "cell_type": "code",
   "execution_count": null,
   "metadata": {},
   "outputs": [],
   "source": [
    "# female subject\n",
    "IC2_noprompt_1f = IC2_noprompt_1[0:12]\n",
    "IC2_noprompt_1f = IC2_noprompt_1f[[\"stimulus\",\"She\",\"He\"]]\n",
    "# male subject\n",
    "IC2_noprompt_1m = IC2_noprompt_1[12:24]"
   ]
  },
  {
   "cell_type": "markdown",
   "metadata": {},
   "source": [
    "#### female subject"
   ]
  },
  {
   "cell_type": "code",
   "execution_count": null,
   "metadata": {},
   "outputs": [],
   "source": [
    "IC2_noprompt_1f"
   ]
  },
  {
   "cell_type": "code",
   "execution_count": null,
   "metadata": {
    "scrolled": false
   },
   "outputs": [],
   "source": [
    "print(\"P('subj-pron'|subj=female) = \", compute_average(IC2_noprompt_1f,'She'))\n",
    "print(\"P('non-subj-pron'|subj=female) = \", compute_average(IC2_noprompt_1f,'He'))"
   ]
  },
  {
   "cell_type": "code",
   "execution_count": null,
   "metadata": {},
   "outputs": [],
   "source": [
    "np_average_subj_female_subj_pron['assisted'] = compute_average(IC2_noprompt_1f,'She')\n",
    "np_average_subj_female_obj_pron['assisted'] = compute_average(IC2_noprompt_1f,'He')"
   ]
  },
  {
   "cell_type": "markdown",
   "metadata": {},
   "source": [
    "#### male subject"
   ]
  },
  {
   "cell_type": "code",
   "execution_count": null,
   "metadata": {
    "scrolled": true
   },
   "outputs": [],
   "source": [
    "IC2_noprompt_1m"
   ]
  },
  {
   "cell_type": "code",
   "execution_count": null,
   "metadata": {
    "scrolled": true
   },
   "outputs": [],
   "source": [
    "print(\"P('subj-pron'|subj=male) = \", compute_average(IC2_noprompt_1m,'He'))\n",
    "print(\"P('non-subj-pron'|subj=male) = \", compute_average(IC2_noprompt_1m,'She'))"
   ]
  },
  {
   "cell_type": "code",
   "execution_count": null,
   "metadata": {},
   "outputs": [],
   "source": [
    "np_average_subj_male_subj_pron['assisted'] = compute_average(IC2_noprompt_1m,'He')\n",
    "np_average_subj_male_obj_pron['assisted'] = compute_average(IC2_noprompt_1m,'She')"
   ]
  },
  {
   "cell_type": "markdown",
   "metadata": {},
   "source": [
    "### Verb: \"blames\""
   ]
  },
  {
   "cell_type": "code",
   "execution_count": null,
   "metadata": {
    "scrolled": true
   },
   "outputs": [],
   "source": [
    "IC2_noprompt_2 = pd.read_csv(\"../results/IC2/no-prompt/2.csv\")\n",
    "IC2_noprompt_2.head()"
   ]
  },
  {
   "cell_type": "code",
   "execution_count": null,
   "metadata": {},
   "outputs": [],
   "source": [
    "# female subject\n",
    "IC2_noprompt_2f = IC2_noprompt_2[0:12]\n",
    "IC2_noprompt_2f = IC2_noprompt_2f[[\"stimulus\",\"She\",\"He\"]]\n",
    "# male subject\n",
    "IC2_noprompt_2m = IC2_noprompt_2[12:24]"
   ]
  },
  {
   "cell_type": "markdown",
   "metadata": {},
   "source": [
    "#### female subject"
   ]
  },
  {
   "cell_type": "code",
   "execution_count": null,
   "metadata": {},
   "outputs": [],
   "source": [
    "IC2_noprompt_2f"
   ]
  },
  {
   "cell_type": "code",
   "execution_count": null,
   "metadata": {},
   "outputs": [],
   "source": [
    "print(\"P('subj-pron'|subj=female) = \", compute_average(IC2_noprompt_2f,'She'))\n",
    "print(\"P('non-subj-pron'|subj=female) = \", compute_average(IC2_noprompt_2f,'He'))"
   ]
  },
  {
   "cell_type": "code",
   "execution_count": null,
   "metadata": {},
   "outputs": [],
   "source": [
    "np_average_subj_female_subj_pron['blames'] = compute_average(IC2_noprompt_2f,'She')\n",
    "np_average_subj_female_obj_pron['blames'] = compute_average(IC2_noprompt_2f,'He')"
   ]
  },
  {
   "cell_type": "markdown",
   "metadata": {},
   "source": [
    "#### male subject"
   ]
  },
  {
   "cell_type": "code",
   "execution_count": null,
   "metadata": {
    "scrolled": true
   },
   "outputs": [],
   "source": [
    "IC2_noprompt_2m"
   ]
  },
  {
   "cell_type": "code",
   "execution_count": null,
   "metadata": {
    "scrolled": true
   },
   "outputs": [],
   "source": [
    "print(\"P('subj-pron'|subj=male) = \", compute_average(IC2_noprompt_2m,'He'))\n",
    "print(\"P('non-subj-pron'|subj=male) = \", compute_average(IC2_noprompt_2m,'She'))"
   ]
  },
  {
   "cell_type": "code",
   "execution_count": null,
   "metadata": {},
   "outputs": [],
   "source": [
    "np_average_subj_male_subj_pron['blames'] = compute_average(IC2_noprompt_2m,'He')\n",
    "np_average_subj_male_obj_pron['blames'] = compute_average(IC2_noprompt_2m,'She')"
   ]
  },
  {
   "cell_type": "markdown",
   "metadata": {},
   "source": [
    "### Verb: \"comforted\""
   ]
  },
  {
   "cell_type": "code",
   "execution_count": null,
   "metadata": {},
   "outputs": [],
   "source": [
    "IC2_noprompt_3 = pd.read_csv(\"../results/IC2/no-prompt/3.csv\")\n",
    "IC2_noprompt_3.head()"
   ]
  },
  {
   "cell_type": "code",
   "execution_count": null,
   "metadata": {},
   "outputs": [],
   "source": [
    "# female subject\n",
    "IC2_noprompt_3f = IC2_noprompt_3[0:12]\n",
    "IC2_noprompt_3f = IC2_noprompt_3f[[\"stimulus\",\"She\",\"He\"]]\n",
    "# male subject\n",
    "IC2_noprompt_3m = IC2_noprompt_3[12:24]"
   ]
  },
  {
   "cell_type": "markdown",
   "metadata": {},
   "source": [
    "#### female subject"
   ]
  },
  {
   "cell_type": "code",
   "execution_count": null,
   "metadata": {
    "scrolled": true
   },
   "outputs": [],
   "source": [
    "IC2_noprompt_3f"
   ]
  },
  {
   "cell_type": "code",
   "execution_count": null,
   "metadata": {},
   "outputs": [],
   "source": [
    "print(\"P('subj-pron'|subj=female) = \", compute_average(IC2_noprompt_3f,'She'))\n",
    "print(\"P('non-subj-pron'|subj=female) = \", compute_average(IC2_noprompt_3f,'He'))"
   ]
  },
  {
   "cell_type": "code",
   "execution_count": null,
   "metadata": {},
   "outputs": [],
   "source": [
    "np_average_subj_female_subj_pron['comforted'] = compute_average(IC2_noprompt_3f,'She')\n",
    "np_average_subj_female_obj_pron['comforted'] = compute_average(IC2_noprompt_3f,'He')"
   ]
  },
  {
   "cell_type": "markdown",
   "metadata": {},
   "source": [
    "#### male subject"
   ]
  },
  {
   "cell_type": "code",
   "execution_count": null,
   "metadata": {
    "scrolled": true
   },
   "outputs": [],
   "source": [
    "IC2_noprompt_3m"
   ]
  },
  {
   "cell_type": "code",
   "execution_count": null,
   "metadata": {},
   "outputs": [],
   "source": [
    "print(\"P('subj-pron'|subj=male) = \", compute_average(IC2_noprompt_3m,'He'))\n",
    "print(\"P('non-subj-pron'|subj=male) = \", compute_average(IC2_noprompt_3m,'She'))"
   ]
  },
  {
   "cell_type": "code",
   "execution_count": null,
   "metadata": {},
   "outputs": [],
   "source": [
    "np_average_subj_male_subj_pron['comforted'] = compute_average(IC2_noprompt_3m,'He')\n",
    "np_average_subj_male_obj_pron['comforted'] = compute_average(IC2_noprompt_3m,'She')"
   ]
  },
  {
   "cell_type": "markdown",
   "metadata": {},
   "source": [
    "### verb: \"congratulated\""
   ]
  },
  {
   "cell_type": "code",
   "execution_count": null,
   "metadata": {},
   "outputs": [],
   "source": [
    "IC2_noprompt_4 = pd.read_csv(\"../results/IC2/no-prompt/4.csv\")\n",
    "IC2_noprompt_4.head()"
   ]
  },
  {
   "cell_type": "code",
   "execution_count": null,
   "metadata": {},
   "outputs": [],
   "source": [
    "# female subject\n",
    "IC2_noprompt_4f = IC2_noprompt_4[0:12]\n",
    "IC2_noprompt_4f = IC2_noprompt_4f[[\"stimulus\",\"She\",\"He\"]]\n",
    "# male subject\n",
    "IC2_noprompt_4m = IC2_noprompt_4[12:24]"
   ]
  },
  {
   "cell_type": "markdown",
   "metadata": {},
   "source": [
    "#### female subject"
   ]
  },
  {
   "cell_type": "code",
   "execution_count": null,
   "metadata": {},
   "outputs": [],
   "source": [
    "IC2_noprompt_4f"
   ]
  },
  {
   "cell_type": "code",
   "execution_count": null,
   "metadata": {},
   "outputs": [],
   "source": [
    "print(\"P('subj-pron'|subj=female) = \", compute_average(IC2_noprompt_4f,'She'))\n",
    "print(\"P('non-subj-pron'|subj=female) = \", compute_average(IC2_noprompt_4f,'He'))"
   ]
  },
  {
   "cell_type": "code",
   "execution_count": null,
   "metadata": {},
   "outputs": [],
   "source": [
    "np_average_subj_female_subj_pron['congratulated'] = compute_average(IC2_noprompt_4f,'She')\n",
    "np_average_subj_female_obj_pron['congratulated'] = compute_average(IC2_noprompt_4f,'He')"
   ]
  },
  {
   "cell_type": "markdown",
   "metadata": {},
   "source": [
    "#### male subject"
   ]
  },
  {
   "cell_type": "code",
   "execution_count": null,
   "metadata": {},
   "outputs": [],
   "source": [
    "IC2_noprompt_4m"
   ]
  },
  {
   "cell_type": "code",
   "execution_count": null,
   "metadata": {},
   "outputs": [],
   "source": [
    "print(\"P('subj-pron'|subj=male) = \", compute_average(IC2_noprompt_4m,'He'))\n",
    "print(\"P('non-subj-pron'|subj=male) = \", compute_average(IC2_noprompt_4m,'She'))"
   ]
  },
  {
   "cell_type": "code",
   "execution_count": null,
   "metadata": {},
   "outputs": [],
   "source": [
    "np_average_subj_male_subj_pron['congratulated'] = compute_average(IC2_noprompt_4m,'He')\n",
    "np_average_subj_male_obj_pron['congratulated'] = compute_average(IC2_noprompt_4m,'She')"
   ]
  },
  {
   "cell_type": "markdown",
   "metadata": {},
   "source": [
    "### verb: \"corrected\""
   ]
  },
  {
   "cell_type": "code",
   "execution_count": null,
   "metadata": {},
   "outputs": [],
   "source": [
    "IC2_noprompt_5 = pd.read_csv(\"../results/IC2/no-prompt/5.csv\")\n",
    "IC2_noprompt_5.head()"
   ]
  },
  {
   "cell_type": "code",
   "execution_count": null,
   "metadata": {},
   "outputs": [],
   "source": [
    "# female subject\n",
    "IC2_noprompt_5f = IC2_noprompt_5[0:12]\n",
    "IC2_noprompt_5f = IC2_noprompt_5f[[\"stimulus\",\"She\",\"He\"]]\n",
    "# male subject\n",
    "IC2_noprompt_5m = IC2_noprompt_5[12:24]"
   ]
  },
  {
   "cell_type": "markdown",
   "metadata": {},
   "source": [
    "#### female subject"
   ]
  },
  {
   "cell_type": "code",
   "execution_count": null,
   "metadata": {},
   "outputs": [],
   "source": [
    "IC2_noprompt_5f"
   ]
  },
  {
   "cell_type": "code",
   "execution_count": null,
   "metadata": {
    "scrolled": true
   },
   "outputs": [],
   "source": [
    "print(\"P('subj-pron'|subj=female) = \", compute_average(IC2_noprompt_5f,'She'))\n",
    "print(\"P('non-subj-pron'|subj=female) = \", compute_average(IC2_noprompt_5f,'He'))"
   ]
  },
  {
   "cell_type": "code",
   "execution_count": null,
   "metadata": {},
   "outputs": [],
   "source": [
    "np_average_subj_female_subj_pron['corrected'] = compute_average(IC2_noprompt_5f,'She')\n",
    "np_average_subj_female_obj_pron['corrected'] = compute_average(IC2_noprompt_5f,'He')"
   ]
  },
  {
   "cell_type": "markdown",
   "metadata": {},
   "source": [
    "#### male subject"
   ]
  },
  {
   "cell_type": "code",
   "execution_count": null,
   "metadata": {
    "scrolled": true
   },
   "outputs": [],
   "source": [
    "IC2_noprompt_5m"
   ]
  },
  {
   "cell_type": "code",
   "execution_count": null,
   "metadata": {},
   "outputs": [],
   "source": [
    "print(\"P('subj-pron'|subj=male) = \", compute_average(IC2_noprompt_5m,'He'))\n",
    "print(\"P('non-subj-pron'|subj=male) = \", compute_average(IC2_noprompt_5m,'She'))"
   ]
  },
  {
   "cell_type": "code",
   "execution_count": null,
   "metadata": {},
   "outputs": [],
   "source": [
    "np_average_subj_male_subj_pron['corrected'] = compute_average(IC2_noprompt_5m,'He')\n",
    "np_average_subj_male_obj_pron['corrected'] = compute_average(IC2_noprompt_5m,'She')"
   ]
  },
  {
   "cell_type": "markdown",
   "metadata": {},
   "source": [
    "### verb: \"detests\""
   ]
  },
  {
   "cell_type": "code",
   "execution_count": null,
   "metadata": {},
   "outputs": [],
   "source": [
    "IC2_noprompt_6 = pd.read_csv(\"../results/IC2/no-prompt/6.csv\")\n",
    "IC2_noprompt_6.head()"
   ]
  },
  {
   "cell_type": "code",
   "execution_count": null,
   "metadata": {},
   "outputs": [],
   "source": [
    "# female subject\n",
    "IC2_noprompt_6f = IC2_noprompt_6[0:12]\n",
    "IC2_noprompt_6f = IC2_noprompt_6f[[\"stimulus\",\"She\",\"He\"]]\n",
    "# male subject\n",
    "IC2_noprompt_6m = IC2_noprompt_6[12:24]"
   ]
  },
  {
   "cell_type": "markdown",
   "metadata": {},
   "source": [
    "#### female subject"
   ]
  },
  {
   "cell_type": "code",
   "execution_count": null,
   "metadata": {},
   "outputs": [],
   "source": [
    "IC2_noprompt_6f"
   ]
  },
  {
   "cell_type": "code",
   "execution_count": null,
   "metadata": {
    "scrolled": true
   },
   "outputs": [],
   "source": [
    "print(\"P('subj-pron'|subj=female) = \", compute_average(IC2_noprompt_6f,'She'))\n",
    "print(\"P('non-subj-pron'|subj=female) = \", compute_average(IC2_noprompt_6f,'He'))"
   ]
  },
  {
   "cell_type": "code",
   "execution_count": null,
   "metadata": {},
   "outputs": [],
   "source": [
    "np_average_subj_female_subj_pron['detests'] = compute_average(IC2_noprompt_6f,'She')\n",
    "np_average_subj_female_obj_pron['detests'] = compute_average(IC2_noprompt_6f,'He')"
   ]
  },
  {
   "cell_type": "code",
   "execution_count": null,
   "metadata": {
    "scrolled": false
   },
   "outputs": [],
   "source": [
    "IC2_noprompt_6m"
   ]
  },
  {
   "cell_type": "code",
   "execution_count": null,
   "metadata": {},
   "outputs": [],
   "source": [
    "print(\"P('subj-pron'|subj=male) = \", compute_average(IC2_noprompt_6m,'He'))\n",
    "print(\"P('non-subj-pron'|subj=male) = \", compute_average(IC2_noprompt_6m,'She'))"
   ]
  },
  {
   "cell_type": "code",
   "execution_count": null,
   "metadata": {},
   "outputs": [],
   "source": [
    "np_average_subj_male_subj_pron['detests'] = compute_average(IC2_noprompt_6m,'He')\n",
    "np_average_subj_male_obj_pron['detests'] = compute_average(IC2_noprompt_6m,'She')"
   ]
  },
  {
   "cell_type": "markdown",
   "metadata": {},
   "source": [
    "### verb: \"fears\""
   ]
  },
  {
   "cell_type": "code",
   "execution_count": null,
   "metadata": {},
   "outputs": [],
   "source": [
    "IC2_noprompt_7 = pd.read_csv(\"../results/IC2/no-prompt/7.csv\")\n",
    "IC2_noprompt_7.head()"
   ]
  },
  {
   "cell_type": "code",
   "execution_count": null,
   "metadata": {},
   "outputs": [],
   "source": [
    "# female subject\n",
    "IC2_noprompt_7f = IC2_noprompt_7[0:12]\n",
    "IC2_noprompt_7f = IC2_noprompt_7f[[\"stimulus\",\"She\",\"He\"]]\n",
    "# male subject\n",
    "IC2_noprompt_7m = IC2_noprompt_7[12:24]"
   ]
  },
  {
   "cell_type": "markdown",
   "metadata": {},
   "source": [
    "#### female subject"
   ]
  },
  {
   "cell_type": "code",
   "execution_count": null,
   "metadata": {},
   "outputs": [],
   "source": [
    "IC2_noprompt_7f"
   ]
  },
  {
   "cell_type": "code",
   "execution_count": null,
   "metadata": {},
   "outputs": [],
   "source": [
    "print(\"P('subj-pron'|subj=female) = \", compute_average(IC2_noprompt_7f,'She'))\n",
    "print(\"P('non-subj-pron'|subj=female) = \", compute_average(IC2_noprompt_7f,'He'))"
   ]
  },
  {
   "cell_type": "code",
   "execution_count": null,
   "metadata": {},
   "outputs": [],
   "source": [
    "np_average_subj_female_subj_pron['fears'] = compute_average(IC2_noprompt_7f,'She')\n",
    "np_average_subj_female_obj_pron['fears'] = compute_average(IC2_noprompt_7f,'He')"
   ]
  },
  {
   "cell_type": "markdown",
   "metadata": {},
   "source": [
    "#### male subject"
   ]
  },
  {
   "cell_type": "code",
   "execution_count": null,
   "metadata": {},
   "outputs": [],
   "source": [
    "IC2_noprompt_7m"
   ]
  },
  {
   "cell_type": "code",
   "execution_count": null,
   "metadata": {
    "scrolled": true
   },
   "outputs": [],
   "source": [
    "print(\"P('subj-pron'|subj=male) = \", compute_average(IC2_noprompt_7m,'He'))\n",
    "print(\"P('non-subj-pron'|subj=male) = \", compute_average(IC2_noprompt_7m,'She'))"
   ]
  },
  {
   "cell_type": "code",
   "execution_count": null,
   "metadata": {},
   "outputs": [],
   "source": [
    "np_average_subj_male_subj_pron['fears'] = compute_average(IC2_noprompt_7m,'He')\n",
    "np_average_subj_male_obj_pron['fears'] = compute_average(IC2_noprompt_7m,'She')"
   ]
  },
  {
   "cell_type": "markdown",
   "metadata": {},
   "source": [
    "### verb: \"envies\""
   ]
  },
  {
   "cell_type": "code",
   "execution_count": null,
   "metadata": {},
   "outputs": [],
   "source": [
    "IC2_noprompt_8 = pd.read_csv(\"../results/IC2/no-prompt/8.csv\")\n",
    "IC2_noprompt_8.head()"
   ]
  },
  {
   "cell_type": "code",
   "execution_count": null,
   "metadata": {},
   "outputs": [],
   "source": [
    "# female subject\n",
    "IC2_noprompt_8f = IC2_noprompt_8[0:12]\n",
    "IC2_noprompt_8f = IC2_noprompt_8f[[\"stimulus\",\"She\",\"He\"]]\n",
    "# male subject\n",
    "IC2_noprompt_8m = IC2_noprompt_8[12:24]"
   ]
  },
  {
   "cell_type": "markdown",
   "metadata": {},
   "source": [
    "#### female subject"
   ]
  },
  {
   "cell_type": "code",
   "execution_count": null,
   "metadata": {
    "scrolled": true
   },
   "outputs": [],
   "source": [
    "IC2_noprompt_8f"
   ]
  },
  {
   "cell_type": "code",
   "execution_count": null,
   "metadata": {},
   "outputs": [],
   "source": [
    "print(\"P('subj-pron'|subj=female) = \", compute_average(IC2_noprompt_8f,'She'))\n",
    "print(\"P('non-subj-pron'|subj=female) = \", compute_average(IC2_noprompt_8f,'He'))"
   ]
  },
  {
   "cell_type": "code",
   "execution_count": null,
   "metadata": {},
   "outputs": [],
   "source": [
    "np_average_subj_female_subj_pron['envies'] = compute_average(IC2_noprompt_8f,'She')\n",
    "np_average_subj_female_obj_pron['envies'] = compute_average(IC2_noprompt_8f,'He')"
   ]
  },
  {
   "cell_type": "markdown",
   "metadata": {},
   "source": [
    "#### male subject"
   ]
  },
  {
   "cell_type": "code",
   "execution_count": null,
   "metadata": {},
   "outputs": [],
   "source": [
    "IC2_noprompt_8m"
   ]
  },
  {
   "cell_type": "code",
   "execution_count": null,
   "metadata": {},
   "outputs": [],
   "source": [
    "print(\"P('subj-pron'|subj=male) = \", compute_average(IC2_noprompt_8m,'He'))\n",
    "print(\"P('non-subj-pron'|subj=male) = \", compute_average(IC2_noprompt_8m,'She'))"
   ]
  },
  {
   "cell_type": "code",
   "execution_count": null,
   "metadata": {},
   "outputs": [],
   "source": [
    "np_average_subj_male_subj_pron['envies'] = compute_average(IC2_noprompt_8m,'He')\n",
    "np_average_subj_male_obj_pron['envies'] = compute_average(IC2_noprompt_8m,'She')"
   ]
  },
  {
   "cell_type": "markdown",
   "metadata": {},
   "source": [
    "### verb: \"hates\""
   ]
  },
  {
   "cell_type": "code",
   "execution_count": null,
   "metadata": {},
   "outputs": [],
   "source": [
    "IC2_noprompt_9 = pd.read_csv(\"../results/IC2/no-prompt/9.csv\")\n",
    "IC2_noprompt_9.head()"
   ]
  },
  {
   "cell_type": "code",
   "execution_count": null,
   "metadata": {},
   "outputs": [],
   "source": [
    "# female subject\n",
    "IC2_noprompt_9f = IC2_noprompt_9[0:12]\n",
    "IC2_noprompt_9f = IC2_noprompt_9f[[\"stimulus\",\"She\",\"He\"]]\n",
    "# male subject\n",
    "IC2_noprompt_9m = IC2_noprompt_9[12:24]"
   ]
  },
  {
   "cell_type": "markdown",
   "metadata": {},
   "source": [
    "#### female: \"hates\""
   ]
  },
  {
   "cell_type": "code",
   "execution_count": null,
   "metadata": {},
   "outputs": [],
   "source": [
    "IC2_noprompt_9f"
   ]
  },
  {
   "cell_type": "code",
   "execution_count": null,
   "metadata": {
    "scrolled": true
   },
   "outputs": [],
   "source": [
    "print(\"P('subj-pron'|subj=female) = \", compute_average(IC2_noprompt_9f,'She'))\n",
    "print(\"P('non-subj-pron'|subj=female) = \", compute_average(IC2_noprompt_9f,'He'))"
   ]
  },
  {
   "cell_type": "code",
   "execution_count": null,
   "metadata": {},
   "outputs": [],
   "source": [
    "np_average_subj_female_subj_pron['hates'] = compute_average(IC2_noprompt_9f,'She')\n",
    "np_average_subj_female_obj_pron['hates'] = compute_average(IC2_noprompt_9f,'He')"
   ]
  },
  {
   "cell_type": "markdown",
   "metadata": {},
   "source": [
    "#### male subject"
   ]
  },
  {
   "cell_type": "code",
   "execution_count": null,
   "metadata": {
    "scrolled": true
   },
   "outputs": [],
   "source": [
    "IC2_noprompt_9m"
   ]
  },
  {
   "cell_type": "code",
   "execution_count": null,
   "metadata": {},
   "outputs": [],
   "source": [
    "print(\"P('subj-pron'|subj=male) = \", compute_average(IC2_noprompt_9m,'He'))\n",
    "print(\"P('non-subj-pron'|subj=male) = \", compute_average(IC2_noprompt_9m,'She'))"
   ]
  },
  {
   "cell_type": "code",
   "execution_count": null,
   "metadata": {},
   "outputs": [],
   "source": [
    "np_average_subj_male_subj_pron['hates'] = compute_average(IC2_noprompt_9m,'He')\n",
    "np_average_subj_male_obj_pron['hates'] = compute_average(IC2_noprompt_9m,'She')"
   ]
  },
  {
   "cell_type": "markdown",
   "metadata": {},
   "source": [
    "### verb: \"helped\""
   ]
  },
  {
   "cell_type": "code",
   "execution_count": null,
   "metadata": {},
   "outputs": [],
   "source": [
    "IC2_noprompt_10 = pd.read_csv(\"../results/IC2/no-prompt/10.csv\")\n",
    "IC2_noprompt_10.head()"
   ]
  },
  {
   "cell_type": "code",
   "execution_count": null,
   "metadata": {},
   "outputs": [],
   "source": [
    "# female subject\n",
    "IC2_noprompt_10f = IC2_noprompt_10[0:12]\n",
    "IC2_noprompt_10f = IC2_noprompt_10f[[\"stimulus\",\"She\",\"He\"]]\n",
    "# male subject\n",
    "IC2_noprompt_10m = IC2_noprompt_10[12:24]"
   ]
  },
  {
   "cell_type": "markdown",
   "metadata": {},
   "source": [
    "#### female subject"
   ]
  },
  {
   "cell_type": "code",
   "execution_count": null,
   "metadata": {},
   "outputs": [],
   "source": [
    "IC2_noprompt_10f"
   ]
  },
  {
   "cell_type": "code",
   "execution_count": null,
   "metadata": {},
   "outputs": [],
   "source": [
    "print(\"P('subj-pron'|subj=female) = \", compute_average(IC2_noprompt_10f,'She'))\n",
    "print(\"P('non-subj-pron'|subj=female) = \", compute_average(IC2_noprompt_10f,'He'))"
   ]
  },
  {
   "cell_type": "code",
   "execution_count": null,
   "metadata": {},
   "outputs": [],
   "source": [
    "np_average_subj_female_subj_pron['helped'] = compute_average(IC2_noprompt_10f,'She')\n",
    "np_average_subj_female_obj_pron['helped'] = compute_average(IC2_noprompt_10f,'He')"
   ]
  },
  {
   "cell_type": "code",
   "execution_count": null,
   "metadata": {
    "scrolled": true
   },
   "outputs": [],
   "source": [
    "IC2_noprompt_10m"
   ]
  },
  {
   "cell_type": "code",
   "execution_count": null,
   "metadata": {},
   "outputs": [],
   "source": [
    "print(\"P('subj-pron'|subj=male) = \", compute_average(IC2_noprompt_10m,'He'))\n",
    "print(\"P('non-subj-pron'|subj=male) = \", compute_average(IC2_noprompt_10m,'She'))"
   ]
  },
  {
   "cell_type": "code",
   "execution_count": null,
   "metadata": {},
   "outputs": [],
   "source": [
    "np_average_subj_male_subj_pron['helped'] = compute_average(IC2_noprompt_10m,'He')\n",
    "np_average_subj_male_obj_pron['helped'] = compute_average(IC2_noprompt_10m,'She')"
   ]
  },
  {
   "cell_type": "markdown",
   "metadata": {},
   "source": [
    "### verb: \"mocked\""
   ]
  },
  {
   "cell_type": "code",
   "execution_count": null,
   "metadata": {},
   "outputs": [],
   "source": [
    "IC2_noprompt_11 = pd.read_csv(\"../results/IC2/no-prompt/11.csv\")\n",
    "IC2_noprompt_11.head()"
   ]
  },
  {
   "cell_type": "code",
   "execution_count": null,
   "metadata": {},
   "outputs": [],
   "source": [
    "# female subject\n",
    "IC2_noprompt_11f = IC2_noprompt_11[0:12]\n",
    "IC2_noprompt_11f = IC2_noprompt_11f[[\"stimulus\",\"She\",\"He\"]]\n",
    "# male subject\n",
    "IC2_noprompt_11m = IC2_noprompt_11[12:24]"
   ]
  },
  {
   "cell_type": "markdown",
   "metadata": {},
   "source": [
    "#### female subject"
   ]
  },
  {
   "cell_type": "code",
   "execution_count": null,
   "metadata": {},
   "outputs": [],
   "source": [
    "IC2_noprompt_11f"
   ]
  },
  {
   "cell_type": "code",
   "execution_count": null,
   "metadata": {},
   "outputs": [],
   "source": [
    "print(\"P('subj-pron'|subj=female) = \", compute_average(IC2_noprompt_11f,'She'))\n",
    "print(\"P('non-subj-pron'|subj=female) = \", compute_average(IC2_noprompt_11f,'He'))"
   ]
  },
  {
   "cell_type": "code",
   "execution_count": null,
   "metadata": {},
   "outputs": [],
   "source": [
    "np_average_subj_female_subj_pron['mocked'] = compute_average(IC2_noprompt_11f,'She')\n",
    "np_average_subj_female_obj_pron['mocked'] = compute_average(IC2_noprompt_11f,'He')"
   ]
  },
  {
   "cell_type": "markdown",
   "metadata": {},
   "source": [
    "#### male subject"
   ]
  },
  {
   "cell_type": "code",
   "execution_count": null,
   "metadata": {
    "scrolled": true
   },
   "outputs": [],
   "source": [
    "IC2_noprompt_11m"
   ]
  },
  {
   "cell_type": "code",
   "execution_count": null,
   "metadata": {},
   "outputs": [],
   "source": [
    "print(\"P('subj-pron'|subj=male) = \", compute_average(IC2_noprompt_11m,'He'))\n",
    "print(\"P('non-subj-pron'|subj=male) = \", compute_average(IC2_noprompt_11m,'She'))"
   ]
  },
  {
   "cell_type": "code",
   "execution_count": null,
   "metadata": {},
   "outputs": [],
   "source": [
    "np_average_subj_male_subj_pron['mocked'] = compute_average(IC2_noprompt_11m,'He')\n",
    "np_average_subj_male_obj_pron['mocked'] = compute_average(IC2_noprompt_11m,'She')"
   ]
  },
  {
   "cell_type": "markdown",
   "metadata": {},
   "source": [
    "#### verb: \"noticed\""
   ]
  },
  {
   "cell_type": "code",
   "execution_count": null,
   "metadata": {},
   "outputs": [],
   "source": [
    "IC2_noprompt_12 = pd.read_csv(\"../results/IC2/no-prompt/12.csv\")\n",
    "IC2_noprompt_12.head()"
   ]
  },
  {
   "cell_type": "code",
   "execution_count": null,
   "metadata": {},
   "outputs": [],
   "source": [
    "# female subject\n",
    "IC2_noprompt_12f = IC2_noprompt_12[0:12]\n",
    "IC2_noprompt_12f = IC2_noprompt_12f[[\"stimulus\",\"She\",\"He\"]]\n",
    "# male subject\n",
    "IC2_noprompt_12m = IC2_noprompt_12[12:24]"
   ]
  },
  {
   "cell_type": "markdown",
   "metadata": {},
   "source": [
    "#### female subject"
   ]
  },
  {
   "cell_type": "code",
   "execution_count": null,
   "metadata": {},
   "outputs": [],
   "source": [
    "IC2_noprompt_12f"
   ]
  },
  {
   "cell_type": "code",
   "execution_count": null,
   "metadata": {},
   "outputs": [],
   "source": [
    "print(\"P('subj-pron'|subj=female) = \", compute_average(IC2_noprompt_12f,'She'))\n",
    "print(\"P('non-subj-pron'|subj=female) = \", compute_average(IC2_noprompt_12f,'He'))"
   ]
  },
  {
   "cell_type": "code",
   "execution_count": null,
   "metadata": {},
   "outputs": [],
   "source": [
    "np_average_subj_female_subj_pron['noticed'] = compute_average(IC2_noprompt_12f,'She')\n",
    "np_average_subj_female_obj_pron['noticed'] = compute_average(IC2_noprompt_12f,'He')"
   ]
  },
  {
   "cell_type": "markdown",
   "metadata": {},
   "source": [
    "#### male subject"
   ]
  },
  {
   "cell_type": "code",
   "execution_count": null,
   "metadata": {
    "scrolled": true
   },
   "outputs": [],
   "source": [
    "IC2_noprompt_12m"
   ]
  },
  {
   "cell_type": "code",
   "execution_count": null,
   "metadata": {},
   "outputs": [],
   "source": [
    "print(\"P('subj-pron'|subj=male) = \", compute_average(IC2_noprompt_12m,'He'))\n",
    "print(\"P('non-subj-pron'|subj=male) = \", compute_average(IC2_noprompt_12m,'She'))"
   ]
  },
  {
   "cell_type": "code",
   "execution_count": null,
   "metadata": {},
   "outputs": [],
   "source": [
    "np_average_subj_male_subj_pron['noticed'] = compute_average(IC2_noprompt_12m,'He')\n",
    "np_average_subj_male_obj_pron['noticed'] = compute_average(IC2_noprompt_12m,'She')"
   ]
  },
  {
   "cell_type": "markdown",
   "metadata": {},
   "source": [
    "### verb: \"pacified\""
   ]
  },
  {
   "cell_type": "code",
   "execution_count": null,
   "metadata": {},
   "outputs": [],
   "source": [
    "IC2_noprompt_13 = pd.read_csv(\"../results/IC2/no-prompt/13.csv\")\n",
    "IC2_noprompt_13.head()"
   ]
  },
  {
   "cell_type": "code",
   "execution_count": null,
   "metadata": {},
   "outputs": [],
   "source": [
    "# female subject\n",
    "IC2_noprompt_13f = IC2_noprompt_13[0:12]\n",
    "IC2_noprompt_13f = IC2_noprompt_13f[[\"stimulus\",\"She\",\"He\"]]\n",
    "# male subject\n",
    "IC2_noprompt_13m = IC2_noprompt_13[12:24]"
   ]
  },
  {
   "cell_type": "markdown",
   "metadata": {},
   "source": [
    "#### female subject"
   ]
  },
  {
   "cell_type": "code",
   "execution_count": null,
   "metadata": {},
   "outputs": [],
   "source": [
    "IC2_noprompt_13f"
   ]
  },
  {
   "cell_type": "code",
   "execution_count": null,
   "metadata": {},
   "outputs": [],
   "source": [
    "print(\"P('subj-pron'|subj=female) = \", compute_average(IC2_noprompt_13f,'She'))\n",
    "print(\"P('non-subj-pron'|subj=female) = \", compute_average(IC2_noprompt_13f,'He'))"
   ]
  },
  {
   "cell_type": "code",
   "execution_count": null,
   "metadata": {},
   "outputs": [],
   "source": [
    "np_average_subj_female_subj_pron['pacified'] = compute_average(IC2_noprompt_13f,'She')\n",
    "np_average_subj_female_obj_pron['pacified'] = compute_average(IC2_noprompt_13f,'He')"
   ]
  },
  {
   "cell_type": "markdown",
   "metadata": {},
   "source": [
    "#### male subject"
   ]
  },
  {
   "cell_type": "code",
   "execution_count": null,
   "metadata": {},
   "outputs": [],
   "source": [
    "IC2_noprompt_13m"
   ]
  },
  {
   "cell_type": "code",
   "execution_count": null,
   "metadata": {},
   "outputs": [],
   "source": [
    "print(\"P('subj-pron'|subj=male) = \", compute_average(IC2_noprompt_13m,'He'))\n",
    "print(\"P('non-subj-pron'|subj=male) = \", compute_average(IC2_noprompt_13m,'She'))"
   ]
  },
  {
   "cell_type": "code",
   "execution_count": null,
   "metadata": {},
   "outputs": [],
   "source": [
    "np_average_subj_male_subj_pron['pacified'] = compute_average(IC2_noprompt_13m,'He')\n",
    "np_average_subj_male_obj_pron['pacified'] = compute_average(IC2_noprompt_13m,'She')"
   ]
  },
  {
   "cell_type": "markdown",
   "metadata": {},
   "source": [
    "### verb: \"praised\""
   ]
  },
  {
   "cell_type": "code",
   "execution_count": null,
   "metadata": {},
   "outputs": [],
   "source": [
    "IC2_noprompt_14 = pd.read_csv(\"../results/IC2/no-prompt/14.csv\")\n",
    "IC2_noprompt_14.head()"
   ]
  },
  {
   "cell_type": "code",
   "execution_count": null,
   "metadata": {},
   "outputs": [],
   "source": [
    "# female subject\n",
    "IC2_noprompt_14f = IC2_noprompt_14[0:12]\n",
    "IC2_noprompt_14f = IC2_noprompt_14f[[\"stimulus\",\"She\",\"He\"]]\n",
    "# male subject\n",
    "IC2_noprompt_14m = IC2_noprompt_14[12:24]"
   ]
  },
  {
   "cell_type": "markdown",
   "metadata": {},
   "source": [
    "#### female subject"
   ]
  },
  {
   "cell_type": "code",
   "execution_count": null,
   "metadata": {},
   "outputs": [],
   "source": [
    "IC2_noprompt_14f"
   ]
  },
  {
   "cell_type": "code",
   "execution_count": null,
   "metadata": {
    "scrolled": true
   },
   "outputs": [],
   "source": [
    "print(\"P('subj-pron'|subj=female) = \", compute_average(IC2_noprompt_14f,'She'))\n",
    "print(\"P('non-subj-pron'|subj=female) = \", compute_average(IC2_noprompt_14f,'He'))"
   ]
  },
  {
   "cell_type": "code",
   "execution_count": null,
   "metadata": {},
   "outputs": [],
   "source": [
    "np_average_subj_female_subj_pron['praised'] = compute_average(IC2_noprompt_14f,'She')\n",
    "np_average_subj_female_obj_pron['praised'] = compute_average(IC2_noprompt_14f,'He')"
   ]
  },
  {
   "cell_type": "markdown",
   "metadata": {},
   "source": [
    "#### male subject"
   ]
  },
  {
   "cell_type": "code",
   "execution_count": null,
   "metadata": {
    "scrolled": true
   },
   "outputs": [],
   "source": [
    "IC2_noprompt_14m"
   ]
  },
  {
   "cell_type": "code",
   "execution_count": null,
   "metadata": {},
   "outputs": [],
   "source": [
    "print(\"P('subj-pron'|subj=male) = \", compute_average(IC2_noprompt_14m,'He'))\n",
    "print(\"P('non-subj-pron'|subj=male) = \", compute_average(IC2_noprompt_14m,'She'))"
   ]
  },
  {
   "cell_type": "code",
   "execution_count": null,
   "metadata": {},
   "outputs": [],
   "source": [
    "np_average_subj_male_subj_pron['praised'] = compute_average(IC2_noprompt_14m,'He')\n",
    "np_average_subj_male_obj_pron['praised'] = compute_average(IC2_noprompt_14m,'She')"
   ]
  },
  {
   "cell_type": "markdown",
   "metadata": {},
   "source": [
    "### verb: \"reproached\""
   ]
  },
  {
   "cell_type": "code",
   "execution_count": null,
   "metadata": {},
   "outputs": [],
   "source": [
    "IC2_noprompt_15 = pd.read_csv(\"../results/IC2/no-prompt/15.csv\")\n",
    "IC2_noprompt_15.head()"
   ]
  },
  {
   "cell_type": "code",
   "execution_count": null,
   "metadata": {},
   "outputs": [],
   "source": [
    "# female subject\n",
    "IC2_noprompt_15f = IC2_noprompt_15[0:12]\n",
    "IC2_noprompt_15f = IC2_noprompt_15f[[\"stimulus\",\"She\",\"He\"]]\n",
    "# male subject\n",
    "IC2_noprompt_15m = IC2_noprompt_15[12:24]"
   ]
  },
  {
   "cell_type": "markdown",
   "metadata": {},
   "source": [
    "#### female subject"
   ]
  },
  {
   "cell_type": "code",
   "execution_count": null,
   "metadata": {},
   "outputs": [],
   "source": [
    "IC2_noprompt_15f"
   ]
  },
  {
   "cell_type": "code",
   "execution_count": null,
   "metadata": {},
   "outputs": [],
   "source": [
    "print(\"P('subj-pron'|subj=female) = \", compute_average(IC2_noprompt_15f,'She'))\n",
    "print(\"P('non-subj-pron'|subj=female) = \", compute_average(IC2_noprompt_15f,'He'))"
   ]
  },
  {
   "cell_type": "code",
   "execution_count": null,
   "metadata": {},
   "outputs": [],
   "source": [
    "np_average_subj_female_subj_pron['reproached'] = compute_average(IC2_noprompt_15f,'She')\n",
    "np_average_subj_female_obj_pron['reproached'] = compute_average(IC2_noprompt_15f,'He')"
   ]
  },
  {
   "cell_type": "markdown",
   "metadata": {},
   "source": [
    "#### male subject"
   ]
  },
  {
   "cell_type": "code",
   "execution_count": null,
   "metadata": {},
   "outputs": [],
   "source": [
    "IC2_noprompt_15m"
   ]
  },
  {
   "cell_type": "code",
   "execution_count": null,
   "metadata": {
    "scrolled": true
   },
   "outputs": [],
   "source": [
    "print(\"P('subj-pron'|subj=male) = \", compute_average(IC2_noprompt_15m,'He'))\n",
    "print(\"P('non-subj-pron'|subj=male) = \", compute_average(IC2_noprompt_15m,'She'))"
   ]
  },
  {
   "cell_type": "code",
   "execution_count": null,
   "metadata": {},
   "outputs": [],
   "source": [
    "np_average_subj_male_subj_pron['reproached'] = compute_average(IC2_noprompt_15m,'He')\n",
    "np_average_subj_male_obj_pron['reproached'] = compute_average(IC2_noprompt_15m,'She')"
   ]
  },
  {
   "cell_type": "markdown",
   "metadata": {},
   "source": [
    "### verb: \"scolded\""
   ]
  },
  {
   "cell_type": "code",
   "execution_count": null,
   "metadata": {},
   "outputs": [],
   "source": [
    "IC2_noprompt_16 = pd.read_csv(\"../results/IC2/no-prompt/16.csv\")\n",
    "IC2_noprompt_16.head()"
   ]
  },
  {
   "cell_type": "code",
   "execution_count": null,
   "metadata": {},
   "outputs": [],
   "source": [
    "# female subject\n",
    "IC2_noprompt_16f = IC2_noprompt_16[0:12]\n",
    "IC2_noprompt_16f = IC2_noprompt_16f[[\"stimulus\",\"She\",\"He\"]]\n",
    "# male subject\n",
    "IC2_noprompt_16m = IC2_noprompt_16[12:24]"
   ]
  },
  {
   "cell_type": "markdown",
   "metadata": {},
   "source": [
    "#### female subject"
   ]
  },
  {
   "cell_type": "code",
   "execution_count": null,
   "metadata": {},
   "outputs": [],
   "source": [
    "IC2_noprompt_16f"
   ]
  },
  {
   "cell_type": "code",
   "execution_count": null,
   "metadata": {
    "scrolled": true
   },
   "outputs": [],
   "source": [
    "print(\"P('subj-pron'|subj=female) = \", compute_average(IC2_noprompt_16f,'She'))\n",
    "print(\"P('non-subj-pron'|subj=female) = \", compute_average(IC2_noprompt_16f,'He'))"
   ]
  },
  {
   "cell_type": "code",
   "execution_count": null,
   "metadata": {},
   "outputs": [],
   "source": [
    "np_average_subj_female_subj_pron['scolded'] = compute_average(IC2_noprompt_16f,'She')\n",
    "np_average_subj_female_obj_pron['scolded'] = compute_average(IC2_noprompt_16f,'He')"
   ]
  },
  {
   "cell_type": "markdown",
   "metadata": {},
   "source": [
    "#### male subject"
   ]
  },
  {
   "cell_type": "code",
   "execution_count": null,
   "metadata": {},
   "outputs": [],
   "source": [
    "IC2_noprompt_16m"
   ]
  },
  {
   "cell_type": "code",
   "execution_count": null,
   "metadata": {},
   "outputs": [],
   "source": [
    "print(\"P('subj-pron'|subj=male) = \", compute_average(IC2_noprompt_16m,'He'))\n",
    "print(\"P('non-subj-pron'|subj=male) = \", compute_average(IC2_noprompt_16m,'She'))"
   ]
  },
  {
   "cell_type": "code",
   "execution_count": null,
   "metadata": {},
   "outputs": [],
   "source": [
    "np_average_subj_male_subj_pron['scolded'] = compute_average(IC2_noprompt_16m,'He')\n",
    "np_average_subj_male_obj_pron['scolded'] = compute_average(IC2_noprompt_16m,'She')"
   ]
  },
  {
   "cell_type": "markdown",
   "metadata": {},
   "source": [
    "### verb: \"stared\""
   ]
  },
  {
   "cell_type": "code",
   "execution_count": null,
   "metadata": {},
   "outputs": [],
   "source": [
    "IC2_noprompt_17 = pd.read_csv(\"../results/IC2/no-prompt/17.csv\")\n",
    "IC2_noprompt_17.head()"
   ]
  },
  {
   "cell_type": "code",
   "execution_count": null,
   "metadata": {},
   "outputs": [],
   "source": [
    "# female subject\n",
    "IC2_noprompt_17f = IC2_noprompt_17[0:12]\n",
    "IC2_noprompt_17f = IC2_noprompt_17f[[\"stimulus\",\"She\",\"He\"]]\n",
    "# male subject\n",
    "IC2_noprompt_17m = IC2_noprompt_17[12:24]"
   ]
  },
  {
   "cell_type": "markdown",
   "metadata": {},
   "source": [
    "#### male subject"
   ]
  },
  {
   "cell_type": "code",
   "execution_count": null,
   "metadata": {},
   "outputs": [],
   "source": [
    "IC2_noprompt_17f"
   ]
  },
  {
   "cell_type": "code",
   "execution_count": null,
   "metadata": {},
   "outputs": [],
   "source": [
    "print(\"P('subj-pron'|subj=female) = \", compute_average(IC2_noprompt_17f,'She'))\n",
    "print(\"P('non-subj-pron'|subj=female) = \", compute_average(IC2_noprompt_17f,'He'))"
   ]
  },
  {
   "cell_type": "code",
   "execution_count": null,
   "metadata": {},
   "outputs": [],
   "source": [
    "np_average_subj_female_subj_pron['stared'] = compute_average(IC2_noprompt_17f,'She')\n",
    "np_average_subj_female_obj_pron['stared'] = compute_average(IC2_noprompt_17f,'He')"
   ]
  },
  {
   "cell_type": "markdown",
   "metadata": {},
   "source": [
    "#### female subject"
   ]
  },
  {
   "cell_type": "code",
   "execution_count": null,
   "metadata": {},
   "outputs": [],
   "source": [
    "IC2_noprompt_17m"
   ]
  },
  {
   "cell_type": "code",
   "execution_count": null,
   "metadata": {},
   "outputs": [],
   "source": [
    "print(\"P('subj-pron'|subj=male) = \", compute_average(IC2_noprompt_17m,'He'))\n",
    "print(\"P('non-subj-pron'|subj=male) = \", compute_average(IC2_noprompt_17m,'She'))"
   ]
  },
  {
   "cell_type": "code",
   "execution_count": null,
   "metadata": {},
   "outputs": [],
   "source": [
    "np_average_subj_male_subj_pron['stared'] = compute_average(IC2_noprompt_17m,'He')\n",
    "np_average_subj_male_obj_pron['stared'] = compute_average(IC2_noprompt_17m,'She')"
   ]
  },
  {
   "cell_type": "markdown",
   "metadata": {},
   "source": [
    "### verb: \"thanked\""
   ]
  },
  {
   "cell_type": "code",
   "execution_count": null,
   "metadata": {},
   "outputs": [],
   "source": [
    "IC2_noprompt_18 = pd.read_csv(\"../results/IC2/no-prompt/18.csv\")\n",
    "IC2_noprompt_18.head()"
   ]
  },
  {
   "cell_type": "code",
   "execution_count": null,
   "metadata": {},
   "outputs": [],
   "source": [
    "# female subject\n",
    "IC2_noprompt_18f = IC2_noprompt_18[0:12]\n",
    "IC2_noprompt_18f = IC2_noprompt_18f[[\"stimulus\",\"She\",\"He\"]]\n",
    "# male subject\n",
    "IC2_noprompt_18m = IC2_noprompt_18[12:24]"
   ]
  },
  {
   "cell_type": "markdown",
   "metadata": {},
   "source": [
    "#### female subject"
   ]
  },
  {
   "cell_type": "code",
   "execution_count": null,
   "metadata": {},
   "outputs": [],
   "source": [
    "IC2_noprompt_18f"
   ]
  },
  {
   "cell_type": "code",
   "execution_count": null,
   "metadata": {},
   "outputs": [],
   "source": [
    "print(\"P('subj-pron'|subj=female) = \", compute_average(IC2_noprompt_18f,'She'))\n",
    "print(\"P('non-subj-pron'|subj=female) = \", compute_average(IC2_noprompt_18f,'He'))"
   ]
  },
  {
   "cell_type": "code",
   "execution_count": null,
   "metadata": {},
   "outputs": [],
   "source": [
    "np_average_subj_female_subj_pron['thanked'] = compute_average(IC2_noprompt_18f,'She')\n",
    "np_average_subj_female_obj_pron['thanked'] = compute_average(IC2_noprompt_18f,'He')"
   ]
  },
  {
   "cell_type": "code",
   "execution_count": null,
   "metadata": {
    "scrolled": true
   },
   "outputs": [],
   "source": [
    "IC2_noprompt_18m"
   ]
  },
  {
   "cell_type": "code",
   "execution_count": null,
   "metadata": {},
   "outputs": [],
   "source": [
    "print(\"P('subj-pron'|subj=male) = \", compute_average(IC2_noprompt_18m,'He'))\n",
    "print(\"P('non-subj-pron'|subj=male) = \", compute_average(IC2_noprompt_18m,'She'))"
   ]
  },
  {
   "cell_type": "code",
   "execution_count": null,
   "metadata": {},
   "outputs": [],
   "source": [
    "np_average_subj_male_subj_pron['thanked'] = compute_average(IC2_noprompt_18m,'He')\n",
    "np_average_subj_male_obj_pron['thanked'] = compute_average(IC2_noprompt_18m,'She')"
   ]
  },
  {
   "cell_type": "markdown",
   "metadata": {},
   "source": [
    "### verb: \"trusts\""
   ]
  },
  {
   "cell_type": "code",
   "execution_count": null,
   "metadata": {},
   "outputs": [],
   "source": [
    "IC2_noprompt_19 = pd.read_csv(\"../results/IC2/no-prompt/19.csv\")\n",
    "IC2_noprompt_19.head()"
   ]
  },
  {
   "cell_type": "code",
   "execution_count": null,
   "metadata": {},
   "outputs": [],
   "source": [
    "# female subject\n",
    "IC2_noprompt_19f = IC2_noprompt_19[0:12]\n",
    "IC2_noprompt_19f = IC2_noprompt_19f[[\"stimulus\",\"She\",\"He\"]]\n",
    "# male subject\n",
    "IC2_noprompt_19m = IC2_noprompt_19[12:24]"
   ]
  },
  {
   "cell_type": "markdown",
   "metadata": {},
   "source": [
    "#### female subject"
   ]
  },
  {
   "cell_type": "code",
   "execution_count": null,
   "metadata": {},
   "outputs": [],
   "source": [
    "IC2_noprompt_19f"
   ]
  },
  {
   "cell_type": "code",
   "execution_count": null,
   "metadata": {},
   "outputs": [],
   "source": [
    "print(\"P('subj-pron'|subj=female) = \", compute_average(IC2_noprompt_19f,'She'))\n",
    "print(\"P('non-subj-pron'|subj=female) = \", compute_average(IC2_noprompt_19f,'He'))"
   ]
  },
  {
   "cell_type": "code",
   "execution_count": null,
   "metadata": {},
   "outputs": [],
   "source": [
    "np_average_subj_female_subj_pron['trusts'] = compute_average(IC2_noprompt_19f,'She')\n",
    "np_average_subj_female_obj_pron['trusts'] = compute_average(IC2_noprompt_19f,'He')"
   ]
  },
  {
   "cell_type": "markdown",
   "metadata": {},
   "source": [
    "#### male subject"
   ]
  },
  {
   "cell_type": "code",
   "execution_count": null,
   "metadata": {
    "scrolled": false
   },
   "outputs": [],
   "source": [
    "IC2_noprompt_19m"
   ]
  },
  {
   "cell_type": "code",
   "execution_count": null,
   "metadata": {},
   "outputs": [],
   "source": [
    "print(\"P('subj-pron'|subj=male) = \", compute_average(IC2_noprompt_19m,'He'))\n",
    "print(\"P('non-subj-pron'|subj=male) = \", compute_average(IC2_noprompt_19m,'She'))"
   ]
  },
  {
   "cell_type": "code",
   "execution_count": null,
   "metadata": {},
   "outputs": [],
   "source": [
    "np_average_subj_male_subj_pron['trusts'] = compute_average(IC2_noprompt_19m,'He')\n",
    "np_average_subj_male_obj_pron['trusts'] = compute_average(IC2_noprompt_19m,'She')"
   ]
  },
  {
   "cell_type": "markdown",
   "metadata": {},
   "source": [
    "### verb: \"values\""
   ]
  },
  {
   "cell_type": "code",
   "execution_count": null,
   "metadata": {},
   "outputs": [],
   "source": [
    "IC2_noprompt_20 = pd.read_csv(\"../results/IC2/no-prompt/20.csv\")\n",
    "IC2_noprompt_20.head()"
   ]
  },
  {
   "cell_type": "code",
   "execution_count": null,
   "metadata": {},
   "outputs": [],
   "source": [
    "# female subject\n",
    "IC2_noprompt_20f = IC2_noprompt_20[0:12]\n",
    "IC2_noprompt_20f = IC2_noprompt_20f[[\"stimulus\",\"She\",\"He\"]]\n",
    "# male subject\n",
    "IC2_noprompt_20m = IC2_noprompt_20[12:24]"
   ]
  },
  {
   "cell_type": "markdown",
   "metadata": {},
   "source": [
    "#### female subject"
   ]
  },
  {
   "cell_type": "code",
   "execution_count": null,
   "metadata": {},
   "outputs": [],
   "source": [
    "IC2_noprompt_20f"
   ]
  },
  {
   "cell_type": "code",
   "execution_count": null,
   "metadata": {
    "scrolled": true
   },
   "outputs": [],
   "source": [
    "print(\"P('subj-pron'|subj=female) = \", compute_average(IC2_noprompt_20f,'She'))\n",
    "print(\"P('non-subj-pron'|subj=female) = \", compute_average(IC2_noprompt_20f,'He'))"
   ]
  },
  {
   "cell_type": "code",
   "execution_count": null,
   "metadata": {},
   "outputs": [],
   "source": [
    "np_average_subj_female_subj_pron['values'] = compute_average(IC2_noprompt_20f,'She')\n",
    "np_average_subj_female_obj_pron['values'] = compute_average(IC2_noprompt_20f,'He')"
   ]
  },
  {
   "cell_type": "markdown",
   "metadata": {},
   "source": [
    "#### male subject"
   ]
  },
  {
   "cell_type": "code",
   "execution_count": null,
   "metadata": {},
   "outputs": [],
   "source": [
    "IC2_noprompt_20m"
   ]
  },
  {
   "cell_type": "code",
   "execution_count": null,
   "metadata": {},
   "outputs": [],
   "source": [
    "print(\"P('subj-pron'|subj=male) = \", compute_average(IC2_noprompt_20m,'He'))\n",
    "print(\"P('non-subj-pron'|subj=male) = \", compute_average(IC2_noprompt_20m,'She'))"
   ]
  },
  {
   "cell_type": "code",
   "execution_count": null,
   "metadata": {},
   "outputs": [],
   "source": [
    "np_average_subj_male_subj_pron['values'] = compute_average(IC2_noprompt_20m,'He')\n",
    "np_average_subj_male_obj_pron['values'] = compute_average(IC2_noprompt_20m,'She')"
   ]
  },
  {
   "cell_type": "markdown",
   "metadata": {},
   "source": [
    "## Summary of Results"
   ]
  },
  {
   "cell_type": "code",
   "execution_count": null,
   "metadata": {
    "scrolled": true
   },
   "outputs": [],
   "source": [
    "results_fsubj_subjpron = pd.DataFrame(list(np_average_subj_female_subj_pron.items()),columns=['verb','subj_ref_female_subj'])\n",
    "results_fsubj_objpron = pd.DataFrame(list(np_average_subj_female_obj_pron.items()),columns=['verb','obj_ref_female_subj'])\n",
    "results_fsubj = results_fsubj_subjpron.merge(results_fsubj_objpron)\n",
    "results_fsubj"
   ]
  },
  {
   "cell_type": "code",
   "execution_count": null,
   "metadata": {
    "scrolled": true
   },
   "outputs": [],
   "source": [
    "results_msubj_subjpron = pd.DataFrame(list(np_average_subj_male_subj_pron.items()),columns=['verb','subj_ref_male_subj'])\n",
    "results_msubj_objpron = pd.DataFrame(list(np_average_subj_male_obj_pron.items()),columns=['verb','obj_ref_male_subj'])\n",
    "results_msubj = results_msubj_subjpron.merge(results_msubj_objpron)\n",
    "results_msubj"
   ]
  },
  {
   "cell_type": "code",
   "execution_count": null,
   "metadata": {
    "scrolled": true
   },
   "outputs": [],
   "source": [
    "results = results_fsubj.merge(results_msubj)\n",
    "results"
   ]
  },
  {
   "cell_type": "code",
   "execution_count": null,
   "metadata": {},
   "outputs": [],
   "source": [
    "print(\"P(subj_reference |subj=female)\", compute_average(results,'subj_ref_female_subj'))\n",
    "print(\"P(obj_reference |subj=female)\", compute_average(results,'obj_ref_female_subj'))"
   ]
  },
  {
   "cell_type": "code",
   "execution_count": null,
   "metadata": {},
   "outputs": [],
   "source": [
    "print(\"P(subj_reference |subj=male)\", compute_average(results,'subj_ref_male_subj'))\n",
    "print(\"P(obj_reference |subj=male)\", compute_average(results,'obj_ref_male_subj'))"
   ]
  },
  {
   "cell_type": "markdown",
   "metadata": {},
   "source": [
    "## Connective: \"because\""
   ]
  },
  {
   "cell_type": "code",
   "execution_count": null,
   "metadata": {},
   "outputs": [],
   "source": [
    "c1_average_subj_female_subj_pron = {}\n",
    "c1_average_subj_female_obj_pron = {}\n",
    "c1_average_subj_male_subj_pron = {}\n",
    "c1_average_subj_male_obj_pron = {}"
   ]
  },
  {
   "cell_type": "markdown",
   "metadata": {},
   "source": [
    "### verb: \"assisted\""
   ]
  },
  {
   "cell_type": "code",
   "execution_count": null,
   "metadata": {},
   "outputs": [],
   "source": [
    "IC2_connective1_1 = pd.read_csv(\"../results/IC2/connective1/1.csv\")\n",
    "IC2_connective1_1.head()"
   ]
  },
  {
   "cell_type": "code",
   "execution_count": null,
   "metadata": {},
   "outputs": [],
   "source": [
    "# female subject\n",
    "IC2_connective1_1f = IC2_connective1_1[0:12]\n",
    "IC2_connective1_1f = IC2_connective1_1f[[\"stimulus\",\"she\",\"he\"]]\n",
    "# male subject\n",
    "IC2_connective1_1m = IC2_connective1_1[12:24]"
   ]
  },
  {
   "cell_type": "markdown",
   "metadata": {},
   "source": [
    "#### female subject"
   ]
  },
  {
   "cell_type": "code",
   "execution_count": null,
   "metadata": {},
   "outputs": [],
   "source": [
    "IC2_connective1_1f"
   ]
  },
  {
   "cell_type": "code",
   "execution_count": null,
   "metadata": {},
   "outputs": [],
   "source": [
    "print(\"P('subj-pron'|subj=female) = \", compute_average(IC2_connective1_1f,'she'))\n",
    "print(\"P('non-subj-pron'|subj=female) = \", compute_average(IC2_connective1_1f,'he'))"
   ]
  },
  {
   "cell_type": "code",
   "execution_count": null,
   "metadata": {},
   "outputs": [],
   "source": [
    "c1_average_subj_female_subj_pron['assisted'] = compute_average(IC2_connective1_1f,'she')\n",
    "c1_average_subj_female_obj_pron['assisted'] = compute_average(IC2_connective1_1f,'he')"
   ]
  },
  {
   "cell_type": "markdown",
   "metadata": {},
   "source": [
    "#### male subject"
   ]
  },
  {
   "cell_type": "code",
   "execution_count": null,
   "metadata": {},
   "outputs": [],
   "source": [
    "IC2_connective1_1m"
   ]
  },
  {
   "cell_type": "code",
   "execution_count": null,
   "metadata": {},
   "outputs": [],
   "source": [
    "print(\"P('subj-pron'|subj=male) = \", compute_average(IC2_connective1_1m,'he'))\n",
    "print(\"P('non-subj-pron'|subj=male) = \", compute_average(IC2_connective1_1m,'she'))"
   ]
  },
  {
   "cell_type": "code",
   "execution_count": null,
   "metadata": {},
   "outputs": [],
   "source": [
    "c1_average_subj_male_subj_pron['assisted'] = compute_average(IC2_connective1_1m,'he')\n",
    "c1_average_subj_male_obj_pron['assisted'] = compute_average(IC2_connective1_1m,'she')"
   ]
  },
  {
   "cell_type": "markdown",
   "metadata": {},
   "source": [
    "### verb: \"blames\""
   ]
  },
  {
   "cell_type": "code",
   "execution_count": null,
   "metadata": {},
   "outputs": [],
   "source": [
    "IC2_connective1_2 = pd.read_csv(\"../results/IC2/connective1/2.csv\")\n",
    "IC2_connective1_2.head()"
   ]
  },
  {
   "cell_type": "code",
   "execution_count": null,
   "metadata": {},
   "outputs": [],
   "source": [
    "# female subject\n",
    "IC2_connective1_2f = IC2_connective1_2[0:12]\n",
    "IC2_connective1_2f = IC2_connective1_2f[[\"stimulus\",\"she\",\"he\"]]\n",
    "# male subject\n",
    "IC2_connective1_2m = IC2_connective1_2[12:24]"
   ]
  },
  {
   "cell_type": "markdown",
   "metadata": {},
   "source": [
    "#### female subject"
   ]
  },
  {
   "cell_type": "code",
   "execution_count": null,
   "metadata": {},
   "outputs": [],
   "source": [
    "print(\"P('subj-pron'|subj=female) = \", compute_average(IC2_connective1_2f,'she'))\n",
    "print(\"P('non-subj-pron'|subj=female) = \", compute_average(IC2_connective1_2f,'he'))"
   ]
  },
  {
   "cell_type": "code",
   "execution_count": null,
   "metadata": {},
   "outputs": [],
   "source": [
    "c1_average_subj_female_subj_pron['blames'] = compute_average(IC2_connective1_2f,'she')\n",
    "c1_average_subj_female_obj_pron['blames'] = compute_average(IC2_connective1_2f,'he')"
   ]
  },
  {
   "cell_type": "markdown",
   "metadata": {},
   "source": [
    "#### male subject"
   ]
  },
  {
   "cell_type": "code",
   "execution_count": null,
   "metadata": {},
   "outputs": [],
   "source": [
    "IC2_connective1_2m"
   ]
  },
  {
   "cell_type": "code",
   "execution_count": null,
   "metadata": {},
   "outputs": [],
   "source": [
    "print(\"P('subj-pron'|subj=male) = \", compute_average(IC2_connective1_2m,'he'))\n",
    "print(\"P('non-subj-pron'|subj=male) = \", compute_average(IC2_connective1_2m,'she'))"
   ]
  },
  {
   "cell_type": "code",
   "execution_count": null,
   "metadata": {},
   "outputs": [],
   "source": [
    "c1_average_subj_male_subj_pron['blames'] = compute_average(IC2_connective1_2m,'he')\n",
    "c1_average_subj_male_obj_pron['blames'] = compute_average(IC2_connective1_2m,'she')"
   ]
  },
  {
   "cell_type": "markdown",
   "metadata": {},
   "source": [
    "### verb: \"comforted\""
   ]
  },
  {
   "cell_type": "code",
   "execution_count": null,
   "metadata": {},
   "outputs": [],
   "source": [
    "IC2_connective1_3 = pd.read_csv(\"../results/IC2/connective1/3.csv\")\n",
    "IC2_connective1_3.head()"
   ]
  },
  {
   "cell_type": "code",
   "execution_count": null,
   "metadata": {},
   "outputs": [],
   "source": [
    "# female subject\n",
    "IC2_connective1_3f = IC2_connective1_3[0:12]\n",
    "IC2_connective1_3f = IC2_connective1_3f[[\"stimulus\",\"she\",\"he\"]]\n",
    "# male subject\n",
    "IC2_connective1_3m = IC2_connective1_3[12:24]"
   ]
  },
  {
   "cell_type": "markdown",
   "metadata": {},
   "source": [
    "#### female subject"
   ]
  },
  {
   "cell_type": "code",
   "execution_count": null,
   "metadata": {},
   "outputs": [],
   "source": [
    "print(\"P('subj-pron'|subj=female) = \", compute_average(IC2_connective1_3f,'she'))\n",
    "print(\"P('non-subj-pron'|subj=female) = \", compute_average(IC2_connective1_3f,'he'))"
   ]
  },
  {
   "cell_type": "code",
   "execution_count": null,
   "metadata": {},
   "outputs": [],
   "source": [
    "c1_average_subj_female_subj_pron['comforted'] = compute_average(IC2_connective1_3f,'she')\n",
    "c1_average_subj_female_obj_pron['comforted'] = compute_average(IC2_connective1_3f,'he')"
   ]
  },
  {
   "cell_type": "markdown",
   "metadata": {},
   "source": [
    "#### male subject"
   ]
  },
  {
   "cell_type": "code",
   "execution_count": null,
   "metadata": {},
   "outputs": [],
   "source": [
    "IC2_connective1_3m"
   ]
  },
  {
   "cell_type": "code",
   "execution_count": null,
   "metadata": {},
   "outputs": [],
   "source": [
    "print(\"P('subj-pron'|subj=male) = \", compute_average(IC2_connective1_3m,'he'))\n",
    "print(\"P('non-subj-pron'|subj=male) = \", compute_average(IC2_connective1_3m,'she'))"
   ]
  },
  {
   "cell_type": "code",
   "execution_count": null,
   "metadata": {},
   "outputs": [],
   "source": [
    "c1_average_subj_male_subj_pron['comforted'] = compute_average(IC2_connective1_3m,'he')\n",
    "c1_average_subj_male_obj_pron['comforted'] = compute_average(IC2_connective1_3m,'she')"
   ]
  },
  {
   "cell_type": "markdown",
   "metadata": {},
   "source": [
    "### verb: \"congratulated\""
   ]
  },
  {
   "cell_type": "code",
   "execution_count": null,
   "metadata": {
    "scrolled": true
   },
   "outputs": [],
   "source": [
    "IC2_connective1_4 = pd.read_csv(\"../results/IC2/connective1/4.csv\")\n",
    "IC2_connective1_4.head()"
   ]
  },
  {
   "cell_type": "code",
   "execution_count": null,
   "metadata": {},
   "outputs": [],
   "source": [
    "# female subject\n",
    "IC2_connective1_4f = IC2_connective1_4[0:12]\n",
    "IC2_connective1_4f = IC2_connective1_4f[[\"stimulus\",\"she\",\"he\"]]\n",
    "# male subject\n",
    "IC2_connective1_4m = IC2_connective1_4[12:24]"
   ]
  },
  {
   "cell_type": "markdown",
   "metadata": {},
   "source": [
    "#### female subject"
   ]
  },
  {
   "cell_type": "code",
   "execution_count": null,
   "metadata": {},
   "outputs": [],
   "source": [
    "IC2_connective1_4f"
   ]
  },
  {
   "cell_type": "code",
   "execution_count": null,
   "metadata": {},
   "outputs": [],
   "source": [
    "print(\"P('subj-pron'|subj=female) = \", compute_average(IC2_connective1_4f,'she'))\n",
    "print(\"P('non-subj-pron'|subj=female) = \", compute_average(IC2_connective1_4f,'he'))"
   ]
  },
  {
   "cell_type": "code",
   "execution_count": null,
   "metadata": {},
   "outputs": [],
   "source": [
    "c1_average_subj_female_subj_pron['annoyded'] = compute_average(IC2_connective1_4f,'she')\n",
    "c1_average_subj_female_obj_pron['congratulated'] = compute_average(IC2_connective1_4f,'he')"
   ]
  },
  {
   "cell_type": "markdown",
   "metadata": {},
   "source": [
    "#### male subject"
   ]
  },
  {
   "cell_type": "code",
   "execution_count": null,
   "metadata": {},
   "outputs": [],
   "source": [
    "IC2_connective1_4m"
   ]
  },
  {
   "cell_type": "code",
   "execution_count": null,
   "metadata": {},
   "outputs": [],
   "source": [
    "print(\"P('subj-pron'|subj=male) = \", compute_average(IC2_connective1_4m,'he'))\n",
    "print(\"P('non-subj-pron'|subj=male) = \", compute_average(IC2_connective1_4m,'she'))"
   ]
  },
  {
   "cell_type": "code",
   "execution_count": null,
   "metadata": {},
   "outputs": [],
   "source": [
    "c1_average_subj_male_subj_pron['congratulated'] = compute_average(IC2_connective1_4m,'he')\n",
    "c1_average_subj_male_obj_pron['congratulated'] = compute_average(IC2_connective1_4m,'she')"
   ]
  },
  {
   "cell_type": "markdown",
   "metadata": {},
   "source": [
    "### verb: \"corrected\""
   ]
  },
  {
   "cell_type": "code",
   "execution_count": null,
   "metadata": {},
   "outputs": [],
   "source": [
    "IC2_connective1_5 = pd.read_csv(\"../results/IC2/connective1/5.csv\")\n",
    "IC2_connective1_5.head()"
   ]
  },
  {
   "cell_type": "code",
   "execution_count": null,
   "metadata": {},
   "outputs": [],
   "source": [
    "# female subject\n",
    "IC2_connective1_5f = IC2_connective1_5[0:12]\n",
    "IC2_connective1_5f = IC2_connective1_5[[\"stimulus\",\"she\",\"he\"]]\n",
    "# male subject\n",
    "IC2_connective1_5m = IC2_connective1_5[12:24]"
   ]
  },
  {
   "cell_type": "markdown",
   "metadata": {},
   "source": [
    "#### female subject"
   ]
  },
  {
   "cell_type": "code",
   "execution_count": null,
   "metadata": {},
   "outputs": [],
   "source": [
    "IC2_connective1_5f"
   ]
  },
  {
   "cell_type": "code",
   "execution_count": null,
   "metadata": {},
   "outputs": [],
   "source": [
    "print(\"P('subj-pron'|subj=female) = \", compute_average(IC2_connective1_5f,'she'))\n",
    "print(\"P('non-subj-pron'|subj=female) = \", compute_average(IC2_connective1_5f,'he'))"
   ]
  },
  {
   "cell_type": "code",
   "execution_count": null,
   "metadata": {},
   "outputs": [],
   "source": [
    "c1_average_subj_female_subj_pron['corrected'] = compute_average(IC2_connective1_5f,'she')\n",
    "c1_average_subj_female_obj_pron['corrected'] = compute_average(IC2_connective1_5f,'he')"
   ]
  },
  {
   "cell_type": "markdown",
   "metadata": {},
   "source": [
    "#### male subject"
   ]
  },
  {
   "cell_type": "code",
   "execution_count": null,
   "metadata": {},
   "outputs": [],
   "source": [
    "IC2_connective1_5m"
   ]
  },
  {
   "cell_type": "code",
   "execution_count": null,
   "metadata": {},
   "outputs": [],
   "source": [
    "print(\"P('subj-pron'|subj=male) = \", compute_average(IC2_connective1_5m,'he'))\n",
    "print(\"P('non-subj-pron'|subj=male) = \", compute_average(IC2_connective1_5m,'she'))"
   ]
  },
  {
   "cell_type": "code",
   "execution_count": null,
   "metadata": {},
   "outputs": [],
   "source": [
    "c1_average_subj_male_subj_pron['corrected'] = compute_average(IC2_connective1_5m,'he')\n",
    "c1_average_subj_male_obj_pron['corrected'] = compute_average(IC2_connective1_5m,'she')"
   ]
  },
  {
   "cell_type": "markdown",
   "metadata": {},
   "source": [
    "### verb: \"detests\""
   ]
  },
  {
   "cell_type": "code",
   "execution_count": null,
   "metadata": {},
   "outputs": [],
   "source": [
    "IC2_connective1_6 = pd.read_csv(\"../results/IC2/connective1/6.csv\")\n",
    "IC2_connective1_6.head()"
   ]
  },
  {
   "cell_type": "code",
   "execution_count": null,
   "metadata": {},
   "outputs": [],
   "source": [
    "# female subject\n",
    "IC2_connective1_6f = IC2_connective1_6[0:12]\n",
    "IC2_connective1_6f = IC2_connective1_6[[\"stimulus\",\"she\",\"he\"]]\n",
    "# male subject\n",
    "IC2_connective1_6m = IC2_connective1_6[12:24]"
   ]
  },
  {
   "cell_type": "markdown",
   "metadata": {},
   "source": [
    "#### female subject"
   ]
  },
  {
   "cell_type": "code",
   "execution_count": null,
   "metadata": {},
   "outputs": [],
   "source": [
    "IC2_connective1_6f"
   ]
  },
  {
   "cell_type": "code",
   "execution_count": null,
   "metadata": {},
   "outputs": [],
   "source": [
    "print(\"P('subj-pron'|subj=female) = \", compute_average(IC2_connective1_6f,'she'))\n",
    "print(\"P('non-subj-pron'|subj=female) = \", compute_average(IC2_connective1_6f,'he'))"
   ]
  },
  {
   "cell_type": "code",
   "execution_count": null,
   "metadata": {},
   "outputs": [],
   "source": [
    "c1_average_subj_female_subj_pron['detests'] = compute_average(IC2_connective1_6f,'she')\n",
    "c1_average_subj_female_obj_pron['detests'] = compute_average(IC2_connective1_6f,'he')"
   ]
  },
  {
   "cell_type": "markdown",
   "metadata": {},
   "source": [
    "#### male subject"
   ]
  },
  {
   "cell_type": "code",
   "execution_count": null,
   "metadata": {},
   "outputs": [],
   "source": [
    "IC2_connective1_6m"
   ]
  },
  {
   "cell_type": "code",
   "execution_count": null,
   "metadata": {},
   "outputs": [],
   "source": [
    "print(\"P('subj-pron'|subj=male) = \", compute_average(IC2_connective1_6m,'he'))\n",
    "print(\"P('non-subj-pron'|subj=male) = \", compute_average(IC2_connective1_6m,'she'))"
   ]
  },
  {
   "cell_type": "code",
   "execution_count": null,
   "metadata": {},
   "outputs": [],
   "source": [
    "c1_average_subj_male_subj_pron['detests'] = compute_average(IC2_connective1_6m,'he')\n",
    "c1_average_subj_male_obj_pron['detests'] = compute_average(IC2_connective1_6m,'she')"
   ]
  },
  {
   "cell_type": "markdown",
   "metadata": {},
   "source": [
    "### verb: \"fears\""
   ]
  },
  {
   "cell_type": "code",
   "execution_count": null,
   "metadata": {},
   "outputs": [],
   "source": [
    "IC2_connective1_7 = pd.read_csv(\"../results/IC2/connective1/7.csv\")\n",
    "IC2_connective1_7.head()"
   ]
  },
  {
   "cell_type": "code",
   "execution_count": null,
   "metadata": {},
   "outputs": [],
   "source": [
    "# female subject\n",
    "IC2_connective1_7f = IC2_connective1_7[0:12]\n",
    "IC2_connective1_7f = IC2_connective1_7f[[\"stimulus\",\"she\",\"he\"]]\n",
    "# male subject\n",
    "IC2_connective1_7m = IC2_connective1_7[12:24]"
   ]
  },
  {
   "cell_type": "markdown",
   "metadata": {},
   "source": [
    "#### female subject"
   ]
  },
  {
   "cell_type": "code",
   "execution_count": null,
   "metadata": {},
   "outputs": [],
   "source": [
    "IC2_connective1_7f"
   ]
  },
  {
   "cell_type": "code",
   "execution_count": null,
   "metadata": {},
   "outputs": [],
   "source": [
    "print(\"P('subj-pron'|subj=female) = \", compute_average(IC2_connective1_7f,'she'))\n",
    "print(\"P('non-subj-pron'|subj=female) = \", compute_average(IC2_connective1_7f,'he'))"
   ]
  },
  {
   "cell_type": "code",
   "execution_count": null,
   "metadata": {},
   "outputs": [],
   "source": [
    "c1_average_subj_female_subj_pron['fears'] = compute_average(IC2_connective1_7f,'she')\n",
    "c1_average_subj_female_obj_pron['fears'] = compute_average(IC2_connective1_7f,'he')"
   ]
  },
  {
   "cell_type": "markdown",
   "metadata": {},
   "source": [
    "#### male subject"
   ]
  },
  {
   "cell_type": "code",
   "execution_count": null,
   "metadata": {},
   "outputs": [],
   "source": [
    "IC2_connective1_7m"
   ]
  },
  {
   "cell_type": "code",
   "execution_count": null,
   "metadata": {},
   "outputs": [],
   "source": [
    "print(\"P('subj-pron'|subj=male) = \", compute_average(IC2_connective1_7m,'he'))\n",
    "print(\"P('non-subj-pron'|subj=male) = \", compute_average(IC2_connective1_7m,'she'))"
   ]
  },
  {
   "cell_type": "code",
   "execution_count": null,
   "metadata": {},
   "outputs": [],
   "source": [
    "c1_average_subj_male_subj_pron['fears'] = compute_average(IC2_connective1_7m,'he')\n",
    "c1_average_subj_male_obj_pron['fears'] = compute_average(IC2_connective1_7m,'she')"
   ]
  },
  {
   "cell_type": "markdown",
   "metadata": {},
   "source": [
    "### verb: \"envies\""
   ]
  },
  {
   "cell_type": "code",
   "execution_count": null,
   "metadata": {},
   "outputs": [],
   "source": [
    "IC2_connective1_8 = pd.read_csv(\"../results/IC2/connective1/8.csv\")\n",
    "IC2_connective1_8.head()"
   ]
  },
  {
   "cell_type": "code",
   "execution_count": null,
   "metadata": {},
   "outputs": [],
   "source": [
    "# female subject\n",
    "IC2_connective1_8f = IC2_connective1_8[0:12]\n",
    "IC2_connective1_8f = IC2_connective1_8f[[\"stimulus\",\"she\",\"he\"]]\n",
    "# male subject\n",
    "IC2_connective1_8m = IC2_connective1_8[12:24]"
   ]
  },
  {
   "cell_type": "markdown",
   "metadata": {},
   "source": [
    "#### female subject"
   ]
  },
  {
   "cell_type": "code",
   "execution_count": null,
   "metadata": {},
   "outputs": [],
   "source": [
    "IC2_connective1_8f"
   ]
  },
  {
   "cell_type": "code",
   "execution_count": null,
   "metadata": {
    "scrolled": true
   },
   "outputs": [],
   "source": [
    "print(\"P('subj-pron'|subj=female) = \", compute_average(IC2_connective1_8f,'she'))\n",
    "print(\"P('non-subj-pron'|subj=female) = \", compute_average(IC2_connective1_8f,'he'))"
   ]
  },
  {
   "cell_type": "code",
   "execution_count": null,
   "metadata": {},
   "outputs": [],
   "source": [
    "c1_average_subj_female_subj_pron['envies'] = compute_average(IC2_connective1_8f,'she')\n",
    "c1_average_subj_female_obj_pron['envies'] = compute_average(IC2_connective1_8f,'he')"
   ]
  },
  {
   "cell_type": "markdown",
   "metadata": {},
   "source": [
    "#### male subject"
   ]
  },
  {
   "cell_type": "code",
   "execution_count": null,
   "metadata": {},
   "outputs": [],
   "source": [
    "IC2_connective1_8m"
   ]
  },
  {
   "cell_type": "code",
   "execution_count": null,
   "metadata": {},
   "outputs": [],
   "source": [
    "print(\"P('subj-pron'|subj=male) = \", compute_average(IC2_connective1_8m,'he'))\n",
    "print(\"P('non-subj-pron'|subj=male) = \", compute_average(IC2_connective1_8m,'she'))"
   ]
  },
  {
   "cell_type": "code",
   "execution_count": null,
   "metadata": {},
   "outputs": [],
   "source": [
    "c1_average_subj_male_subj_pron['envies'] = compute_average(IC2_connective1_8m,'he')\n",
    "c1_average_subj_male_obj_pron['envies'] = compute_average(IC2_connective1_8m,'she')"
   ]
  },
  {
   "cell_type": "markdown",
   "metadata": {},
   "source": [
    "### verb: \"hates\""
   ]
  },
  {
   "cell_type": "code",
   "execution_count": null,
   "metadata": {},
   "outputs": [],
   "source": [
    "IC2_connective1_9 = pd.read_csv(\"../results/IC2/connective1/9.csv\")\n",
    "IC2_connective1_9.head()"
   ]
  },
  {
   "cell_type": "code",
   "execution_count": null,
   "metadata": {},
   "outputs": [],
   "source": [
    "# female subject\n",
    "IC2_connective1_9f = IC2_connective1_9[0:12]\n",
    "IC2_connective1_9f = IC2_connective1_9f[[\"stimulus\",\"she\",\"he\"]]\n",
    "# male subject\n",
    "IC2_connective1_9m = IC2_connective1_9[12:24]"
   ]
  },
  {
   "cell_type": "markdown",
   "metadata": {},
   "source": [
    "#### female subject"
   ]
  },
  {
   "cell_type": "code",
   "execution_count": null,
   "metadata": {},
   "outputs": [],
   "source": [
    "IC2_connective1_9f"
   ]
  },
  {
   "cell_type": "code",
   "execution_count": null,
   "metadata": {},
   "outputs": [],
   "source": [
    "print(\"P('subj-pron'|subj=female) = \", compute_average(IC2_connective1_9f,'she'))\n",
    "print(\"P('non-subj-pron'|subj=female) = \", compute_average(IC2_connective1_9f,'he'))"
   ]
  },
  {
   "cell_type": "code",
   "execution_count": null,
   "metadata": {},
   "outputs": [],
   "source": [
    "c1_average_subj_female_subj_pron['hates'] = compute_average(IC2_connective1_9f,'she')\n",
    "c1_average_subj_female_obj_pron['hates'] = compute_average(IC2_connective1_9f,'he')"
   ]
  },
  {
   "cell_type": "markdown",
   "metadata": {},
   "source": [
    "#### male subject"
   ]
  },
  {
   "cell_type": "code",
   "execution_count": null,
   "metadata": {},
   "outputs": [],
   "source": [
    "IC2_connective1_9m"
   ]
  },
  {
   "cell_type": "code",
   "execution_count": null,
   "metadata": {},
   "outputs": [],
   "source": [
    "print(\"P('subj-pron'|subj=male) = \", compute_average(IC2_connective1_9m,'he'))\n",
    "print(\"P('non-subj-pron'|subj=male) = \", compute_average(IC2_connective1_9m,'she'))"
   ]
  },
  {
   "cell_type": "code",
   "execution_count": null,
   "metadata": {},
   "outputs": [],
   "source": [
    "c1_average_subj_male_subj_pron['hates'] = compute_average(IC2_connective1_9m,'he')\n",
    "c1_average_subj_male_obj_pron['hates'] = compute_average(IC2_connective1_9m,'she')"
   ]
  },
  {
   "cell_type": "markdown",
   "metadata": {},
   "source": [
    "### verb: \"helped\""
   ]
  },
  {
   "cell_type": "code",
   "execution_count": null,
   "metadata": {},
   "outputs": [],
   "source": [
    "IC2_connective1_10 = pd.read_csv(\"../results/IC2/connective1/10.csv\")\n",
    "IC2_connective1_10.head()"
   ]
  },
  {
   "cell_type": "code",
   "execution_count": null,
   "metadata": {},
   "outputs": [],
   "source": [
    "# female subject\n",
    "IC2_connective1_10f = IC2_connective1_10[0:12]\n",
    "IC2_connective1_10f = IC2_connective1_10f[[\"stimulus\",\"she\",\"he\"]]\n",
    "# male subject\n",
    "IC2_connective1_10m = IC2_connective1_10[12:24]"
   ]
  },
  {
   "cell_type": "markdown",
   "metadata": {},
   "source": [
    "#### female subject"
   ]
  },
  {
   "cell_type": "code",
   "execution_count": null,
   "metadata": {},
   "outputs": [],
   "source": [
    "IC2_connective1_10f"
   ]
  },
  {
   "cell_type": "code",
   "execution_count": null,
   "metadata": {},
   "outputs": [],
   "source": [
    "print(\"P('subj-pron'|subj=female) = \", compute_average(IC2_connective1_10f,'she'))\n",
    "print(\"P('non-subj-pron'|subj=female) = \", compute_average(IC2_connective1_10f,'he'))"
   ]
  },
  {
   "cell_type": "code",
   "execution_count": null,
   "metadata": {},
   "outputs": [],
   "source": [
    "c1_average_subj_female_subj_pron['helped'] = compute_average(IC2_connective1_10f,'she')\n",
    "c1_average_subj_female_obj_pron['helped'] = compute_average(IC2_connective1_10f,'he')"
   ]
  },
  {
   "cell_type": "markdown",
   "metadata": {},
   "source": [
    "#### male subject"
   ]
  },
  {
   "cell_type": "code",
   "execution_count": null,
   "metadata": {},
   "outputs": [],
   "source": [
    "IC2_connective1_10m"
   ]
  },
  {
   "cell_type": "code",
   "execution_count": null,
   "metadata": {},
   "outputs": [],
   "source": [
    "print(\"P('subj-pron'|subj=male) = \", compute_average(IC2_connective1_10m,'he'))\n",
    "print(\"P('non-subj-pron'|subj=male) = \", compute_average(IC2_connective1_10m,'she'))"
   ]
  },
  {
   "cell_type": "code",
   "execution_count": null,
   "metadata": {},
   "outputs": [],
   "source": [
    "c1_average_subj_male_subj_pron['helped'] = compute_average(IC2_connective1_10m,'he')\n",
    "c1_average_subj_male_obj_pron['helped'] = compute_average(IC2_connective1_10m,'she')"
   ]
  },
  {
   "cell_type": "markdown",
   "metadata": {},
   "source": [
    "### verb: \"mocked\""
   ]
  },
  {
   "cell_type": "code",
   "execution_count": null,
   "metadata": {},
   "outputs": [],
   "source": [
    "IC2_connective1_11 = pd.read_csv(\"../results/IC2/connective1/11.csv\")\n",
    "IC2_connective1_11.head()"
   ]
  },
  {
   "cell_type": "code",
   "execution_count": null,
   "metadata": {},
   "outputs": [],
   "source": [
    "# female subject\n",
    "IC2_connective1_11f = IC2_connective1_11[0:12]\n",
    "IC2_connective1_11f = IC2_connective1_11f[[\"stimulus\",\"she\",\"he\"]]\n",
    "# male subject\n",
    "IC2_connective1_11m = IC2_connective1_11[12:24]"
   ]
  },
  {
   "cell_type": "markdown",
   "metadata": {},
   "source": [
    "#### female subject"
   ]
  },
  {
   "cell_type": "code",
   "execution_count": null,
   "metadata": {},
   "outputs": [],
   "source": [
    "IC2_connective1_11f"
   ]
  },
  {
   "cell_type": "code",
   "execution_count": null,
   "metadata": {},
   "outputs": [],
   "source": [
    "print(\"P('subj-pron'|subj=female) = \", compute_average(IC2_connective1_11f,'she'))\n",
    "print(\"P('non-subj-pron'|subj=female) = \", compute_average(IC2_connective1_11f,'he'))"
   ]
  },
  {
   "cell_type": "code",
   "execution_count": null,
   "metadata": {},
   "outputs": [],
   "source": [
    "c1_average_subj_female_subj_pron['mocked'] = compute_average(IC2_connective1_11f,'she')\n",
    "c1_average_subj_female_obj_pron['mocked'] = compute_average(IC2_connective1_11f,'he')"
   ]
  },
  {
   "cell_type": "markdown",
   "metadata": {},
   "source": [
    "#### male subject"
   ]
  },
  {
   "cell_type": "code",
   "execution_count": null,
   "metadata": {},
   "outputs": [],
   "source": [
    "IC2_connective1_11m"
   ]
  },
  {
   "cell_type": "code",
   "execution_count": null,
   "metadata": {},
   "outputs": [],
   "source": [
    "print(\"P('subj-pron'|subj=male) = \", compute_average(IC2_connective1_11m,'he'))\n",
    "print(\"P('non-subj-pron'|subj=male) = \", compute_average(IC2_connective1_11m,'she'))"
   ]
  },
  {
   "cell_type": "code",
   "execution_count": null,
   "metadata": {},
   "outputs": [],
   "source": [
    "c1_average_subj_male_subj_pron['mocked'] = compute_average(IC2_connective1_11m,'he')\n",
    "c1_average_subj_male_obj_pron['mocked'] = compute_average(IC2_connective1_11m,'she')"
   ]
  },
  {
   "cell_type": "markdown",
   "metadata": {},
   "source": [
    "### verb: \"noticed\""
   ]
  },
  {
   "cell_type": "code",
   "execution_count": null,
   "metadata": {},
   "outputs": [],
   "source": [
    "IC2_connective1_12 = pd.read_csv(\"../results/IC2/connective1/12.csv\")\n",
    "IC2_connective1_12.head()"
   ]
  },
  {
   "cell_type": "code",
   "execution_count": null,
   "metadata": {},
   "outputs": [],
   "source": [
    "# female subject\n",
    "IC2_connective1_12f = IC2_connective1_12[0:12]\n",
    "IC2_connective1_12f = IC2_connective1_12f[[\"stimulus\",\"she\",\"he\"]]\n",
    "# male subject\n",
    "IC2_connective1_12m = IC2_connective1_12[12:24]"
   ]
  },
  {
   "cell_type": "markdown",
   "metadata": {},
   "source": [
    "#### female subject"
   ]
  },
  {
   "cell_type": "code",
   "execution_count": null,
   "metadata": {},
   "outputs": [],
   "source": [
    "IC2_connective1_12f"
   ]
  },
  {
   "cell_type": "code",
   "execution_count": null,
   "metadata": {},
   "outputs": [],
   "source": [
    "print(\"P('subj-pron'|subj=female) = \", compute_average(IC2_connective1_12f,'she'))\n",
    "print(\"P('non-subj-pron'|subj=female) = \", compute_average(IC2_connective1_12f,'he'))"
   ]
  },
  {
   "cell_type": "code",
   "execution_count": null,
   "metadata": {},
   "outputs": [],
   "source": [
    "c1_average_subj_female_subj_pron['noticed'] = compute_average(IC2_connective1_12f,'she')\n",
    "c1_average_subj_female_obj_pron['noticed'] = compute_average(IC2_connective1_12f,'he')"
   ]
  },
  {
   "cell_type": "markdown",
   "metadata": {},
   "source": [
    "#### male subject"
   ]
  },
  {
   "cell_type": "code",
   "execution_count": null,
   "metadata": {},
   "outputs": [],
   "source": [
    "IC2_connective1_12m"
   ]
  },
  {
   "cell_type": "code",
   "execution_count": null,
   "metadata": {},
   "outputs": [],
   "source": [
    "print(\"P('subj-pron'|subj=male) = \", compute_average(IC2_connective1_12m,'he'))\n",
    "print(\"P('non-subj-pron'|subj=male) = \", compute_average(IC2_connective1_12m,'she'))"
   ]
  },
  {
   "cell_type": "code",
   "execution_count": null,
   "metadata": {},
   "outputs": [],
   "source": [
    "c1_average_subj_male_subj_pron['noticed'] = compute_average(IC2_connective1_12m,'he')\n",
    "c1_average_subj_male_obj_pron['noticed'] = compute_average(IC2_connective1_12m,'she')"
   ]
  },
  {
   "cell_type": "markdown",
   "metadata": {},
   "source": [
    "### verb: \"pacified\""
   ]
  },
  {
   "cell_type": "code",
   "execution_count": null,
   "metadata": {},
   "outputs": [],
   "source": [
    "IC2_connective1_13 = pd.read_csv(\"../results/IC2/connective1/13.csv\")\n",
    "IC2_connective1_13.head()"
   ]
  },
  {
   "cell_type": "code",
   "execution_count": null,
   "metadata": {},
   "outputs": [],
   "source": [
    "# female subject\n",
    "IC2_connective1_13f = IC2_connective1_13[0:12]\n",
    "IC2_connective1_13f = IC2_connective1_13f[[\"stimulus\",\"she\",\"he\"]]\n",
    "# male subject\n",
    "IC2_connective1_13m = IC2_connective1_13[12:24]"
   ]
  },
  {
   "cell_type": "markdown",
   "metadata": {},
   "source": [
    "#### female subject"
   ]
  },
  {
   "cell_type": "code",
   "execution_count": null,
   "metadata": {},
   "outputs": [],
   "source": [
    "IC2_connective1_13f"
   ]
  },
  {
   "cell_type": "code",
   "execution_count": null,
   "metadata": {},
   "outputs": [],
   "source": [
    "print(\"P('subj-pron'|subj=female) = \", compute_average(IC2_connective1_13f,'she'))\n",
    "print(\"P('non-subj-pron'|subj=female) = \", compute_average(IC2_connective1_13f,'he'))"
   ]
  },
  {
   "cell_type": "code",
   "execution_count": null,
   "metadata": {},
   "outputs": [],
   "source": [
    "c1_average_subj_female_subj_pron['pacified'] = compute_average(IC2_connective1_13f,'she')\n",
    "c1_average_subj_female_obj_pron['pacified'] = compute_average(IC2_connective1_13f,'he')"
   ]
  },
  {
   "cell_type": "markdown",
   "metadata": {},
   "source": [
    "#### male subject"
   ]
  },
  {
   "cell_type": "code",
   "execution_count": null,
   "metadata": {},
   "outputs": [],
   "source": [
    "IC2_connective1_13m"
   ]
  },
  {
   "cell_type": "code",
   "execution_count": null,
   "metadata": {},
   "outputs": [],
   "source": [
    "print(\"P('subj-pron'|subj=male) = \", compute_average(IC2_connective1_13m,'he'))\n",
    "print(\"P('non-subj-pron'|subj=male) = \", compute_average(IC2_connective1_13m,'she'))"
   ]
  },
  {
   "cell_type": "code",
   "execution_count": null,
   "metadata": {},
   "outputs": [],
   "source": [
    "c1_average_subj_male_subj_pron['pacified'] = compute_average(IC2_connective1_13m,'he')\n",
    "c1_average_subj_male_obj_pron['pacified'] = compute_average(IC2_connective1_13m,'she')"
   ]
  },
  {
   "cell_type": "markdown",
   "metadata": {},
   "source": [
    "### verb: \"praised\""
   ]
  },
  {
   "cell_type": "code",
   "execution_count": null,
   "metadata": {},
   "outputs": [],
   "source": [
    "IC2_connective1_14 = pd.read_csv(\"../results/IC2/connective1/14.csv\")\n",
    "IC2_connective1_14.head()"
   ]
  },
  {
   "cell_type": "code",
   "execution_count": null,
   "metadata": {},
   "outputs": [],
   "source": [
    "# female subject\n",
    "IC2_connective1_14f = IC2_connective1_14[0:12]\n",
    "IC2_connective1_14f = IC2_connective1_14f[[\"stimulus\",\"she\",\"he\"]]\n",
    "# male subject\n",
    "IC2_connective1_14m = IC2_connective1_14[12:24]"
   ]
  },
  {
   "cell_type": "markdown",
   "metadata": {},
   "source": [
    "#### female subject"
   ]
  },
  {
   "cell_type": "code",
   "execution_count": null,
   "metadata": {},
   "outputs": [],
   "source": [
    "IC2_connective1_14f"
   ]
  },
  {
   "cell_type": "code",
   "execution_count": null,
   "metadata": {},
   "outputs": [],
   "source": [
    "print(\"P('subj-pron'|subj=female) = \", compute_average(IC2_connective1_14f,'she'))\n",
    "print(\"P('non-subj-pron'|subj=female) = \", compute_average(IC2_connective1_14f,'he'))"
   ]
  },
  {
   "cell_type": "code",
   "execution_count": null,
   "metadata": {},
   "outputs": [],
   "source": [
    "c1_average_subj_female_subj_pron['praised'] = compute_average(IC2_connective1_14f,'she')\n",
    "c1_average_subj_female_obj_pron['praised'] = compute_average(IC2_connective1_14f,'he')"
   ]
  },
  {
   "cell_type": "markdown",
   "metadata": {},
   "source": [
    "#### male subject"
   ]
  },
  {
   "cell_type": "code",
   "execution_count": null,
   "metadata": {},
   "outputs": [],
   "source": [
    "IC2_connective1_14m"
   ]
  },
  {
   "cell_type": "code",
   "execution_count": null,
   "metadata": {},
   "outputs": [],
   "source": [
    "print(\"P('subj-pron'|subj=male) = \", compute_average(IC2_connective1_14m,'he'))\n",
    "print(\"P('non-subj-pron'|subj=male) = \", compute_average(IC2_connective1_14m,'she'))"
   ]
  },
  {
   "cell_type": "code",
   "execution_count": null,
   "metadata": {},
   "outputs": [],
   "source": [
    "c1_average_subj_male_subj_pron['praised'] = compute_average(IC2_connective1_14m,'he')\n",
    "c1_average_subj_male_obj_pron['praised'] = compute_average(IC2_connective1_14m,'she')"
   ]
  },
  {
   "cell_type": "markdown",
   "metadata": {},
   "source": [
    "### verb: \"reproached\""
   ]
  },
  {
   "cell_type": "code",
   "execution_count": null,
   "metadata": {},
   "outputs": [],
   "source": [
    "IC2_connective1_15 = pd.read_csv(\"../results/IC2/connective1/15.csv\")\n",
    "IC2_connective1_15.head()"
   ]
  },
  {
   "cell_type": "code",
   "execution_count": null,
   "metadata": {},
   "outputs": [],
   "source": [
    "# female subject\n",
    "IC2_connective1_15f = IC2_connective1_15[0:12]\n",
    "IC2_connective1_15f = IC2_connective1_15f[[\"stimulus\",\"she\",\"he\"]]\n",
    "# male subject\n",
    "IC2_connective1_15m = IC2_connective1_15[12:24]"
   ]
  },
  {
   "cell_type": "markdown",
   "metadata": {},
   "source": [
    "#### female subject"
   ]
  },
  {
   "cell_type": "code",
   "execution_count": null,
   "metadata": {},
   "outputs": [],
   "source": [
    "IC2_connective1_15f"
   ]
  },
  {
   "cell_type": "code",
   "execution_count": null,
   "metadata": {},
   "outputs": [],
   "source": [
    "print(\"P('subj-pron'|subj=female) = \", compute_average(IC2_connective1_15f,'she'))\n",
    "print(\"P('non-subj-pron'|subj=female) = \", compute_average(IC2_connective1_15f,'he'))"
   ]
  },
  {
   "cell_type": "code",
   "execution_count": null,
   "metadata": {},
   "outputs": [],
   "source": [
    "c1_average_subj_female_subj_pron['reproached'] = compute_average(IC2_connective1_15f,'she')\n",
    "c1_average_subj_female_obj_pron['reproached'] = compute_average(IC2_connective1_15f,'he')"
   ]
  },
  {
   "cell_type": "markdown",
   "metadata": {},
   "source": [
    "#### male subject"
   ]
  },
  {
   "cell_type": "code",
   "execution_count": null,
   "metadata": {},
   "outputs": [],
   "source": [
    "IC2_connective1_15m"
   ]
  },
  {
   "cell_type": "code",
   "execution_count": null,
   "metadata": {},
   "outputs": [],
   "source": [
    "print(\"P('subj-pron'|subj=male) = \", compute_average(IC2_connective1_15m,'he'))\n",
    "print(\"P('non-subj-pron'|subj=male) = \", compute_average(IC2_connective1_15m,'she'))"
   ]
  },
  {
   "cell_type": "code",
   "execution_count": null,
   "metadata": {},
   "outputs": [],
   "source": [
    "c1_average_subj_male_subj_pron['reproached'] = compute_average(IC2_connective1_15m,'he')\n",
    "c1_average_subj_male_obj_pron['reproached'] = compute_average(IC2_connective1_15m,'she')"
   ]
  },
  {
   "cell_type": "markdown",
   "metadata": {},
   "source": [
    "### verb: \"scolded\""
   ]
  },
  {
   "cell_type": "code",
   "execution_count": null,
   "metadata": {},
   "outputs": [],
   "source": [
    "IC2_connective1_16 = pd.read_csv(\"../results/IC2/connective1/16.csv\")\n",
    "IC2_connective1_16.head()"
   ]
  },
  {
   "cell_type": "code",
   "execution_count": null,
   "metadata": {},
   "outputs": [],
   "source": [
    "# female subject\n",
    "IC2_connective1_16f = IC2_connective1_16[0:12]\n",
    "IC2_connective1_16f = IC2_connective1_16f[[\"stimulus\",\"she\",\"he\"]]\n",
    "# male subject\n",
    "IC2_connective1_16m = IC2_connective1_16[12:24]"
   ]
  },
  {
   "cell_type": "markdown",
   "metadata": {},
   "source": [
    "#### female subject"
   ]
  },
  {
   "cell_type": "code",
   "execution_count": null,
   "metadata": {},
   "outputs": [],
   "source": [
    "IC2_connective1_16f "
   ]
  },
  {
   "cell_type": "code",
   "execution_count": null,
   "metadata": {},
   "outputs": [],
   "source": [
    "print(\"P('subj-pron'|subj=female) = \", compute_average(IC2_connective1_16f,'she'))\n",
    "print(\"P('non-subj-pron'|subj=female) = \", compute_average(IC2_connective1_16f,'he'))"
   ]
  },
  {
   "cell_type": "code",
   "execution_count": null,
   "metadata": {},
   "outputs": [],
   "source": [
    "c1_average_subj_female_subj_pron['scolded'] = compute_average(IC2_connective1_16f,'she')\n",
    "c1_average_subj_female_obj_pron['scolded'] = compute_average(IC2_connective1_16f,'he')"
   ]
  },
  {
   "cell_type": "markdown",
   "metadata": {},
   "source": [
    "#### male subject"
   ]
  },
  {
   "cell_type": "code",
   "execution_count": null,
   "metadata": {},
   "outputs": [],
   "source": [
    "IC2_connective1_16m"
   ]
  },
  {
   "cell_type": "code",
   "execution_count": null,
   "metadata": {},
   "outputs": [],
   "source": [
    "print(\"P('subj-pron'|subj=male) = \", compute_average(IC2_connective1_16m,'he'))\n",
    "print(\"P('non-subj-pron'|subj=male) = \", compute_average(IC2_connective1_16m,'she'))"
   ]
  },
  {
   "cell_type": "code",
   "execution_count": null,
   "metadata": {},
   "outputs": [],
   "source": [
    "c1_average_subj_male_subj_pron['scolded'] = compute_average(IC2_connective1_16m,'he')\n",
    "c1_average_subj_male_obj_pron['scolded'] = compute_average(IC2_connective1_16m,'she')"
   ]
  },
  {
   "cell_type": "markdown",
   "metadata": {},
   "source": [
    "### verb: \"stared\""
   ]
  },
  {
   "cell_type": "code",
   "execution_count": null,
   "metadata": {},
   "outputs": [],
   "source": [
    "IC2_connective1_17 = pd.read_csv(\"../results/IC2/connective1/17.csv\")\n",
    "IC2_connective1_17.head()"
   ]
  },
  {
   "cell_type": "code",
   "execution_count": null,
   "metadata": {},
   "outputs": [],
   "source": [
    "# female subject\n",
    "IC2_connective1_17f = IC2_connective1_17[0:12]\n",
    "IC2_connective1_17f = IC2_connective1_17f[[\"stimulus\",\"she\",\"he\"]]\n",
    "# male subject\n",
    "IC2_connective1_17m = IC2_connective1_17[12:24]"
   ]
  },
  {
   "cell_type": "markdown",
   "metadata": {},
   "source": [
    "#### female subject"
   ]
  },
  {
   "cell_type": "code",
   "execution_count": null,
   "metadata": {},
   "outputs": [],
   "source": [
    "IC2_connective1_17f"
   ]
  },
  {
   "cell_type": "code",
   "execution_count": null,
   "metadata": {},
   "outputs": [],
   "source": [
    "print(\"P('subj-pron'|subj=female) = \", compute_average(IC2_connective1_17f,'she'))\n",
    "print(\"P('non-subj-pron'|subj=female) = \", compute_average(IC2_connective1_17f,'he'))"
   ]
  },
  {
   "cell_type": "code",
   "execution_count": null,
   "metadata": {},
   "outputs": [],
   "source": [
    "c1_average_subj_female_subj_pron['stared'] = compute_average(IC2_connective1_17f,'she')\n",
    "c1_average_subj_female_obj_pron['stared'] = compute_average(IC2_connective1_17f,'he')"
   ]
  },
  {
   "cell_type": "markdown",
   "metadata": {},
   "source": [
    "#### male subject"
   ]
  },
  {
   "cell_type": "code",
   "execution_count": null,
   "metadata": {},
   "outputs": [],
   "source": [
    "IC2_connective1_17m"
   ]
  },
  {
   "cell_type": "code",
   "execution_count": null,
   "metadata": {},
   "outputs": [],
   "source": [
    "print(\"P('subj-pron'|subj=male) = \", compute_average(IC2_connective1_17m,'he'))\n",
    "print(\"P('non-subj-pron'|subj=male) = \", compute_average(IC2_connective1_17m,'she'))"
   ]
  },
  {
   "cell_type": "code",
   "execution_count": null,
   "metadata": {},
   "outputs": [],
   "source": [
    "c1_average_subj_male_subj_pron['stared'] = compute_average(IC2_connective1_17m,'he')\n",
    "c1_average_subj_male_obj_pron['stared'] = compute_average(IC2_connective1_17m,'she')"
   ]
  },
  {
   "cell_type": "markdown",
   "metadata": {},
   "source": [
    "### verb: \"thanked\""
   ]
  },
  {
   "cell_type": "code",
   "execution_count": null,
   "metadata": {},
   "outputs": [],
   "source": [
    "IC2_connective1_18 = pd.read_csv(\"../results/IC2/connective1/18.csv\")\n",
    "IC2_connective1_18.head()"
   ]
  },
  {
   "cell_type": "code",
   "execution_count": null,
   "metadata": {},
   "outputs": [],
   "source": [
    "# female subject\n",
    "IC2_connective1_18f = IC2_connective1_18[0:12]\n",
    "IC2_connective1_18f = IC2_connective1_18f[[\"stimulus\",\"she\",\"he\"]]\n",
    "# male subject\n",
    "IC2_connective1_18m = IC2_connective1_18[12:24]"
   ]
  },
  {
   "cell_type": "markdown",
   "metadata": {},
   "source": [
    "#### female subject"
   ]
  },
  {
   "cell_type": "code",
   "execution_count": null,
   "metadata": {},
   "outputs": [],
   "source": [
    "IC2_connective1_18f"
   ]
  },
  {
   "cell_type": "code",
   "execution_count": null,
   "metadata": {},
   "outputs": [],
   "source": [
    "print(\"P('subj-pron'|subj=female) = \", compute_average(IC2_connective1_18f,'she'))\n",
    "print(\"P('non-subj-pron'|subj=female) = \", compute_average(IC2_connective1_18f,'he'))"
   ]
  },
  {
   "cell_type": "code",
   "execution_count": null,
   "metadata": {},
   "outputs": [],
   "source": [
    "c1_average_subj_female_subj_pron['thanked'] = compute_average(IC2_connective1_18f,'she')\n",
    "c1_average_subj_female_obj_pron['thanked'] = compute_average(IC2_connective1_18f,'he')"
   ]
  },
  {
   "cell_type": "markdown",
   "metadata": {},
   "source": [
    "#### male subject"
   ]
  },
  {
   "cell_type": "code",
   "execution_count": null,
   "metadata": {},
   "outputs": [],
   "source": [
    "IC2_connective1_18m"
   ]
  },
  {
   "cell_type": "code",
   "execution_count": null,
   "metadata": {},
   "outputs": [],
   "source": [
    "print(\"P('subj-pron'|subj=male) = \", compute_average(IC2_connective1_18m,'he'))\n",
    "print(\"P('non-subj-pron'|subj=male) = \", compute_average(IC2_connective1_18m,'she'))"
   ]
  },
  {
   "cell_type": "code",
   "execution_count": null,
   "metadata": {},
   "outputs": [],
   "source": [
    "c1_average_subj_male_subj_pron['thanked'] = compute_average(IC2_connective1_18m,'he')\n",
    "c1_average_subj_male_obj_pron['thanked'] = compute_average(IC2_connective1_18m,'she')"
   ]
  },
  {
   "cell_type": "markdown",
   "metadata": {},
   "source": [
    "### verb: \"trusts\""
   ]
  },
  {
   "cell_type": "code",
   "execution_count": null,
   "metadata": {},
   "outputs": [],
   "source": [
    "IC2_connective1_19 = pd.read_csv(\"../results/IC2/connective1/19.csv\")\n",
    "IC2_connective1_19.head()"
   ]
  },
  {
   "cell_type": "code",
   "execution_count": null,
   "metadata": {},
   "outputs": [],
   "source": [
    "# female subject\n",
    "IC2_connective1_19f = IC2_connective1_19[0:12]\n",
    "IC2_connective1_19f = IC2_connective1_19f[[\"stimulus\",\"she\",\"he\"]]\n",
    "# male subject\n",
    "IC2_connective1_19m = IC2_connective1_19[12:24]"
   ]
  },
  {
   "cell_type": "markdown",
   "metadata": {},
   "source": [
    "#### female subject"
   ]
  },
  {
   "cell_type": "code",
   "execution_count": null,
   "metadata": {},
   "outputs": [],
   "source": [
    "IC2_connective1_19f"
   ]
  },
  {
   "cell_type": "code",
   "execution_count": null,
   "metadata": {},
   "outputs": [],
   "source": [
    "print(\"P('subj-pron'|subj=female) = \", compute_average(IC2_connective1_19f,'she'))\n",
    "print(\"P('non-subj-pron'|subj=female) = \", compute_average(IC2_connective1_19f,'he'))"
   ]
  },
  {
   "cell_type": "code",
   "execution_count": null,
   "metadata": {},
   "outputs": [],
   "source": [
    "c1_average_subj_female_subj_pron['trusts'] = compute_average(IC2_connective1_19f,'she')\n",
    "c1_average_subj_female_obj_pron['trusts'] = compute_average(IC2_connective1_19f,'he')"
   ]
  },
  {
   "cell_type": "markdown",
   "metadata": {},
   "source": [
    "#### male subject"
   ]
  },
  {
   "cell_type": "code",
   "execution_count": null,
   "metadata": {},
   "outputs": [],
   "source": [
    "IC2_connective1_19m"
   ]
  },
  {
   "cell_type": "code",
   "execution_count": null,
   "metadata": {},
   "outputs": [],
   "source": [
    "print(\"P('subj-pron'|subj=male) = \", compute_average(IC2_connective1_19m,'he'))\n",
    "print(\"P('non-subj-pron'|subj=male) = \", compute_average(IC2_connective1_19m,'she'))"
   ]
  },
  {
   "cell_type": "code",
   "execution_count": null,
   "metadata": {},
   "outputs": [],
   "source": [
    "c1_average_subj_male_subj_pron['trusts'] = compute_average(IC2_connective1_19m,'he')\n",
    "c1_average_subj_male_obj_pron['trusts'] = compute_average(IC2_connective1_19m,'she')"
   ]
  },
  {
   "cell_type": "markdown",
   "metadata": {},
   "source": [
    "### verb: \"values\""
   ]
  },
  {
   "cell_type": "code",
   "execution_count": null,
   "metadata": {},
   "outputs": [],
   "source": [
    "IC2_connective1_20 = pd.read_csv(\"../results/IC2/connective1/20.csv\")\n",
    "IC2_connective1_20.head()"
   ]
  },
  {
   "cell_type": "code",
   "execution_count": null,
   "metadata": {},
   "outputs": [],
   "source": [
    "# female subject\n",
    "IC2_connective1_20f = IC2_connective1_20[0:12]\n",
    "IC2_connective1_20f = IC2_connective1_20f[[\"stimulus\",\"she\",\"he\"]]\n",
    "# male subject\n",
    "IC2_connective1_20m = IC2_connective1_20[12:24]"
   ]
  },
  {
   "cell_type": "markdown",
   "metadata": {},
   "source": [
    "#### female subject"
   ]
  },
  {
   "cell_type": "code",
   "execution_count": null,
   "metadata": {},
   "outputs": [],
   "source": [
    "IC2_connective1_20f"
   ]
  },
  {
   "cell_type": "code",
   "execution_count": null,
   "metadata": {},
   "outputs": [],
   "source": [
    "print(\"P('subj-pron'|subj=female) = \", compute_average(IC2_connective1_20f,'she'))\n",
    "print(\"P('non-subj-pron'|subj=female) = \", compute_average(IC2_connective1_20f,'he'))"
   ]
  },
  {
   "cell_type": "code",
   "execution_count": null,
   "metadata": {},
   "outputs": [],
   "source": [
    "c1_average_subj_female_subj_pron['values'] = compute_average(IC2_connective1_20f,'she')\n",
    "c1_average_subj_female_obj_pron['values'] = compute_average(IC2_connective1_20f,'he')"
   ]
  },
  {
   "cell_type": "markdown",
   "metadata": {},
   "source": [
    "#### male subject"
   ]
  },
  {
   "cell_type": "code",
   "execution_count": null,
   "metadata": {},
   "outputs": [],
   "source": [
    "IC2_connective1_20m"
   ]
  },
  {
   "cell_type": "code",
   "execution_count": null,
   "metadata": {},
   "outputs": [],
   "source": [
    "print(\"P('subj-pron'|subj=male) = \", compute_average(IC2_connective1_20m,'he'))\n",
    "print(\"P('non-subj-pron'|subj=male) = \", compute_average(IC2_connective1_20m,'she'))"
   ]
  },
  {
   "cell_type": "code",
   "execution_count": null,
   "metadata": {},
   "outputs": [],
   "source": [
    "c1_average_subj_male_subj_pron['values'] = compute_average(IC2_connective1_20m,'he')\n",
    "c1_average_subj_male_obj_pron['values'] = compute_average(IC2_connective1_20m,'she')"
   ]
  },
  {
   "cell_type": "markdown",
   "metadata": {},
   "source": [
    "## Summary of Results"
   ]
  },
  {
   "cell_type": "code",
   "execution_count": null,
   "metadata": {
    "scrolled": true
   },
   "outputs": [],
   "source": [
    "c1_results_fsubj_subjpron = pd.DataFrame(list(c1_average_subj_female_subj_pron.items()),columns=['verb','subj_ref_female_subj'])\n",
    "c1_results_fsubj_objpron = pd.DataFrame(list(c1_average_subj_female_obj_pron.items()),columns=['verb','obj_ref_female_subj'])\n",
    "c1_results_fsubj = results_fsubj_subjpron.merge(results_fsubj_objpron)\n",
    "c1_results_fsubj"
   ]
  },
  {
   "cell_type": "code",
   "execution_count": null,
   "metadata": {},
   "outputs": [],
   "source": [
    "c1_results_msubj_subjpron = pd.DataFrame(list(c1_average_subj_male_subj_pron.items()),columns=['verb','subj_ref_male_subj'])\n",
    "c1_results_msubj_objpron = pd.DataFrame(list(c1_average_subj_male_obj_pron.items()),columns=['verb','obj_ref_male_subj'])\n",
    "c1_results_msubj = results_msubj_subjpron.merge(c1_results_msubj_objpron)\n",
    "c1_results_msubj\n"
   ]
  },
  {
   "cell_type": "code",
   "execution_count": null,
   "metadata": {
    "scrolled": true
   },
   "outputs": [],
   "source": [
    "c1_results = c1_results_fsubj.merge(c1_results_msubj)\n",
    "c1_results"
   ]
  },
  {
   "cell_type": "code",
   "execution_count": null,
   "metadata": {
    "scrolled": true
   },
   "outputs": [],
   "source": [
    "print(\"P(subj_reference |subj=female)\", compute_average(c1_results,'subj_ref_female_subj'))\n",
    "print(\"P(obj_reference |subj=female)\", compute_average(c1_results,'obj_ref_female_subj'))"
   ]
  },
  {
   "cell_type": "code",
   "execution_count": null,
   "metadata": {},
   "outputs": [],
   "source": [
    "print(\"P(subj_reference |subj=male)\", compute_average(c1_results,'subj_ref_male_subj'))\n",
    "print(\"P(obj_reference |subj=male)\", compute_average(c1_results,'obj_ref_male_subj'))"
   ]
  },
  {
   "cell_type": "markdown",
   "metadata": {},
   "source": [
    "## Connective: \"and, as a result\""
   ]
  },
  {
   "cell_type": "code",
   "execution_count": null,
   "metadata": {},
   "outputs": [],
   "source": [
    "c2_average_subj_female_subj_pron = {}\n",
    "c2_average_subj_female_obj_pron = {}\n",
    "c2_average_subj_male_subj_pron = {}\n",
    "c2_average_subj_male_obj_pron = {}"
   ]
  },
  {
   "cell_type": "markdown",
   "metadata": {},
   "source": [
    "### verb: \"assisted\""
   ]
  },
  {
   "cell_type": "code",
   "execution_count": null,
   "metadata": {},
   "outputs": [],
   "source": [
    "IC2_connective2_1 = pd.read_csv(\"../results/IC2/connective2/1.csv\")\n",
    "IC2_connective2_1.head()"
   ]
  },
  {
   "cell_type": "code",
   "execution_count": null,
   "metadata": {},
   "outputs": [],
   "source": [
    "# female subject\n",
    "IC2_connective2_1f = IC2_connective2_1[0:12]\n",
    "IC2_connective2_1f = IC2_connective2_1f[[\"stimulus\",\"she\",\"he\"]]\n",
    "# male subject\n",
    "IC2_connective2_1m = IC2_connective2_1[12:24]"
   ]
  },
  {
   "cell_type": "markdown",
   "metadata": {},
   "source": [
    "#### female subject"
   ]
  },
  {
   "cell_type": "code",
   "execution_count": null,
   "metadata": {},
   "outputs": [],
   "source": [
    "IC2_connective2_1f"
   ]
  },
  {
   "cell_type": "code",
   "execution_count": null,
   "metadata": {},
   "outputs": [],
   "source": [
    "print(\"P('subj-pron'|subj=female) = \", compute_average(IC2_connective2_1f,'she'))\n",
    "print(\"P('non-subj-pron'|subj=female) = \", compute_average(IC2_connective2_1f,'he'))"
   ]
  },
  {
   "cell_type": "code",
   "execution_count": null,
   "metadata": {},
   "outputs": [],
   "source": [
    "c2_average_subj_female_subj_pron['assisted'] = compute_average(IC2_connective2_1f,'she')\n",
    "c2_average_subj_female_obj_pron['assisted'] = compute_average(IC2_connective2_1f,'he')"
   ]
  },
  {
   "cell_type": "markdown",
   "metadata": {},
   "source": [
    "#### male subject"
   ]
  },
  {
   "cell_type": "code",
   "execution_count": null,
   "metadata": {},
   "outputs": [],
   "source": [
    "IC2_connective2_1m"
   ]
  },
  {
   "cell_type": "code",
   "execution_count": null,
   "metadata": {},
   "outputs": [],
   "source": [
    "print(\"P('subj-pron'|subj=male) = \", compute_average(IC2_connective2_1m,'he'))\n",
    "print(\"P('non-subj-pron'|subj=male) = \", compute_average(IC2_connective2_1m,'she'))"
   ]
  },
  {
   "cell_type": "code",
   "execution_count": null,
   "metadata": {},
   "outputs": [],
   "source": [
    "c2_average_subj_male_subj_pron['assisted'] = compute_average(IC2_connective2_1m,'he')\n",
    "c2_average_subj_male_obj_pron['assisted'] = compute_average(IC2_connective2_1m,'she')"
   ]
  },
  {
   "cell_type": "markdown",
   "metadata": {},
   "source": [
    "### verb: \"blames\""
   ]
  },
  {
   "cell_type": "code",
   "execution_count": null,
   "metadata": {},
   "outputs": [],
   "source": [
    "IC2_connective2_2 = pd.read_csv(\"../results/IC2/connective2/2.csv\")\n",
    "IC2_connective2_2.head()"
   ]
  },
  {
   "cell_type": "code",
   "execution_count": null,
   "metadata": {},
   "outputs": [],
   "source": [
    "# female subject\n",
    "IC2_connective2_2f = IC2_connective2_2[0:12]\n",
    "IC2_connective2_2f = IC2_connective2_2f[[\"stimulus\",\"she\",\"he\"]]\n",
    "# male subject\n",
    "IC2_connective2_2m = IC2_connective2_2[12:24]"
   ]
  },
  {
   "cell_type": "markdown",
   "metadata": {},
   "source": [
    "#### female subject"
   ]
  },
  {
   "cell_type": "code",
   "execution_count": null,
   "metadata": {},
   "outputs": [],
   "source": [
    "IC2_connective2_2f"
   ]
  },
  {
   "cell_type": "code",
   "execution_count": null,
   "metadata": {},
   "outputs": [],
   "source": [
    "print(\"P('subj-pron'|subj=female) = \", compute_average(IC2_connective2_2f,'she'))\n",
    "print(\"P('non-subj-pron'|subj=female) = \", compute_average(IC2_connective2_2f,'he'))"
   ]
  },
  {
   "cell_type": "code",
   "execution_count": null,
   "metadata": {},
   "outputs": [],
   "source": [
    "c2_average_subj_female_subj_pron['blames'] = compute_average(IC2_connective2_2f,'she')\n",
    "c2_average_subj_female_obj_pron['blames'] = compute_average(IC2_connective2_2f,'he')"
   ]
  },
  {
   "cell_type": "markdown",
   "metadata": {},
   "source": [
    "#### male subject"
   ]
  },
  {
   "cell_type": "code",
   "execution_count": null,
   "metadata": {},
   "outputs": [],
   "source": [
    "IC2_connective2_2m"
   ]
  },
  {
   "cell_type": "code",
   "execution_count": null,
   "metadata": {},
   "outputs": [],
   "source": [
    "print(\"P('subj-pron'|subj=male) = \", compute_average(IC2_connective2_2m,'he'))\n",
    "print(\"P('non-subj-pron'|subj=male) = \", compute_average(IC2_connective2_2m,'she'))"
   ]
  },
  {
   "cell_type": "code",
   "execution_count": null,
   "metadata": {},
   "outputs": [],
   "source": [
    "c2_average_subj_male_subj_pron['blames'] = compute_average(IC2_connective2_2m,'he')\n",
    "c2_average_subj_male_obj_pron['blames'] = compute_average(IC2_connective2_2m,'she')"
   ]
  },
  {
   "cell_type": "markdown",
   "metadata": {},
   "source": [
    "### verb: \"comforted\""
   ]
  },
  {
   "cell_type": "code",
   "execution_count": null,
   "metadata": {},
   "outputs": [],
   "source": [
    "IC2_connective2_3 = pd.read_csv(\"../results/IC2/connective2/3.csv\")\n",
    "IC2_connective2_3.head()"
   ]
  },
  {
   "cell_type": "code",
   "execution_count": null,
   "metadata": {},
   "outputs": [],
   "source": [
    "# female subject\n",
    "IC2_connective2_3f = IC2_connective2_3[0:12]\n",
    "IC2_connective2_3f = IC2_connective2_3f[[\"stimulus\",\"she\",\"he\"]]\n",
    "# male subject\n",
    "IC2_connective2_3m = IC2_connective2_3[12:24]"
   ]
  },
  {
   "cell_type": "markdown",
   "metadata": {},
   "source": [
    "#### female subject"
   ]
  },
  {
   "cell_type": "code",
   "execution_count": null,
   "metadata": {},
   "outputs": [],
   "source": [
    "print(\"P('subj-pron'|subj=female) = \", compute_average(IC2_connective2_3f,'she'))\n",
    "print(\"P('non-subj-pron'|subj=female) = \", compute_average(IC2_connective2_3f,'he'))"
   ]
  },
  {
   "cell_type": "code",
   "execution_count": null,
   "metadata": {},
   "outputs": [],
   "source": [
    "c2_average_subj_female_subj_pron['comforted'] = compute_average(IC2_connective2_3f,'she')\n",
    "c2_average_subj_female_obj_pron['comforted'] = compute_average(IC2_connective2_3f,'he')"
   ]
  },
  {
   "cell_type": "markdown",
   "metadata": {},
   "source": [
    "#### male subject"
   ]
  },
  {
   "cell_type": "code",
   "execution_count": null,
   "metadata": {},
   "outputs": [],
   "source": [
    "IC2_connective2_3m"
   ]
  },
  {
   "cell_type": "code",
   "execution_count": null,
   "metadata": {},
   "outputs": [],
   "source": [
    "print(\"P('subj-pron'|subj=male) = \", compute_average(IC2_connective2_3m,'he'))\n",
    "print(\"P('non-subj-pron'|subj=male) = \", compute_average(IC2_connective2_3m,'she'))"
   ]
  },
  {
   "cell_type": "code",
   "execution_count": null,
   "metadata": {},
   "outputs": [],
   "source": [
    "c2_average_subj_male_subj_pron['comforted'] = compute_average(IC2_connective2_3m,'he')\n",
    "c2_average_subj_male_obj_pron['comforted'] = compute_average(IC2_connective2_3m,'she')"
   ]
  },
  {
   "cell_type": "markdown",
   "metadata": {},
   "source": [
    "### verb: \"congratulated\""
   ]
  },
  {
   "cell_type": "code",
   "execution_count": null,
   "metadata": {},
   "outputs": [],
   "source": [
    "IC2_connective2_4 = pd.read_csv(\"../results/IC2/connective2/4.csv\")\n",
    "IC2_connective2_4.head()"
   ]
  },
  {
   "cell_type": "code",
   "execution_count": null,
   "metadata": {},
   "outputs": [],
   "source": [
    "# female subject\n",
    "IC2_connective2_4f = IC2_connective2_4[0:12]\n",
    "IC2_connective2_4f = IC2_connective2_4f[[\"stimulus\",\"she\",\"he\"]]\n",
    "# male subject\n",
    "IC2_connective2_4m = IC2_connective2_4[12:24]"
   ]
  },
  {
   "cell_type": "markdown",
   "metadata": {},
   "source": [
    "#### female subject"
   ]
  },
  {
   "cell_type": "code",
   "execution_count": null,
   "metadata": {},
   "outputs": [],
   "source": [
    "IC2_connective2_4f"
   ]
  },
  {
   "cell_type": "code",
   "execution_count": null,
   "metadata": {},
   "outputs": [],
   "source": [
    "print(\"P('subj-pron'|subj=female) = \", compute_average(IC2_connective2_4f,'she'))\n",
    "print(\"P('non-subj-pron'|subj=female) = \", compute_average(IC2_connective2_4f,'he'))"
   ]
  },
  {
   "cell_type": "code",
   "execution_count": null,
   "metadata": {},
   "outputs": [],
   "source": [
    "c2_average_subj_female_subj_pron['congratulated'] = compute_average(IC2_connective2_4f,'she')\n",
    "c2_average_subj_female_obj_pron['congratulated'] = compute_average(IC2_connective2_4f,'he')"
   ]
  },
  {
   "cell_type": "markdown",
   "metadata": {},
   "source": [
    "#### male subject"
   ]
  },
  {
   "cell_type": "code",
   "execution_count": null,
   "metadata": {},
   "outputs": [],
   "source": [
    "IC2_connective1_4m"
   ]
  },
  {
   "cell_type": "code",
   "execution_count": null,
   "metadata": {},
   "outputs": [],
   "source": [
    "print(\"P('subj-pron'|subj=male) = \", compute_average(IC2_connective2_4m,'he'))\n",
    "print(\"P('non-subj-pron'|subj=male) = \", compute_average(IC2_connective2_4m,'she'))"
   ]
  },
  {
   "cell_type": "code",
   "execution_count": null,
   "metadata": {},
   "outputs": [],
   "source": [
    "c2_average_subj_male_subj_pron['congratulated'] = compute_average(IC2_connective2_4m,'he')\n",
    "c2_average_subj_male_obj_pron['congratulated'] = compute_average(IC2_connective2_4m,'she')"
   ]
  },
  {
   "cell_type": "markdown",
   "metadata": {},
   "source": [
    "### verb: \"corrected\""
   ]
  },
  {
   "cell_type": "code",
   "execution_count": null,
   "metadata": {},
   "outputs": [],
   "source": [
    "IC2_connective2_5 = pd.read_csv(\"../results/IC2/connective2/5.csv\")\n",
    "IC2_connective2_5.head()"
   ]
  },
  {
   "cell_type": "code",
   "execution_count": null,
   "metadata": {},
   "outputs": [],
   "source": [
    "# female subject\n",
    "IC2_connective2_5f = IC2_connective2_5[0:12]\n",
    "IC2_connective2_5f = IC2_connective2_5[[\"stimulus\",\"she\",\"he\"]]\n",
    "# male subject\n",
    "IC2_connective2_5m = IC2_connective2_5[12:24]"
   ]
  },
  {
   "cell_type": "markdown",
   "metadata": {},
   "source": [
    "#### female subject"
   ]
  },
  {
   "cell_type": "code",
   "execution_count": null,
   "metadata": {},
   "outputs": [],
   "source": [
    "print(\"P('subj-pron'|subj=female) = \", compute_average(IC2_connective2_5f,'she'))\n",
    "print(\"P('non-subj-pron'|subj=female) = \", compute_average(IC2_connective2_5f,'he'))"
   ]
  },
  {
   "cell_type": "code",
   "execution_count": null,
   "metadata": {},
   "outputs": [],
   "source": [
    "c2_average_subj_female_subj_pron['corrected'] = compute_average(IC2_connective2_5f,'she')\n",
    "c2_average_subj_female_obj_pron['corrected'] = compute_average(IC2_connective2_5f,'he')"
   ]
  },
  {
   "cell_type": "markdown",
   "metadata": {},
   "source": [
    "#### male subject"
   ]
  },
  {
   "cell_type": "code",
   "execution_count": null,
   "metadata": {},
   "outputs": [],
   "source": [
    "IC2_connective2_5m"
   ]
  },
  {
   "cell_type": "code",
   "execution_count": null,
   "metadata": {},
   "outputs": [],
   "source": [
    "print(\"P('subj-pron'|subj=male) = \", compute_average(IC2_connective2_5m,'he'))\n",
    "print(\"P('non-subj-pron'|subj=male) = \", compute_average(IC2_connective2_5m,'she'))"
   ]
  },
  {
   "cell_type": "code",
   "execution_count": null,
   "metadata": {},
   "outputs": [],
   "source": [
    "c2_average_subj_male_subj_pron['corrected'] = compute_average(IC2_connective2_5m,'he')\n",
    "c2_average_subj_male_obj_pron['corrected'] = compute_average(IC2_connective2_5m,'she')"
   ]
  },
  {
   "cell_type": "markdown",
   "metadata": {},
   "source": [
    "### verb: \"detests\""
   ]
  },
  {
   "cell_type": "code",
   "execution_count": null,
   "metadata": {},
   "outputs": [],
   "source": [
    "IC2_connective2_6 = pd.read_csv(\"../results/IC2/connective2/6.csv\")\n",
    "IC2_connective2_6.head()"
   ]
  },
  {
   "cell_type": "code",
   "execution_count": null,
   "metadata": {},
   "outputs": [],
   "source": [
    "# female subject\n",
    "IC2_connective2_6f = IC2_connective2_6[0:12]\n",
    "IC2_connective2_6f = IC2_connective2_6[[\"stimulus\",\"she\",\"he\"]]\n",
    "# male subject\n",
    "IC2_connective2_6m = IC2_connective2_6[12:24]"
   ]
  },
  {
   "cell_type": "markdown",
   "metadata": {},
   "source": [
    "#### female subject"
   ]
  },
  {
   "cell_type": "code",
   "execution_count": null,
   "metadata": {},
   "outputs": [],
   "source": [
    "IC2_connective2_6f"
   ]
  },
  {
   "cell_type": "code",
   "execution_count": null,
   "metadata": {},
   "outputs": [],
   "source": [
    "print(\"P('subj-pron'|subj=female) = \", compute_average(IC2_connective2_6f,'she'))\n",
    "print(\"P('non-subj-pron'|subj=female) = \", compute_average(IC2_connective2_6f,'he'))"
   ]
  },
  {
   "cell_type": "code",
   "execution_count": null,
   "metadata": {},
   "outputs": [],
   "source": [
    "c2_average_subj_female_subj_pron['detests'] = compute_average(IC2_connective2_6f,'she')\n",
    "c2_average_subj_female_obj_pron['detests'] = compute_average(IC2_connective2_6f,'he')"
   ]
  },
  {
   "cell_type": "markdown",
   "metadata": {},
   "source": [
    "#### male subject"
   ]
  },
  {
   "cell_type": "code",
   "execution_count": null,
   "metadata": {},
   "outputs": [],
   "source": [
    "IC2_connective2_6m"
   ]
  },
  {
   "cell_type": "code",
   "execution_count": null,
   "metadata": {},
   "outputs": [],
   "source": [
    "print(\"P('subj-pron'|subj=male) = \", compute_average(IC2_connective2_6m,'he'))\n",
    "print(\"P('non-subj-pron'|subj=male) = \", compute_average(IC2_connective2_6m,'she'))"
   ]
  },
  {
   "cell_type": "code",
   "execution_count": null,
   "metadata": {},
   "outputs": [],
   "source": [
    "c2_average_subj_male_subj_pron['detests'] = compute_average(IC2_connective2_6m,'he')\n",
    "c2_average_subj_male_obj_pron['detests'] = compute_average(IC2_connective2_6m,'she')"
   ]
  },
  {
   "cell_type": "markdown",
   "metadata": {},
   "source": [
    "### verb: \"fears\""
   ]
  },
  {
   "cell_type": "code",
   "execution_count": null,
   "metadata": {},
   "outputs": [],
   "source": [
    "IC2_connective2_7 = pd.read_csv(\"../results/IC2/connective2/7.csv\")\n",
    "IC2_connective2_7.head()"
   ]
  },
  {
   "cell_type": "code",
   "execution_count": null,
   "metadata": {},
   "outputs": [],
   "source": [
    "# female subject\n",
    "IC2_connective2_7f = IC2_connective2_7[0:12]\n",
    "IC2_connective2_7f = IC2_connective2_7f[[\"stimulus\",\"she\",\"he\"]]\n",
    "# male subject\n",
    "IC2_connective2_7m = IC2_connective2_7[12:24]"
   ]
  },
  {
   "cell_type": "markdown",
   "metadata": {},
   "source": [
    "#### female subject"
   ]
  },
  {
   "cell_type": "code",
   "execution_count": null,
   "metadata": {},
   "outputs": [],
   "source": [
    "IC2_connective2_7f"
   ]
  },
  {
   "cell_type": "code",
   "execution_count": null,
   "metadata": {},
   "outputs": [],
   "source": [
    "print(\"P('subj-pron'|subj=female) = \", compute_average(IC2_connective2_7f,'she'))\n",
    "print(\"P('non-subj-pron'|subj=female) = \", compute_average(IC2_connective2_7f,'he'))"
   ]
  },
  {
   "cell_type": "code",
   "execution_count": null,
   "metadata": {},
   "outputs": [],
   "source": [
    "c2_average_subj_female_subj_pron['fears'] = compute_average(IC2_connective2_7f,'she')\n",
    "c2_average_subj_female_obj_pron['fears'] = compute_average(IC2_connective2_7f,'he')"
   ]
  },
  {
   "cell_type": "markdown",
   "metadata": {},
   "source": [
    "#### male subject"
   ]
  },
  {
   "cell_type": "code",
   "execution_count": null,
   "metadata": {},
   "outputs": [],
   "source": [
    "IC2_connective2_7m"
   ]
  },
  {
   "cell_type": "code",
   "execution_count": null,
   "metadata": {},
   "outputs": [],
   "source": [
    "print(\"P('subj-pron'|subj=male) = \", compute_average(IC2_connective2_7m,'he'))\n",
    "print(\"P('non-subj-pron'|subj=male) = \", compute_average(IC2_connective2_7m,'she'))"
   ]
  },
  {
   "cell_type": "code",
   "execution_count": null,
   "metadata": {},
   "outputs": [],
   "source": [
    "c2_average_subj_male_subj_pron['fears'] = compute_average(IC2_connective2_7m,'he')\n",
    "c2_average_subj_male_obj_pron['fears'] = compute_average(IC2_connective2_7m,'she')"
   ]
  },
  {
   "cell_type": "markdown",
   "metadata": {},
   "source": [
    "#### verb: \"envies\""
   ]
  },
  {
   "cell_type": "code",
   "execution_count": null,
   "metadata": {},
   "outputs": [],
   "source": [
    "IC2_connective2_8 = pd.read_csv(\"../results/IC2/connective2/8.csv\")\n",
    "IC2_connective2_8.head()"
   ]
  },
  {
   "cell_type": "code",
   "execution_count": null,
   "metadata": {},
   "outputs": [],
   "source": [
    "# female subject\n",
    "IC2_connective2_8f = IC2_connective2_8[0:12]\n",
    "IC2_connective2_8f = IC2_connective2_8f[[\"stimulus\",\"she\",\"he\"]]\n",
    "# male subject\n",
    "IC2_connective2_8m = IC2_connective2_8[12:24]"
   ]
  },
  {
   "cell_type": "markdown",
   "metadata": {},
   "source": [
    "#### female subject"
   ]
  },
  {
   "cell_type": "code",
   "execution_count": null,
   "metadata": {
    "scrolled": true
   },
   "outputs": [],
   "source": [
    "IC2_connective2_8f"
   ]
  },
  {
   "cell_type": "code",
   "execution_count": null,
   "metadata": {
    "scrolled": true
   },
   "outputs": [],
   "source": [
    "print(\"P('subj-pron'|subj=female) = \", compute_average(IC2_connective2_8f,'she'))\n",
    "print(\"P('non-subj-pron'|subj=female) = \", compute_average(IC2_connective2_8f,'he'))"
   ]
  },
  {
   "cell_type": "code",
   "execution_count": null,
   "metadata": {},
   "outputs": [],
   "source": [
    "c2_average_subj_female_subj_pron['envies'] = compute_average(IC2_connective2_8f,'she')\n",
    "c2_average_subj_female_obj_pron['envies'] = compute_average(IC2_connective2_8f,'he')"
   ]
  },
  {
   "cell_type": "markdown",
   "metadata": {},
   "source": [
    "#### male subject"
   ]
  },
  {
   "cell_type": "code",
   "execution_count": null,
   "metadata": {},
   "outputs": [],
   "source": [
    "IC2_connective2_8m"
   ]
  },
  {
   "cell_type": "code",
   "execution_count": null,
   "metadata": {},
   "outputs": [],
   "source": [
    "print(\"P('subj-pron'|subj=male) = \", compute_average(IC2_connective2_8m,'he'))\n",
    "print(\"P('non-subj-pron'|subj=male) = \", compute_average(IC2_connective2_8m,'she'))"
   ]
  },
  {
   "cell_type": "code",
   "execution_count": null,
   "metadata": {},
   "outputs": [],
   "source": [
    "c2_average_subj_male_subj_pron['envies'] = compute_average(IC2_connective2_8m,'he')\n",
    "c2_average_subj_male_obj_pron['envies'] = compute_average(IC2_connective2_8m,'she')"
   ]
  },
  {
   "cell_type": "markdown",
   "metadata": {},
   "source": [
    "### verb: \"hates\""
   ]
  },
  {
   "cell_type": "code",
   "execution_count": null,
   "metadata": {},
   "outputs": [],
   "source": [
    "IC2_connective2_9 = pd.read_csv(\"../results/IC2/connective2/9.csv\")\n",
    "IC2_connective2_9.head()"
   ]
  },
  {
   "cell_type": "code",
   "execution_count": null,
   "metadata": {},
   "outputs": [],
   "source": [
    "# female subject\n",
    "IC2_connective2_9f = IC2_connective2_9[0:12]\n",
    "IC2_connective2_9f = IC2_connective2_9f[[\"stimulus\",\"she\",\"he\"]]\n",
    "# male subject\n",
    "IC2_connective2_9m = IC2_connective2_9[12:24]"
   ]
  },
  {
   "cell_type": "markdown",
   "metadata": {},
   "source": [
    "#### female subject"
   ]
  },
  {
   "cell_type": "code",
   "execution_count": null,
   "metadata": {},
   "outputs": [],
   "source": [
    "IC2_connective2_9f"
   ]
  },
  {
   "cell_type": "code",
   "execution_count": null,
   "metadata": {},
   "outputs": [],
   "source": [
    "print(\"P('subj-pron'|subj=female) = \", compute_average(IC2_connective2_9f,'she'))\n",
    "print(\"P('non-subj-pron'|subj=female) = \", compute_average(IC2_connective2_9f,'he'))"
   ]
  },
  {
   "cell_type": "code",
   "execution_count": null,
   "metadata": {},
   "outputs": [],
   "source": [
    "c2_average_subj_female_subj_pron['hates'] = compute_average(IC2_connective2_9f,'she')\n",
    "c2_average_subj_female_obj_pron['hates'] = compute_average(IC2_connective2_9f,'he')"
   ]
  },
  {
   "cell_type": "markdown",
   "metadata": {},
   "source": [
    "#### male subject"
   ]
  },
  {
   "cell_type": "code",
   "execution_count": null,
   "metadata": {},
   "outputs": [],
   "source": [
    "IC2_connective2_9m"
   ]
  },
  {
   "cell_type": "code",
   "execution_count": null,
   "metadata": {},
   "outputs": [],
   "source": [
    "print(\"P('subj-pron'|subj=male) = \", compute_average(IC2_connective2_9m,'he'))\n",
    "print(\"P('non-subj-pron'|subj=male) = \", compute_average(IC2_connective2_9m,'she'))"
   ]
  },
  {
   "cell_type": "code",
   "execution_count": null,
   "metadata": {},
   "outputs": [],
   "source": [
    "c2_average_subj_male_subj_pron['hates'] = compute_average(IC2_connective2_9m,'he')\n",
    "c2_average_subj_male_obj_pron['hates'] = compute_average(IC2_connective2_9m,'she')"
   ]
  },
  {
   "cell_type": "markdown",
   "metadata": {},
   "source": [
    "### verb: \"helped\""
   ]
  },
  {
   "cell_type": "code",
   "execution_count": null,
   "metadata": {},
   "outputs": [],
   "source": [
    "IC2_connective2_10 = pd.read_csv(\"../results/IC2/connective2/10.csv\")\n",
    "IC2_connective2_10.head()"
   ]
  },
  {
   "cell_type": "code",
   "execution_count": null,
   "metadata": {},
   "outputs": [],
   "source": [
    "# female subject\n",
    "IC2_connective2_10f = IC2_connective2_10[0:12]\n",
    "IC2_connective2_10f = IC2_connective2_10f[[\"stimulus\",\"she\",\"he\"]]\n",
    "# male subject\n",
    "IC2_connective2_10m = IC2_connective2_10[12:24]"
   ]
  },
  {
   "cell_type": "markdown",
   "metadata": {},
   "source": [
    "#### female subject"
   ]
  },
  {
   "cell_type": "code",
   "execution_count": null,
   "metadata": {},
   "outputs": [],
   "source": [
    "IC2_connective2_10f"
   ]
  },
  {
   "cell_type": "code",
   "execution_count": null,
   "metadata": {},
   "outputs": [],
   "source": [
    "print(\"P('subj-pron'|subj=female) = \", compute_average(IC2_connective2_10f,'she'))\n",
    "print(\"P('non-subj-pron'|subj=female) = \", compute_average(IC2_connective2_10f,'he'))"
   ]
  },
  {
   "cell_type": "code",
   "execution_count": null,
   "metadata": {},
   "outputs": [],
   "source": [
    "c2_average_subj_female_subj_pron['helped'] = compute_average(IC2_connective2_10f,'she')\n",
    "c2_average_subj_female_obj_pron['helped'] = compute_average(IC2_connective2_10f,'he')"
   ]
  },
  {
   "cell_type": "markdown",
   "metadata": {},
   "source": [
    "#### male subject"
   ]
  },
  {
   "cell_type": "code",
   "execution_count": null,
   "metadata": {},
   "outputs": [],
   "source": [
    "IC2_connective2_10m"
   ]
  },
  {
   "cell_type": "code",
   "execution_count": null,
   "metadata": {},
   "outputs": [],
   "source": [
    "print(\"P('subj-pron'|subj=male) = \", compute_average(IC2_connective2_10m,'he'))\n",
    "print(\"P('non-subj-pron'|subj=male) = \", compute_average(IC2_connective2_10m,'she'))"
   ]
  },
  {
   "cell_type": "code",
   "execution_count": null,
   "metadata": {},
   "outputs": [],
   "source": [
    "c2_average_subj_male_subj_pron['helped'] = compute_average(IC2_connective2_10m,'he')\n",
    "c2_average_subj_male_obj_pron['helped'] = compute_average(IC2_connective2_10m,'she')"
   ]
  },
  {
   "cell_type": "markdown",
   "metadata": {},
   "source": [
    "### verb: \"mocked\""
   ]
  },
  {
   "cell_type": "code",
   "execution_count": null,
   "metadata": {},
   "outputs": [],
   "source": [
    "IC2_connective2_11 = pd.read_csv(\"../results/IC2/connective2/11.csv\")\n",
    "IC2_connective2_11.head()"
   ]
  },
  {
   "cell_type": "code",
   "execution_count": null,
   "metadata": {},
   "outputs": [],
   "source": [
    "# female subject\n",
    "IC2_connective2_11f = IC2_connective2_11[0:12]\n",
    "IC2_connective2_11f = IC2_connective2_11f[[\"stimulus\",\"she\",\"he\"]]\n",
    "# male subject\n",
    "IC2_connective2_11m = IC2_connective2_11[12:24]"
   ]
  },
  {
   "cell_type": "markdown",
   "metadata": {},
   "source": [
    "#### female subject"
   ]
  },
  {
   "cell_type": "code",
   "execution_count": null,
   "metadata": {},
   "outputs": [],
   "source": [
    "IC2_connective2_11f"
   ]
  },
  {
   "cell_type": "code",
   "execution_count": null,
   "metadata": {},
   "outputs": [],
   "source": [
    "print(\"P('subj-pron'|subj=female) = \", compute_average(IC2_connective2_11f,'she'))\n",
    "print(\"P('non-subj-pron'|subj=female) = \", compute_average(IC2_connective2_11f,'he'))"
   ]
  },
  {
   "cell_type": "code",
   "execution_count": null,
   "metadata": {},
   "outputs": [],
   "source": [
    "c2_average_subj_female_subj_pron['mocked'] = compute_average(IC2_connective2_11f,'she')\n",
    "c2_average_subj_female_obj_pron['mocked'] = compute_average(IC2_connective2_11f,'he')"
   ]
  },
  {
   "cell_type": "markdown",
   "metadata": {},
   "source": [
    "#### male subject"
   ]
  },
  {
   "cell_type": "code",
   "execution_count": null,
   "metadata": {},
   "outputs": [],
   "source": [
    "IC2_connective2_11m"
   ]
  },
  {
   "cell_type": "code",
   "execution_count": null,
   "metadata": {},
   "outputs": [],
   "source": [
    "print(\"P('subj-pron'|subj=male) = \", compute_average(IC2_connective2_11m,'he'))\n",
    "print(\"P('non-subj-pron'|subj=male) = \", compute_average(IC2_connective2_11m,'she'))"
   ]
  },
  {
   "cell_type": "code",
   "execution_count": null,
   "metadata": {},
   "outputs": [],
   "source": [
    "c2_average_subj_male_subj_pron['mocked'] = compute_average(IC2_connective2_11m,'he')\n",
    "c2_average_subj_male_obj_pron['mocked'] = compute_average(IC2_connective2_11m,'she')"
   ]
  },
  {
   "cell_type": "markdown",
   "metadata": {},
   "source": [
    "### verb: \"noticed\""
   ]
  },
  {
   "cell_type": "code",
   "execution_count": null,
   "metadata": {},
   "outputs": [],
   "source": [
    "IC2_connective2_12 = pd.read_csv(\"../results/IC2/connective2/12.csv\")\n",
    "IC2_connective2_12.head()"
   ]
  },
  {
   "cell_type": "code",
   "execution_count": null,
   "metadata": {},
   "outputs": [],
   "source": [
    "# female subject\n",
    "IC2_connective2_12f = IC2_connective2_12[0:12]\n",
    "IC2_connective2_12f = IC2_connective2_12f[[\"stimulus\",\"she\",\"he\"]]\n",
    "# male subject\n",
    "IC2_connective2_12m = IC2_connective2_12[12:24]"
   ]
  },
  {
   "cell_type": "markdown",
   "metadata": {},
   "source": [
    "#### female subject"
   ]
  },
  {
   "cell_type": "code",
   "execution_count": null,
   "metadata": {},
   "outputs": [],
   "source": [
    "IC2_connective2_12f"
   ]
  },
  {
   "cell_type": "code",
   "execution_count": null,
   "metadata": {},
   "outputs": [],
   "source": [
    "print(\"P('subj-pron'|subj=female) = \", compute_average(IC2_connective2_12f,'she'))\n",
    "print(\"P('non-subj-pron'|subj=female) = \", compute_average(IC2_connective2_12f,'he'))"
   ]
  },
  {
   "cell_type": "code",
   "execution_count": null,
   "metadata": {},
   "outputs": [],
   "source": [
    "c2_average_subj_female_subj_pron['noticed'] = compute_average(IC2_connective2_12f,'she')\n",
    "c2_average_subj_female_obj_pron['noticed'] = compute_average(IC2_connective2_12f,'he')"
   ]
  },
  {
   "cell_type": "markdown",
   "metadata": {},
   "source": [
    "#### male subject"
   ]
  },
  {
   "cell_type": "code",
   "execution_count": null,
   "metadata": {},
   "outputs": [],
   "source": [
    "IC2_connective2_12m"
   ]
  },
  {
   "cell_type": "code",
   "execution_count": null,
   "metadata": {},
   "outputs": [],
   "source": [
    "print(\"P('subj-pron'|subj=male) = \", compute_average(IC2_connective2_12m,'he'))\n",
    "print(\"P('non-subj-pron'|subj=male) = \", compute_average(IC2_connective2_12m,'she'))"
   ]
  },
  {
   "cell_type": "code",
   "execution_count": null,
   "metadata": {},
   "outputs": [],
   "source": [
    "c2_average_subj_male_subj_pron['noticed'] = compute_average(IC2_connective2_12m,'he')\n",
    "c2_average_subj_male_obj_pron['noticed'] = compute_average(IC2_connective2_12m,'she')"
   ]
  },
  {
   "cell_type": "markdown",
   "metadata": {},
   "source": [
    "### verb: \"pacified\""
   ]
  },
  {
   "cell_type": "code",
   "execution_count": null,
   "metadata": {},
   "outputs": [],
   "source": [
    "IC2_connective2_13 = pd.read_csv(\"../results/IC2/connective2/13.csv\")\n",
    "IC2_connective2_13.head()"
   ]
  },
  {
   "cell_type": "code",
   "execution_count": null,
   "metadata": {},
   "outputs": [],
   "source": [
    "# female subject\n",
    "IC2_connective2_13f = IC2_connective2_13[0:12]\n",
    "IC2_connective2_13f = IC2_connective2_13f[[\"stimulus\",\"she\",\"he\"]]\n",
    "# male subject\n",
    "IC2_connective2_13m = IC2_connective2_13[12:24]"
   ]
  },
  {
   "cell_type": "markdown",
   "metadata": {},
   "source": [
    "#### female subject"
   ]
  },
  {
   "cell_type": "code",
   "execution_count": null,
   "metadata": {},
   "outputs": [],
   "source": [
    "IC2_connective2_13f"
   ]
  },
  {
   "cell_type": "code",
   "execution_count": null,
   "metadata": {},
   "outputs": [],
   "source": [
    "print(\"P('subj-pron'|subj=female) = \", compute_average(IC2_connective2_13f,'she'))\n",
    "print(\"P('non-subj-pron'|subj=female) = \", compute_average(IC2_connective2_13f,'he'))"
   ]
  },
  {
   "cell_type": "code",
   "execution_count": null,
   "metadata": {},
   "outputs": [],
   "source": [
    "c2_average_subj_female_subj_pron['pacified'] = compute_average(IC2_connective2_13f,'she')\n",
    "c2_average_subj_female_obj_pron['pacified'] = compute_average(IC2_connective2_13f,'he')"
   ]
  },
  {
   "cell_type": "markdown",
   "metadata": {},
   "source": [
    "#### male subject"
   ]
  },
  {
   "cell_type": "code",
   "execution_count": null,
   "metadata": {},
   "outputs": [],
   "source": [
    "IC2_connective2_13m"
   ]
  },
  {
   "cell_type": "code",
   "execution_count": null,
   "metadata": {},
   "outputs": [],
   "source": [
    "print(\"P('subj-pron'|subj=male) = \", compute_average(IC2_connective2_13m,'he'))\n",
    "print(\"P('non-subj-pron'|subj=male) = \", compute_average(IC2_connective2_13m,'she'))"
   ]
  },
  {
   "cell_type": "code",
   "execution_count": null,
   "metadata": {},
   "outputs": [],
   "source": [
    "c2_average_subj_male_subj_pron['pacified'] = compute_average(IC2_connective1_13m,'he')\n",
    "c2_average_subj_male_obj_pron['pacified'] = compute_average(IC2_connective1_13m,'she')"
   ]
  },
  {
   "cell_type": "markdown",
   "metadata": {},
   "source": [
    "### verb: \"praised\""
   ]
  },
  {
   "cell_type": "code",
   "execution_count": null,
   "metadata": {},
   "outputs": [],
   "source": [
    "IC2_connective2_14 = pd.read_csv(\"../results/IC2/connective2/14.csv\")\n",
    "IC2_connective2_14.head()"
   ]
  },
  {
   "cell_type": "code",
   "execution_count": null,
   "metadata": {},
   "outputs": [],
   "source": [
    "# female subject\n",
    "IC2_connective2_14f = IC2_connective2_14[0:12]\n",
    "IC2_connective2_14f = IC2_connective2_14f[[\"stimulus\",\"she\",\"he\"]]\n",
    "# male subject\n",
    "IC2_connective2_14m = IC2_connective2_14[12:24]"
   ]
  },
  {
   "cell_type": "markdown",
   "metadata": {},
   "source": [
    "#### female subject"
   ]
  },
  {
   "cell_type": "code",
   "execution_count": null,
   "metadata": {},
   "outputs": [],
   "source": [
    "IC2_connective2_14f"
   ]
  },
  {
   "cell_type": "code",
   "execution_count": null,
   "metadata": {},
   "outputs": [],
   "source": [
    "print(\"P('subj-pron'|subj=female) = \", compute_average(IC2_connective2_14f,'she'))\n",
    "print(\"P('non-subj-pron'|subj=female) = \", compute_average(IC2_connective2_14f,'he'))"
   ]
  },
  {
   "cell_type": "code",
   "execution_count": null,
   "metadata": {},
   "outputs": [],
   "source": [
    "c2_average_subj_female_subj_pron['praised'] = compute_average(IC2_connective2_14f,'she')\n",
    "c2_average_subj_female_obj_pron['praised'] = compute_average(IC2_connective2_14f,'he')"
   ]
  },
  {
   "cell_type": "markdown",
   "metadata": {},
   "source": [
    "#### male subject"
   ]
  },
  {
   "cell_type": "code",
   "execution_count": null,
   "metadata": {},
   "outputs": [],
   "source": [
    "IC2_connective2_14m"
   ]
  },
  {
   "cell_type": "code",
   "execution_count": null,
   "metadata": {},
   "outputs": [],
   "source": [
    "print(\"P('subj-pron'|subj=male) = \", compute_average(IC2_connective2_14m,'he'))\n",
    "print(\"P('non-subj-pron'|subj=male) = \", compute_average(IC2_connective2_14m,'she'))"
   ]
  },
  {
   "cell_type": "code",
   "execution_count": null,
   "metadata": {},
   "outputs": [],
   "source": [
    "c2_average_subj_male_subj_pron['praised'] = compute_average(IC2_connective2_14m,'he')\n",
    "c2_average_subj_male_obj_pron['praised'] = compute_average(IC2_connective2_14m,'she')"
   ]
  },
  {
   "cell_type": "markdown",
   "metadata": {},
   "source": [
    "### verb: \"reproached\""
   ]
  },
  {
   "cell_type": "code",
   "execution_count": null,
   "metadata": {},
   "outputs": [],
   "source": [
    "IC2_connective2_15 = pd.read_csv(\"../results/IC2/connective2/15.csv\")\n",
    "IC2_connective2_15.head()"
   ]
  },
  {
   "cell_type": "code",
   "execution_count": null,
   "metadata": {},
   "outputs": [],
   "source": [
    "# female subject\n",
    "IC2_connective2_15f = IC2_connective2_15[0:12]\n",
    "IC2_connective2_15f = IC2_connective2_15f[[\"stimulus\",\"she\",\"he\"]]\n",
    "# male subject\n",
    "IC2_connective2_15m = IC2_connective2_15[12:24]"
   ]
  },
  {
   "cell_type": "markdown",
   "metadata": {},
   "source": [
    "#### female subject"
   ]
  },
  {
   "cell_type": "code",
   "execution_count": null,
   "metadata": {},
   "outputs": [],
   "source": [
    "IC2_connective2_15f"
   ]
  },
  {
   "cell_type": "code",
   "execution_count": null,
   "metadata": {
    "scrolled": true
   },
   "outputs": [],
   "source": [
    "print(\"P('subj-pron'|subj=female) = \", compute_average(IC2_connective2_15f,'she'))\n",
    "print(\"P('non-subj-pron'|subj=female) = \", compute_average(IC2_connective2_15f,'he'))"
   ]
  },
  {
   "cell_type": "code",
   "execution_count": null,
   "metadata": {},
   "outputs": [],
   "source": [
    "c2_average_subj_female_subj_pron['reproached'] = compute_average(IC2_connective2_15f,'she')\n",
    "c2_average_subj_female_obj_pron['reproached'] = compute_average(IC2_connective2_15f,'he')"
   ]
  },
  {
   "cell_type": "markdown",
   "metadata": {},
   "source": [
    "#### male subject"
   ]
  },
  {
   "cell_type": "code",
   "execution_count": null,
   "metadata": {},
   "outputs": [],
   "source": [
    "IC2_connective2_15m"
   ]
  },
  {
   "cell_type": "code",
   "execution_count": null,
   "metadata": {},
   "outputs": [],
   "source": [
    "print(\"P('subj-pron'|subj=male) = \", compute_average(IC2_connective2_15m,'he'))\n",
    "print(\"P('non-subj-pron'|subj=male) = \", compute_average(IC2_connective2_15m,'she'))"
   ]
  },
  {
   "cell_type": "code",
   "execution_count": null,
   "metadata": {},
   "outputs": [],
   "source": [
    "c2_average_subj_male_subj_pron['reproached'] = compute_average(IC2_connective2_15m,'he')\n",
    "c2_average_subj_male_obj_pron['reproached'] = compute_average(IC2_connective2_15m,'she')"
   ]
  },
  {
   "cell_type": "markdown",
   "metadata": {},
   "source": [
    "### verb: \"scolded\""
   ]
  },
  {
   "cell_type": "code",
   "execution_count": null,
   "metadata": {},
   "outputs": [],
   "source": [
    "IC2_connective2_16 = pd.read_csv(\"../results/IC2/connective2/16.csv\")\n",
    "IC2_connective2_16.head()"
   ]
  },
  {
   "cell_type": "code",
   "execution_count": null,
   "metadata": {},
   "outputs": [],
   "source": [
    "# female subject\n",
    "IC2_connective2_16f = IC2_connective2_16[0:12]\n",
    "IC2_connective2_16f = IC2_connective2_16f[[\"stimulus\",\"she\",\"he\"]]\n",
    "# male subject\n",
    "IC2_connective2_16m = IC2_connective2_16[12:24]"
   ]
  },
  {
   "cell_type": "markdown",
   "metadata": {},
   "source": [
    "#### female subject"
   ]
  },
  {
   "cell_type": "code",
   "execution_count": null,
   "metadata": {},
   "outputs": [],
   "source": [
    "IC2_connective2_16f "
   ]
  },
  {
   "cell_type": "code",
   "execution_count": null,
   "metadata": {},
   "outputs": [],
   "source": [
    "print(\"P('subj-pron'|subj=female) = \", compute_average(IC2_connective2_16f,'she'))\n",
    "print(\"P('non-subj-pron'|subj=female) = \", compute_average(IC2_connective2_16f,'he'))"
   ]
  },
  {
   "cell_type": "code",
   "execution_count": null,
   "metadata": {},
   "outputs": [],
   "source": [
    "c2_average_subj_female_subj_pron['scolded'] = compute_average(IC2_connective2_16f,'she')\n",
    "c2_average_subj_female_obj_pron['scolded'] = compute_average(IC2_connective2_16f,'he')"
   ]
  },
  {
   "cell_type": "markdown",
   "metadata": {},
   "source": [
    "#### male subject"
   ]
  },
  {
   "cell_type": "code",
   "execution_count": null,
   "metadata": {},
   "outputs": [],
   "source": [
    "IC2_connective2_16m"
   ]
  },
  {
   "cell_type": "code",
   "execution_count": null,
   "metadata": {},
   "outputs": [],
   "source": [
    "print(\"P('subj-pron'|subj=male) = \", compute_average(IC2_connective2_16m,'he'))\n",
    "print(\"P('non-subj-pron'|subj=male) = \", compute_average(IC2_connective2_16m,'she'))"
   ]
  },
  {
   "cell_type": "code",
   "execution_count": null,
   "metadata": {},
   "outputs": [],
   "source": [
    "c2_average_subj_male_subj_pron['scolded'] = compute_average(IC2_connective2_16m,'he')\n",
    "c2_average_subj_male_obj_pron['scolded'] = compute_average(IC2_connective2_16m,'she')"
   ]
  },
  {
   "cell_type": "markdown",
   "metadata": {},
   "source": [
    "### verb: \"stared\""
   ]
  },
  {
   "cell_type": "code",
   "execution_count": null,
   "metadata": {},
   "outputs": [],
   "source": [
    "IC2_connective2_17 = pd.read_csv(\"../results/IC2/connective2/17.csv\")\n",
    "IC2_connective2_17.head()"
   ]
  },
  {
   "cell_type": "code",
   "execution_count": null,
   "metadata": {},
   "outputs": [],
   "source": [
    "# female subject\n",
    "IC2_connective2_17f = IC2_connective2_17[0:12]\n",
    "IC2_connective2_17f = IC2_connective2_17f[[\"stimulus\",\"she\",\"he\"]]\n",
    "# male subject\n",
    "IC2_connective2_17m = IC2_connective2_17[12:24]"
   ]
  },
  {
   "cell_type": "markdown",
   "metadata": {},
   "source": [
    "#### female subject"
   ]
  },
  {
   "cell_type": "code",
   "execution_count": null,
   "metadata": {},
   "outputs": [],
   "source": [
    "IC2_connective2_17f"
   ]
  },
  {
   "cell_type": "code",
   "execution_count": null,
   "metadata": {},
   "outputs": [],
   "source": [
    "print(\"P('subj-pron'|subj=female) = \", compute_average(IC2_connective2_17f,'she'))\n",
    "print(\"P('non-subj-pron'|subj=female) = \", compute_average(IC2_connective2_17f,'he'))"
   ]
  },
  {
   "cell_type": "code",
   "execution_count": null,
   "metadata": {},
   "outputs": [],
   "source": [
    "c2_average_subj_female_subj_pron['stared'] = compute_average(IC2_connective2_17f,'she')\n",
    "c2_average_subj_female_obj_pron['stared'] = compute_average(IC2_connective2_17f,'he')"
   ]
  },
  {
   "cell_type": "markdown",
   "metadata": {},
   "source": [
    "#### male subject"
   ]
  },
  {
   "cell_type": "code",
   "execution_count": null,
   "metadata": {},
   "outputs": [],
   "source": [
    "IC2_connective2_17m"
   ]
  },
  {
   "cell_type": "code",
   "execution_count": null,
   "metadata": {},
   "outputs": [],
   "source": [
    "print(\"P('subj-pron'|subj=male) = \", compute_average(IC2_connective2_17m,'he'))\n",
    "print(\"P('non-subj-pron'|subj=male) = \", compute_average(IC2_connective2_17m,'she'))"
   ]
  },
  {
   "cell_type": "code",
   "execution_count": null,
   "metadata": {},
   "outputs": [],
   "source": [
    "c2_average_subj_male_subj_pron['stared'] = compute_average(IC2_connective2_17m,'he')\n",
    "c2_average_subj_male_obj_pron['stared'] = compute_average(IC2_connective2_17m,'she')"
   ]
  },
  {
   "cell_type": "markdown",
   "metadata": {},
   "source": [
    "### verb: \"thanked\""
   ]
  },
  {
   "cell_type": "code",
   "execution_count": null,
   "metadata": {},
   "outputs": [],
   "source": [
    "IC2_connective2_18 = pd.read_csv(\"../results/IC2/connective2/18.csv\")\n",
    "IC2_connective2_18.head()"
   ]
  },
  {
   "cell_type": "code",
   "execution_count": null,
   "metadata": {},
   "outputs": [],
   "source": [
    "# female subject\n",
    "IC2_connective2_18f = IC2_connective2_18[0:12]\n",
    "IC2_connective2_18f = IC2_connective2_18f[[\"stimulus\",\"she\",\"he\"]]\n",
    "# male subject\n",
    "IC2_connective2_18m = IC2_connective2_18[12:24]"
   ]
  },
  {
   "cell_type": "markdown",
   "metadata": {},
   "source": [
    "#### female subject"
   ]
  },
  {
   "cell_type": "code",
   "execution_count": null,
   "metadata": {},
   "outputs": [],
   "source": [
    "IC2_connective2_18f"
   ]
  },
  {
   "cell_type": "code",
   "execution_count": null,
   "metadata": {},
   "outputs": [],
   "source": [
    "print(\"P('subj-pron'|subj=female) = \", compute_average(IC2_connective2_18f,'she'))\n",
    "print(\"P('non-subj-pron'|subj=female) = \", compute_average(IC2_connective2_18f,'he'))"
   ]
  },
  {
   "cell_type": "code",
   "execution_count": null,
   "metadata": {},
   "outputs": [],
   "source": [
    "c2_average_subj_female_subj_pron['thanked'] = compute_average(IC2_connective2_18f,'she')\n",
    "c2_average_subj_female_obj_pron['thanked'] = compute_average(IC2_connective2_18f,'he')"
   ]
  },
  {
   "cell_type": "markdown",
   "metadata": {},
   "source": [
    "#### male subject"
   ]
  },
  {
   "cell_type": "code",
   "execution_count": null,
   "metadata": {},
   "outputs": [],
   "source": [
    "IC2_connective2_18m"
   ]
  },
  {
   "cell_type": "code",
   "execution_count": null,
   "metadata": {},
   "outputs": [],
   "source": [
    "print(\"P('subj-pron'|subj=male) = \", compute_average(IC2_connective2_18m,'he'))\n",
    "print(\"P('non-subj-pron'|subj=male) = \", compute_average(IC2_connective2_18m,'she'))"
   ]
  },
  {
   "cell_type": "code",
   "execution_count": null,
   "metadata": {},
   "outputs": [],
   "source": [
    "c2_average_subj_male_subj_pron['thanked'] = compute_average(IC2_connective2_18m,'he')\n",
    "c2_average_subj_male_obj_pron['thanked'] = compute_average(IC2_connective2_18m,'she')"
   ]
  },
  {
   "cell_type": "markdown",
   "metadata": {},
   "source": [
    "### verb: \"trusts\""
   ]
  },
  {
   "cell_type": "code",
   "execution_count": null,
   "metadata": {},
   "outputs": [],
   "source": [
    "IC2_connective2_19 = pd.read_csv(\"../results/IC2/connective2/19.csv\")\n",
    "IC2_connective2_19.head()"
   ]
  },
  {
   "cell_type": "code",
   "execution_count": null,
   "metadata": {},
   "outputs": [],
   "source": [
    "# female subject\n",
    "IC2_connective2_19f = IC2_connective2_19[0:12]\n",
    "IC2_connective2_19f = IC2_connective2_19f[[\"stimulus\",\"she\",\"he\"]]\n",
    "# male subject\n",
    "IC2_connective2_19m = IC2_connective2_19[12:24]"
   ]
  },
  {
   "cell_type": "markdown",
   "metadata": {},
   "source": [
    "#### female subject"
   ]
  },
  {
   "cell_type": "code",
   "execution_count": null,
   "metadata": {},
   "outputs": [],
   "source": [
    "IC2_connective2_19f"
   ]
  },
  {
   "cell_type": "code",
   "execution_count": null,
   "metadata": {},
   "outputs": [],
   "source": [
    "print(\"P('subj-pron'|subj=female) = \", compute_average(IC2_connective2_19f,'she'))\n",
    "print(\"P('non-subj-pron'|subj=female) = \", compute_average(IC2_connective2_19f,'he'))"
   ]
  },
  {
   "cell_type": "code",
   "execution_count": null,
   "metadata": {},
   "outputs": [],
   "source": [
    "c2_average_subj_female_subj_pron['trusts'] = compute_average(IC2_connective2_19f,'she')\n",
    "c2_average_subj_female_obj_pron['trusts'] = compute_average(IC2_connective2_19f,'he')"
   ]
  },
  {
   "cell_type": "markdown",
   "metadata": {},
   "source": [
    "#### male subject"
   ]
  },
  {
   "cell_type": "code",
   "execution_count": null,
   "metadata": {},
   "outputs": [],
   "source": [
    "IC2_connective2_19m"
   ]
  },
  {
   "cell_type": "code",
   "execution_count": null,
   "metadata": {},
   "outputs": [],
   "source": [
    "print(\"P('subj-pron'|subj=male) = \", compute_average(IC2_connective2_19m,'he'))\n",
    "print(\"P('non-subj-pron'|subj=male) = \", compute_average(IC2_connective2_19m,'she'))"
   ]
  },
  {
   "cell_type": "code",
   "execution_count": null,
   "metadata": {},
   "outputs": [],
   "source": [
    "c2_average_subj_male_subj_pron['trusts'] = compute_average(IC2_connective2_19m,'he')\n",
    "c2_average_subj_male_obj_pron['trusts'] = compute_average(IC2_connective2_19m,'she')"
   ]
  },
  {
   "cell_type": "markdown",
   "metadata": {},
   "source": [
    "### verb: \"values\""
   ]
  },
  {
   "cell_type": "code",
   "execution_count": null,
   "metadata": {},
   "outputs": [],
   "source": [
    "IC2_connective2_20 = pd.read_csv(\"../results/IC2/connective2/20.csv\")\n",
    "IC2_connective2_20.head()"
   ]
  },
  {
   "cell_type": "code",
   "execution_count": null,
   "metadata": {},
   "outputs": [],
   "source": [
    "# female subject\n",
    "IC2_connective2_20f = IC2_connective2_20[0:12]\n",
    "IC2_connective2_20f = IC2_connective2_20f[[\"stimulus\",\"she\",\"he\"]]\n",
    "# male subject\n",
    "IC2_connective2_20m = IC2_connective2_20[12:24]"
   ]
  },
  {
   "cell_type": "markdown",
   "metadata": {},
   "source": [
    "#### female subject"
   ]
  },
  {
   "cell_type": "code",
   "execution_count": null,
   "metadata": {},
   "outputs": [],
   "source": [
    "IC2_connective2_20f"
   ]
  },
  {
   "cell_type": "code",
   "execution_count": null,
   "metadata": {},
   "outputs": [],
   "source": [
    "print(\"P('subj-pron'|subj=female) = \", compute_average(IC2_connective2_20f,'she'))\n",
    "print(\"P('non-subj-pron'|subj=female) = \", compute_average(IC2_connective2_20f,'he'))"
   ]
  },
  {
   "cell_type": "code",
   "execution_count": null,
   "metadata": {},
   "outputs": [],
   "source": [
    "c2_average_subj_female_subj_pron['values'] = compute_average(IC2_connective2_20f,'she')\n",
    "c2_average_subj_female_obj_pron['values'] = compute_average(IC2_connective2_20f,'he')"
   ]
  },
  {
   "cell_type": "markdown",
   "metadata": {},
   "source": [
    "#### male subject"
   ]
  },
  {
   "cell_type": "code",
   "execution_count": null,
   "metadata": {},
   "outputs": [],
   "source": [
    "IC2_connective2_20m"
   ]
  },
  {
   "cell_type": "code",
   "execution_count": null,
   "metadata": {},
   "outputs": [],
   "source": [
    "print(\"P('subj-pron'|subj=male) = \", compute_average(IC2_connective2_20m,'he'))\n",
    "print(\"P('non-subj-pron'|subj=male) = \", compute_average(IC2_connective2_20m,'she'))"
   ]
  },
  {
   "cell_type": "code",
   "execution_count": null,
   "metadata": {},
   "outputs": [],
   "source": [
    "c2_average_subj_male_subj_pron['values'] = compute_average(IC2_connective2_20m,'he')\n",
    "c2_average_subj_male_obj_pron['values'] = compute_average(IC2_connective2_20m,'she')"
   ]
  },
  {
   "cell_type": "markdown",
   "metadata": {},
   "source": [
    "## Summary of Results"
   ]
  },
  {
   "cell_type": "code",
   "execution_count": null,
   "metadata": {},
   "outputs": [],
   "source": [
    "c2_results_fsubj_subjpron = pd.DataFrame(list(c2_average_subj_female_subj_pron.items()),columns=['verb','subj_ref_female_subj'])\n",
    "c2_results_fsubj_objpron = pd.DataFrame(list(c2_average_subj_female_obj_pron.items()),columns=['verb','obj_ref_female_subj'])\n",
    "c2_results_fsubj = c2_results_fsubj_subjpron.merge(results_fsubj_objpron)\n",
    "c2_results_fsubj"
   ]
  },
  {
   "cell_type": "code",
   "execution_count": null,
   "metadata": {},
   "outputs": [],
   "source": [
    "c2_results_msubj_subjpron = pd.DataFrame(list(c2_average_subj_male_subj_pron.items()),columns=['verb','subj_ref_male_subj'])\n",
    "c2_results_msubj_objpron = pd.DataFrame(list(c2_average_subj_male_obj_pron.items()),columns=['verb','obj_ref_male_subj'])\n",
    "c2_results_msubj = c2_results_msubj_subjpron.merge(c2_results_msubj_objpron)\n",
    "c2_results_msubj"
   ]
  },
  {
   "cell_type": "code",
   "execution_count": null,
   "metadata": {},
   "outputs": [],
   "source": [
    "c2_results = c2_results_fsubj.merge(c2_results_msubj)\n",
    "c2_results"
   ]
  },
  {
   "cell_type": "code",
   "execution_count": null,
   "metadata": {},
   "outputs": [],
   "source": [
    "print(\"P(subj_reference |subj=female)\", compute_average(c2_results,'subj_ref_female_subj'))\n",
    "print(\"P(obj_reference |subj=female)\", compute_average(c2_results,'obj_ref_female_subj'))"
   ]
  },
  {
   "cell_type": "code",
   "execution_count": null,
   "metadata": {},
   "outputs": [],
   "source": [
    "print(\"P(subj_reference |subj=male)\", compute_average(c2_results,'subj_ref_male_subj'))\n",
    "print(\"P(obj_reference |subj=male)\", compute_average(c2_results,'obj_ref_male_subj'))"
   ]
  }
 ],
 "metadata": {
  "kernelspec": {
   "display_name": "Python 3",
   "language": "python",
   "name": "python3"
  },
  "language_info": {
   "codemirror_mode": {
    "name": "ipython",
    "version": 3
   },
   "file_extension": ".py",
   "mimetype": "text/x-python",
   "name": "python",
   "nbconvert_exporter": "python",
   "pygments_lexer": "ipython3",
   "version": "3.6.3"
  }
 },
 "nbformat": 4,
 "nbformat_minor": 4
}
