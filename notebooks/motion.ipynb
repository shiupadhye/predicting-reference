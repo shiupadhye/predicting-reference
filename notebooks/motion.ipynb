{
 "cells": [
  {
   "cell_type": "code",
   "execution_count": 1,
   "metadata": {},
   "outputs": [],
   "source": [
    "import pandas as pd\n",
    "import numpy as np"
   ]
  },
  {
   "cell_type": "code",
   "execution_count": 2,
   "metadata": {},
   "outputs": [],
   "source": [
    "def compute_average(df,col):\n",
    "    return np.mean(df[col].values)"
   ]
  },
  {
   "cell_type": "markdown",
   "metadata": {},
   "source": [
    "## No-prompt"
   ]
  },
  {
   "cell_type": "code",
   "execution_count": 3,
   "metadata": {},
   "outputs": [],
   "source": [
    "np_average_subj_female_subj_pron = {}\n",
    "np_average_subj_female_obj_pron = {}\n",
    "np_average_subj_male_subj_pron = {}\n",
    "np_average_subj_male_obj_pron = {}"
   ]
  },
  {
   "cell_type": "markdown",
   "metadata": {},
   "source": [
    "### Verb: \"flew\" "
   ]
  },
  {
   "cell_type": "code",
   "execution_count": 4,
   "metadata": {
    "scrolled": true
   },
   "outputs": [
    {
     "data": {
      "text/html": [
       "<div>\n",
       "<style scoped>\n",
       "    .dataframe tbody tr th:only-of-type {\n",
       "        vertical-align: middle;\n",
       "    }\n",
       "\n",
       "    .dataframe tbody tr th {\n",
       "        vertical-align: top;\n",
       "    }\n",
       "\n",
       "    .dataframe thead th {\n",
       "        text-align: right;\n",
       "    }\n",
       "</style>\n",
       "<table border=\"1\" class=\"dataframe\">\n",
       "  <thead>\n",
       "    <tr style=\"text-align: right;\">\n",
       "      <th></th>\n",
       "      <th>stimulus</th>\n",
       "      <th>He</th>\n",
       "      <th>She</th>\n",
       "    </tr>\n",
       "  </thead>\n",
       "  <tbody>\n",
       "    <tr>\n",
       "      <th>0</th>\n",
       "      <td>Miss Smith flew to Mr. Smith.</td>\n",
       "      <td>0.758990</td>\n",
       "      <td>0.241010</td>\n",
       "    </tr>\n",
       "    <tr>\n",
       "      <th>1</th>\n",
       "      <td>The woman flew to the man.</td>\n",
       "      <td>0.784776</td>\n",
       "      <td>0.215224</td>\n",
       "    </tr>\n",
       "    <tr>\n",
       "      <th>2</th>\n",
       "      <td>Mary flew to John.</td>\n",
       "      <td>0.656987</td>\n",
       "      <td>0.343013</td>\n",
       "    </tr>\n",
       "    <tr>\n",
       "      <th>3</th>\n",
       "      <td>Alice flew to Bob.</td>\n",
       "      <td>0.613324</td>\n",
       "      <td>0.386676</td>\n",
       "    </tr>\n",
       "    <tr>\n",
       "      <th>4</th>\n",
       "      <td>The actress flew to the actor.</td>\n",
       "      <td>0.825839</td>\n",
       "      <td>0.174161</td>\n",
       "    </tr>\n",
       "  </tbody>\n",
       "</table>\n",
       "</div>"
      ],
      "text/plain": [
       "                         stimulus        He       She\n",
       "0   Miss Smith flew to Mr. Smith.  0.758990  0.241010\n",
       "1      The woman flew to the man.  0.784776  0.215224\n",
       "2              Mary flew to John.  0.656987  0.343013\n",
       "3              Alice flew to Bob.  0.613324  0.386676\n",
       "4  The actress flew to the actor.  0.825839  0.174161"
      ]
     },
     "execution_count": 4,
     "metadata": {},
     "output_type": "execute_result"
    }
   ],
   "source": [
    "motion_noprompt_1 = pd.read_csv(\"../results/motion/no-prompt/1.csv\")\n",
    "motion_noprompt_1.head()"
   ]
  },
  {
   "cell_type": "code",
   "execution_count": 5,
   "metadata": {},
   "outputs": [],
   "source": [
    "# female subject\n",
    "motion_noprompt_1f = motion_noprompt_1[0:12]\n",
    "motion_noprompt_1f = motion_noprompt_1f[[\"stimulus\",\"She\",\"He\"]]\n",
    "# male subject\n",
    "motion_noprompt_1m = motion_noprompt_1[12:24]"
   ]
  },
  {
   "cell_type": "markdown",
   "metadata": {},
   "source": [
    "#### female subject"
   ]
  },
  {
   "cell_type": "code",
   "execution_count": 6,
   "metadata": {},
   "outputs": [
    {
     "data": {
      "text/html": [
       "<div>\n",
       "<style scoped>\n",
       "    .dataframe tbody tr th:only-of-type {\n",
       "        vertical-align: middle;\n",
       "    }\n",
       "\n",
       "    .dataframe tbody tr th {\n",
       "        vertical-align: top;\n",
       "    }\n",
       "\n",
       "    .dataframe thead th {\n",
       "        text-align: right;\n",
       "    }\n",
       "</style>\n",
       "<table border=\"1\" class=\"dataframe\">\n",
       "  <thead>\n",
       "    <tr style=\"text-align: right;\">\n",
       "      <th></th>\n",
       "      <th>stimulus</th>\n",
       "      <th>She</th>\n",
       "      <th>He</th>\n",
       "    </tr>\n",
       "  </thead>\n",
       "  <tbody>\n",
       "    <tr>\n",
       "      <th>0</th>\n",
       "      <td>Miss Smith flew to Mr. Smith.</td>\n",
       "      <td>0.241010</td>\n",
       "      <td>0.758990</td>\n",
       "    </tr>\n",
       "    <tr>\n",
       "      <th>1</th>\n",
       "      <td>The woman flew to the man.</td>\n",
       "      <td>0.215224</td>\n",
       "      <td>0.784776</td>\n",
       "    </tr>\n",
       "    <tr>\n",
       "      <th>2</th>\n",
       "      <td>Mary flew to John.</td>\n",
       "      <td>0.343013</td>\n",
       "      <td>0.656987</td>\n",
       "    </tr>\n",
       "    <tr>\n",
       "      <th>3</th>\n",
       "      <td>Alice flew to Bob.</td>\n",
       "      <td>0.386676</td>\n",
       "      <td>0.613324</td>\n",
       "    </tr>\n",
       "    <tr>\n",
       "      <th>4</th>\n",
       "      <td>The actress flew to the actor.</td>\n",
       "      <td>0.174161</td>\n",
       "      <td>0.825839</td>\n",
       "    </tr>\n",
       "    <tr>\n",
       "      <th>5</th>\n",
       "      <td>The girl flew to the boy.</td>\n",
       "      <td>0.217677</td>\n",
       "      <td>0.782324</td>\n",
       "    </tr>\n",
       "    <tr>\n",
       "      <th>6</th>\n",
       "      <td>Mrs. Taylor flew to Mr. Williams.</td>\n",
       "      <td>0.232389</td>\n",
       "      <td>0.767611</td>\n",
       "    </tr>\n",
       "    <tr>\n",
       "      <th>7</th>\n",
       "      <td>Emma flew to David.</td>\n",
       "      <td>0.267430</td>\n",
       "      <td>0.732570</td>\n",
       "    </tr>\n",
       "    <tr>\n",
       "      <th>8</th>\n",
       "      <td>The princess flew to the prince.</td>\n",
       "      <td>0.199302</td>\n",
       "      <td>0.800698</td>\n",
       "    </tr>\n",
       "    <tr>\n",
       "      <th>9</th>\n",
       "      <td>Sarah flew to Robert.</td>\n",
       "      <td>0.544982</td>\n",
       "      <td>0.455018</td>\n",
       "    </tr>\n",
       "    <tr>\n",
       "      <th>10</th>\n",
       "      <td>Mrs. Williams flew to Mr. Taylor.</td>\n",
       "      <td>0.222612</td>\n",
       "      <td>0.777389</td>\n",
       "    </tr>\n",
       "    <tr>\n",
       "      <th>11</th>\n",
       "      <td>Emily flew to Paul.</td>\n",
       "      <td>0.520748</td>\n",
       "      <td>0.479252</td>\n",
       "    </tr>\n",
       "  </tbody>\n",
       "</table>\n",
       "</div>"
      ],
      "text/plain": [
       "                             stimulus       She        He\n",
       "0       Miss Smith flew to Mr. Smith.  0.241010  0.758990\n",
       "1          The woman flew to the man.  0.215224  0.784776\n",
       "2                  Mary flew to John.  0.343013  0.656987\n",
       "3                  Alice flew to Bob.  0.386676  0.613324\n",
       "4      The actress flew to the actor.  0.174161  0.825839\n",
       "5           The girl flew to the boy.  0.217677  0.782324\n",
       "6   Mrs. Taylor flew to Mr. Williams.  0.232389  0.767611\n",
       "7                 Emma flew to David.  0.267430  0.732570\n",
       "8    The princess flew to the prince.  0.199302  0.800698\n",
       "9               Sarah flew to Robert.  0.544982  0.455018\n",
       "10  Mrs. Williams flew to Mr. Taylor.  0.222612  0.777389\n",
       "11                Emily flew to Paul.  0.520748  0.479252"
      ]
     },
     "execution_count": 6,
     "metadata": {},
     "output_type": "execute_result"
    }
   ],
   "source": [
    "motion_noprompt_1f"
   ]
  },
  {
   "cell_type": "code",
   "execution_count": 7,
   "metadata": {
    "scrolled": false
   },
   "outputs": [
    {
     "name": "stdout",
     "output_type": "stream",
     "text": [
      "P('subj-pron'|subj=female) =  0.29710186769564945\n",
      "P('non-subj-pron'|subj=female) =  0.7028981298208237\n"
     ]
    }
   ],
   "source": [
    "print(\"P('subj-pron'|subj=female) = \", compute_average(motion_noprompt_1f,'She'))\n",
    "print(\"P('non-subj-pron'|subj=female) = \", compute_average(motion_noprompt_1f,'He'))"
   ]
  },
  {
   "cell_type": "code",
   "execution_count": 8,
   "metadata": {},
   "outputs": [],
   "source": [
    "np_average_subj_female_subj_pron['flew'] = compute_average(motion_noprompt_1f,'She')\n",
    "np_average_subj_female_obj_pron['flew'] = compute_average(motion_noprompt_1f,'He')"
   ]
  },
  {
   "cell_type": "markdown",
   "metadata": {},
   "source": [
    "#### male subject"
   ]
  },
  {
   "cell_type": "code",
   "execution_count": 9,
   "metadata": {
    "scrolled": true
   },
   "outputs": [
    {
     "data": {
      "text/html": [
       "<div>\n",
       "<style scoped>\n",
       "    .dataframe tbody tr th:only-of-type {\n",
       "        vertical-align: middle;\n",
       "    }\n",
       "\n",
       "    .dataframe tbody tr th {\n",
       "        vertical-align: top;\n",
       "    }\n",
       "\n",
       "    .dataframe thead th {\n",
       "        text-align: right;\n",
       "    }\n",
       "</style>\n",
       "<table border=\"1\" class=\"dataframe\">\n",
       "  <thead>\n",
       "    <tr style=\"text-align: right;\">\n",
       "      <th></th>\n",
       "      <th>stimulus</th>\n",
       "      <th>He</th>\n",
       "      <th>She</th>\n",
       "    </tr>\n",
       "  </thead>\n",
       "  <tbody>\n",
       "    <tr>\n",
       "      <th>12</th>\n",
       "      <td>Mr. Smith flew to Miss Smith.</td>\n",
       "      <td>0.814515</td>\n",
       "      <td>0.185485</td>\n",
       "    </tr>\n",
       "    <tr>\n",
       "      <th>13</th>\n",
       "      <td>The man flew to the woman.</td>\n",
       "      <td>0.854575</td>\n",
       "      <td>0.145425</td>\n",
       "    </tr>\n",
       "    <tr>\n",
       "      <th>14</th>\n",
       "      <td>John flew to Mary.</td>\n",
       "      <td>0.826698</td>\n",
       "      <td>0.173302</td>\n",
       "    </tr>\n",
       "    <tr>\n",
       "      <th>15</th>\n",
       "      <td>Bob flew to Alice.</td>\n",
       "      <td>0.899818</td>\n",
       "      <td>0.100182</td>\n",
       "    </tr>\n",
       "    <tr>\n",
       "      <th>16</th>\n",
       "      <td>The actor flew to the actress.</td>\n",
       "      <td>0.857795</td>\n",
       "      <td>0.142205</td>\n",
       "    </tr>\n",
       "    <tr>\n",
       "      <th>17</th>\n",
       "      <td>The boy flew to the girl.</td>\n",
       "      <td>0.840364</td>\n",
       "      <td>0.159636</td>\n",
       "    </tr>\n",
       "    <tr>\n",
       "      <th>18</th>\n",
       "      <td>Mr. William flew to Mrs. Taylor.</td>\n",
       "      <td>0.839110</td>\n",
       "      <td>0.160890</td>\n",
       "    </tr>\n",
       "    <tr>\n",
       "      <th>19</th>\n",
       "      <td>David flew to Emma.</td>\n",
       "      <td>0.183993</td>\n",
       "      <td>0.816007</td>\n",
       "    </tr>\n",
       "    <tr>\n",
       "      <th>20</th>\n",
       "      <td>The prince flew to the princess.</td>\n",
       "      <td>0.856129</td>\n",
       "      <td>0.143871</td>\n",
       "    </tr>\n",
       "    <tr>\n",
       "      <th>21</th>\n",
       "      <td>Robert flew to Sarah.</td>\n",
       "      <td>0.682544</td>\n",
       "      <td>0.317456</td>\n",
       "    </tr>\n",
       "    <tr>\n",
       "      <th>22</th>\n",
       "      <td>Mr. Taylor flew to Mrs. Williams.</td>\n",
       "      <td>0.823710</td>\n",
       "      <td>0.176290</td>\n",
       "    </tr>\n",
       "    <tr>\n",
       "      <th>23</th>\n",
       "      <td>Paul flew to Emily.</td>\n",
       "      <td>0.816646</td>\n",
       "      <td>0.183354</td>\n",
       "    </tr>\n",
       "  </tbody>\n",
       "</table>\n",
       "</div>"
      ],
      "text/plain": [
       "                             stimulus        He       She\n",
       "12      Mr. Smith flew to Miss Smith.  0.814515  0.185485\n",
       "13         The man flew to the woman.  0.854575  0.145425\n",
       "14                 John flew to Mary.  0.826698  0.173302\n",
       "15                 Bob flew to Alice.  0.899818  0.100182\n",
       "16     The actor flew to the actress.  0.857795  0.142205\n",
       "17          The boy flew to the girl.  0.840364  0.159636\n",
       "18   Mr. William flew to Mrs. Taylor.  0.839110  0.160890\n",
       "19                David flew to Emma.  0.183993  0.816007\n",
       "20   The prince flew to the princess.  0.856129  0.143871\n",
       "21              Robert flew to Sarah.  0.682544  0.317456\n",
       "22  Mr. Taylor flew to Mrs. Williams.  0.823710  0.176290\n",
       "23                Paul flew to Emily.  0.816646  0.183354"
      ]
     },
     "execution_count": 9,
     "metadata": {},
     "output_type": "execute_result"
    }
   ],
   "source": [
    "motion_noprompt_1m"
   ]
  },
  {
   "cell_type": "code",
   "execution_count": 10,
   "metadata": {
    "scrolled": true
   },
   "outputs": [
    {
     "name": "stdout",
     "output_type": "stream",
     "text": [
      "P('subj-pron'|subj=male) =  0.7746580416957537\n",
      "P('non-subj-pron'|subj=male) =  0.22534195892512798\n"
     ]
    }
   ],
   "source": [
    "print(\"P('subj-pron'|subj=male) = \", compute_average(motion_noprompt_1m,'He'))\n",
    "print(\"P('non-subj-pron'|subj=male) = \", compute_average(motion_noprompt_1m,'She'))"
   ]
  },
  {
   "cell_type": "code",
   "execution_count": 11,
   "metadata": {},
   "outputs": [],
   "source": [
    "np_average_subj_male_subj_pron['flew'] = compute_average(motion_noprompt_1m,'He')\n",
    "np_average_subj_male_obj_pron['flew'] = compute_average(motion_noprompt_1m,'She')"
   ]
  },
  {
   "cell_type": "markdown",
   "metadata": {},
   "source": [
    "### Verb: \"walked\""
   ]
  },
  {
   "cell_type": "code",
   "execution_count": 12,
   "metadata": {
    "scrolled": true
   },
   "outputs": [
    {
     "data": {
      "text/html": [
       "<div>\n",
       "<style scoped>\n",
       "    .dataframe tbody tr th:only-of-type {\n",
       "        vertical-align: middle;\n",
       "    }\n",
       "\n",
       "    .dataframe tbody tr th {\n",
       "        vertical-align: top;\n",
       "    }\n",
       "\n",
       "    .dataframe thead th {\n",
       "        text-align: right;\n",
       "    }\n",
       "</style>\n",
       "<table border=\"1\" class=\"dataframe\">\n",
       "  <thead>\n",
       "    <tr style=\"text-align: right;\">\n",
       "      <th></th>\n",
       "      <th>stimulus</th>\n",
       "      <th>He</th>\n",
       "      <th>She</th>\n",
       "    </tr>\n",
       "  </thead>\n",
       "  <tbody>\n",
       "    <tr>\n",
       "      <th>0</th>\n",
       "      <td>Miss Smith walked to Mr. Smith.</td>\n",
       "      <td>0.754658</td>\n",
       "      <td>0.245342</td>\n",
       "    </tr>\n",
       "    <tr>\n",
       "      <th>1</th>\n",
       "      <td>The woman walked to the man.</td>\n",
       "      <td>0.783206</td>\n",
       "      <td>0.216794</td>\n",
       "    </tr>\n",
       "    <tr>\n",
       "      <th>2</th>\n",
       "      <td>Mary walked to John.</td>\n",
       "      <td>0.639252</td>\n",
       "      <td>0.360748</td>\n",
       "    </tr>\n",
       "    <tr>\n",
       "      <th>3</th>\n",
       "      <td>Alice walked to Bob.</td>\n",
       "      <td>0.434756</td>\n",
       "      <td>0.565244</td>\n",
       "    </tr>\n",
       "    <tr>\n",
       "      <th>4</th>\n",
       "      <td>The actress walked to the actor.</td>\n",
       "      <td>0.803638</td>\n",
       "      <td>0.196362</td>\n",
       "    </tr>\n",
       "  </tbody>\n",
       "</table>\n",
       "</div>"
      ],
      "text/plain": [
       "                           stimulus        He       She\n",
       "0   Miss Smith walked to Mr. Smith.  0.754658  0.245342\n",
       "1      The woman walked to the man.  0.783206  0.216794\n",
       "2              Mary walked to John.  0.639252  0.360748\n",
       "3              Alice walked to Bob.  0.434756  0.565244\n",
       "4  The actress walked to the actor.  0.803638  0.196362"
      ]
     },
     "execution_count": 12,
     "metadata": {},
     "output_type": "execute_result"
    }
   ],
   "source": [
    "motion_noprompt_2 = pd.read_csv(\"../results/motion/no-prompt/2.csv\")\n",
    "motion_noprompt_2.head()"
   ]
  },
  {
   "cell_type": "code",
   "execution_count": 13,
   "metadata": {},
   "outputs": [],
   "source": [
    "# female subject\n",
    "motion_noprompt_2f = motion_noprompt_2[0:12]\n",
    "motion_noprompt_2f = motion_noprompt_2f[[\"stimulus\",\"She\",\"He\"]]\n",
    "# male subject\n",
    "motion_noprompt_2m = motion_noprompt_2[12:24]"
   ]
  },
  {
   "cell_type": "markdown",
   "metadata": {},
   "source": [
    "#### female subject"
   ]
  },
  {
   "cell_type": "code",
   "execution_count": 14,
   "metadata": {},
   "outputs": [
    {
     "data": {
      "text/html": [
       "<div>\n",
       "<style scoped>\n",
       "    .dataframe tbody tr th:only-of-type {\n",
       "        vertical-align: middle;\n",
       "    }\n",
       "\n",
       "    .dataframe tbody tr th {\n",
       "        vertical-align: top;\n",
       "    }\n",
       "\n",
       "    .dataframe thead th {\n",
       "        text-align: right;\n",
       "    }\n",
       "</style>\n",
       "<table border=\"1\" class=\"dataframe\">\n",
       "  <thead>\n",
       "    <tr style=\"text-align: right;\">\n",
       "      <th></th>\n",
       "      <th>stimulus</th>\n",
       "      <th>She</th>\n",
       "      <th>He</th>\n",
       "    </tr>\n",
       "  </thead>\n",
       "  <tbody>\n",
       "    <tr>\n",
       "      <th>0</th>\n",
       "      <td>Miss Smith walked to Mr. Smith.</td>\n",
       "      <td>0.245342</td>\n",
       "      <td>0.754658</td>\n",
       "    </tr>\n",
       "    <tr>\n",
       "      <th>1</th>\n",
       "      <td>The woman walked to the man.</td>\n",
       "      <td>0.216794</td>\n",
       "      <td>0.783206</td>\n",
       "    </tr>\n",
       "    <tr>\n",
       "      <th>2</th>\n",
       "      <td>Mary walked to John.</td>\n",
       "      <td>0.360748</td>\n",
       "      <td>0.639252</td>\n",
       "    </tr>\n",
       "    <tr>\n",
       "      <th>3</th>\n",
       "      <td>Alice walked to Bob.</td>\n",
       "      <td>0.565244</td>\n",
       "      <td>0.434756</td>\n",
       "    </tr>\n",
       "    <tr>\n",
       "      <th>4</th>\n",
       "      <td>The actress walked to the actor.</td>\n",
       "      <td>0.196362</td>\n",
       "      <td>0.803638</td>\n",
       "    </tr>\n",
       "    <tr>\n",
       "      <th>5</th>\n",
       "      <td>The girl walked to the boy.</td>\n",
       "      <td>0.211321</td>\n",
       "      <td>0.788679</td>\n",
       "    </tr>\n",
       "    <tr>\n",
       "      <th>6</th>\n",
       "      <td>Mrs. Taylor walked to Mr. Williams.</td>\n",
       "      <td>0.230175</td>\n",
       "      <td>0.769825</td>\n",
       "    </tr>\n",
       "    <tr>\n",
       "      <th>7</th>\n",
       "      <td>Emma walked to David.</td>\n",
       "      <td>0.952695</td>\n",
       "      <td>0.047305</td>\n",
       "    </tr>\n",
       "    <tr>\n",
       "      <th>8</th>\n",
       "      <td>The princess walked to the prince.</td>\n",
       "      <td>0.199704</td>\n",
       "      <td>0.800296</td>\n",
       "    </tr>\n",
       "    <tr>\n",
       "      <th>9</th>\n",
       "      <td>Sarah walked to Robert.</td>\n",
       "      <td>0.634780</td>\n",
       "      <td>0.365220</td>\n",
       "    </tr>\n",
       "    <tr>\n",
       "      <th>10</th>\n",
       "      <td>Mrs. Williams walked to Mr. Taylor.</td>\n",
       "      <td>0.215857</td>\n",
       "      <td>0.784143</td>\n",
       "    </tr>\n",
       "    <tr>\n",
       "      <th>11</th>\n",
       "      <td>Emily walked to Paul.</td>\n",
       "      <td>0.647851</td>\n",
       "      <td>0.352149</td>\n",
       "    </tr>\n",
       "  </tbody>\n",
       "</table>\n",
       "</div>"
      ],
      "text/plain": [
       "                               stimulus       She        He\n",
       "0       Miss Smith walked to Mr. Smith.  0.245342  0.754658\n",
       "1          The woman walked to the man.  0.216794  0.783206\n",
       "2                  Mary walked to John.  0.360748  0.639252\n",
       "3                  Alice walked to Bob.  0.565244  0.434756\n",
       "4      The actress walked to the actor.  0.196362  0.803638\n",
       "5           The girl walked to the boy.  0.211321  0.788679\n",
       "6   Mrs. Taylor walked to Mr. Williams.  0.230175  0.769825\n",
       "7                 Emma walked to David.  0.952695  0.047305\n",
       "8    The princess walked to the prince.  0.199704  0.800296\n",
       "9               Sarah walked to Robert.  0.634780  0.365220\n",
       "10  Mrs. Williams walked to Mr. Taylor.  0.215857  0.784143\n",
       "11                Emily walked to Paul.  0.647851  0.352149"
      ]
     },
     "execution_count": 14,
     "metadata": {},
     "output_type": "execute_result"
    }
   ],
   "source": [
    "motion_noprompt_2f"
   ]
  },
  {
   "cell_type": "code",
   "execution_count": 15,
   "metadata": {},
   "outputs": [
    {
     "name": "stdout",
     "output_type": "stream",
     "text": [
      "P('subj-pron'|subj=female) =  0.38973933085799217\n",
      "P('non-subj-pron'|subj=female) =  0.610260653619965\n"
     ]
    }
   ],
   "source": [
    "print(\"P('subj-pron'|subj=female) = \", compute_average(motion_noprompt_2f,'She'))\n",
    "print(\"P('non-subj-pron'|subj=female) = \", compute_average(motion_noprompt_2f,'He'))"
   ]
  },
  {
   "cell_type": "code",
   "execution_count": 16,
   "metadata": {},
   "outputs": [],
   "source": [
    "np_average_subj_female_subj_pron['walked'] = compute_average(motion_noprompt_2f,'She')\n",
    "np_average_subj_female_obj_pron['walked'] = compute_average(motion_noprompt_2f,'He')"
   ]
  },
  {
   "cell_type": "markdown",
   "metadata": {},
   "source": [
    "#### male subject"
   ]
  },
  {
   "cell_type": "code",
   "execution_count": 17,
   "metadata": {
    "scrolled": true
   },
   "outputs": [
    {
     "data": {
      "text/html": [
       "<div>\n",
       "<style scoped>\n",
       "    .dataframe tbody tr th:only-of-type {\n",
       "        vertical-align: middle;\n",
       "    }\n",
       "\n",
       "    .dataframe tbody tr th {\n",
       "        vertical-align: top;\n",
       "    }\n",
       "\n",
       "    .dataframe thead th {\n",
       "        text-align: right;\n",
       "    }\n",
       "</style>\n",
       "<table border=\"1\" class=\"dataframe\">\n",
       "  <thead>\n",
       "    <tr style=\"text-align: right;\">\n",
       "      <th></th>\n",
       "      <th>stimulus</th>\n",
       "      <th>He</th>\n",
       "      <th>She</th>\n",
       "    </tr>\n",
       "  </thead>\n",
       "  <tbody>\n",
       "    <tr>\n",
       "      <th>12</th>\n",
       "      <td>Mr. Smith walked to Miss Smith.</td>\n",
       "      <td>0.820279</td>\n",
       "      <td>0.179721</td>\n",
       "    </tr>\n",
       "    <tr>\n",
       "      <th>13</th>\n",
       "      <td>The man walked to the woman.</td>\n",
       "      <td>0.862888</td>\n",
       "      <td>0.137112</td>\n",
       "    </tr>\n",
       "    <tr>\n",
       "      <th>14</th>\n",
       "      <td>John walked to Mary.</td>\n",
       "      <td>0.833905</td>\n",
       "      <td>0.166095</td>\n",
       "    </tr>\n",
       "    <tr>\n",
       "      <th>15</th>\n",
       "      <td>Bob walked to Alice.</td>\n",
       "      <td>0.662289</td>\n",
       "      <td>0.337711</td>\n",
       "    </tr>\n",
       "    <tr>\n",
       "      <th>16</th>\n",
       "      <td>The actor walked to the actress.</td>\n",
       "      <td>0.860797</td>\n",
       "      <td>0.139203</td>\n",
       "    </tr>\n",
       "    <tr>\n",
       "      <th>17</th>\n",
       "      <td>The boy walked to the girl.</td>\n",
       "      <td>0.854156</td>\n",
       "      <td>0.145844</td>\n",
       "    </tr>\n",
       "    <tr>\n",
       "      <th>18</th>\n",
       "      <td>Mr. William walked to Mrs. Taylor.</td>\n",
       "      <td>0.847539</td>\n",
       "      <td>0.152461</td>\n",
       "    </tr>\n",
       "    <tr>\n",
       "      <th>19</th>\n",
       "      <td>David walked to Emma.</td>\n",
       "      <td>0.108534</td>\n",
       "      <td>0.891466</td>\n",
       "    </tr>\n",
       "    <tr>\n",
       "      <th>20</th>\n",
       "      <td>The prince walked to the princess.</td>\n",
       "      <td>0.863860</td>\n",
       "      <td>0.136140</td>\n",
       "    </tr>\n",
       "    <tr>\n",
       "      <th>21</th>\n",
       "      <td>Robert walked to Sarah.</td>\n",
       "      <td>0.303139</td>\n",
       "      <td>0.696861</td>\n",
       "    </tr>\n",
       "    <tr>\n",
       "      <th>22</th>\n",
       "      <td>Mr. Taylor walked to Mrs. Williams.</td>\n",
       "      <td>0.828805</td>\n",
       "      <td>0.171195</td>\n",
       "    </tr>\n",
       "    <tr>\n",
       "      <th>23</th>\n",
       "      <td>Paul walked to Emily.</td>\n",
       "      <td>0.826109</td>\n",
       "      <td>0.173891</td>\n",
       "    </tr>\n",
       "  </tbody>\n",
       "</table>\n",
       "</div>"
      ],
      "text/plain": [
       "                               stimulus        He       She\n",
       "12      Mr. Smith walked to Miss Smith.  0.820279  0.179721\n",
       "13         The man walked to the woman.  0.862888  0.137112\n",
       "14                 John walked to Mary.  0.833905  0.166095\n",
       "15                 Bob walked to Alice.  0.662289  0.337711\n",
       "16     The actor walked to the actress.  0.860797  0.139203\n",
       "17          The boy walked to the girl.  0.854156  0.145844\n",
       "18   Mr. William walked to Mrs. Taylor.  0.847539  0.152461\n",
       "19                David walked to Emma.  0.108534  0.891466\n",
       "20   The prince walked to the princess.  0.863860  0.136140\n",
       "21              Robert walked to Sarah.  0.303139  0.696861\n",
       "22  Mr. Taylor walked to Mrs. Williams.  0.828805  0.171195\n",
       "23                Paul walked to Emily.  0.826109  0.173891"
      ]
     },
     "execution_count": 17,
     "metadata": {},
     "output_type": "execute_result"
    }
   ],
   "source": [
    "motion_noprompt_2m"
   ]
  },
  {
   "cell_type": "code",
   "execution_count": 18,
   "metadata": {
    "scrolled": true
   },
   "outputs": [
    {
     "name": "stdout",
     "output_type": "stream",
     "text": [
      "P('subj-pron'|subj=male) =  0.72269167813162\n",
      "P('non-subj-pron'|subj=male) =  0.27730832745631534\n"
     ]
    }
   ],
   "source": [
    "print(\"P('subj-pron'|subj=male) = \", compute_average(motion_noprompt_2m,'He'))\n",
    "print(\"P('non-subj-pron'|subj=male) = \", compute_average(motion_noprompt_2m,'She'))"
   ]
  },
  {
   "cell_type": "code",
   "execution_count": 19,
   "metadata": {},
   "outputs": [],
   "source": [
    "np_average_subj_male_subj_pron['walked'] = compute_average(motion_noprompt_2m,'He')\n",
    "np_average_subj_male_obj_pron['walked'] = compute_average(motion_noprompt_2m,'She')"
   ]
  },
  {
   "cell_type": "markdown",
   "metadata": {},
   "source": [
    "### Verb: \"ran\""
   ]
  },
  {
   "cell_type": "code",
   "execution_count": 20,
   "metadata": {},
   "outputs": [
    {
     "data": {
      "text/html": [
       "<div>\n",
       "<style scoped>\n",
       "    .dataframe tbody tr th:only-of-type {\n",
       "        vertical-align: middle;\n",
       "    }\n",
       "\n",
       "    .dataframe tbody tr th {\n",
       "        vertical-align: top;\n",
       "    }\n",
       "\n",
       "    .dataframe thead th {\n",
       "        text-align: right;\n",
       "    }\n",
       "</style>\n",
       "<table border=\"1\" class=\"dataframe\">\n",
       "  <thead>\n",
       "    <tr style=\"text-align: right;\">\n",
       "      <th></th>\n",
       "      <th>stimulus</th>\n",
       "      <th>He</th>\n",
       "      <th>She</th>\n",
       "    </tr>\n",
       "  </thead>\n",
       "  <tbody>\n",
       "    <tr>\n",
       "      <th>0</th>\n",
       "      <td>Miss Smith ran to Mr. Smith.</td>\n",
       "      <td>0.759406</td>\n",
       "      <td>0.240594</td>\n",
       "    </tr>\n",
       "    <tr>\n",
       "      <th>1</th>\n",
       "      <td>The woman ran to the man.</td>\n",
       "      <td>0.785314</td>\n",
       "      <td>0.214686</td>\n",
       "    </tr>\n",
       "    <tr>\n",
       "      <th>2</th>\n",
       "      <td>Mary ran to John.</td>\n",
       "      <td>0.664343</td>\n",
       "      <td>0.335657</td>\n",
       "    </tr>\n",
       "    <tr>\n",
       "      <th>3</th>\n",
       "      <td>Alice ran to Bob.</td>\n",
       "      <td>0.331298</td>\n",
       "      <td>0.668702</td>\n",
       "    </tr>\n",
       "    <tr>\n",
       "      <th>4</th>\n",
       "      <td>The actress ran to the actor.</td>\n",
       "      <td>0.801715</td>\n",
       "      <td>0.198285</td>\n",
       "    </tr>\n",
       "  </tbody>\n",
       "</table>\n",
       "</div>"
      ],
      "text/plain": [
       "                        stimulus        He       She\n",
       "0   Miss Smith ran to Mr. Smith.  0.759406  0.240594\n",
       "1      The woman ran to the man.  0.785314  0.214686\n",
       "2              Mary ran to John.  0.664343  0.335657\n",
       "3              Alice ran to Bob.  0.331298  0.668702\n",
       "4  The actress ran to the actor.  0.801715  0.198285"
      ]
     },
     "execution_count": 20,
     "metadata": {},
     "output_type": "execute_result"
    }
   ],
   "source": [
    "motion_noprompt_3 = pd.read_csv(\"../results/motion/no-prompt/3.csv\")\n",
    "motion_noprompt_3.head()"
   ]
  },
  {
   "cell_type": "code",
   "execution_count": 21,
   "metadata": {},
   "outputs": [],
   "source": [
    "# female subject\n",
    "motion_noprompt_3f = motion_noprompt_3[0:12]\n",
    "motion_noprompt_3f = motion_noprompt_3f[[\"stimulus\",\"She\",\"He\"]]\n",
    "# male subject\n",
    "motion_noprompt_3m = motion_noprompt_3[12:24]"
   ]
  },
  {
   "cell_type": "markdown",
   "metadata": {},
   "source": [
    "#### female subject"
   ]
  },
  {
   "cell_type": "code",
   "execution_count": 22,
   "metadata": {
    "scrolled": true
   },
   "outputs": [
    {
     "data": {
      "text/html": [
       "<div>\n",
       "<style scoped>\n",
       "    .dataframe tbody tr th:only-of-type {\n",
       "        vertical-align: middle;\n",
       "    }\n",
       "\n",
       "    .dataframe tbody tr th {\n",
       "        vertical-align: top;\n",
       "    }\n",
       "\n",
       "    .dataframe thead th {\n",
       "        text-align: right;\n",
       "    }\n",
       "</style>\n",
       "<table border=\"1\" class=\"dataframe\">\n",
       "  <thead>\n",
       "    <tr style=\"text-align: right;\">\n",
       "      <th></th>\n",
       "      <th>stimulus</th>\n",
       "      <th>She</th>\n",
       "      <th>He</th>\n",
       "    </tr>\n",
       "  </thead>\n",
       "  <tbody>\n",
       "    <tr>\n",
       "      <th>0</th>\n",
       "      <td>Miss Smith ran to Mr. Smith.</td>\n",
       "      <td>0.240594</td>\n",
       "      <td>0.759406</td>\n",
       "    </tr>\n",
       "    <tr>\n",
       "      <th>1</th>\n",
       "      <td>The woman ran to the man.</td>\n",
       "      <td>0.214686</td>\n",
       "      <td>0.785314</td>\n",
       "    </tr>\n",
       "    <tr>\n",
       "      <th>2</th>\n",
       "      <td>Mary ran to John.</td>\n",
       "      <td>0.335657</td>\n",
       "      <td>0.664343</td>\n",
       "    </tr>\n",
       "    <tr>\n",
       "      <th>3</th>\n",
       "      <td>Alice ran to Bob.</td>\n",
       "      <td>0.668702</td>\n",
       "      <td>0.331298</td>\n",
       "    </tr>\n",
       "    <tr>\n",
       "      <th>4</th>\n",
       "      <td>The actress ran to the actor.</td>\n",
       "      <td>0.198285</td>\n",
       "      <td>0.801715</td>\n",
       "    </tr>\n",
       "    <tr>\n",
       "      <th>5</th>\n",
       "      <td>The girl ran to the boy.</td>\n",
       "      <td>0.209363</td>\n",
       "      <td>0.790637</td>\n",
       "    </tr>\n",
       "    <tr>\n",
       "      <th>6</th>\n",
       "      <td>Mrs. Taylor ran to Mr. Williams.</td>\n",
       "      <td>0.230840</td>\n",
       "      <td>0.769160</td>\n",
       "    </tr>\n",
       "    <tr>\n",
       "      <th>7</th>\n",
       "      <td>Emma ran to David.</td>\n",
       "      <td>0.921814</td>\n",
       "      <td>0.078186</td>\n",
       "    </tr>\n",
       "    <tr>\n",
       "      <th>8</th>\n",
       "      <td>The princess ran to the prince.</td>\n",
       "      <td>0.198703</td>\n",
       "      <td>0.801297</td>\n",
       "    </tr>\n",
       "    <tr>\n",
       "      <th>9</th>\n",
       "      <td>Sarah ran to Robert.</td>\n",
       "      <td>0.699248</td>\n",
       "      <td>0.300752</td>\n",
       "    </tr>\n",
       "    <tr>\n",
       "      <th>10</th>\n",
       "      <td>Mrs. Williams ran to Mr. Taylor.</td>\n",
       "      <td>0.215290</td>\n",
       "      <td>0.784710</td>\n",
       "    </tr>\n",
       "    <tr>\n",
       "      <th>11</th>\n",
       "      <td>Emily ran to Paul.</td>\n",
       "      <td>0.409164</td>\n",
       "      <td>0.590836</td>\n",
       "    </tr>\n",
       "  </tbody>\n",
       "</table>\n",
       "</div>"
      ],
      "text/plain": [
       "                            stimulus       She        He\n",
       "0       Miss Smith ran to Mr. Smith.  0.240594  0.759406\n",
       "1          The woman ran to the man.  0.214686  0.785314\n",
       "2                  Mary ran to John.  0.335657  0.664343\n",
       "3                  Alice ran to Bob.  0.668702  0.331298\n",
       "4      The actress ran to the actor.  0.198285  0.801715\n",
       "5           The girl ran to the boy.  0.209363  0.790637\n",
       "6   Mrs. Taylor ran to Mr. Williams.  0.230840  0.769160\n",
       "7                 Emma ran to David.  0.921814  0.078186\n",
       "8    The princess ran to the prince.  0.198703  0.801297\n",
       "9               Sarah ran to Robert.  0.699248  0.300752\n",
       "10  Mrs. Williams ran to Mr. Taylor.  0.215290  0.784710\n",
       "11                Emily ran to Paul.  0.409164  0.590836"
      ]
     },
     "execution_count": 22,
     "metadata": {},
     "output_type": "execute_result"
    }
   ],
   "source": [
    "motion_noprompt_3f"
   ]
  },
  {
   "cell_type": "code",
   "execution_count": 23,
   "metadata": {},
   "outputs": [
    {
     "name": "stdout",
     "output_type": "stream",
     "text": [
      "P('subj-pron'|subj=female) =  0.3785289426644643\n",
      "P('non-subj-pron'|subj=female) =  0.6214710411926111\n"
     ]
    }
   ],
   "source": [
    "print(\"P('subj-pron'|subj=female) = \", compute_average(motion_noprompt_3f,'She'))\n",
    "print(\"P('non-subj-pron'|subj=female) = \", compute_average(motion_noprompt_3f,'He'))"
   ]
  },
  {
   "cell_type": "code",
   "execution_count": 24,
   "metadata": {},
   "outputs": [],
   "source": [
    "np_average_subj_female_subj_pron['ran'] = compute_average(motion_noprompt_3f,'She')\n",
    "np_average_subj_female_obj_pron['ran'] = compute_average(motion_noprompt_3f,'He')"
   ]
  },
  {
   "cell_type": "markdown",
   "metadata": {},
   "source": [
    "#### male subject"
   ]
  },
  {
   "cell_type": "code",
   "execution_count": 25,
   "metadata": {
    "scrolled": true
   },
   "outputs": [
    {
     "data": {
      "text/html": [
       "<div>\n",
       "<style scoped>\n",
       "    .dataframe tbody tr th:only-of-type {\n",
       "        vertical-align: middle;\n",
       "    }\n",
       "\n",
       "    .dataframe tbody tr th {\n",
       "        vertical-align: top;\n",
       "    }\n",
       "\n",
       "    .dataframe thead th {\n",
       "        text-align: right;\n",
       "    }\n",
       "</style>\n",
       "<table border=\"1\" class=\"dataframe\">\n",
       "  <thead>\n",
       "    <tr style=\"text-align: right;\">\n",
       "      <th></th>\n",
       "      <th>stimulus</th>\n",
       "      <th>He</th>\n",
       "      <th>She</th>\n",
       "    </tr>\n",
       "  </thead>\n",
       "  <tbody>\n",
       "    <tr>\n",
       "      <th>12</th>\n",
       "      <td>Mr. Smith ran to Miss Smith.</td>\n",
       "      <td>0.823107</td>\n",
       "      <td>0.176893</td>\n",
       "    </tr>\n",
       "    <tr>\n",
       "      <th>13</th>\n",
       "      <td>The man ran to the woman.</td>\n",
       "      <td>0.863241</td>\n",
       "      <td>0.136759</td>\n",
       "    </tr>\n",
       "    <tr>\n",
       "      <th>14</th>\n",
       "      <td>John ran to Mary.</td>\n",
       "      <td>0.838524</td>\n",
       "      <td>0.161476</td>\n",
       "    </tr>\n",
       "    <tr>\n",
       "      <th>15</th>\n",
       "      <td>Bob ran to Alice.</td>\n",
       "      <td>0.254448</td>\n",
       "      <td>0.745552</td>\n",
       "    </tr>\n",
       "    <tr>\n",
       "      <th>16</th>\n",
       "      <td>The actor ran to the actress.</td>\n",
       "      <td>0.865666</td>\n",
       "      <td>0.134334</td>\n",
       "    </tr>\n",
       "    <tr>\n",
       "      <th>17</th>\n",
       "      <td>The boy ran to the girl.</td>\n",
       "      <td>0.858868</td>\n",
       "      <td>0.141132</td>\n",
       "    </tr>\n",
       "    <tr>\n",
       "      <th>18</th>\n",
       "      <td>Mr. William ran to Mrs. Taylor.</td>\n",
       "      <td>0.851517</td>\n",
       "      <td>0.148483</td>\n",
       "    </tr>\n",
       "    <tr>\n",
       "      <th>19</th>\n",
       "      <td>David ran to Emma.</td>\n",
       "      <td>0.053240</td>\n",
       "      <td>0.946760</td>\n",
       "    </tr>\n",
       "    <tr>\n",
       "      <th>20</th>\n",
       "      <td>The prince ran to the princess.</td>\n",
       "      <td>0.868596</td>\n",
       "      <td>0.131404</td>\n",
       "    </tr>\n",
       "    <tr>\n",
       "      <th>21</th>\n",
       "      <td>Robert ran to Sarah.</td>\n",
       "      <td>0.111783</td>\n",
       "      <td>0.888217</td>\n",
       "    </tr>\n",
       "    <tr>\n",
       "      <th>22</th>\n",
       "      <td>Mr. Taylor ran to Mrs. Williams.</td>\n",
       "      <td>0.831650</td>\n",
       "      <td>0.168350</td>\n",
       "    </tr>\n",
       "    <tr>\n",
       "      <th>23</th>\n",
       "      <td>Paul ran to Emily.</td>\n",
       "      <td>0.827167</td>\n",
       "      <td>0.172833</td>\n",
       "    </tr>\n",
       "  </tbody>\n",
       "</table>\n",
       "</div>"
      ],
      "text/plain": [
       "                            stimulus        He       She\n",
       "12      Mr. Smith ran to Miss Smith.  0.823107  0.176893\n",
       "13         The man ran to the woman.  0.863241  0.136759\n",
       "14                 John ran to Mary.  0.838524  0.161476\n",
       "15                 Bob ran to Alice.  0.254448  0.745552\n",
       "16     The actor ran to the actress.  0.865666  0.134334\n",
       "17          The boy ran to the girl.  0.858868  0.141132\n",
       "18   Mr. William ran to Mrs. Taylor.  0.851517  0.148483\n",
       "19                David ran to Emma.  0.053240  0.946760\n",
       "20   The prince ran to the princess.  0.868596  0.131404\n",
       "21              Robert ran to Sarah.  0.111783  0.888217\n",
       "22  Mr. Taylor ran to Mrs. Williams.  0.831650  0.168350\n",
       "23                Paul ran to Emily.  0.827167  0.172833"
      ]
     },
     "execution_count": 25,
     "metadata": {},
     "output_type": "execute_result"
    }
   ],
   "source": [
    "motion_noprompt_3m"
   ]
  },
  {
   "cell_type": "code",
   "execution_count": 26,
   "metadata": {},
   "outputs": [
    {
     "name": "stdout",
     "output_type": "stream",
     "text": [
      "P('subj-pron'|subj=male) =  0.6706505349526802\n",
      "P('non-subj-pron'|subj=male) =  0.32934946318467456\n"
     ]
    }
   ],
   "source": [
    "print(\"P('subj-pron'|subj=male) = \", compute_average(motion_noprompt_3m,'He'))\n",
    "print(\"P('non-subj-pron'|subj=male) = \", compute_average(motion_noprompt_3m,'She'))"
   ]
  },
  {
   "cell_type": "code",
   "execution_count": 27,
   "metadata": {},
   "outputs": [],
   "source": [
    "np_average_subj_male_subj_pron['ran'] = compute_average(motion_noprompt_3m,'He')\n",
    "np_average_subj_male_obj_pron['ran'] = compute_average(motion_noprompt_3m,'She')"
   ]
  },
  {
   "cell_type": "markdown",
   "metadata": {},
   "source": [
    "### verb: \"swam\""
   ]
  },
  {
   "cell_type": "code",
   "execution_count": 28,
   "metadata": {},
   "outputs": [
    {
     "data": {
      "text/html": [
       "<div>\n",
       "<style scoped>\n",
       "    .dataframe tbody tr th:only-of-type {\n",
       "        vertical-align: middle;\n",
       "    }\n",
       "\n",
       "    .dataframe tbody tr th {\n",
       "        vertical-align: top;\n",
       "    }\n",
       "\n",
       "    .dataframe thead th {\n",
       "        text-align: right;\n",
       "    }\n",
       "</style>\n",
       "<table border=\"1\" class=\"dataframe\">\n",
       "  <thead>\n",
       "    <tr style=\"text-align: right;\">\n",
       "      <th></th>\n",
       "      <th>stimulus</th>\n",
       "      <th>He</th>\n",
       "      <th>She</th>\n",
       "    </tr>\n",
       "  </thead>\n",
       "  <tbody>\n",
       "    <tr>\n",
       "      <th>0</th>\n",
       "      <td>Miss Smith swam to Mr. Smith.</td>\n",
       "      <td>0.759702</td>\n",
       "      <td>0.240298</td>\n",
       "    </tr>\n",
       "    <tr>\n",
       "      <th>1</th>\n",
       "      <td>The woman swam to the man.</td>\n",
       "      <td>0.788506</td>\n",
       "      <td>0.211494</td>\n",
       "    </tr>\n",
       "    <tr>\n",
       "      <th>2</th>\n",
       "      <td>Mary swam to John.</td>\n",
       "      <td>0.360251</td>\n",
       "      <td>0.639749</td>\n",
       "    </tr>\n",
       "    <tr>\n",
       "      <th>3</th>\n",
       "      <td>Alice swam to Bob.</td>\n",
       "      <td>0.290111</td>\n",
       "      <td>0.709889</td>\n",
       "    </tr>\n",
       "    <tr>\n",
       "      <th>4</th>\n",
       "      <td>The actress swam to the actor.</td>\n",
       "      <td>0.821673</td>\n",
       "      <td>0.178327</td>\n",
       "    </tr>\n",
       "  </tbody>\n",
       "</table>\n",
       "</div>"
      ],
      "text/plain": [
       "                         stimulus        He       She\n",
       "0   Miss Smith swam to Mr. Smith.  0.759702  0.240298\n",
       "1      The woman swam to the man.  0.788506  0.211494\n",
       "2              Mary swam to John.  0.360251  0.639749\n",
       "3              Alice swam to Bob.  0.290111  0.709889\n",
       "4  The actress swam to the actor.  0.821673  0.178327"
      ]
     },
     "execution_count": 28,
     "metadata": {},
     "output_type": "execute_result"
    }
   ],
   "source": [
    "motion_noprompt_4 = pd.read_csv(\"../results/motion/no-prompt/4.csv\")\n",
    "motion_noprompt_4.head()"
   ]
  },
  {
   "cell_type": "code",
   "execution_count": 29,
   "metadata": {},
   "outputs": [],
   "source": [
    "# female subject\n",
    "motion_noprompt_4f = motion_noprompt_4[0:12]\n",
    "motion_noprompt_4f = motion_noprompt_4f[[\"stimulus\",\"She\",\"He\"]]\n",
    "# male subject\n",
    "motion_noprompt_4m = motion_noprompt_4[12:24]"
   ]
  },
  {
   "cell_type": "markdown",
   "metadata": {},
   "source": [
    "#### female subject"
   ]
  },
  {
   "cell_type": "code",
   "execution_count": 30,
   "metadata": {},
   "outputs": [
    {
     "data": {
      "text/html": [
       "<div>\n",
       "<style scoped>\n",
       "    .dataframe tbody tr th:only-of-type {\n",
       "        vertical-align: middle;\n",
       "    }\n",
       "\n",
       "    .dataframe tbody tr th {\n",
       "        vertical-align: top;\n",
       "    }\n",
       "\n",
       "    .dataframe thead th {\n",
       "        text-align: right;\n",
       "    }\n",
       "</style>\n",
       "<table border=\"1\" class=\"dataframe\">\n",
       "  <thead>\n",
       "    <tr style=\"text-align: right;\">\n",
       "      <th></th>\n",
       "      <th>stimulus</th>\n",
       "      <th>She</th>\n",
       "      <th>He</th>\n",
       "    </tr>\n",
       "  </thead>\n",
       "  <tbody>\n",
       "    <tr>\n",
       "      <th>0</th>\n",
       "      <td>Miss Smith swam to Mr. Smith.</td>\n",
       "      <td>0.240298</td>\n",
       "      <td>0.759702</td>\n",
       "    </tr>\n",
       "    <tr>\n",
       "      <th>1</th>\n",
       "      <td>The woman swam to the man.</td>\n",
       "      <td>0.211494</td>\n",
       "      <td>0.788506</td>\n",
       "    </tr>\n",
       "    <tr>\n",
       "      <th>2</th>\n",
       "      <td>Mary swam to John.</td>\n",
       "      <td>0.639749</td>\n",
       "      <td>0.360251</td>\n",
       "    </tr>\n",
       "    <tr>\n",
       "      <th>3</th>\n",
       "      <td>Alice swam to Bob.</td>\n",
       "      <td>0.709889</td>\n",
       "      <td>0.290111</td>\n",
       "    </tr>\n",
       "    <tr>\n",
       "      <th>4</th>\n",
       "      <td>The actress swam to the actor.</td>\n",
       "      <td>0.178327</td>\n",
       "      <td>0.821673</td>\n",
       "    </tr>\n",
       "    <tr>\n",
       "      <th>5</th>\n",
       "      <td>The girl swam to the boy.</td>\n",
       "      <td>0.204331</td>\n",
       "      <td>0.795669</td>\n",
       "    </tr>\n",
       "    <tr>\n",
       "      <th>6</th>\n",
       "      <td>Mrs. Taylor swam to Mr. Williams.</td>\n",
       "      <td>0.229834</td>\n",
       "      <td>0.770166</td>\n",
       "    </tr>\n",
       "    <tr>\n",
       "      <th>7</th>\n",
       "      <td>Emma swam to David.</td>\n",
       "      <td>0.251865</td>\n",
       "      <td>0.748135</td>\n",
       "    </tr>\n",
       "    <tr>\n",
       "      <th>8</th>\n",
       "      <td>The princess swam to the prince.</td>\n",
       "      <td>0.192794</td>\n",
       "      <td>0.807206</td>\n",
       "    </tr>\n",
       "    <tr>\n",
       "      <th>9</th>\n",
       "      <td>Sarah swam to Robert.</td>\n",
       "      <td>0.663044</td>\n",
       "      <td>0.336956</td>\n",
       "    </tr>\n",
       "    <tr>\n",
       "      <th>10</th>\n",
       "      <td>Mrs. Williams swam to Mr. Taylor.</td>\n",
       "      <td>0.216629</td>\n",
       "      <td>0.783371</td>\n",
       "    </tr>\n",
       "    <tr>\n",
       "      <th>11</th>\n",
       "      <td>Emily swam to Paul.</td>\n",
       "      <td>0.647697</td>\n",
       "      <td>0.352303</td>\n",
       "    </tr>\n",
       "  </tbody>\n",
       "</table>\n",
       "</div>"
      ],
      "text/plain": [
       "                             stimulus       She        He\n",
       "0       Miss Smith swam to Mr. Smith.  0.240298  0.759702\n",
       "1          The woman swam to the man.  0.211494  0.788506\n",
       "2                  Mary swam to John.  0.639749  0.360251\n",
       "3                  Alice swam to Bob.  0.709889  0.290111\n",
       "4      The actress swam to the actor.  0.178327  0.821673\n",
       "5           The girl swam to the boy.  0.204331  0.795669\n",
       "6   Mrs. Taylor swam to Mr. Williams.  0.229834  0.770166\n",
       "7                 Emma swam to David.  0.251865  0.748135\n",
       "8    The princess swam to the prince.  0.192794  0.807206\n",
       "9               Sarah swam to Robert.  0.663044  0.336956\n",
       "10  Mrs. Williams swam to Mr. Taylor.  0.216629  0.783371\n",
       "11                Emily swam to Paul.  0.647697  0.352303"
      ]
     },
     "execution_count": 30,
     "metadata": {},
     "output_type": "execute_result"
    }
   ],
   "source": [
    "motion_noprompt_4f"
   ]
  },
  {
   "cell_type": "code",
   "execution_count": 31,
   "metadata": {},
   "outputs": [
    {
     "name": "stdout",
     "output_type": "stream",
     "text": [
      "P('subj-pron'|subj=female) =  0.3654959922035535\n",
      "P('non-subj-pron'|subj=female) =  0.634503997862339\n"
     ]
    }
   ],
   "source": [
    "print(\"P('subj-pron'|subj=female) = \", compute_average(motion_noprompt_4f,'She'))\n",
    "print(\"P('non-subj-pron'|subj=female) = \", compute_average(motion_noprompt_4f,'He'))"
   ]
  },
  {
   "cell_type": "code",
   "execution_count": 32,
   "metadata": {},
   "outputs": [],
   "source": [
    "np_average_subj_female_subj_pron['swam'] = compute_average(motion_noprompt_4f,'She')\n",
    "np_average_subj_female_obj_pron['swam'] = compute_average(motion_noprompt_4f,'He')"
   ]
  },
  {
   "cell_type": "markdown",
   "metadata": {},
   "source": [
    "#### male subject"
   ]
  },
  {
   "cell_type": "code",
   "execution_count": 33,
   "metadata": {},
   "outputs": [
    {
     "data": {
      "text/html": [
       "<div>\n",
       "<style scoped>\n",
       "    .dataframe tbody tr th:only-of-type {\n",
       "        vertical-align: middle;\n",
       "    }\n",
       "\n",
       "    .dataframe tbody tr th {\n",
       "        vertical-align: top;\n",
       "    }\n",
       "\n",
       "    .dataframe thead th {\n",
       "        text-align: right;\n",
       "    }\n",
       "</style>\n",
       "<table border=\"1\" class=\"dataframe\">\n",
       "  <thead>\n",
       "    <tr style=\"text-align: right;\">\n",
       "      <th></th>\n",
       "      <th>stimulus</th>\n",
       "      <th>He</th>\n",
       "      <th>She</th>\n",
       "    </tr>\n",
       "  </thead>\n",
       "  <tbody>\n",
       "    <tr>\n",
       "      <th>12</th>\n",
       "      <td>Mr. Smith swam to Miss Smith.</td>\n",
       "      <td>0.822604</td>\n",
       "      <td>0.177396</td>\n",
       "    </tr>\n",
       "    <tr>\n",
       "      <th>13</th>\n",
       "      <td>The man swam to the woman.</td>\n",
       "      <td>0.859690</td>\n",
       "      <td>0.140310</td>\n",
       "    </tr>\n",
       "    <tr>\n",
       "      <th>14</th>\n",
       "      <td>John swam to Mary.</td>\n",
       "      <td>0.832208</td>\n",
       "      <td>0.167792</td>\n",
       "    </tr>\n",
       "    <tr>\n",
       "      <th>15</th>\n",
       "      <td>Bob swam to Alice.</td>\n",
       "      <td>0.889916</td>\n",
       "      <td>0.110084</td>\n",
       "    </tr>\n",
       "    <tr>\n",
       "      <th>16</th>\n",
       "      <td>The actor swam to the actress.</td>\n",
       "      <td>0.856787</td>\n",
       "      <td>0.143213</td>\n",
       "    </tr>\n",
       "    <tr>\n",
       "      <th>17</th>\n",
       "      <td>The boy swam to the girl.</td>\n",
       "      <td>0.847087</td>\n",
       "      <td>0.152913</td>\n",
       "    </tr>\n",
       "    <tr>\n",
       "      <th>18</th>\n",
       "      <td>Mr. William swam to Mrs. Taylor.</td>\n",
       "      <td>0.847035</td>\n",
       "      <td>0.152965</td>\n",
       "    </tr>\n",
       "    <tr>\n",
       "      <th>19</th>\n",
       "      <td>David swam to Emma.</td>\n",
       "      <td>0.289774</td>\n",
       "      <td>0.710226</td>\n",
       "    </tr>\n",
       "    <tr>\n",
       "      <th>20</th>\n",
       "      <td>The prince swam to the princess.</td>\n",
       "      <td>0.858006</td>\n",
       "      <td>0.141994</td>\n",
       "    </tr>\n",
       "    <tr>\n",
       "      <th>21</th>\n",
       "      <td>Robert swam to Sarah.</td>\n",
       "      <td>0.599594</td>\n",
       "      <td>0.400406</td>\n",
       "    </tr>\n",
       "    <tr>\n",
       "      <th>22</th>\n",
       "      <td>Mr. Taylor swam to Mrs. Williams.</td>\n",
       "      <td>0.833640</td>\n",
       "      <td>0.166360</td>\n",
       "    </tr>\n",
       "    <tr>\n",
       "      <th>23</th>\n",
       "      <td>Paul swam to Emily.</td>\n",
       "      <td>0.827138</td>\n",
       "      <td>0.172862</td>\n",
       "    </tr>\n",
       "  </tbody>\n",
       "</table>\n",
       "</div>"
      ],
      "text/plain": [
       "                             stimulus        He       She\n",
       "12      Mr. Smith swam to Miss Smith.  0.822604  0.177396\n",
       "13         The man swam to the woman.  0.859690  0.140310\n",
       "14                 John swam to Mary.  0.832208  0.167792\n",
       "15                 Bob swam to Alice.  0.889916  0.110084\n",
       "16     The actor swam to the actress.  0.856787  0.143213\n",
       "17          The boy swam to the girl.  0.847087  0.152913\n",
       "18   Mr. William swam to Mrs. Taylor.  0.847035  0.152965\n",
       "19                David swam to Emma.  0.289774  0.710226\n",
       "20   The prince swam to the princess.  0.858006  0.141994\n",
       "21              Robert swam to Sarah.  0.599594  0.400406\n",
       "22  Mr. Taylor swam to Mrs. Williams.  0.833640  0.166360\n",
       "23                Paul swam to Emily.  0.827138  0.172862"
      ]
     },
     "execution_count": 33,
     "metadata": {},
     "output_type": "execute_result"
    }
   ],
   "source": [
    "motion_noprompt_4m"
   ]
  },
  {
   "cell_type": "code",
   "execution_count": 34,
   "metadata": {},
   "outputs": [
    {
     "name": "stdout",
     "output_type": "stream",
     "text": [
      "P('subj-pron'|subj=male) =  0.7802898113926252\n",
      "P('non-subj-pron'|subj=male) =  0.21971018984913826\n"
     ]
    }
   ],
   "source": [
    "print(\"P('subj-pron'|subj=male) = \", compute_average(motion_noprompt_4m,'He'))\n",
    "print(\"P('non-subj-pron'|subj=male) = \", compute_average(motion_noprompt_4m,'She'))"
   ]
  },
  {
   "cell_type": "code",
   "execution_count": 35,
   "metadata": {},
   "outputs": [],
   "source": [
    "np_average_subj_male_subj_pron['swam'] = compute_average(motion_noprompt_4m,'He')\n",
    "np_average_subj_male_obj_pron['swam'] = compute_average(motion_noprompt_4m,'She')"
   ]
  },
  {
   "cell_type": "markdown",
   "metadata": {},
   "source": [
    "### verb: \"drove\""
   ]
  },
  {
   "cell_type": "code",
   "execution_count": 36,
   "metadata": {},
   "outputs": [
    {
     "data": {
      "text/html": [
       "<div>\n",
       "<style scoped>\n",
       "    .dataframe tbody tr th:only-of-type {\n",
       "        vertical-align: middle;\n",
       "    }\n",
       "\n",
       "    .dataframe tbody tr th {\n",
       "        vertical-align: top;\n",
       "    }\n",
       "\n",
       "    .dataframe thead th {\n",
       "        text-align: right;\n",
       "    }\n",
       "</style>\n",
       "<table border=\"1\" class=\"dataframe\">\n",
       "  <thead>\n",
       "    <tr style=\"text-align: right;\">\n",
       "      <th></th>\n",
       "      <th>stimulus</th>\n",
       "      <th>He</th>\n",
       "      <th>She</th>\n",
       "    </tr>\n",
       "  </thead>\n",
       "  <tbody>\n",
       "    <tr>\n",
       "      <th>0</th>\n",
       "      <td>Miss Smith drove to Mr. Smith.</td>\n",
       "      <td>0.755144</td>\n",
       "      <td>0.244856</td>\n",
       "    </tr>\n",
       "    <tr>\n",
       "      <th>1</th>\n",
       "      <td>The woman drove to the man.</td>\n",
       "      <td>0.781475</td>\n",
       "      <td>0.218524</td>\n",
       "    </tr>\n",
       "    <tr>\n",
       "      <th>2</th>\n",
       "      <td>Mary drove to John.</td>\n",
       "      <td>0.650550</td>\n",
       "      <td>0.349450</td>\n",
       "    </tr>\n",
       "    <tr>\n",
       "      <th>3</th>\n",
       "      <td>Alice drove to Bob.</td>\n",
       "      <td>0.368687</td>\n",
       "      <td>0.631313</td>\n",
       "    </tr>\n",
       "    <tr>\n",
       "      <th>4</th>\n",
       "      <td>The actress drove to the actor.</td>\n",
       "      <td>0.815184</td>\n",
       "      <td>0.184816</td>\n",
       "    </tr>\n",
       "  </tbody>\n",
       "</table>\n",
       "</div>"
      ],
      "text/plain": [
       "                          stimulus        He       She\n",
       "0   Miss Smith drove to Mr. Smith.  0.755144  0.244856\n",
       "1      The woman drove to the man.  0.781475  0.218524\n",
       "2              Mary drove to John.  0.650550  0.349450\n",
       "3              Alice drove to Bob.  0.368687  0.631313\n",
       "4  The actress drove to the actor.  0.815184  0.184816"
      ]
     },
     "execution_count": 36,
     "metadata": {},
     "output_type": "execute_result"
    }
   ],
   "source": [
    "motion_noprompt_5 = pd.read_csv(\"../results/motion/no-prompt/5.csv\")\n",
    "motion_noprompt_5.head()"
   ]
  },
  {
   "cell_type": "code",
   "execution_count": 37,
   "metadata": {},
   "outputs": [],
   "source": [
    "# female subject\n",
    "motion_noprompt_5f = motion_noprompt_5[0:12]\n",
    "motion_noprompt_5f = motion_noprompt_5f[[\"stimulus\",\"She\",\"He\"]]\n",
    "# male subject\n",
    "motion_noprompt_5m = motion_noprompt_5[12:24]"
   ]
  },
  {
   "cell_type": "markdown",
   "metadata": {},
   "source": [
    "#### female subject"
   ]
  },
  {
   "cell_type": "code",
   "execution_count": 38,
   "metadata": {},
   "outputs": [
    {
     "data": {
      "text/html": [
       "<div>\n",
       "<style scoped>\n",
       "    .dataframe tbody tr th:only-of-type {\n",
       "        vertical-align: middle;\n",
       "    }\n",
       "\n",
       "    .dataframe tbody tr th {\n",
       "        vertical-align: top;\n",
       "    }\n",
       "\n",
       "    .dataframe thead th {\n",
       "        text-align: right;\n",
       "    }\n",
       "</style>\n",
       "<table border=\"1\" class=\"dataframe\">\n",
       "  <thead>\n",
       "    <tr style=\"text-align: right;\">\n",
       "      <th></th>\n",
       "      <th>stimulus</th>\n",
       "      <th>She</th>\n",
       "      <th>He</th>\n",
       "    </tr>\n",
       "  </thead>\n",
       "  <tbody>\n",
       "    <tr>\n",
       "      <th>0</th>\n",
       "      <td>Miss Smith drove to Mr. Smith.</td>\n",
       "      <td>0.244856</td>\n",
       "      <td>0.755144</td>\n",
       "    </tr>\n",
       "    <tr>\n",
       "      <th>1</th>\n",
       "      <td>The woman drove to the man.</td>\n",
       "      <td>0.218524</td>\n",
       "      <td>0.781475</td>\n",
       "    </tr>\n",
       "    <tr>\n",
       "      <th>2</th>\n",
       "      <td>Mary drove to John.</td>\n",
       "      <td>0.349450</td>\n",
       "      <td>0.650550</td>\n",
       "    </tr>\n",
       "    <tr>\n",
       "      <th>3</th>\n",
       "      <td>Alice drove to Bob.</td>\n",
       "      <td>0.631313</td>\n",
       "      <td>0.368687</td>\n",
       "    </tr>\n",
       "    <tr>\n",
       "      <th>4</th>\n",
       "      <td>The actress drove to the actor.</td>\n",
       "      <td>0.184816</td>\n",
       "      <td>0.815184</td>\n",
       "    </tr>\n",
       "    <tr>\n",
       "      <th>5</th>\n",
       "      <td>The girl drove to the boy.</td>\n",
       "      <td>0.219071</td>\n",
       "      <td>0.780929</td>\n",
       "    </tr>\n",
       "    <tr>\n",
       "      <th>6</th>\n",
       "      <td>Mrs. Taylor drove to Mr. Williams.</td>\n",
       "      <td>0.237469</td>\n",
       "      <td>0.762531</td>\n",
       "    </tr>\n",
       "    <tr>\n",
       "      <th>7</th>\n",
       "      <td>Emma drove to David.</td>\n",
       "      <td>0.950269</td>\n",
       "      <td>0.049731</td>\n",
       "    </tr>\n",
       "    <tr>\n",
       "      <th>8</th>\n",
       "      <td>The princess drove to the prince.</td>\n",
       "      <td>0.206283</td>\n",
       "      <td>0.793717</td>\n",
       "    </tr>\n",
       "    <tr>\n",
       "      <th>9</th>\n",
       "      <td>Sarah drove to Robert.</td>\n",
       "      <td>0.650389</td>\n",
       "      <td>0.349611</td>\n",
       "    </tr>\n",
       "    <tr>\n",
       "      <th>10</th>\n",
       "      <td>Mrs. Williams drove to Mr. Taylor.</td>\n",
       "      <td>0.224978</td>\n",
       "      <td>0.775022</td>\n",
       "    </tr>\n",
       "    <tr>\n",
       "      <th>11</th>\n",
       "      <td>Emily drove to Paul.</td>\n",
       "      <td>0.631305</td>\n",
       "      <td>0.368695</td>\n",
       "    </tr>\n",
       "  </tbody>\n",
       "</table>\n",
       "</div>"
      ],
      "text/plain": [
       "                              stimulus       She        He\n",
       "0       Miss Smith drove to Mr. Smith.  0.244856  0.755144\n",
       "1          The woman drove to the man.  0.218524  0.781475\n",
       "2                  Mary drove to John.  0.349450  0.650550\n",
       "3                  Alice drove to Bob.  0.631313  0.368687\n",
       "4      The actress drove to the actor.  0.184816  0.815184\n",
       "5           The girl drove to the boy.  0.219071  0.780929\n",
       "6   Mrs. Taylor drove to Mr. Williams.  0.237469  0.762531\n",
       "7                 Emma drove to David.  0.950269  0.049731\n",
       "8    The princess drove to the prince.  0.206283  0.793717\n",
       "9               Sarah drove to Robert.  0.650389  0.349611\n",
       "10  Mrs. Williams drove to Mr. Taylor.  0.224978  0.775022\n",
       "11                Emily drove to Paul.  0.631305  0.368695"
      ]
     },
     "execution_count": 38,
     "metadata": {},
     "output_type": "execute_result"
    }
   ],
   "source": [
    "motion_noprompt_5f"
   ]
  },
  {
   "cell_type": "code",
   "execution_count": 39,
   "metadata": {
    "scrolled": true
   },
   "outputs": [
    {
     "name": "stdout",
     "output_type": "stream",
     "text": [
      "P('subj-pron'|subj=female) =  0.3957268421848615\n",
      "P('non-subj-pron'|subj=female) =  0.6042731450870633\n"
     ]
    }
   ],
   "source": [
    "print(\"P('subj-pron'|subj=female) = \", compute_average(motion_noprompt_5f,'She'))\n",
    "print(\"P('non-subj-pron'|subj=female) = \", compute_average(motion_noprompt_5f,'He'))"
   ]
  },
  {
   "cell_type": "code",
   "execution_count": 40,
   "metadata": {},
   "outputs": [],
   "source": [
    "np_average_subj_female_subj_pron['drove'] = compute_average(motion_noprompt_5f,'She')\n",
    "np_average_subj_female_obj_pron['drove'] = compute_average(motion_noprompt_5f,'He')"
   ]
  },
  {
   "cell_type": "markdown",
   "metadata": {},
   "source": [
    "#### male subject"
   ]
  },
  {
   "cell_type": "code",
   "execution_count": 41,
   "metadata": {
    "scrolled": true
   },
   "outputs": [
    {
     "data": {
      "text/html": [
       "<div>\n",
       "<style scoped>\n",
       "    .dataframe tbody tr th:only-of-type {\n",
       "        vertical-align: middle;\n",
       "    }\n",
       "\n",
       "    .dataframe tbody tr th {\n",
       "        vertical-align: top;\n",
       "    }\n",
       "\n",
       "    .dataframe thead th {\n",
       "        text-align: right;\n",
       "    }\n",
       "</style>\n",
       "<table border=\"1\" class=\"dataframe\">\n",
       "  <thead>\n",
       "    <tr style=\"text-align: right;\">\n",
       "      <th></th>\n",
       "      <th>stimulus</th>\n",
       "      <th>He</th>\n",
       "      <th>She</th>\n",
       "    </tr>\n",
       "  </thead>\n",
       "  <tbody>\n",
       "    <tr>\n",
       "      <th>12</th>\n",
       "      <td>Mr. Smith drove to Miss Smith.</td>\n",
       "      <td>0.817684</td>\n",
       "      <td>0.182316</td>\n",
       "    </tr>\n",
       "    <tr>\n",
       "      <th>13</th>\n",
       "      <td>The man drove to the woman.</td>\n",
       "      <td>0.860604</td>\n",
       "      <td>0.139396</td>\n",
       "    </tr>\n",
       "    <tr>\n",
       "      <th>14</th>\n",
       "      <td>John drove to Mary.</td>\n",
       "      <td>0.832064</td>\n",
       "      <td>0.167936</td>\n",
       "    </tr>\n",
       "    <tr>\n",
       "      <th>15</th>\n",
       "      <td>Bob drove to Alice.</td>\n",
       "      <td>0.765717</td>\n",
       "      <td>0.234283</td>\n",
       "    </tr>\n",
       "    <tr>\n",
       "      <th>16</th>\n",
       "      <td>The actor drove to the actress.</td>\n",
       "      <td>0.859923</td>\n",
       "      <td>0.140077</td>\n",
       "    </tr>\n",
       "    <tr>\n",
       "      <th>17</th>\n",
       "      <td>The boy drove to the girl.</td>\n",
       "      <td>0.851860</td>\n",
       "      <td>0.148140</td>\n",
       "    </tr>\n",
       "    <tr>\n",
       "      <th>18</th>\n",
       "      <td>Mr. William drove to Mrs. Taylor.</td>\n",
       "      <td>0.844491</td>\n",
       "      <td>0.155509</td>\n",
       "    </tr>\n",
       "    <tr>\n",
       "      <th>19</th>\n",
       "      <td>David drove to Emma.</td>\n",
       "      <td>0.138575</td>\n",
       "      <td>0.861425</td>\n",
       "    </tr>\n",
       "    <tr>\n",
       "      <th>20</th>\n",
       "      <td>The prince drove to the princess.</td>\n",
       "      <td>0.860692</td>\n",
       "      <td>0.139308</td>\n",
       "    </tr>\n",
       "    <tr>\n",
       "      <th>21</th>\n",
       "      <td>Robert drove to Sarah.</td>\n",
       "      <td>0.419330</td>\n",
       "      <td>0.580670</td>\n",
       "    </tr>\n",
       "    <tr>\n",
       "      <th>22</th>\n",
       "      <td>Mr. Taylor drove to Mrs. Williams.</td>\n",
       "      <td>0.827596</td>\n",
       "      <td>0.172404</td>\n",
       "    </tr>\n",
       "    <tr>\n",
       "      <th>23</th>\n",
       "      <td>Paul drove to Emily.</td>\n",
       "      <td>0.821254</td>\n",
       "      <td>0.178746</td>\n",
       "    </tr>\n",
       "  </tbody>\n",
       "</table>\n",
       "</div>"
      ],
      "text/plain": [
       "                              stimulus        He       She\n",
       "12      Mr. Smith drove to Miss Smith.  0.817684  0.182316\n",
       "13         The man drove to the woman.  0.860604  0.139396\n",
       "14                 John drove to Mary.  0.832064  0.167936\n",
       "15                 Bob drove to Alice.  0.765717  0.234283\n",
       "16     The actor drove to the actress.  0.859923  0.140077\n",
       "17          The boy drove to the girl.  0.851860  0.148140\n",
       "18   Mr. William drove to Mrs. Taylor.  0.844491  0.155509\n",
       "19                David drove to Emma.  0.138575  0.861425\n",
       "20   The prince drove to the princess.  0.860692  0.139308\n",
       "21              Robert drove to Sarah.  0.419330  0.580670\n",
       "22  Mr. Taylor drove to Mrs. Williams.  0.827596  0.172404\n",
       "23                Paul drove to Emily.  0.821254  0.178746"
      ]
     },
     "execution_count": 41,
     "metadata": {},
     "output_type": "execute_result"
    }
   ],
   "source": [
    "motion_noprompt_5m"
   ]
  },
  {
   "cell_type": "code",
   "execution_count": 42,
   "metadata": {},
   "outputs": [
    {
     "name": "stdout",
     "output_type": "stream",
     "text": [
      "P('subj-pron'|subj=male) =  0.7416490962107977\n",
      "P('non-subj-pron'|subj=male) =  0.2583509162068367\n"
     ]
    }
   ],
   "source": [
    "print(\"P('subj-pron'|subj=male) = \", compute_average(motion_noprompt_5m,'He'))\n",
    "print(\"P('non-subj-pron'|subj=male) = \", compute_average(motion_noprompt_5m,'She'))"
   ]
  },
  {
   "cell_type": "code",
   "execution_count": 43,
   "metadata": {},
   "outputs": [],
   "source": [
    "np_average_subj_male_subj_pron['drove'] = compute_average(motion_noprompt_5m,'He')\n",
    "np_average_subj_male_obj_pron['drove'] = compute_average(motion_noprompt_5m,'She')"
   ]
  },
  {
   "cell_type": "markdown",
   "metadata": {},
   "source": [
    "### verb: \"jogged\""
   ]
  },
  {
   "cell_type": "code",
   "execution_count": 44,
   "metadata": {},
   "outputs": [
    {
     "data": {
      "text/html": [
       "<div>\n",
       "<style scoped>\n",
       "    .dataframe tbody tr th:only-of-type {\n",
       "        vertical-align: middle;\n",
       "    }\n",
       "\n",
       "    .dataframe tbody tr th {\n",
       "        vertical-align: top;\n",
       "    }\n",
       "\n",
       "    .dataframe thead th {\n",
       "        text-align: right;\n",
       "    }\n",
       "</style>\n",
       "<table border=\"1\" class=\"dataframe\">\n",
       "  <thead>\n",
       "    <tr style=\"text-align: right;\">\n",
       "      <th></th>\n",
       "      <th>stimulus</th>\n",
       "      <th>He</th>\n",
       "      <th>She</th>\n",
       "    </tr>\n",
       "  </thead>\n",
       "  <tbody>\n",
       "    <tr>\n",
       "      <th>0</th>\n",
       "      <td>Miss Smith jogged to Mr. Smith.</td>\n",
       "      <td>0.769379</td>\n",
       "      <td>0.230621</td>\n",
       "    </tr>\n",
       "    <tr>\n",
       "      <th>1</th>\n",
       "      <td>The woman jogged to the man.</td>\n",
       "      <td>0.790054</td>\n",
       "      <td>0.209946</td>\n",
       "    </tr>\n",
       "    <tr>\n",
       "      <th>2</th>\n",
       "      <td>Mary jogged to John.</td>\n",
       "      <td>0.464148</td>\n",
       "      <td>0.535852</td>\n",
       "    </tr>\n",
       "    <tr>\n",
       "      <th>3</th>\n",
       "      <td>Alice jogged to Bob.</td>\n",
       "      <td>0.283975</td>\n",
       "      <td>0.716025</td>\n",
       "    </tr>\n",
       "    <tr>\n",
       "      <th>4</th>\n",
       "      <td>The actress jogged to the actor.</td>\n",
       "      <td>0.820111</td>\n",
       "      <td>0.179889</td>\n",
       "    </tr>\n",
       "  </tbody>\n",
       "</table>\n",
       "</div>"
      ],
      "text/plain": [
       "                           stimulus        He       She\n",
       "0   Miss Smith jogged to Mr. Smith.  0.769379  0.230621\n",
       "1      The woman jogged to the man.  0.790054  0.209946\n",
       "2              Mary jogged to John.  0.464148  0.535852\n",
       "3              Alice jogged to Bob.  0.283975  0.716025\n",
       "4  The actress jogged to the actor.  0.820111  0.179889"
      ]
     },
     "execution_count": 44,
     "metadata": {},
     "output_type": "execute_result"
    }
   ],
   "source": [
    "motion_noprompt_6 = pd.read_csv(\"../results/motion/no-prompt/6.csv\")\n",
    "motion_noprompt_6.head()"
   ]
  },
  {
   "cell_type": "code",
   "execution_count": 45,
   "metadata": {},
   "outputs": [],
   "source": [
    "# female subject\n",
    "motion_noprompt_6f = motion_noprompt_6[0:12]\n",
    "motion_noprompt_6f = motion_noprompt_6f[[\"stimulus\",\"She\",\"He\"]]\n",
    "# male subject\n",
    "motion_noprompt_6m = motion_noprompt_6[12:24]"
   ]
  },
  {
   "cell_type": "markdown",
   "metadata": {},
   "source": [
    "#### female subject"
   ]
  },
  {
   "cell_type": "code",
   "execution_count": 46,
   "metadata": {},
   "outputs": [
    {
     "data": {
      "text/html": [
       "<div>\n",
       "<style scoped>\n",
       "    .dataframe tbody tr th:only-of-type {\n",
       "        vertical-align: middle;\n",
       "    }\n",
       "\n",
       "    .dataframe tbody tr th {\n",
       "        vertical-align: top;\n",
       "    }\n",
       "\n",
       "    .dataframe thead th {\n",
       "        text-align: right;\n",
       "    }\n",
       "</style>\n",
       "<table border=\"1\" class=\"dataframe\">\n",
       "  <thead>\n",
       "    <tr style=\"text-align: right;\">\n",
       "      <th></th>\n",
       "      <th>stimulus</th>\n",
       "      <th>She</th>\n",
       "      <th>He</th>\n",
       "    </tr>\n",
       "  </thead>\n",
       "  <tbody>\n",
       "    <tr>\n",
       "      <th>0</th>\n",
       "      <td>Miss Smith jogged to Mr. Smith.</td>\n",
       "      <td>0.230621</td>\n",
       "      <td>0.769379</td>\n",
       "    </tr>\n",
       "    <tr>\n",
       "      <th>1</th>\n",
       "      <td>The woman jogged to the man.</td>\n",
       "      <td>0.209946</td>\n",
       "      <td>0.790054</td>\n",
       "    </tr>\n",
       "    <tr>\n",
       "      <th>2</th>\n",
       "      <td>Mary jogged to John.</td>\n",
       "      <td>0.535852</td>\n",
       "      <td>0.464148</td>\n",
       "    </tr>\n",
       "    <tr>\n",
       "      <th>3</th>\n",
       "      <td>Alice jogged to Bob.</td>\n",
       "      <td>0.716025</td>\n",
       "      <td>0.283975</td>\n",
       "    </tr>\n",
       "    <tr>\n",
       "      <th>4</th>\n",
       "      <td>The actress jogged to the actor.</td>\n",
       "      <td>0.179889</td>\n",
       "      <td>0.820111</td>\n",
       "    </tr>\n",
       "    <tr>\n",
       "      <th>5</th>\n",
       "      <td>The girl jogged to the boy.</td>\n",
       "      <td>0.202516</td>\n",
       "      <td>0.797484</td>\n",
       "    </tr>\n",
       "    <tr>\n",
       "      <th>6</th>\n",
       "      <td>Mrs. Taylor jogged to Mr. Williams.</td>\n",
       "      <td>0.222034</td>\n",
       "      <td>0.777966</td>\n",
       "    </tr>\n",
       "    <tr>\n",
       "      <th>7</th>\n",
       "      <td>Emma jogged to David.</td>\n",
       "      <td>0.247344</td>\n",
       "      <td>0.752656</td>\n",
       "    </tr>\n",
       "    <tr>\n",
       "      <th>8</th>\n",
       "      <td>The princess jogged to the prince.</td>\n",
       "      <td>0.191659</td>\n",
       "      <td>0.808341</td>\n",
       "    </tr>\n",
       "    <tr>\n",
       "      <th>9</th>\n",
       "      <td>Sarah jogged to Robert.</td>\n",
       "      <td>0.653484</td>\n",
       "      <td>0.346516</td>\n",
       "    </tr>\n",
       "    <tr>\n",
       "      <th>10</th>\n",
       "      <td>Mrs. Williams jogged to Mr. Taylor.</td>\n",
       "      <td>0.208075</td>\n",
       "      <td>0.791925</td>\n",
       "    </tr>\n",
       "    <tr>\n",
       "      <th>11</th>\n",
       "      <td>Emily jogged to Paul.</td>\n",
       "      <td>0.569181</td>\n",
       "      <td>0.430819</td>\n",
       "    </tr>\n",
       "  </tbody>\n",
       "</table>\n",
       "</div>"
      ],
      "text/plain": [
       "                               stimulus       She        He\n",
       "0       Miss Smith jogged to Mr. Smith.  0.230621  0.769379\n",
       "1          The woman jogged to the man.  0.209946  0.790054\n",
       "2                  Mary jogged to John.  0.535852  0.464148\n",
       "3                  Alice jogged to Bob.  0.716025  0.283975\n",
       "4      The actress jogged to the actor.  0.179889  0.820111\n",
       "5           The girl jogged to the boy.  0.202516  0.797484\n",
       "6   Mrs. Taylor jogged to Mr. Williams.  0.222034  0.777966\n",
       "7                 Emma jogged to David.  0.247344  0.752656\n",
       "8    The princess jogged to the prince.  0.191659  0.808341\n",
       "9               Sarah jogged to Robert.  0.653484  0.346516\n",
       "10  Mrs. Williams jogged to Mr. Taylor.  0.208075  0.791925\n",
       "11                Emily jogged to Paul.  0.569181  0.430819"
      ]
     },
     "execution_count": 46,
     "metadata": {},
     "output_type": "execute_result"
    }
   ],
   "source": [
    "motion_noprompt_6f"
   ]
  },
  {
   "cell_type": "code",
   "execution_count": 47,
   "metadata": {
    "scrolled": true
   },
   "outputs": [
    {
     "name": "stdout",
     "output_type": "stream",
     "text": [
      "P('subj-pron'|subj=female) =  0.34721878667672473\n",
      "P('non-subj-pron'|subj=female) =  0.6527812207738558\n"
     ]
    }
   ],
   "source": [
    "print(\"P('subj-pron'|subj=female) = \", compute_average(motion_noprompt_6f,'She'))\n",
    "print(\"P('non-subj-pron'|subj=female) = \", compute_average(motion_noprompt_6f,'He'))"
   ]
  },
  {
   "cell_type": "code",
   "execution_count": 48,
   "metadata": {},
   "outputs": [],
   "source": [
    "np_average_subj_female_subj_pron['jogged'] = compute_average(motion_noprompt_6f,'She')\n",
    "np_average_subj_female_obj_pron['jogged'] = compute_average(motion_noprompt_6f,'He')"
   ]
  },
  {
   "cell_type": "markdown",
   "metadata": {},
   "source": [
    "#### male subject"
   ]
  },
  {
   "cell_type": "code",
   "execution_count": 49,
   "metadata": {
    "scrolled": false
   },
   "outputs": [
    {
     "data": {
      "text/html": [
       "<div>\n",
       "<style scoped>\n",
       "    .dataframe tbody tr th:only-of-type {\n",
       "        vertical-align: middle;\n",
       "    }\n",
       "\n",
       "    .dataframe tbody tr th {\n",
       "        vertical-align: top;\n",
       "    }\n",
       "\n",
       "    .dataframe thead th {\n",
       "        text-align: right;\n",
       "    }\n",
       "</style>\n",
       "<table border=\"1\" class=\"dataframe\">\n",
       "  <thead>\n",
       "    <tr style=\"text-align: right;\">\n",
       "      <th></th>\n",
       "      <th>stimulus</th>\n",
       "      <th>He</th>\n",
       "      <th>She</th>\n",
       "    </tr>\n",
       "  </thead>\n",
       "  <tbody>\n",
       "    <tr>\n",
       "      <th>12</th>\n",
       "      <td>Mr. Smith jogged to Miss Smith.</td>\n",
       "      <td>0.823077</td>\n",
       "      <td>0.176923</td>\n",
       "    </tr>\n",
       "    <tr>\n",
       "      <th>13</th>\n",
       "      <td>The man jogged to the woman.</td>\n",
       "      <td>0.859303</td>\n",
       "      <td>0.140697</td>\n",
       "    </tr>\n",
       "    <tr>\n",
       "      <th>14</th>\n",
       "      <td>John jogged to Mary.</td>\n",
       "      <td>0.835379</td>\n",
       "      <td>0.164621</td>\n",
       "    </tr>\n",
       "    <tr>\n",
       "      <th>15</th>\n",
       "      <td>Bob jogged to Alice.</td>\n",
       "      <td>0.703664</td>\n",
       "      <td>0.296336</td>\n",
       "    </tr>\n",
       "    <tr>\n",
       "      <th>16</th>\n",
       "      <td>The actor jogged to the actress.</td>\n",
       "      <td>0.857538</td>\n",
       "      <td>0.142462</td>\n",
       "    </tr>\n",
       "    <tr>\n",
       "      <th>17</th>\n",
       "      <td>The boy jogged to the girl.</td>\n",
       "      <td>0.852611</td>\n",
       "      <td>0.147389</td>\n",
       "    </tr>\n",
       "    <tr>\n",
       "      <th>18</th>\n",
       "      <td>Mr. William jogged to Mrs. Taylor.</td>\n",
       "      <td>0.845781</td>\n",
       "      <td>0.154219</td>\n",
       "    </tr>\n",
       "    <tr>\n",
       "      <th>19</th>\n",
       "      <td>David jogged to Emma.</td>\n",
       "      <td>0.130953</td>\n",
       "      <td>0.869047</td>\n",
       "    </tr>\n",
       "    <tr>\n",
       "      <th>20</th>\n",
       "      <td>The prince jogged to the princess.</td>\n",
       "      <td>0.861170</td>\n",
       "      <td>0.138830</td>\n",
       "    </tr>\n",
       "    <tr>\n",
       "      <th>21</th>\n",
       "      <td>Robert jogged to Sarah.</td>\n",
       "      <td>0.386753</td>\n",
       "      <td>0.613247</td>\n",
       "    </tr>\n",
       "    <tr>\n",
       "      <th>22</th>\n",
       "      <td>Mr. Taylor jogged to Mrs. Williams.</td>\n",
       "      <td>0.833399</td>\n",
       "      <td>0.166602</td>\n",
       "    </tr>\n",
       "    <tr>\n",
       "      <th>23</th>\n",
       "      <td>Paul jogged to Emily.</td>\n",
       "      <td>0.827447</td>\n",
       "      <td>0.172553</td>\n",
       "    </tr>\n",
       "  </tbody>\n",
       "</table>\n",
       "</div>"
      ],
      "text/plain": [
       "                               stimulus        He       She\n",
       "12      Mr. Smith jogged to Miss Smith.  0.823077  0.176923\n",
       "13         The man jogged to the woman.  0.859303  0.140697\n",
       "14                 John jogged to Mary.  0.835379  0.164621\n",
       "15                 Bob jogged to Alice.  0.703664  0.296336\n",
       "16     The actor jogged to the actress.  0.857538  0.142462\n",
       "17          The boy jogged to the girl.  0.852611  0.147389\n",
       "18   Mr. William jogged to Mrs. Taylor.  0.845781  0.154219\n",
       "19                David jogged to Emma.  0.130953  0.869047\n",
       "20   The prince jogged to the princess.  0.861170  0.138830\n",
       "21              Robert jogged to Sarah.  0.386753  0.613247\n",
       "22  Mr. Taylor jogged to Mrs. Williams.  0.833399  0.166602\n",
       "23                Paul jogged to Emily.  0.827447  0.172553"
      ]
     },
     "execution_count": 49,
     "metadata": {},
     "output_type": "execute_result"
    }
   ],
   "source": [
    "motion_noprompt_6m"
   ]
  },
  {
   "cell_type": "code",
   "execution_count": 50,
   "metadata": {},
   "outputs": [
    {
     "name": "stdout",
     "output_type": "stream",
     "text": [
      "P('subj-pron'|subj=male) =  0.7347562698026499\n",
      "P('non-subj-pron'|subj=male) =  0.2652437351644039\n"
     ]
    }
   ],
   "source": [
    "print(\"P('subj-pron'|subj=male) = \", compute_average(motion_noprompt_6m,'He'))\n",
    "print(\"P('non-subj-pron'|subj=male) = \", compute_average(motion_noprompt_6m,'She'))"
   ]
  },
  {
   "cell_type": "code",
   "execution_count": 51,
   "metadata": {},
   "outputs": [],
   "source": [
    "np_average_subj_male_subj_pron['jogged'] = compute_average(motion_noprompt_6m,'He')\n",
    "np_average_subj_male_obj_pron['jogged'] = compute_average(motion_noprompt_6m,'She')"
   ]
  },
  {
   "cell_type": "markdown",
   "metadata": {},
   "source": [
    "## Summary of Results"
   ]
  },
  {
   "cell_type": "code",
   "execution_count": 52,
   "metadata": {
    "scrolled": true
   },
   "outputs": [
    {
     "data": {
      "text/html": [
       "<div>\n",
       "<style scoped>\n",
       "    .dataframe tbody tr th:only-of-type {\n",
       "        vertical-align: middle;\n",
       "    }\n",
       "\n",
       "    .dataframe tbody tr th {\n",
       "        vertical-align: top;\n",
       "    }\n",
       "\n",
       "    .dataframe thead th {\n",
       "        text-align: right;\n",
       "    }\n",
       "</style>\n",
       "<table border=\"1\" class=\"dataframe\">\n",
       "  <thead>\n",
       "    <tr style=\"text-align: right;\">\n",
       "      <th></th>\n",
       "      <th>verb</th>\n",
       "      <th>subj_ref_female_subj</th>\n",
       "      <th>obj_ref_female_subj</th>\n",
       "    </tr>\n",
       "  </thead>\n",
       "  <tbody>\n",
       "    <tr>\n",
       "      <th>0</th>\n",
       "      <td>flew</td>\n",
       "      <td>0.297102</td>\n",
       "      <td>0.702898</td>\n",
       "    </tr>\n",
       "    <tr>\n",
       "      <th>1</th>\n",
       "      <td>walked</td>\n",
       "      <td>0.389739</td>\n",
       "      <td>0.610261</td>\n",
       "    </tr>\n",
       "    <tr>\n",
       "      <th>2</th>\n",
       "      <td>ran</td>\n",
       "      <td>0.378529</td>\n",
       "      <td>0.621471</td>\n",
       "    </tr>\n",
       "    <tr>\n",
       "      <th>3</th>\n",
       "      <td>swam</td>\n",
       "      <td>0.365496</td>\n",
       "      <td>0.634504</td>\n",
       "    </tr>\n",
       "    <tr>\n",
       "      <th>4</th>\n",
       "      <td>drove</td>\n",
       "      <td>0.395727</td>\n",
       "      <td>0.604273</td>\n",
       "    </tr>\n",
       "    <tr>\n",
       "      <th>5</th>\n",
       "      <td>jogged</td>\n",
       "      <td>0.347219</td>\n",
       "      <td>0.652781</td>\n",
       "    </tr>\n",
       "  </tbody>\n",
       "</table>\n",
       "</div>"
      ],
      "text/plain": [
       "     verb  subj_ref_female_subj  obj_ref_female_subj\n",
       "0    flew              0.297102             0.702898\n",
       "1  walked              0.389739             0.610261\n",
       "2     ran              0.378529             0.621471\n",
       "3    swam              0.365496             0.634504\n",
       "4   drove              0.395727             0.604273\n",
       "5  jogged              0.347219             0.652781"
      ]
     },
     "execution_count": 52,
     "metadata": {},
     "output_type": "execute_result"
    }
   ],
   "source": [
    "np_results_fsubj_subjpron = pd.DataFrame(list(np_average_subj_female_subj_pron.items()),columns=['verb','subj_ref_female_subj'])\n",
    "np_results_fsubj_objpron = pd.DataFrame(list(np_average_subj_female_obj_pron.items()),columns=['verb','obj_ref_female_subj'])\n",
    "np_results_fsubj = np_results_fsubj_subjpron.merge(np_results_fsubj_objpron)\n",
    "np_results_fsubj"
   ]
  },
  {
   "cell_type": "code",
   "execution_count": 53,
   "metadata": {
    "scrolled": true
   },
   "outputs": [
    {
     "data": {
      "text/html": [
       "<div>\n",
       "<style scoped>\n",
       "    .dataframe tbody tr th:only-of-type {\n",
       "        vertical-align: middle;\n",
       "    }\n",
       "\n",
       "    .dataframe tbody tr th {\n",
       "        vertical-align: top;\n",
       "    }\n",
       "\n",
       "    .dataframe thead th {\n",
       "        text-align: right;\n",
       "    }\n",
       "</style>\n",
       "<table border=\"1\" class=\"dataframe\">\n",
       "  <thead>\n",
       "    <tr style=\"text-align: right;\">\n",
       "      <th></th>\n",
       "      <th>verb</th>\n",
       "      <th>subj_ref_male_subj</th>\n",
       "      <th>obj_ref_male_subj</th>\n",
       "    </tr>\n",
       "  </thead>\n",
       "  <tbody>\n",
       "    <tr>\n",
       "      <th>0</th>\n",
       "      <td>flew</td>\n",
       "      <td>0.774658</td>\n",
       "      <td>0.225342</td>\n",
       "    </tr>\n",
       "    <tr>\n",
       "      <th>1</th>\n",
       "      <td>walked</td>\n",
       "      <td>0.722692</td>\n",
       "      <td>0.277308</td>\n",
       "    </tr>\n",
       "    <tr>\n",
       "      <th>2</th>\n",
       "      <td>ran</td>\n",
       "      <td>0.670651</td>\n",
       "      <td>0.329349</td>\n",
       "    </tr>\n",
       "    <tr>\n",
       "      <th>3</th>\n",
       "      <td>swam</td>\n",
       "      <td>0.780290</td>\n",
       "      <td>0.219710</td>\n",
       "    </tr>\n",
       "    <tr>\n",
       "      <th>4</th>\n",
       "      <td>drove</td>\n",
       "      <td>0.741649</td>\n",
       "      <td>0.258351</td>\n",
       "    </tr>\n",
       "    <tr>\n",
       "      <th>5</th>\n",
       "      <td>jogged</td>\n",
       "      <td>0.734756</td>\n",
       "      <td>0.265244</td>\n",
       "    </tr>\n",
       "  </tbody>\n",
       "</table>\n",
       "</div>"
      ],
      "text/plain": [
       "     verb  subj_ref_male_subj  obj_ref_male_subj\n",
       "0    flew            0.774658           0.225342\n",
       "1  walked            0.722692           0.277308\n",
       "2     ran            0.670651           0.329349\n",
       "3    swam            0.780290           0.219710\n",
       "4   drove            0.741649           0.258351\n",
       "5  jogged            0.734756           0.265244"
      ]
     },
     "execution_count": 53,
     "metadata": {},
     "output_type": "execute_result"
    }
   ],
   "source": [
    "np_results_msubj_subjpron = pd.DataFrame(list(np_average_subj_male_subj_pron.items()),columns=['verb','subj_ref_male_subj'])\n",
    "np_results_msubj_objpron = pd.DataFrame(list(np_average_subj_male_obj_pron.items()),columns=['verb','obj_ref_male_subj'])\n",
    "np_results_msubj = np_results_msubj_subjpron.merge(np_results_msubj_objpron)\n",
    "np_results_msubj"
   ]
  },
  {
   "cell_type": "code",
   "execution_count": 54,
   "metadata": {
    "scrolled": true
   },
   "outputs": [
    {
     "data": {
      "text/html": [
       "<div>\n",
       "<style scoped>\n",
       "    .dataframe tbody tr th:only-of-type {\n",
       "        vertical-align: middle;\n",
       "    }\n",
       "\n",
       "    .dataframe tbody tr th {\n",
       "        vertical-align: top;\n",
       "    }\n",
       "\n",
       "    .dataframe thead th {\n",
       "        text-align: right;\n",
       "    }\n",
       "</style>\n",
       "<table border=\"1\" class=\"dataframe\">\n",
       "  <thead>\n",
       "    <tr style=\"text-align: right;\">\n",
       "      <th></th>\n",
       "      <th>verb</th>\n",
       "      <th>subj_ref_female_subj</th>\n",
       "      <th>obj_ref_female_subj</th>\n",
       "      <th>subj_ref_male_subj</th>\n",
       "      <th>obj_ref_male_subj</th>\n",
       "    </tr>\n",
       "  </thead>\n",
       "  <tbody>\n",
       "    <tr>\n",
       "      <th>0</th>\n",
       "      <td>flew</td>\n",
       "      <td>0.297102</td>\n",
       "      <td>0.702898</td>\n",
       "      <td>0.774658</td>\n",
       "      <td>0.225342</td>\n",
       "    </tr>\n",
       "    <tr>\n",
       "      <th>1</th>\n",
       "      <td>walked</td>\n",
       "      <td>0.389739</td>\n",
       "      <td>0.610261</td>\n",
       "      <td>0.722692</td>\n",
       "      <td>0.277308</td>\n",
       "    </tr>\n",
       "    <tr>\n",
       "      <th>2</th>\n",
       "      <td>ran</td>\n",
       "      <td>0.378529</td>\n",
       "      <td>0.621471</td>\n",
       "      <td>0.670651</td>\n",
       "      <td>0.329349</td>\n",
       "    </tr>\n",
       "    <tr>\n",
       "      <th>3</th>\n",
       "      <td>swam</td>\n",
       "      <td>0.365496</td>\n",
       "      <td>0.634504</td>\n",
       "      <td>0.780290</td>\n",
       "      <td>0.219710</td>\n",
       "    </tr>\n",
       "    <tr>\n",
       "      <th>4</th>\n",
       "      <td>drove</td>\n",
       "      <td>0.395727</td>\n",
       "      <td>0.604273</td>\n",
       "      <td>0.741649</td>\n",
       "      <td>0.258351</td>\n",
       "    </tr>\n",
       "    <tr>\n",
       "      <th>5</th>\n",
       "      <td>jogged</td>\n",
       "      <td>0.347219</td>\n",
       "      <td>0.652781</td>\n",
       "      <td>0.734756</td>\n",
       "      <td>0.265244</td>\n",
       "    </tr>\n",
       "  </tbody>\n",
       "</table>\n",
       "</div>"
      ],
      "text/plain": [
       "     verb  subj_ref_female_subj  obj_ref_female_subj  subj_ref_male_subj  \\\n",
       "0    flew              0.297102             0.702898            0.774658   \n",
       "1  walked              0.389739             0.610261            0.722692   \n",
       "2     ran              0.378529             0.621471            0.670651   \n",
       "3    swam              0.365496             0.634504            0.780290   \n",
       "4   drove              0.395727             0.604273            0.741649   \n",
       "5  jogged              0.347219             0.652781            0.734756   \n",
       "\n",
       "   obj_ref_male_subj  \n",
       "0           0.225342  \n",
       "1           0.277308  \n",
       "2           0.329349  \n",
       "3           0.219710  \n",
       "4           0.258351  \n",
       "5           0.265244  "
      ]
     },
     "execution_count": 54,
     "metadata": {},
     "output_type": "execute_result"
    }
   ],
   "source": [
    "np_results = np_results_fsubj.merge(np_results_msubj)\n",
    "np_results"
   ]
  },
  {
   "cell_type": "code",
   "execution_count": 55,
   "metadata": {},
   "outputs": [
    {
     "name": "stdout",
     "output_type": "stream",
     "text": [
      "P(subj_reference |subj=female) 0.3623019603805409\n",
      "P(obj_reference |subj=female) 0.6376980313927764\n"
     ]
    }
   ],
   "source": [
    "print(\"P(subj_reference |subj=female)\", compute_average(np_results,'subj_ref_female_subj'))\n",
    "print(\"P(obj_reference |subj=female)\", compute_average(np_results,'obj_ref_female_subj'))"
   ]
  },
  {
   "cell_type": "code",
   "execution_count": 56,
   "metadata": {},
   "outputs": [
    {
     "name": "stdout",
     "output_type": "stream",
     "text": [
      "P(subj_reference |subj=male) 0.7374492386976877\n",
      "P(obj_reference |subj=male) 0.2625507651310828\n"
     ]
    }
   ],
   "source": [
    "print(\"P(subj_reference |subj=male)\", compute_average(np_results,'subj_ref_male_subj'))\n",
    "print(\"P(obj_reference |subj=male)\", compute_average(np_results,'obj_ref_male_subj'))"
   ]
  },
  {
   "cell_type": "markdown",
   "metadata": {},
   "source": [
    "## Connective: \"because\""
   ]
  },
  {
   "cell_type": "code",
   "execution_count": 57,
   "metadata": {},
   "outputs": [],
   "source": [
    "c1_average_subj_female_subj_pron = {}\n",
    "c1_average_subj_female_obj_pron = {}\n",
    "c1_average_subj_male_subj_pron = {}\n",
    "c1_average_subj_male_obj_pron = {}"
   ]
  },
  {
   "cell_type": "markdown",
   "metadata": {},
   "source": [
    "### verb: \"flew\""
   ]
  },
  {
   "cell_type": "code",
   "execution_count": 58,
   "metadata": {},
   "outputs": [
    {
     "data": {
      "text/html": [
       "<div>\n",
       "<style scoped>\n",
       "    .dataframe tbody tr th:only-of-type {\n",
       "        vertical-align: middle;\n",
       "    }\n",
       "\n",
       "    .dataframe tbody tr th {\n",
       "        vertical-align: top;\n",
       "    }\n",
       "\n",
       "    .dataframe thead th {\n",
       "        text-align: right;\n",
       "    }\n",
       "</style>\n",
       "<table border=\"1\" class=\"dataframe\">\n",
       "  <thead>\n",
       "    <tr style=\"text-align: right;\">\n",
       "      <th></th>\n",
       "      <th>stimulus</th>\n",
       "      <th>he</th>\n",
       "      <th>she</th>\n",
       "    </tr>\n",
       "  </thead>\n",
       "  <tbody>\n",
       "    <tr>\n",
       "      <th>0</th>\n",
       "      <td>Miss Smith flew to Mr. Smith because</td>\n",
       "      <td>0.135334</td>\n",
       "      <td>0.864666</td>\n",
       "    </tr>\n",
       "    <tr>\n",
       "      <th>1</th>\n",
       "      <td>The woman flew to the man because</td>\n",
       "      <td>0.364666</td>\n",
       "      <td>0.635334</td>\n",
       "    </tr>\n",
       "    <tr>\n",
       "      <th>2</th>\n",
       "      <td>Mary flew to John because</td>\n",
       "      <td>0.080697</td>\n",
       "      <td>0.919303</td>\n",
       "    </tr>\n",
       "    <tr>\n",
       "      <th>3</th>\n",
       "      <td>Alice flew to Bob because</td>\n",
       "      <td>0.047785</td>\n",
       "      <td>0.952215</td>\n",
       "    </tr>\n",
       "    <tr>\n",
       "      <th>4</th>\n",
       "      <td>The actress flew to the actor because</td>\n",
       "      <td>0.222974</td>\n",
       "      <td>0.777026</td>\n",
       "    </tr>\n",
       "  </tbody>\n",
       "</table>\n",
       "</div>"
      ],
      "text/plain": [
       "                                stimulus        he       she\n",
       "0   Miss Smith flew to Mr. Smith because  0.135334  0.864666\n",
       "1      The woman flew to the man because  0.364666  0.635334\n",
       "2              Mary flew to John because  0.080697  0.919303\n",
       "3              Alice flew to Bob because  0.047785  0.952215\n",
       "4  The actress flew to the actor because  0.222974  0.777026"
      ]
     },
     "execution_count": 58,
     "metadata": {},
     "output_type": "execute_result"
    }
   ],
   "source": [
    "motion_connective1_1 = pd.read_csv(\"../results/motion/connective1/1.csv\")\n",
    "motion_connective1_1.head()"
   ]
  },
  {
   "cell_type": "code",
   "execution_count": 59,
   "metadata": {},
   "outputs": [],
   "source": [
    "# female subject\n",
    "motion_connective1_1f = motion_connective1_1[0:12]\n",
    "motion_connective1_1f = motion_connective1_1f[[\"stimulus\",\"she\",\"he\"]]\n",
    "# male subject\n",
    "motion_connective1_1m = motion_connective1_1[12:24]"
   ]
  },
  {
   "cell_type": "markdown",
   "metadata": {},
   "source": [
    "#### female subject"
   ]
  },
  {
   "cell_type": "code",
   "execution_count": 60,
   "metadata": {},
   "outputs": [
    {
     "data": {
      "text/html": [
       "<div>\n",
       "<style scoped>\n",
       "    .dataframe tbody tr th:only-of-type {\n",
       "        vertical-align: middle;\n",
       "    }\n",
       "\n",
       "    .dataframe tbody tr th {\n",
       "        vertical-align: top;\n",
       "    }\n",
       "\n",
       "    .dataframe thead th {\n",
       "        text-align: right;\n",
       "    }\n",
       "</style>\n",
       "<table border=\"1\" class=\"dataframe\">\n",
       "  <thead>\n",
       "    <tr style=\"text-align: right;\">\n",
       "      <th></th>\n",
       "      <th>stimulus</th>\n",
       "      <th>she</th>\n",
       "      <th>he</th>\n",
       "    </tr>\n",
       "  </thead>\n",
       "  <tbody>\n",
       "    <tr>\n",
       "      <th>0</th>\n",
       "      <td>Miss Smith flew to Mr. Smith because</td>\n",
       "      <td>0.864666</td>\n",
       "      <td>0.135334</td>\n",
       "    </tr>\n",
       "    <tr>\n",
       "      <th>1</th>\n",
       "      <td>The woman flew to the man because</td>\n",
       "      <td>0.635334</td>\n",
       "      <td>0.364666</td>\n",
       "    </tr>\n",
       "    <tr>\n",
       "      <th>2</th>\n",
       "      <td>Mary flew to John because</td>\n",
       "      <td>0.919303</td>\n",
       "      <td>0.080697</td>\n",
       "    </tr>\n",
       "    <tr>\n",
       "      <th>3</th>\n",
       "      <td>Alice flew to Bob because</td>\n",
       "      <td>0.952215</td>\n",
       "      <td>0.047785</td>\n",
       "    </tr>\n",
       "    <tr>\n",
       "      <th>4</th>\n",
       "      <td>The actress flew to the actor because</td>\n",
       "      <td>0.777026</td>\n",
       "      <td>0.222974</td>\n",
       "    </tr>\n",
       "    <tr>\n",
       "      <th>5</th>\n",
       "      <td>The girl flew to the boy because</td>\n",
       "      <td>0.765824</td>\n",
       "      <td>0.234176</td>\n",
       "    </tr>\n",
       "    <tr>\n",
       "      <th>6</th>\n",
       "      <td>Mrs. Taylor flew to Mr. Williams because</td>\n",
       "      <td>0.879078</td>\n",
       "      <td>0.120922</td>\n",
       "    </tr>\n",
       "    <tr>\n",
       "      <th>7</th>\n",
       "      <td>Emma flew to David because</td>\n",
       "      <td>0.976895</td>\n",
       "      <td>0.023105</td>\n",
       "    </tr>\n",
       "    <tr>\n",
       "      <th>8</th>\n",
       "      <td>The princess flew to the prince because</td>\n",
       "      <td>0.629602</td>\n",
       "      <td>0.370398</td>\n",
       "    </tr>\n",
       "    <tr>\n",
       "      <th>9</th>\n",
       "      <td>Sarah flew to Robert because</td>\n",
       "      <td>0.947607</td>\n",
       "      <td>0.052393</td>\n",
       "    </tr>\n",
       "    <tr>\n",
       "      <th>10</th>\n",
       "      <td>Mrs. Williams flew to Mr. Taylor because</td>\n",
       "      <td>0.854541</td>\n",
       "      <td>0.145459</td>\n",
       "    </tr>\n",
       "    <tr>\n",
       "      <th>11</th>\n",
       "      <td>Emily flew to Paul because</td>\n",
       "      <td>0.927423</td>\n",
       "      <td>0.072577</td>\n",
       "    </tr>\n",
       "  </tbody>\n",
       "</table>\n",
       "</div>"
      ],
      "text/plain": [
       "                                    stimulus       she        he\n",
       "0       Miss Smith flew to Mr. Smith because  0.864666  0.135334\n",
       "1          The woman flew to the man because  0.635334  0.364666\n",
       "2                  Mary flew to John because  0.919303  0.080697\n",
       "3                  Alice flew to Bob because  0.952215  0.047785\n",
       "4      The actress flew to the actor because  0.777026  0.222974\n",
       "5           The girl flew to the boy because  0.765824  0.234176\n",
       "6   Mrs. Taylor flew to Mr. Williams because  0.879078  0.120922\n",
       "7                 Emma flew to David because  0.976895  0.023105\n",
       "8    The princess flew to the prince because  0.629602  0.370398\n",
       "9               Sarah flew to Robert because  0.947607  0.052393\n",
       "10  Mrs. Williams flew to Mr. Taylor because  0.854541  0.145459\n",
       "11                Emily flew to Paul because  0.927423  0.072577"
      ]
     },
     "execution_count": 60,
     "metadata": {},
     "output_type": "execute_result"
    }
   ],
   "source": [
    "motion_connective1_1f"
   ]
  },
  {
   "cell_type": "code",
   "execution_count": 61,
   "metadata": {},
   "outputs": [
    {
     "name": "stdout",
     "output_type": "stream",
     "text": [
      "P('subj-pron'|subj=female) =  0.8441260308027267\n",
      "P('non-subj-pron'|subj=female) =  0.15587396966293454\n"
     ]
    }
   ],
   "source": [
    "print(\"P('subj-pron'|subj=female) = \", compute_average(motion_connective1_1f,'she'))\n",
    "print(\"P('non-subj-pron'|subj=female) = \", compute_average(motion_connective1_1f,'he'))"
   ]
  },
  {
   "cell_type": "code",
   "execution_count": 62,
   "metadata": {},
   "outputs": [],
   "source": [
    "c1_average_subj_female_subj_pron['flew'] = compute_average(motion_connective1_1f,'she')\n",
    "c1_average_subj_female_obj_pron['flew'] = compute_average(motion_connective1_1f,'he')"
   ]
  },
  {
   "cell_type": "markdown",
   "metadata": {},
   "source": [
    "#### male subject"
   ]
  },
  {
   "cell_type": "code",
   "execution_count": 63,
   "metadata": {},
   "outputs": [
    {
     "data": {
      "text/html": [
       "<div>\n",
       "<style scoped>\n",
       "    .dataframe tbody tr th:only-of-type {\n",
       "        vertical-align: middle;\n",
       "    }\n",
       "\n",
       "    .dataframe tbody tr th {\n",
       "        vertical-align: top;\n",
       "    }\n",
       "\n",
       "    .dataframe thead th {\n",
       "        text-align: right;\n",
       "    }\n",
       "</style>\n",
       "<table border=\"1\" class=\"dataframe\">\n",
       "  <thead>\n",
       "    <tr style=\"text-align: right;\">\n",
       "      <th></th>\n",
       "      <th>stimulus</th>\n",
       "      <th>he</th>\n",
       "      <th>she</th>\n",
       "    </tr>\n",
       "  </thead>\n",
       "  <tbody>\n",
       "    <tr>\n",
       "      <th>12</th>\n",
       "      <td>Mr. Smith flew to Miss Smith because</td>\n",
       "      <td>0.576699</td>\n",
       "      <td>0.423301</td>\n",
       "    </tr>\n",
       "    <tr>\n",
       "      <th>13</th>\n",
       "      <td>The man flew to the woman because</td>\n",
       "      <td>0.361184</td>\n",
       "      <td>0.638816</td>\n",
       "    </tr>\n",
       "    <tr>\n",
       "      <th>14</th>\n",
       "      <td>John flew to Mary because</td>\n",
       "      <td>0.457618</td>\n",
       "      <td>0.542382</td>\n",
       "    </tr>\n",
       "    <tr>\n",
       "      <th>15</th>\n",
       "      <td>Bob flew to Alice because</td>\n",
       "      <td>0.884480</td>\n",
       "      <td>0.115520</td>\n",
       "    </tr>\n",
       "    <tr>\n",
       "      <th>16</th>\n",
       "      <td>The actor flew to the actress because</td>\n",
       "      <td>0.114845</td>\n",
       "      <td>0.885155</td>\n",
       "    </tr>\n",
       "    <tr>\n",
       "      <th>17</th>\n",
       "      <td>The boy flew to the girl because</td>\n",
       "      <td>0.226781</td>\n",
       "      <td>0.773219</td>\n",
       "    </tr>\n",
       "    <tr>\n",
       "      <th>18</th>\n",
       "      <td>Mr. William flew to Mrs. Taylor because</td>\n",
       "      <td>0.293114</td>\n",
       "      <td>0.706886</td>\n",
       "    </tr>\n",
       "    <tr>\n",
       "      <th>19</th>\n",
       "      <td>David flew to Emma because</td>\n",
       "      <td>0.488226</td>\n",
       "      <td>0.511774</td>\n",
       "    </tr>\n",
       "    <tr>\n",
       "      <th>20</th>\n",
       "      <td>The prince flew to the princess because</td>\n",
       "      <td>0.387422</td>\n",
       "      <td>0.612578</td>\n",
       "    </tr>\n",
       "    <tr>\n",
       "      <th>21</th>\n",
       "      <td>Robert flew to Sarah because</td>\n",
       "      <td>0.520307</td>\n",
       "      <td>0.479693</td>\n",
       "    </tr>\n",
       "    <tr>\n",
       "      <th>22</th>\n",
       "      <td>Mr. Taylor flew to Mrs. Williams because</td>\n",
       "      <td>0.164008</td>\n",
       "      <td>0.835992</td>\n",
       "    </tr>\n",
       "    <tr>\n",
       "      <th>23</th>\n",
       "      <td>Paul flew to Emily because</td>\n",
       "      <td>0.527942</td>\n",
       "      <td>0.472058</td>\n",
       "    </tr>\n",
       "  </tbody>\n",
       "</table>\n",
       "</div>"
      ],
      "text/plain": [
       "                                    stimulus        he       she\n",
       "12      Mr. Smith flew to Miss Smith because  0.576699  0.423301\n",
       "13         The man flew to the woman because  0.361184  0.638816\n",
       "14                 John flew to Mary because  0.457618  0.542382\n",
       "15                 Bob flew to Alice because  0.884480  0.115520\n",
       "16     The actor flew to the actress because  0.114845  0.885155\n",
       "17          The boy flew to the girl because  0.226781  0.773219\n",
       "18   Mr. William flew to Mrs. Taylor because  0.293114  0.706886\n",
       "19                David flew to Emma because  0.488226  0.511774\n",
       "20   The prince flew to the princess because  0.387422  0.612578\n",
       "21              Robert flew to Sarah because  0.520307  0.479693\n",
       "22  Mr. Taylor flew to Mrs. Williams because  0.164008  0.835992\n",
       "23                Paul flew to Emily because  0.527942  0.472058"
      ]
     },
     "execution_count": 63,
     "metadata": {},
     "output_type": "execute_result"
    }
   ],
   "source": [
    "motion_connective1_1m"
   ]
  },
  {
   "cell_type": "code",
   "execution_count": 64,
   "metadata": {},
   "outputs": [
    {
     "name": "stdout",
     "output_type": "stream",
     "text": [
      "P('subj-pron'|subj=male) =  0.4168856218457222\n",
      "P('non-subj-pron'|subj=male) =  0.5831143949180841\n"
     ]
    }
   ],
   "source": [
    "print(\"P('subj-pron'|subj=male) = \", compute_average(motion_connective1_1m,'he'))\n",
    "print(\"P('non-subj-pron'|subj=male) = \", compute_average(motion_connective1_1m,'she'))"
   ]
  },
  {
   "cell_type": "code",
   "execution_count": 65,
   "metadata": {},
   "outputs": [],
   "source": [
    "c1_average_subj_male_subj_pron['flew'] = compute_average(motion_connective1_1m,'he')\n",
    "c1_average_subj_male_obj_pron['flew'] = compute_average(motion_connective1_1m,'she')"
   ]
  },
  {
   "cell_type": "markdown",
   "metadata": {},
   "source": [
    "### verb: \"walked\""
   ]
  },
  {
   "cell_type": "code",
   "execution_count": 66,
   "metadata": {},
   "outputs": [
    {
     "data": {
      "text/html": [
       "<div>\n",
       "<style scoped>\n",
       "    .dataframe tbody tr th:only-of-type {\n",
       "        vertical-align: middle;\n",
       "    }\n",
       "\n",
       "    .dataframe tbody tr th {\n",
       "        vertical-align: top;\n",
       "    }\n",
       "\n",
       "    .dataframe thead th {\n",
       "        text-align: right;\n",
       "    }\n",
       "</style>\n",
       "<table border=\"1\" class=\"dataframe\">\n",
       "  <thead>\n",
       "    <tr style=\"text-align: right;\">\n",
       "      <th></th>\n",
       "      <th>stimulus</th>\n",
       "      <th>he</th>\n",
       "      <th>she</th>\n",
       "    </tr>\n",
       "  </thead>\n",
       "  <tbody>\n",
       "    <tr>\n",
       "      <th>0</th>\n",
       "      <td>Miss Smith walked to Mr. Smith because</td>\n",
       "      <td>0.187570</td>\n",
       "      <td>0.812430</td>\n",
       "    </tr>\n",
       "    <tr>\n",
       "      <th>1</th>\n",
       "      <td>The woman walked to the man because</td>\n",
       "      <td>0.357116</td>\n",
       "      <td>0.642885</td>\n",
       "    </tr>\n",
       "    <tr>\n",
       "      <th>2</th>\n",
       "      <td>Mary walked to John because</td>\n",
       "      <td>0.086483</td>\n",
       "      <td>0.913517</td>\n",
       "    </tr>\n",
       "    <tr>\n",
       "      <th>3</th>\n",
       "      <td>Alice walked to Bob because</td>\n",
       "      <td>0.040943</td>\n",
       "      <td>0.959056</td>\n",
       "    </tr>\n",
       "    <tr>\n",
       "      <th>4</th>\n",
       "      <td>The actress walked to the actor because</td>\n",
       "      <td>0.157915</td>\n",
       "      <td>0.842085</td>\n",
       "    </tr>\n",
       "  </tbody>\n",
       "</table>\n",
       "</div>"
      ],
      "text/plain": [
       "                                  stimulus        he       she\n",
       "0   Miss Smith walked to Mr. Smith because  0.187570  0.812430\n",
       "1      The woman walked to the man because  0.357116  0.642885\n",
       "2              Mary walked to John because  0.086483  0.913517\n",
       "3              Alice walked to Bob because  0.040943  0.959056\n",
       "4  The actress walked to the actor because  0.157915  0.842085"
      ]
     },
     "execution_count": 66,
     "metadata": {},
     "output_type": "execute_result"
    }
   ],
   "source": [
    "motion_connective1_2 = pd.read_csv(\"../results/motion/connective1/2.csv\")\n",
    "motion_connective1_2.head()"
   ]
  },
  {
   "cell_type": "code",
   "execution_count": 67,
   "metadata": {},
   "outputs": [],
   "source": [
    "# female subject\n",
    "motion_connective1_2f = motion_connective1_2[0:12]\n",
    "motion_connective1_2f = motion_connective1_2f[[\"stimulus\",\"she\",\"he\"]]\n",
    "# male subject\n",
    "motion_connective1_2m = motion_connective1_2[12:24]"
   ]
  },
  {
   "cell_type": "markdown",
   "metadata": {},
   "source": [
    "#### female subject"
   ]
  },
  {
   "cell_type": "code",
   "execution_count": 68,
   "metadata": {},
   "outputs": [
    {
     "name": "stdout",
     "output_type": "stream",
     "text": [
      "P('subj-pron'|subj=female) =  0.8400037437677383\n",
      "P('non-subj-pron'|subj=female) =  0.15999628494804105\n"
     ]
    }
   ],
   "source": [
    "print(\"P('subj-pron'|subj=female) = \", compute_average(motion_connective1_2f,'she'))\n",
    "print(\"P('non-subj-pron'|subj=female) = \", compute_average(motion_connective1_2f,'he'))"
   ]
  },
  {
   "cell_type": "code",
   "execution_count": 69,
   "metadata": {},
   "outputs": [],
   "source": [
    "c1_average_subj_female_subj_pron['walked'] = compute_average(motion_connective1_2f,'she')\n",
    "c1_average_subj_female_obj_pron['walked'] = compute_average(motion_connective1_2f,'he')"
   ]
  },
  {
   "cell_type": "markdown",
   "metadata": {},
   "source": [
    "#### male subject"
   ]
  },
  {
   "cell_type": "code",
   "execution_count": 70,
   "metadata": {},
   "outputs": [
    {
     "data": {
      "text/html": [
       "<div>\n",
       "<style scoped>\n",
       "    .dataframe tbody tr th:only-of-type {\n",
       "        vertical-align: middle;\n",
       "    }\n",
       "\n",
       "    .dataframe tbody tr th {\n",
       "        vertical-align: top;\n",
       "    }\n",
       "\n",
       "    .dataframe thead th {\n",
       "        text-align: right;\n",
       "    }\n",
       "</style>\n",
       "<table border=\"1\" class=\"dataframe\">\n",
       "  <thead>\n",
       "    <tr style=\"text-align: right;\">\n",
       "      <th></th>\n",
       "      <th>stimulus</th>\n",
       "      <th>he</th>\n",
       "      <th>she</th>\n",
       "    </tr>\n",
       "  </thead>\n",
       "  <tbody>\n",
       "    <tr>\n",
       "      <th>12</th>\n",
       "      <td>Mr. Smith walked to Miss Smith because</td>\n",
       "      <td>0.608399</td>\n",
       "      <td>0.391601</td>\n",
       "    </tr>\n",
       "    <tr>\n",
       "      <th>13</th>\n",
       "      <td>The man walked to the woman because</td>\n",
       "      <td>0.497973</td>\n",
       "      <td>0.502027</td>\n",
       "    </tr>\n",
       "    <tr>\n",
       "      <th>14</th>\n",
       "      <td>John walked to Mary because</td>\n",
       "      <td>0.622767</td>\n",
       "      <td>0.377233</td>\n",
       "    </tr>\n",
       "    <tr>\n",
       "      <th>15</th>\n",
       "      <td>Bob walked to Alice because</td>\n",
       "      <td>0.687837</td>\n",
       "      <td>0.312163</td>\n",
       "    </tr>\n",
       "    <tr>\n",
       "      <th>16</th>\n",
       "      <td>The actor walked to the actress because</td>\n",
       "      <td>0.138482</td>\n",
       "      <td>0.861517</td>\n",
       "    </tr>\n",
       "    <tr>\n",
       "      <th>17</th>\n",
       "      <td>The boy walked to the girl because</td>\n",
       "      <td>0.427671</td>\n",
       "      <td>0.572329</td>\n",
       "    </tr>\n",
       "    <tr>\n",
       "      <th>18</th>\n",
       "      <td>Mr. William walked to Mrs. Taylor because</td>\n",
       "      <td>0.317278</td>\n",
       "      <td>0.682722</td>\n",
       "    </tr>\n",
       "    <tr>\n",
       "      <th>19</th>\n",
       "      <td>David walked to Emma because</td>\n",
       "      <td>0.357152</td>\n",
       "      <td>0.642848</td>\n",
       "    </tr>\n",
       "    <tr>\n",
       "      <th>20</th>\n",
       "      <td>The prince walked to the princess because</td>\n",
       "      <td>0.483196</td>\n",
       "      <td>0.516804</td>\n",
       "    </tr>\n",
       "    <tr>\n",
       "      <th>21</th>\n",
       "      <td>Robert walked to Sarah because</td>\n",
       "      <td>0.406579</td>\n",
       "      <td>0.593421</td>\n",
       "    </tr>\n",
       "    <tr>\n",
       "      <th>22</th>\n",
       "      <td>Mr. Taylor walked to Mrs. Williams because</td>\n",
       "      <td>0.192510</td>\n",
       "      <td>0.807490</td>\n",
       "    </tr>\n",
       "    <tr>\n",
       "      <th>23</th>\n",
       "      <td>Paul walked to Emily because</td>\n",
       "      <td>0.416375</td>\n",
       "      <td>0.583625</td>\n",
       "    </tr>\n",
       "  </tbody>\n",
       "</table>\n",
       "</div>"
      ],
      "text/plain": [
       "                                      stimulus        he       she\n",
       "12      Mr. Smith walked to Miss Smith because  0.608399  0.391601\n",
       "13         The man walked to the woman because  0.497973  0.502027\n",
       "14                 John walked to Mary because  0.622767  0.377233\n",
       "15                 Bob walked to Alice because  0.687837  0.312163\n",
       "16     The actor walked to the actress because  0.138482  0.861517\n",
       "17          The boy walked to the girl because  0.427671  0.572329\n",
       "18   Mr. William walked to Mrs. Taylor because  0.317278  0.682722\n",
       "19                David walked to Emma because  0.357152  0.642848\n",
       "20   The prince walked to the princess because  0.483196  0.516804\n",
       "21              Robert walked to Sarah because  0.406579  0.593421\n",
       "22  Mr. Taylor walked to Mrs. Williams because  0.192510  0.807490\n",
       "23                Paul walked to Emily because  0.416375  0.583625"
      ]
     },
     "execution_count": 70,
     "metadata": {},
     "output_type": "execute_result"
    }
   ],
   "source": [
    "motion_connective1_2m"
   ]
  },
  {
   "cell_type": "code",
   "execution_count": 71,
   "metadata": {},
   "outputs": [
    {
     "name": "stdout",
     "output_type": "stream",
     "text": [
      "P('subj-pron'|subj=male) =  0.429684912165006\n",
      "P('non-subj-pron'|subj=male) =  0.5703150853514671\n"
     ]
    }
   ],
   "source": [
    "print(\"P('subj-pron'|subj=male) = \", compute_average(motion_connective1_2m,'he'))\n",
    "print(\"P('non-subj-pron'|subj=male) = \", compute_average(motion_connective1_2m,'she'))"
   ]
  },
  {
   "cell_type": "code",
   "execution_count": 72,
   "metadata": {},
   "outputs": [],
   "source": [
    "c1_average_subj_male_subj_pron['walked'] = compute_average(motion_connective1_2m,'he')\n",
    "c1_average_subj_male_obj_pron['walked'] = compute_average(motion_connective1_2m,'she')"
   ]
  },
  {
   "cell_type": "markdown",
   "metadata": {},
   "source": [
    "### verb: \"ran\""
   ]
  },
  {
   "cell_type": "code",
   "execution_count": 73,
   "metadata": {},
   "outputs": [
    {
     "data": {
      "text/html": [
       "<div>\n",
       "<style scoped>\n",
       "    .dataframe tbody tr th:only-of-type {\n",
       "        vertical-align: middle;\n",
       "    }\n",
       "\n",
       "    .dataframe tbody tr th {\n",
       "        vertical-align: top;\n",
       "    }\n",
       "\n",
       "    .dataframe thead th {\n",
       "        text-align: right;\n",
       "    }\n",
       "</style>\n",
       "<table border=\"1\" class=\"dataframe\">\n",
       "  <thead>\n",
       "    <tr style=\"text-align: right;\">\n",
       "      <th></th>\n",
       "      <th>stimulus</th>\n",
       "      <th>he</th>\n",
       "      <th>she</th>\n",
       "    </tr>\n",
       "  </thead>\n",
       "  <tbody>\n",
       "    <tr>\n",
       "      <th>0</th>\n",
       "      <td>Miss Smith ran to Mr. Smith because</td>\n",
       "      <td>0.180584</td>\n",
       "      <td>0.819416</td>\n",
       "    </tr>\n",
       "    <tr>\n",
       "      <th>1</th>\n",
       "      <td>The woman ran to the man because</td>\n",
       "      <td>0.382058</td>\n",
       "      <td>0.617942</td>\n",
       "    </tr>\n",
       "    <tr>\n",
       "      <th>2</th>\n",
       "      <td>Mary ran to John because</td>\n",
       "      <td>0.143053</td>\n",
       "      <td>0.856947</td>\n",
       "    </tr>\n",
       "    <tr>\n",
       "      <th>3</th>\n",
       "      <td>Alice ran to Bob because</td>\n",
       "      <td>0.041758</td>\n",
       "      <td>0.958242</td>\n",
       "    </tr>\n",
       "    <tr>\n",
       "      <th>4</th>\n",
       "      <td>The actress ran to the actor because</td>\n",
       "      <td>0.174855</td>\n",
       "      <td>0.825145</td>\n",
       "    </tr>\n",
       "  </tbody>\n",
       "</table>\n",
       "</div>"
      ],
      "text/plain": [
       "                               stimulus        he       she\n",
       "0   Miss Smith ran to Mr. Smith because  0.180584  0.819416\n",
       "1      The woman ran to the man because  0.382058  0.617942\n",
       "2              Mary ran to John because  0.143053  0.856947\n",
       "3              Alice ran to Bob because  0.041758  0.958242\n",
       "4  The actress ran to the actor because  0.174855  0.825145"
      ]
     },
     "execution_count": 73,
     "metadata": {},
     "output_type": "execute_result"
    }
   ],
   "source": [
    "motion_connective1_3 = pd.read_csv(\"../results/motion/connective1/3.csv\")\n",
    "motion_connective1_3.head()"
   ]
  },
  {
   "cell_type": "code",
   "execution_count": 74,
   "metadata": {},
   "outputs": [],
   "source": [
    "# female subject\n",
    "motion_connective1_3f = motion_connective1_3[0:12]\n",
    "motion_connective1_3f = motion_connective1_3f[[\"stimulus\",\"she\",\"he\"]]\n",
    "# male subject\n",
    "motion_connective1_3m = motion_connective1_3[12:24]"
   ]
  },
  {
   "cell_type": "markdown",
   "metadata": {},
   "source": [
    "#### female subject"
   ]
  },
  {
   "cell_type": "code",
   "execution_count": 75,
   "metadata": {},
   "outputs": [
    {
     "name": "stdout",
     "output_type": "stream",
     "text": [
      "P('subj-pron'|subj=female) =  0.8254143098990122\n",
      "P('non-subj-pron'|subj=female) =  0.1745856994142135\n"
     ]
    }
   ],
   "source": [
    "print(\"P('subj-pron'|subj=female) = \", compute_average(motion_connective1_3f,'she'))\n",
    "print(\"P('non-subj-pron'|subj=female) = \", compute_average(motion_connective1_3f,'he'))"
   ]
  },
  {
   "cell_type": "code",
   "execution_count": 76,
   "metadata": {},
   "outputs": [],
   "source": [
    "c1_average_subj_female_subj_pron['ran'] = compute_average(motion_connective1_3f,'she')\n",
    "c1_average_subj_female_obj_pron['ran'] = compute_average(motion_connective1_3f,'he')"
   ]
  },
  {
   "cell_type": "markdown",
   "metadata": {},
   "source": [
    "#### male subject"
   ]
  },
  {
   "cell_type": "code",
   "execution_count": 77,
   "metadata": {},
   "outputs": [
    {
     "data": {
      "text/html": [
       "<div>\n",
       "<style scoped>\n",
       "    .dataframe tbody tr th:only-of-type {\n",
       "        vertical-align: middle;\n",
       "    }\n",
       "\n",
       "    .dataframe tbody tr th {\n",
       "        vertical-align: top;\n",
       "    }\n",
       "\n",
       "    .dataframe thead th {\n",
       "        text-align: right;\n",
       "    }\n",
       "</style>\n",
       "<table border=\"1\" class=\"dataframe\">\n",
       "  <thead>\n",
       "    <tr style=\"text-align: right;\">\n",
       "      <th></th>\n",
       "      <th>stimulus</th>\n",
       "      <th>he</th>\n",
       "      <th>she</th>\n",
       "    </tr>\n",
       "  </thead>\n",
       "  <tbody>\n",
       "    <tr>\n",
       "      <th>12</th>\n",
       "      <td>Mr. Smith ran to Miss Smith because</td>\n",
       "      <td>0.555781</td>\n",
       "      <td>0.444219</td>\n",
       "    </tr>\n",
       "    <tr>\n",
       "      <th>13</th>\n",
       "      <td>The man ran to the woman because</td>\n",
       "      <td>0.491516</td>\n",
       "      <td>0.508484</td>\n",
       "    </tr>\n",
       "    <tr>\n",
       "      <th>14</th>\n",
       "      <td>John ran to Mary because</td>\n",
       "      <td>0.639015</td>\n",
       "      <td>0.360985</td>\n",
       "    </tr>\n",
       "    <tr>\n",
       "      <th>15</th>\n",
       "      <td>Bob ran to Alice because</td>\n",
       "      <td>0.475832</td>\n",
       "      <td>0.524168</td>\n",
       "    </tr>\n",
       "    <tr>\n",
       "      <th>16</th>\n",
       "      <td>The actor ran to the actress because</td>\n",
       "      <td>0.181974</td>\n",
       "      <td>0.818026</td>\n",
       "    </tr>\n",
       "    <tr>\n",
       "      <th>17</th>\n",
       "      <td>The boy ran to the girl because</td>\n",
       "      <td>0.445530</td>\n",
       "      <td>0.554470</td>\n",
       "    </tr>\n",
       "    <tr>\n",
       "      <th>18</th>\n",
       "      <td>Mr. William ran to Mrs. Taylor because</td>\n",
       "      <td>0.276370</td>\n",
       "      <td>0.723630</td>\n",
       "    </tr>\n",
       "    <tr>\n",
       "      <th>19</th>\n",
       "      <td>David ran to Emma because</td>\n",
       "      <td>0.370981</td>\n",
       "      <td>0.629019</td>\n",
       "    </tr>\n",
       "    <tr>\n",
       "      <th>20</th>\n",
       "      <td>The prince ran to the princess because</td>\n",
       "      <td>0.505834</td>\n",
       "      <td>0.494166</td>\n",
       "    </tr>\n",
       "    <tr>\n",
       "      <th>21</th>\n",
       "      <td>Robert ran to Sarah because</td>\n",
       "      <td>0.262935</td>\n",
       "      <td>0.737065</td>\n",
       "    </tr>\n",
       "    <tr>\n",
       "      <th>22</th>\n",
       "      <td>Mr. Taylor ran to Mrs. Williams because</td>\n",
       "      <td>0.140226</td>\n",
       "      <td>0.859774</td>\n",
       "    </tr>\n",
       "    <tr>\n",
       "      <th>23</th>\n",
       "      <td>Paul ran to Emily because</td>\n",
       "      <td>0.430578</td>\n",
       "      <td>0.569422</td>\n",
       "    </tr>\n",
       "  </tbody>\n",
       "</table>\n",
       "</div>"
      ],
      "text/plain": [
       "                                   stimulus        he       she\n",
       "12      Mr. Smith ran to Miss Smith because  0.555781  0.444219\n",
       "13         The man ran to the woman because  0.491516  0.508484\n",
       "14                 John ran to Mary because  0.639015  0.360985\n",
       "15                 Bob ran to Alice because  0.475832  0.524168\n",
       "16     The actor ran to the actress because  0.181974  0.818026\n",
       "17          The boy ran to the girl because  0.445530  0.554470\n",
       "18   Mr. William ran to Mrs. Taylor because  0.276370  0.723630\n",
       "19                David ran to Emma because  0.370981  0.629019\n",
       "20   The prince ran to the princess because  0.505834  0.494166\n",
       "21              Robert ran to Sarah because  0.262935  0.737065\n",
       "22  Mr. Taylor ran to Mrs. Williams because  0.140226  0.859774\n",
       "23                Paul ran to Emily because  0.430578  0.569422"
      ]
     },
     "execution_count": 77,
     "metadata": {},
     "output_type": "execute_result"
    }
   ],
   "source": [
    "motion_connective1_3m"
   ]
  },
  {
   "cell_type": "code",
   "execution_count": 78,
   "metadata": {},
   "outputs": [
    {
     "name": "stdout",
     "output_type": "stream",
     "text": [
      "P('subj-pron'|subj=male) =  0.39804769804080326\n",
      "P('non-subj-pron'|subj=male) =  0.6019523069262505\n"
     ]
    }
   ],
   "source": [
    "print(\"P('subj-pron'|subj=male) = \", compute_average(motion_connective1_3m,'he'))\n",
    "print(\"P('non-subj-pron'|subj=male) = \", compute_average(motion_connective1_3m,'she'))"
   ]
  },
  {
   "cell_type": "code",
   "execution_count": 79,
   "metadata": {},
   "outputs": [],
   "source": [
    "c1_average_subj_male_subj_pron['ran'] = compute_average(motion_connective1_3m,'he')\n",
    "c1_average_subj_male_obj_pron['ran'] = compute_average(motion_connective1_3m,'she')"
   ]
  },
  {
   "cell_type": "markdown",
   "metadata": {},
   "source": [
    "### verb: \"swam\""
   ]
  },
  {
   "cell_type": "code",
   "execution_count": 80,
   "metadata": {
    "scrolled": true
   },
   "outputs": [
    {
     "data": {
      "text/html": [
       "<div>\n",
       "<style scoped>\n",
       "    .dataframe tbody tr th:only-of-type {\n",
       "        vertical-align: middle;\n",
       "    }\n",
       "\n",
       "    .dataframe tbody tr th {\n",
       "        vertical-align: top;\n",
       "    }\n",
       "\n",
       "    .dataframe thead th {\n",
       "        text-align: right;\n",
       "    }\n",
       "</style>\n",
       "<table border=\"1\" class=\"dataframe\">\n",
       "  <thead>\n",
       "    <tr style=\"text-align: right;\">\n",
       "      <th></th>\n",
       "      <th>stimulus</th>\n",
       "      <th>he</th>\n",
       "      <th>she</th>\n",
       "    </tr>\n",
       "  </thead>\n",
       "  <tbody>\n",
       "    <tr>\n",
       "      <th>0</th>\n",
       "      <td>Miss Smith swam to Mr. Smith because</td>\n",
       "      <td>0.187041</td>\n",
       "      <td>0.812959</td>\n",
       "    </tr>\n",
       "    <tr>\n",
       "      <th>1</th>\n",
       "      <td>The woman swam to the man because</td>\n",
       "      <td>0.378967</td>\n",
       "      <td>0.621033</td>\n",
       "    </tr>\n",
       "    <tr>\n",
       "      <th>2</th>\n",
       "      <td>Mary swam to John because</td>\n",
       "      <td>0.062425</td>\n",
       "      <td>0.937575</td>\n",
       "    </tr>\n",
       "    <tr>\n",
       "      <th>3</th>\n",
       "      <td>Alice swam to Bob because</td>\n",
       "      <td>0.087824</td>\n",
       "      <td>0.912176</td>\n",
       "    </tr>\n",
       "    <tr>\n",
       "      <th>4</th>\n",
       "      <td>The actress swam to the actor because</td>\n",
       "      <td>0.217342</td>\n",
       "      <td>0.782658</td>\n",
       "    </tr>\n",
       "  </tbody>\n",
       "</table>\n",
       "</div>"
      ],
      "text/plain": [
       "                                stimulus        he       she\n",
       "0   Miss Smith swam to Mr. Smith because  0.187041  0.812959\n",
       "1      The woman swam to the man because  0.378967  0.621033\n",
       "2              Mary swam to John because  0.062425  0.937575\n",
       "3              Alice swam to Bob because  0.087824  0.912176\n",
       "4  The actress swam to the actor because  0.217342  0.782658"
      ]
     },
     "execution_count": 80,
     "metadata": {},
     "output_type": "execute_result"
    }
   ],
   "source": [
    "motion_connective1_4 = pd.read_csv(\"../results/motion/connective1/4.csv\")\n",
    "motion_connective1_4.head()"
   ]
  },
  {
   "cell_type": "code",
   "execution_count": 81,
   "metadata": {},
   "outputs": [],
   "source": [
    "# female subject\n",
    "motion_connective1_4f = motion_connective1_4[0:12]\n",
    "motion_connective1_4f = motion_connective1_4f[[\"stimulus\",\"she\",\"he\"]]\n",
    "# male subject\n",
    "motion_connective1_4m = motion_connective1_4[12:24]"
   ]
  },
  {
   "cell_type": "markdown",
   "metadata": {},
   "source": [
    "#### female subject"
   ]
  },
  {
   "cell_type": "code",
   "execution_count": 82,
   "metadata": {},
   "outputs": [
    {
     "data": {
      "text/html": [
       "<div>\n",
       "<style scoped>\n",
       "    .dataframe tbody tr th:only-of-type {\n",
       "        vertical-align: middle;\n",
       "    }\n",
       "\n",
       "    .dataframe tbody tr th {\n",
       "        vertical-align: top;\n",
       "    }\n",
       "\n",
       "    .dataframe thead th {\n",
       "        text-align: right;\n",
       "    }\n",
       "</style>\n",
       "<table border=\"1\" class=\"dataframe\">\n",
       "  <thead>\n",
       "    <tr style=\"text-align: right;\">\n",
       "      <th></th>\n",
       "      <th>stimulus</th>\n",
       "      <th>she</th>\n",
       "      <th>he</th>\n",
       "    </tr>\n",
       "  </thead>\n",
       "  <tbody>\n",
       "    <tr>\n",
       "      <th>0</th>\n",
       "      <td>Miss Smith swam to Mr. Smith because</td>\n",
       "      <td>0.812959</td>\n",
       "      <td>0.187041</td>\n",
       "    </tr>\n",
       "    <tr>\n",
       "      <th>1</th>\n",
       "      <td>The woman swam to the man because</td>\n",
       "      <td>0.621033</td>\n",
       "      <td>0.378967</td>\n",
       "    </tr>\n",
       "    <tr>\n",
       "      <th>2</th>\n",
       "      <td>Mary swam to John because</td>\n",
       "      <td>0.937575</td>\n",
       "      <td>0.062425</td>\n",
       "    </tr>\n",
       "    <tr>\n",
       "      <th>3</th>\n",
       "      <td>Alice swam to Bob because</td>\n",
       "      <td>0.912176</td>\n",
       "      <td>0.087824</td>\n",
       "    </tr>\n",
       "    <tr>\n",
       "      <th>4</th>\n",
       "      <td>The actress swam to the actor because</td>\n",
       "      <td>0.782658</td>\n",
       "      <td>0.217342</td>\n",
       "    </tr>\n",
       "    <tr>\n",
       "      <th>5</th>\n",
       "      <td>The girl swam to the boy because</td>\n",
       "      <td>0.774596</td>\n",
       "      <td>0.225404</td>\n",
       "    </tr>\n",
       "    <tr>\n",
       "      <th>6</th>\n",
       "      <td>Mrs. Taylor swam to Mr. Williams because</td>\n",
       "      <td>0.861228</td>\n",
       "      <td>0.138772</td>\n",
       "    </tr>\n",
       "    <tr>\n",
       "      <th>7</th>\n",
       "      <td>Emma swam to David because</td>\n",
       "      <td>0.962239</td>\n",
       "      <td>0.037761</td>\n",
       "    </tr>\n",
       "    <tr>\n",
       "      <th>8</th>\n",
       "      <td>The princess swam to the prince because</td>\n",
       "      <td>0.618043</td>\n",
       "      <td>0.381957</td>\n",
       "    </tr>\n",
       "    <tr>\n",
       "      <th>9</th>\n",
       "      <td>Sarah swam to Robert because</td>\n",
       "      <td>0.847776</td>\n",
       "      <td>0.152224</td>\n",
       "    </tr>\n",
       "    <tr>\n",
       "      <th>10</th>\n",
       "      <td>Mrs. Williams swam to Mr. Taylor because</td>\n",
       "      <td>0.815084</td>\n",
       "      <td>0.184916</td>\n",
       "    </tr>\n",
       "    <tr>\n",
       "      <th>11</th>\n",
       "      <td>Emily swam to Paul because</td>\n",
       "      <td>0.814877</td>\n",
       "      <td>0.185123</td>\n",
       "    </tr>\n",
       "  </tbody>\n",
       "</table>\n",
       "</div>"
      ],
      "text/plain": [
       "                                    stimulus       she        he\n",
       "0       Miss Smith swam to Mr. Smith because  0.812959  0.187041\n",
       "1          The woman swam to the man because  0.621033  0.378967\n",
       "2                  Mary swam to John because  0.937575  0.062425\n",
       "3                  Alice swam to Bob because  0.912176  0.087824\n",
       "4      The actress swam to the actor because  0.782658  0.217342\n",
       "5           The girl swam to the boy because  0.774596  0.225404\n",
       "6   Mrs. Taylor swam to Mr. Williams because  0.861228  0.138772\n",
       "7                 Emma swam to David because  0.962239  0.037761\n",
       "8    The princess swam to the prince because  0.618043  0.381957\n",
       "9               Sarah swam to Robert because  0.847776  0.152224\n",
       "10  Mrs. Williams swam to Mr. Taylor because  0.815084  0.184916\n",
       "11                Emily swam to Paul because  0.814877  0.185123"
      ]
     },
     "execution_count": 82,
     "metadata": {},
     "output_type": "execute_result"
    }
   ],
   "source": [
    "motion_connective1_4f"
   ]
  },
  {
   "cell_type": "code",
   "execution_count": 83,
   "metadata": {},
   "outputs": [
    {
     "name": "stdout",
     "output_type": "stream",
     "text": [
      "P('subj-pron'|subj=female) =  0.8133537918329239\n",
      "P('non-subj-pron'|subj=female) =  0.18664619730164608\n"
     ]
    }
   ],
   "source": [
    "print(\"P('subj-pron'|subj=female) = \", compute_average(motion_connective1_4f,'she'))\n",
    "print(\"P('non-subj-pron'|subj=female) = \", compute_average(motion_connective1_4f,'he'))"
   ]
  },
  {
   "cell_type": "code",
   "execution_count": 84,
   "metadata": {},
   "outputs": [],
   "source": [
    "c1_average_subj_female_subj_pron['swam'] = compute_average(motion_connective1_4f,'she')\n",
    "c1_average_subj_female_obj_pron['swam'] = compute_average(motion_connective1_4f,'he')"
   ]
  },
  {
   "cell_type": "markdown",
   "metadata": {},
   "source": [
    "#### male subject"
   ]
  },
  {
   "cell_type": "code",
   "execution_count": 85,
   "metadata": {},
   "outputs": [
    {
     "data": {
      "text/html": [
       "<div>\n",
       "<style scoped>\n",
       "    .dataframe tbody tr th:only-of-type {\n",
       "        vertical-align: middle;\n",
       "    }\n",
       "\n",
       "    .dataframe tbody tr th {\n",
       "        vertical-align: top;\n",
       "    }\n",
       "\n",
       "    .dataframe thead th {\n",
       "        text-align: right;\n",
       "    }\n",
       "</style>\n",
       "<table border=\"1\" class=\"dataframe\">\n",
       "  <thead>\n",
       "    <tr style=\"text-align: right;\">\n",
       "      <th></th>\n",
       "      <th>stimulus</th>\n",
       "      <th>he</th>\n",
       "      <th>she</th>\n",
       "    </tr>\n",
       "  </thead>\n",
       "  <tbody>\n",
       "    <tr>\n",
       "      <th>12</th>\n",
       "      <td>Mr. Smith swam to Miss Smith because</td>\n",
       "      <td>0.665454</td>\n",
       "      <td>0.334546</td>\n",
       "    </tr>\n",
       "    <tr>\n",
       "      <th>13</th>\n",
       "      <td>The man swam to the woman because</td>\n",
       "      <td>0.567950</td>\n",
       "      <td>0.432050</td>\n",
       "    </tr>\n",
       "    <tr>\n",
       "      <th>14</th>\n",
       "      <td>John swam to Mary because</td>\n",
       "      <td>0.692425</td>\n",
       "      <td>0.307575</td>\n",
       "    </tr>\n",
       "    <tr>\n",
       "      <th>15</th>\n",
       "      <td>Bob swam to Alice because</td>\n",
       "      <td>0.839377</td>\n",
       "      <td>0.160623</td>\n",
       "    </tr>\n",
       "    <tr>\n",
       "      <th>16</th>\n",
       "      <td>The actor swam to the actress because</td>\n",
       "      <td>0.220827</td>\n",
       "      <td>0.779173</td>\n",
       "    </tr>\n",
       "    <tr>\n",
       "      <th>17</th>\n",
       "      <td>The boy swam to the girl because</td>\n",
       "      <td>0.497897</td>\n",
       "      <td>0.502103</td>\n",
       "    </tr>\n",
       "    <tr>\n",
       "      <th>18</th>\n",
       "      <td>Mr. William swam to Mrs. Taylor because</td>\n",
       "      <td>0.382467</td>\n",
       "      <td>0.617533</td>\n",
       "    </tr>\n",
       "    <tr>\n",
       "      <th>19</th>\n",
       "      <td>David swam to Emma because</td>\n",
       "      <td>0.582331</td>\n",
       "      <td>0.417669</td>\n",
       "    </tr>\n",
       "    <tr>\n",
       "      <th>20</th>\n",
       "      <td>The prince swam to the princess because</td>\n",
       "      <td>0.598237</td>\n",
       "      <td>0.401763</td>\n",
       "    </tr>\n",
       "    <tr>\n",
       "      <th>21</th>\n",
       "      <td>Robert swam to Sarah because</td>\n",
       "      <td>0.524702</td>\n",
       "      <td>0.475298</td>\n",
       "    </tr>\n",
       "    <tr>\n",
       "      <th>22</th>\n",
       "      <td>Mr. Taylor swam to Mrs. Williams because</td>\n",
       "      <td>0.251577</td>\n",
       "      <td>0.748423</td>\n",
       "    </tr>\n",
       "    <tr>\n",
       "      <th>23</th>\n",
       "      <td>Paul swam to Emily because</td>\n",
       "      <td>0.594019</td>\n",
       "      <td>0.405981</td>\n",
       "    </tr>\n",
       "  </tbody>\n",
       "</table>\n",
       "</div>"
      ],
      "text/plain": [
       "                                    stimulus        he       she\n",
       "12      Mr. Smith swam to Miss Smith because  0.665454  0.334546\n",
       "13         The man swam to the woman because  0.567950  0.432050\n",
       "14                 John swam to Mary because  0.692425  0.307575\n",
       "15                 Bob swam to Alice because  0.839377  0.160623\n",
       "16     The actor swam to the actress because  0.220827  0.779173\n",
       "17          The boy swam to the girl because  0.497897  0.502103\n",
       "18   Mr. William swam to Mrs. Taylor because  0.382467  0.617533\n",
       "19                David swam to Emma because  0.582331  0.417669\n",
       "20   The prince swam to the princess because  0.598237  0.401763\n",
       "21              Robert swam to Sarah because  0.524702  0.475298\n",
       "22  Mr. Taylor swam to Mrs. Williams because  0.251577  0.748423\n",
       "23                Paul swam to Emily because  0.594019  0.405981"
      ]
     },
     "execution_count": 85,
     "metadata": {},
     "output_type": "execute_result"
    }
   ],
   "source": [
    "motion_connective1_4m"
   ]
  },
  {
   "cell_type": "code",
   "execution_count": 86,
   "metadata": {},
   "outputs": [
    {
     "name": "stdout",
     "output_type": "stream",
     "text": [
      "P('subj-pron'|subj=male) =  0.5347719043493271\n",
      "P('non-subj-pron'|subj=male) =  0.46522808944185573\n"
     ]
    }
   ],
   "source": [
    "print(\"P('subj-pron'|subj=male) = \", compute_average(motion_connective1_4m,'he'))\n",
    "print(\"P('non-subj-pron'|subj=male) = \", compute_average(motion_connective1_4m,'she'))"
   ]
  },
  {
   "cell_type": "code",
   "execution_count": 87,
   "metadata": {},
   "outputs": [],
   "source": [
    "c1_average_subj_male_subj_pron['swam'] = compute_average(motion_connective1_4m,'he')\n",
    "c1_average_subj_male_obj_pron['swam'] = compute_average(motion_connective1_4m,'she')"
   ]
  },
  {
   "cell_type": "markdown",
   "metadata": {},
   "source": [
    "### verb: \"drove\""
   ]
  },
  {
   "cell_type": "code",
   "execution_count": 88,
   "metadata": {},
   "outputs": [
    {
     "data": {
      "text/html": [
       "<div>\n",
       "<style scoped>\n",
       "    .dataframe tbody tr th:only-of-type {\n",
       "        vertical-align: middle;\n",
       "    }\n",
       "\n",
       "    .dataframe tbody tr th {\n",
       "        vertical-align: top;\n",
       "    }\n",
       "\n",
       "    .dataframe thead th {\n",
       "        text-align: right;\n",
       "    }\n",
       "</style>\n",
       "<table border=\"1\" class=\"dataframe\">\n",
       "  <thead>\n",
       "    <tr style=\"text-align: right;\">\n",
       "      <th></th>\n",
       "      <th>stimulus</th>\n",
       "      <th>he</th>\n",
       "      <th>she</th>\n",
       "    </tr>\n",
       "  </thead>\n",
       "  <tbody>\n",
       "    <tr>\n",
       "      <th>0</th>\n",
       "      <td>Miss Smith drove to Mr. Smith because</td>\n",
       "      <td>0.223246</td>\n",
       "      <td>0.776754</td>\n",
       "    </tr>\n",
       "    <tr>\n",
       "      <th>1</th>\n",
       "      <td>The woman drove to the man because</td>\n",
       "      <td>0.345383</td>\n",
       "      <td>0.654617</td>\n",
       "    </tr>\n",
       "    <tr>\n",
       "      <th>2</th>\n",
       "      <td>Mary drove to John because</td>\n",
       "      <td>0.154437</td>\n",
       "      <td>0.845563</td>\n",
       "    </tr>\n",
       "    <tr>\n",
       "      <th>3</th>\n",
       "      <td>Alice drove to Bob because</td>\n",
       "      <td>0.054535</td>\n",
       "      <td>0.945465</td>\n",
       "    </tr>\n",
       "    <tr>\n",
       "      <th>4</th>\n",
       "      <td>The actress drove to the actor because</td>\n",
       "      <td>0.156021</td>\n",
       "      <td>0.843979</td>\n",
       "    </tr>\n",
       "  </tbody>\n",
       "</table>\n",
       "</div>"
      ],
      "text/plain": [
       "                                 stimulus        he       she\n",
       "0   Miss Smith drove to Mr. Smith because  0.223246  0.776754\n",
       "1      The woman drove to the man because  0.345383  0.654617\n",
       "2              Mary drove to John because  0.154437  0.845563\n",
       "3              Alice drove to Bob because  0.054535  0.945465\n",
       "4  The actress drove to the actor because  0.156021  0.843979"
      ]
     },
     "execution_count": 88,
     "metadata": {},
     "output_type": "execute_result"
    }
   ],
   "source": [
    "motion_connective1_5 = pd.read_csv(\"../results/motion/connective1/5.csv\")\n",
    "motion_connective1_5.head()"
   ]
  },
  {
   "cell_type": "code",
   "execution_count": 89,
   "metadata": {},
   "outputs": [],
   "source": [
    "# female subject\n",
    "motion_connective1_5f = motion_connective1_5[0:12]\n",
    "motion_connective1_5f = motion_connective1_5[[\"stimulus\",\"she\",\"he\"]]\n",
    "# male subject\n",
    "motion_connective1_5m = motion_connective1_5[12:24]"
   ]
  },
  {
   "cell_type": "markdown",
   "metadata": {},
   "source": [
    "#### female subject"
   ]
  },
  {
   "cell_type": "code",
   "execution_count": 90,
   "metadata": {},
   "outputs": [
    {
     "data": {
      "text/html": [
       "<div>\n",
       "<style scoped>\n",
       "    .dataframe tbody tr th:only-of-type {\n",
       "        vertical-align: middle;\n",
       "    }\n",
       "\n",
       "    .dataframe tbody tr th {\n",
       "        vertical-align: top;\n",
       "    }\n",
       "\n",
       "    .dataframe thead th {\n",
       "        text-align: right;\n",
       "    }\n",
       "</style>\n",
       "<table border=\"1\" class=\"dataframe\">\n",
       "  <thead>\n",
       "    <tr style=\"text-align: right;\">\n",
       "      <th></th>\n",
       "      <th>stimulus</th>\n",
       "      <th>she</th>\n",
       "      <th>he</th>\n",
       "    </tr>\n",
       "  </thead>\n",
       "  <tbody>\n",
       "    <tr>\n",
       "      <th>0</th>\n",
       "      <td>Miss Smith drove to Mr. Smith because</td>\n",
       "      <td>0.776754</td>\n",
       "      <td>0.223246</td>\n",
       "    </tr>\n",
       "    <tr>\n",
       "      <th>1</th>\n",
       "      <td>The woman drove to the man because</td>\n",
       "      <td>0.654617</td>\n",
       "      <td>0.345383</td>\n",
       "    </tr>\n",
       "    <tr>\n",
       "      <th>2</th>\n",
       "      <td>Mary drove to John because</td>\n",
       "      <td>0.845563</td>\n",
       "      <td>0.154437</td>\n",
       "    </tr>\n",
       "    <tr>\n",
       "      <th>3</th>\n",
       "      <td>Alice drove to Bob because</td>\n",
       "      <td>0.945465</td>\n",
       "      <td>0.054535</td>\n",
       "    </tr>\n",
       "    <tr>\n",
       "      <th>4</th>\n",
       "      <td>The actress drove to the actor because</td>\n",
       "      <td>0.843979</td>\n",
       "      <td>0.156021</td>\n",
       "    </tr>\n",
       "    <tr>\n",
       "      <th>5</th>\n",
       "      <td>The girl drove to the boy because</td>\n",
       "      <td>0.764448</td>\n",
       "      <td>0.235552</td>\n",
       "    </tr>\n",
       "    <tr>\n",
       "      <th>6</th>\n",
       "      <td>Mrs. Taylor drove to Mr. Williams because</td>\n",
       "      <td>0.778625</td>\n",
       "      <td>0.221375</td>\n",
       "    </tr>\n",
       "    <tr>\n",
       "      <th>7</th>\n",
       "      <td>Emma drove to David because</td>\n",
       "      <td>0.969569</td>\n",
       "      <td>0.030431</td>\n",
       "    </tr>\n",
       "    <tr>\n",
       "      <th>8</th>\n",
       "      <td>The princess drove to the prince because</td>\n",
       "      <td>0.646410</td>\n",
       "      <td>0.353590</td>\n",
       "    </tr>\n",
       "    <tr>\n",
       "      <th>9</th>\n",
       "      <td>Sarah drove to Robert because</td>\n",
       "      <td>0.912074</td>\n",
       "      <td>0.087926</td>\n",
       "    </tr>\n",
       "    <tr>\n",
       "      <th>10</th>\n",
       "      <td>Mrs. Williams drove to Mr. Taylor because</td>\n",
       "      <td>0.761572</td>\n",
       "      <td>0.238428</td>\n",
       "    </tr>\n",
       "    <tr>\n",
       "      <th>11</th>\n",
       "      <td>Emily drove to Paul because</td>\n",
       "      <td>0.833996</td>\n",
       "      <td>0.166004</td>\n",
       "    </tr>\n",
       "    <tr>\n",
       "      <th>12</th>\n",
       "      <td>Mr. Smith drove to Miss Smith because</td>\n",
       "      <td>0.480065</td>\n",
       "      <td>0.519935</td>\n",
       "    </tr>\n",
       "    <tr>\n",
       "      <th>13</th>\n",
       "      <td>The man drove to the woman because</td>\n",
       "      <td>0.577182</td>\n",
       "      <td>0.422818</td>\n",
       "    </tr>\n",
       "    <tr>\n",
       "      <th>14</th>\n",
       "      <td>John drove to Mary because</td>\n",
       "      <td>0.468988</td>\n",
       "      <td>0.531012</td>\n",
       "    </tr>\n",
       "    <tr>\n",
       "      <th>15</th>\n",
       "      <td>Bob drove to Alice because</td>\n",
       "      <td>0.296461</td>\n",
       "      <td>0.703539</td>\n",
       "    </tr>\n",
       "    <tr>\n",
       "      <th>16</th>\n",
       "      <td>The actor drove to the actress because</td>\n",
       "      <td>0.880292</td>\n",
       "      <td>0.119708</td>\n",
       "    </tr>\n",
       "    <tr>\n",
       "      <th>17</th>\n",
       "      <td>The boy drove to the girl because</td>\n",
       "      <td>0.623751</td>\n",
       "      <td>0.376249</td>\n",
       "    </tr>\n",
       "    <tr>\n",
       "      <th>18</th>\n",
       "      <td>Mr. William drove to Mrs. Taylor because</td>\n",
       "      <td>0.733575</td>\n",
       "      <td>0.266425</td>\n",
       "    </tr>\n",
       "    <tr>\n",
       "      <th>19</th>\n",
       "      <td>David drove to Emma because</td>\n",
       "      <td>0.574299</td>\n",
       "      <td>0.425701</td>\n",
       "    </tr>\n",
       "    <tr>\n",
       "      <th>20</th>\n",
       "      <td>The prince drove to the princess because</td>\n",
       "      <td>0.561570</td>\n",
       "      <td>0.438430</td>\n",
       "    </tr>\n",
       "    <tr>\n",
       "      <th>21</th>\n",
       "      <td>Robert drove to Sarah because</td>\n",
       "      <td>0.634212</td>\n",
       "      <td>0.365788</td>\n",
       "    </tr>\n",
       "    <tr>\n",
       "      <th>22</th>\n",
       "      <td>Mr. Taylor drove to Mrs. Williams because</td>\n",
       "      <td>0.849463</td>\n",
       "      <td>0.150537</td>\n",
       "    </tr>\n",
       "    <tr>\n",
       "      <th>23</th>\n",
       "      <td>Paul drove to Emily because</td>\n",
       "      <td>0.576675</td>\n",
       "      <td>0.423325</td>\n",
       "    </tr>\n",
       "  </tbody>\n",
       "</table>\n",
       "</div>"
      ],
      "text/plain": [
       "                                     stimulus       she        he\n",
       "0       Miss Smith drove to Mr. Smith because  0.776754  0.223246\n",
       "1          The woman drove to the man because  0.654617  0.345383\n",
       "2                  Mary drove to John because  0.845563  0.154437\n",
       "3                  Alice drove to Bob because  0.945465  0.054535\n",
       "4      The actress drove to the actor because  0.843979  0.156021\n",
       "5           The girl drove to the boy because  0.764448  0.235552\n",
       "6   Mrs. Taylor drove to Mr. Williams because  0.778625  0.221375\n",
       "7                 Emma drove to David because  0.969569  0.030431\n",
       "8    The princess drove to the prince because  0.646410  0.353590\n",
       "9               Sarah drove to Robert because  0.912074  0.087926\n",
       "10  Mrs. Williams drove to Mr. Taylor because  0.761572  0.238428\n",
       "11                Emily drove to Paul because  0.833996  0.166004\n",
       "12      Mr. Smith drove to Miss Smith because  0.480065  0.519935\n",
       "13         The man drove to the woman because  0.577182  0.422818\n",
       "14                 John drove to Mary because  0.468988  0.531012\n",
       "15                 Bob drove to Alice because  0.296461  0.703539\n",
       "16     The actor drove to the actress because  0.880292  0.119708\n",
       "17          The boy drove to the girl because  0.623751  0.376249\n",
       "18   Mr. William drove to Mrs. Taylor because  0.733575  0.266425\n",
       "19                David drove to Emma because  0.574299  0.425701\n",
       "20   The prince drove to the princess because  0.561570  0.438430\n",
       "21              Robert drove to Sarah because  0.634212  0.365788\n",
       "22  Mr. Taylor drove to Mrs. Williams because  0.849463  0.150537\n",
       "23                Paul drove to Emily because  0.576675  0.423325"
      ]
     },
     "execution_count": 90,
     "metadata": {},
     "output_type": "execute_result"
    }
   ],
   "source": [
    "motion_connective1_5f"
   ]
  },
  {
   "cell_type": "code",
   "execution_count": 91,
   "metadata": {},
   "outputs": [
    {
     "name": "stdout",
     "output_type": "stream",
     "text": [
      "P('subj-pron'|subj=female) =  0.7079001603027185\n",
      "P('non-subj-pron'|subj=female) =  0.29209983977489173\n"
     ]
    }
   ],
   "source": [
    "print(\"P('subj-pron'|subj=female) = \", compute_average(motion_connective1_5f,'she'))\n",
    "print(\"P('non-subj-pron'|subj=female) = \", compute_average(motion_connective1_5f,'he'))"
   ]
  },
  {
   "cell_type": "code",
   "execution_count": 92,
   "metadata": {},
   "outputs": [],
   "source": [
    "c1_average_subj_female_subj_pron['drove'] = compute_average(motion_connective1_5f,'she')\n",
    "c1_average_subj_female_obj_pron['drove'] = compute_average(motion_connective1_5f,'he')"
   ]
  },
  {
   "cell_type": "markdown",
   "metadata": {},
   "source": [
    "#### male subject"
   ]
  },
  {
   "cell_type": "code",
   "execution_count": 93,
   "metadata": {},
   "outputs": [
    {
     "data": {
      "text/html": [
       "<div>\n",
       "<style scoped>\n",
       "    .dataframe tbody tr th:only-of-type {\n",
       "        vertical-align: middle;\n",
       "    }\n",
       "\n",
       "    .dataframe tbody tr th {\n",
       "        vertical-align: top;\n",
       "    }\n",
       "\n",
       "    .dataframe thead th {\n",
       "        text-align: right;\n",
       "    }\n",
       "</style>\n",
       "<table border=\"1\" class=\"dataframe\">\n",
       "  <thead>\n",
       "    <tr style=\"text-align: right;\">\n",
       "      <th></th>\n",
       "      <th>stimulus</th>\n",
       "      <th>he</th>\n",
       "      <th>she</th>\n",
       "    </tr>\n",
       "  </thead>\n",
       "  <tbody>\n",
       "    <tr>\n",
       "      <th>12</th>\n",
       "      <td>Mr. Smith drove to Miss Smith because</td>\n",
       "      <td>0.519935</td>\n",
       "      <td>0.480065</td>\n",
       "    </tr>\n",
       "    <tr>\n",
       "      <th>13</th>\n",
       "      <td>The man drove to the woman because</td>\n",
       "      <td>0.422818</td>\n",
       "      <td>0.577182</td>\n",
       "    </tr>\n",
       "    <tr>\n",
       "      <th>14</th>\n",
       "      <td>John drove to Mary because</td>\n",
       "      <td>0.531012</td>\n",
       "      <td>0.468988</td>\n",
       "    </tr>\n",
       "    <tr>\n",
       "      <th>15</th>\n",
       "      <td>Bob drove to Alice because</td>\n",
       "      <td>0.703539</td>\n",
       "      <td>0.296461</td>\n",
       "    </tr>\n",
       "    <tr>\n",
       "      <th>16</th>\n",
       "      <td>The actor drove to the actress because</td>\n",
       "      <td>0.119708</td>\n",
       "      <td>0.880292</td>\n",
       "    </tr>\n",
       "    <tr>\n",
       "      <th>17</th>\n",
       "      <td>The boy drove to the girl because</td>\n",
       "      <td>0.376249</td>\n",
       "      <td>0.623751</td>\n",
       "    </tr>\n",
       "    <tr>\n",
       "      <th>18</th>\n",
       "      <td>Mr. William drove to Mrs. Taylor because</td>\n",
       "      <td>0.266425</td>\n",
       "      <td>0.733575</td>\n",
       "    </tr>\n",
       "    <tr>\n",
       "      <th>19</th>\n",
       "      <td>David drove to Emma because</td>\n",
       "      <td>0.425701</td>\n",
       "      <td>0.574299</td>\n",
       "    </tr>\n",
       "    <tr>\n",
       "      <th>20</th>\n",
       "      <td>The prince drove to the princess because</td>\n",
       "      <td>0.438430</td>\n",
       "      <td>0.561570</td>\n",
       "    </tr>\n",
       "    <tr>\n",
       "      <th>21</th>\n",
       "      <td>Robert drove to Sarah because</td>\n",
       "      <td>0.365788</td>\n",
       "      <td>0.634212</td>\n",
       "    </tr>\n",
       "    <tr>\n",
       "      <th>22</th>\n",
       "      <td>Mr. Taylor drove to Mrs. Williams because</td>\n",
       "      <td>0.150537</td>\n",
       "      <td>0.849463</td>\n",
       "    </tr>\n",
       "    <tr>\n",
       "      <th>23</th>\n",
       "      <td>Paul drove to Emily because</td>\n",
       "      <td>0.423325</td>\n",
       "      <td>0.576675</td>\n",
       "    </tr>\n",
       "  </tbody>\n",
       "</table>\n",
       "</div>"
      ],
      "text/plain": [
       "                                     stimulus        he       she\n",
       "12      Mr. Smith drove to Miss Smith because  0.519935  0.480065\n",
       "13         The man drove to the woman because  0.422818  0.577182\n",
       "14                 John drove to Mary because  0.531012  0.468988\n",
       "15                 Bob drove to Alice because  0.703539  0.296461\n",
       "16     The actor drove to the actress because  0.119708  0.880292\n",
       "17          The boy drove to the girl because  0.376249  0.623751\n",
       "18   Mr. William drove to Mrs. Taylor because  0.266425  0.733575\n",
       "19                David drove to Emma because  0.425701  0.574299\n",
       "20   The prince drove to the princess because  0.438430  0.561570\n",
       "21              Robert drove to Sarah because  0.365788  0.634212\n",
       "22  Mr. Taylor drove to Mrs. Williams because  0.150537  0.849463\n",
       "23                Paul drove to Emily because  0.423325  0.576675"
      ]
     },
     "execution_count": 93,
     "metadata": {},
     "output_type": "execute_result"
    }
   ],
   "source": [
    "motion_connective1_5m"
   ]
  },
  {
   "cell_type": "code",
   "execution_count": 94,
   "metadata": {},
   "outputs": [
    {
     "name": "stdout",
     "output_type": "stream",
     "text": [
      "P('subj-pron'|subj=male) =  0.3952889734258254\n",
      "P('non-subj-pron'|subj=male) =  0.6047110284368197\n"
     ]
    }
   ],
   "source": [
    "print(\"P('subj-pron'|subj=male) = \", compute_average(motion_connective1_5m,'he'))\n",
    "print(\"P('non-subj-pron'|subj=male) = \", compute_average(motion_connective1_5m,'she'))"
   ]
  },
  {
   "cell_type": "code",
   "execution_count": 95,
   "metadata": {},
   "outputs": [],
   "source": [
    "c1_average_subj_male_subj_pron['drove'] = compute_average(motion_connective1_5m,'he')\n",
    "c1_average_subj_male_obj_pron['drove'] = compute_average(motion_connective1_5m,'she')"
   ]
  },
  {
   "cell_type": "markdown",
   "metadata": {},
   "source": [
    "### verb: \"threw\""
   ]
  },
  {
   "cell_type": "code",
   "execution_count": 96,
   "metadata": {},
   "outputs": [
    {
     "data": {
      "text/html": [
       "<div>\n",
       "<style scoped>\n",
       "    .dataframe tbody tr th:only-of-type {\n",
       "        vertical-align: middle;\n",
       "    }\n",
       "\n",
       "    .dataframe tbody tr th {\n",
       "        vertical-align: top;\n",
       "    }\n",
       "\n",
       "    .dataframe thead th {\n",
       "        text-align: right;\n",
       "    }\n",
       "</style>\n",
       "<table border=\"1\" class=\"dataframe\">\n",
       "  <thead>\n",
       "    <tr style=\"text-align: right;\">\n",
       "      <th></th>\n",
       "      <th>stimulus</th>\n",
       "      <th>he</th>\n",
       "      <th>she</th>\n",
       "    </tr>\n",
       "  </thead>\n",
       "  <tbody>\n",
       "    <tr>\n",
       "      <th>0</th>\n",
       "      <td>Miss Smith jogged to Mr. Smith because</td>\n",
       "      <td>0.159465</td>\n",
       "      <td>0.840535</td>\n",
       "    </tr>\n",
       "    <tr>\n",
       "      <th>1</th>\n",
       "      <td>The woman jogged to the man because</td>\n",
       "      <td>0.429963</td>\n",
       "      <td>0.570037</td>\n",
       "    </tr>\n",
       "    <tr>\n",
       "      <th>2</th>\n",
       "      <td>Mary jogged to John because</td>\n",
       "      <td>0.164067</td>\n",
       "      <td>0.835933</td>\n",
       "    </tr>\n",
       "    <tr>\n",
       "      <th>3</th>\n",
       "      <td>Alice jogged to Bob because</td>\n",
       "      <td>0.080606</td>\n",
       "      <td>0.919394</td>\n",
       "    </tr>\n",
       "    <tr>\n",
       "      <th>4</th>\n",
       "      <td>The actress jogged to the actor because</td>\n",
       "      <td>0.163285</td>\n",
       "      <td>0.836715</td>\n",
       "    </tr>\n",
       "  </tbody>\n",
       "</table>\n",
       "</div>"
      ],
      "text/plain": [
       "                                  stimulus        he       she\n",
       "0   Miss Smith jogged to Mr. Smith because  0.159465  0.840535\n",
       "1      The woman jogged to the man because  0.429963  0.570037\n",
       "2              Mary jogged to John because  0.164067  0.835933\n",
       "3              Alice jogged to Bob because  0.080606  0.919394\n",
       "4  The actress jogged to the actor because  0.163285  0.836715"
      ]
     },
     "execution_count": 96,
     "metadata": {},
     "output_type": "execute_result"
    }
   ],
   "source": [
    "motion_connective1_6 = pd.read_csv(\"../results/motion/connective1/6.csv\")\n",
    "motion_connective1_6.head()"
   ]
  },
  {
   "cell_type": "code",
   "execution_count": 97,
   "metadata": {},
   "outputs": [],
   "source": [
    "# female subject\n",
    "motion_connective1_6f = motion_connective1_6[0:12]\n",
    "motion_connective1_6f = motion_connective1_6[[\"stimulus\",\"she\",\"he\"]]\n",
    "# male subject\n",
    "motion_connective1_6m = motion_connective1_6[12:24]"
   ]
  },
  {
   "cell_type": "markdown",
   "metadata": {},
   "source": [
    "#### female subject"
   ]
  },
  {
   "cell_type": "code",
   "execution_count": 98,
   "metadata": {},
   "outputs": [
    {
     "data": {
      "text/html": [
       "<div>\n",
       "<style scoped>\n",
       "    .dataframe tbody tr th:only-of-type {\n",
       "        vertical-align: middle;\n",
       "    }\n",
       "\n",
       "    .dataframe tbody tr th {\n",
       "        vertical-align: top;\n",
       "    }\n",
       "\n",
       "    .dataframe thead th {\n",
       "        text-align: right;\n",
       "    }\n",
       "</style>\n",
       "<table border=\"1\" class=\"dataframe\">\n",
       "  <thead>\n",
       "    <tr style=\"text-align: right;\">\n",
       "      <th></th>\n",
       "      <th>stimulus</th>\n",
       "      <th>she</th>\n",
       "      <th>he</th>\n",
       "    </tr>\n",
       "  </thead>\n",
       "  <tbody>\n",
       "    <tr>\n",
       "      <th>0</th>\n",
       "      <td>Miss Smith jogged to Mr. Smith because</td>\n",
       "      <td>0.840535</td>\n",
       "      <td>0.159465</td>\n",
       "    </tr>\n",
       "    <tr>\n",
       "      <th>1</th>\n",
       "      <td>The woman jogged to the man because</td>\n",
       "      <td>0.570037</td>\n",
       "      <td>0.429963</td>\n",
       "    </tr>\n",
       "    <tr>\n",
       "      <th>2</th>\n",
       "      <td>Mary jogged to John because</td>\n",
       "      <td>0.835933</td>\n",
       "      <td>0.164067</td>\n",
       "    </tr>\n",
       "    <tr>\n",
       "      <th>3</th>\n",
       "      <td>Alice jogged to Bob because</td>\n",
       "      <td>0.919394</td>\n",
       "      <td>0.080606</td>\n",
       "    </tr>\n",
       "    <tr>\n",
       "      <th>4</th>\n",
       "      <td>The actress jogged to the actor because</td>\n",
       "      <td>0.836715</td>\n",
       "      <td>0.163285</td>\n",
       "    </tr>\n",
       "    <tr>\n",
       "      <th>5</th>\n",
       "      <td>The girl jogged to the boy because</td>\n",
       "      <td>0.729182</td>\n",
       "      <td>0.270818</td>\n",
       "    </tr>\n",
       "    <tr>\n",
       "      <th>6</th>\n",
       "      <td>Mrs. Taylor jogged to Mr. Williams because</td>\n",
       "      <td>0.785844</td>\n",
       "      <td>0.214156</td>\n",
       "    </tr>\n",
       "    <tr>\n",
       "      <th>7</th>\n",
       "      <td>Emma jogged to David because</td>\n",
       "      <td>0.939141</td>\n",
       "      <td>0.060859</td>\n",
       "    </tr>\n",
       "    <tr>\n",
       "      <th>8</th>\n",
       "      <td>The princess jogged to the prince because</td>\n",
       "      <td>0.606151</td>\n",
       "      <td>0.393849</td>\n",
       "    </tr>\n",
       "    <tr>\n",
       "      <th>9</th>\n",
       "      <td>Sarah jogged to Robert because</td>\n",
       "      <td>0.857412</td>\n",
       "      <td>0.142588</td>\n",
       "    </tr>\n",
       "    <tr>\n",
       "      <th>10</th>\n",
       "      <td>Mrs. Williams jogged to Mr. Taylor because</td>\n",
       "      <td>0.744464</td>\n",
       "      <td>0.255536</td>\n",
       "    </tr>\n",
       "    <tr>\n",
       "      <th>11</th>\n",
       "      <td>Emily jogged to Paul because</td>\n",
       "      <td>0.804687</td>\n",
       "      <td>0.195313</td>\n",
       "    </tr>\n",
       "    <tr>\n",
       "      <th>12</th>\n",
       "      <td>Mr. Smith jogged to Miss Smith because</td>\n",
       "      <td>0.431843</td>\n",
       "      <td>0.568157</td>\n",
       "    </tr>\n",
       "    <tr>\n",
       "      <th>13</th>\n",
       "      <td>The man jogged to the woman because</td>\n",
       "      <td>0.556038</td>\n",
       "      <td>0.443962</td>\n",
       "    </tr>\n",
       "    <tr>\n",
       "      <th>14</th>\n",
       "      <td>John jogged to Mary because</td>\n",
       "      <td>0.508204</td>\n",
       "      <td>0.491797</td>\n",
       "    </tr>\n",
       "    <tr>\n",
       "      <th>15</th>\n",
       "      <td>Bob jogged to Alice because</td>\n",
       "      <td>0.424443</td>\n",
       "      <td>0.575557</td>\n",
       "    </tr>\n",
       "    <tr>\n",
       "      <th>16</th>\n",
       "      <td>The actor jogged to the actress because</td>\n",
       "      <td>0.855068</td>\n",
       "      <td>0.144932</td>\n",
       "    </tr>\n",
       "    <tr>\n",
       "      <th>17</th>\n",
       "      <td>The boy jogged to the girl because</td>\n",
       "      <td>0.644660</td>\n",
       "      <td>0.355340</td>\n",
       "    </tr>\n",
       "    <tr>\n",
       "      <th>18</th>\n",
       "      <td>Mr. William jogged to Mrs. Taylor because</td>\n",
       "      <td>0.750758</td>\n",
       "      <td>0.249242</td>\n",
       "    </tr>\n",
       "    <tr>\n",
       "      <th>19</th>\n",
       "      <td>David jogged to Emma because</td>\n",
       "      <td>0.711699</td>\n",
       "      <td>0.288301</td>\n",
       "    </tr>\n",
       "    <tr>\n",
       "      <th>20</th>\n",
       "      <td>The prince jogged to the princess because</td>\n",
       "      <td>0.554493</td>\n",
       "      <td>0.445507</td>\n",
       "    </tr>\n",
       "    <tr>\n",
       "      <th>21</th>\n",
       "      <td>Robert jogged to Sarah because</td>\n",
       "      <td>0.684864</td>\n",
       "      <td>0.315136</td>\n",
       "    </tr>\n",
       "    <tr>\n",
       "      <th>22</th>\n",
       "      <td>Mr. Taylor jogged to Mrs. Williams because</td>\n",
       "      <td>0.850542</td>\n",
       "      <td>0.149458</td>\n",
       "    </tr>\n",
       "    <tr>\n",
       "      <th>23</th>\n",
       "      <td>Paul jogged to Emily because</td>\n",
       "      <td>0.630454</td>\n",
       "      <td>0.369546</td>\n",
       "    </tr>\n",
       "  </tbody>\n",
       "</table>\n",
       "</div>"
      ],
      "text/plain": [
       "                                      stimulus       she        he\n",
       "0       Miss Smith jogged to Mr. Smith because  0.840535  0.159465\n",
       "1          The woman jogged to the man because  0.570037  0.429963\n",
       "2                  Mary jogged to John because  0.835933  0.164067\n",
       "3                  Alice jogged to Bob because  0.919394  0.080606\n",
       "4      The actress jogged to the actor because  0.836715  0.163285\n",
       "5           The girl jogged to the boy because  0.729182  0.270818\n",
       "6   Mrs. Taylor jogged to Mr. Williams because  0.785844  0.214156\n",
       "7                 Emma jogged to David because  0.939141  0.060859\n",
       "8    The princess jogged to the prince because  0.606151  0.393849\n",
       "9               Sarah jogged to Robert because  0.857412  0.142588\n",
       "10  Mrs. Williams jogged to Mr. Taylor because  0.744464  0.255536\n",
       "11                Emily jogged to Paul because  0.804687  0.195313\n",
       "12      Mr. Smith jogged to Miss Smith because  0.431843  0.568157\n",
       "13         The man jogged to the woman because  0.556038  0.443962\n",
       "14                 John jogged to Mary because  0.508204  0.491797\n",
       "15                 Bob jogged to Alice because  0.424443  0.575557\n",
       "16     The actor jogged to the actress because  0.855068  0.144932\n",
       "17          The boy jogged to the girl because  0.644660  0.355340\n",
       "18   Mr. William jogged to Mrs. Taylor because  0.750758  0.249242\n",
       "19                David jogged to Emma because  0.711699  0.288301\n",
       "20   The prince jogged to the princess because  0.554493  0.445507\n",
       "21              Robert jogged to Sarah because  0.684864  0.315136\n",
       "22  Mr. Taylor jogged to Mrs. Williams because  0.850542  0.149458\n",
       "23                Paul jogged to Emily because  0.630454  0.369546"
      ]
     },
     "execution_count": 98,
     "metadata": {},
     "output_type": "execute_result"
    }
   ],
   "source": [
    "motion_connective1_6f"
   ]
  },
  {
   "cell_type": "code",
   "execution_count": 99,
   "metadata": {},
   "outputs": [
    {
     "name": "stdout",
     "output_type": "stream",
     "text": [
      "P('subj-pron'|subj=female) =  0.7113566982249419\n",
      "P('non-subj-pron'|subj=female) =  0.28864330518990755\n"
     ]
    }
   ],
   "source": [
    "print(\"P('subj-pron'|subj=female) = \", compute_average(motion_connective1_6f,'she'))\n",
    "print(\"P('non-subj-pron'|subj=female) = \", compute_average(motion_connective1_6f,'he'))"
   ]
  },
  {
   "cell_type": "code",
   "execution_count": 100,
   "metadata": {},
   "outputs": [],
   "source": [
    "c1_average_subj_female_subj_pron['jogged'] = compute_average(motion_connective1_6f,'she')\n",
    "c1_average_subj_female_obj_pron['jogged'] = compute_average(motion_connective1_6f,'he')"
   ]
  },
  {
   "cell_type": "markdown",
   "metadata": {},
   "source": [
    "#### male subject"
   ]
  },
  {
   "cell_type": "code",
   "execution_count": 101,
   "metadata": {},
   "outputs": [
    {
     "data": {
      "text/html": [
       "<div>\n",
       "<style scoped>\n",
       "    .dataframe tbody tr th:only-of-type {\n",
       "        vertical-align: middle;\n",
       "    }\n",
       "\n",
       "    .dataframe tbody tr th {\n",
       "        vertical-align: top;\n",
       "    }\n",
       "\n",
       "    .dataframe thead th {\n",
       "        text-align: right;\n",
       "    }\n",
       "</style>\n",
       "<table border=\"1\" class=\"dataframe\">\n",
       "  <thead>\n",
       "    <tr style=\"text-align: right;\">\n",
       "      <th></th>\n",
       "      <th>stimulus</th>\n",
       "      <th>he</th>\n",
       "      <th>she</th>\n",
       "    </tr>\n",
       "  </thead>\n",
       "  <tbody>\n",
       "    <tr>\n",
       "      <th>12</th>\n",
       "      <td>Mr. Smith jogged to Miss Smith because</td>\n",
       "      <td>0.568157</td>\n",
       "      <td>0.431843</td>\n",
       "    </tr>\n",
       "    <tr>\n",
       "      <th>13</th>\n",
       "      <td>The man jogged to the woman because</td>\n",
       "      <td>0.443962</td>\n",
       "      <td>0.556038</td>\n",
       "    </tr>\n",
       "    <tr>\n",
       "      <th>14</th>\n",
       "      <td>John jogged to Mary because</td>\n",
       "      <td>0.491797</td>\n",
       "      <td>0.508204</td>\n",
       "    </tr>\n",
       "    <tr>\n",
       "      <th>15</th>\n",
       "      <td>Bob jogged to Alice because</td>\n",
       "      <td>0.575557</td>\n",
       "      <td>0.424443</td>\n",
       "    </tr>\n",
       "    <tr>\n",
       "      <th>16</th>\n",
       "      <td>The actor jogged to the actress because</td>\n",
       "      <td>0.144932</td>\n",
       "      <td>0.855068</td>\n",
       "    </tr>\n",
       "    <tr>\n",
       "      <th>17</th>\n",
       "      <td>The boy jogged to the girl because</td>\n",
       "      <td>0.355340</td>\n",
       "      <td>0.644660</td>\n",
       "    </tr>\n",
       "    <tr>\n",
       "      <th>18</th>\n",
       "      <td>Mr. William jogged to Mrs. Taylor because</td>\n",
       "      <td>0.249242</td>\n",
       "      <td>0.750758</td>\n",
       "    </tr>\n",
       "    <tr>\n",
       "      <th>19</th>\n",
       "      <td>David jogged to Emma because</td>\n",
       "      <td>0.288301</td>\n",
       "      <td>0.711699</td>\n",
       "    </tr>\n",
       "    <tr>\n",
       "      <th>20</th>\n",
       "      <td>The prince jogged to the princess because</td>\n",
       "      <td>0.445507</td>\n",
       "      <td>0.554493</td>\n",
       "    </tr>\n",
       "    <tr>\n",
       "      <th>21</th>\n",
       "      <td>Robert jogged to Sarah because</td>\n",
       "      <td>0.315136</td>\n",
       "      <td>0.684864</td>\n",
       "    </tr>\n",
       "    <tr>\n",
       "      <th>22</th>\n",
       "      <td>Mr. Taylor jogged to Mrs. Williams because</td>\n",
       "      <td>0.149458</td>\n",
       "      <td>0.850542</td>\n",
       "    </tr>\n",
       "    <tr>\n",
       "      <th>23</th>\n",
       "      <td>Paul jogged to Emily because</td>\n",
       "      <td>0.369546</td>\n",
       "      <td>0.630454</td>\n",
       "    </tr>\n",
       "  </tbody>\n",
       "</table>\n",
       "</div>"
      ],
      "text/plain": [
       "                                      stimulus        he       she\n",
       "12      Mr. Smith jogged to Miss Smith because  0.568157  0.431843\n",
       "13         The man jogged to the woman because  0.443962  0.556038\n",
       "14                 John jogged to Mary because  0.491797  0.508204\n",
       "15                 Bob jogged to Alice because  0.575557  0.424443\n",
       "16     The actor jogged to the actress because  0.144932  0.855068\n",
       "17          The boy jogged to the girl because  0.355340  0.644660\n",
       "18   Mr. William jogged to Mrs. Taylor because  0.249242  0.750758\n",
       "19                David jogged to Emma because  0.288301  0.711699\n",
       "20   The prince jogged to the princess because  0.445507  0.554493\n",
       "21              Robert jogged to Sarah because  0.315136  0.684864\n",
       "22  Mr. Taylor jogged to Mrs. Williams because  0.149458  0.850542\n",
       "23                Paul jogged to Emily because  0.369546  0.630454"
      ]
     },
     "execution_count": 101,
     "metadata": {},
     "output_type": "execute_result"
    }
   ],
   "source": [
    "motion_connective1_6m"
   ]
  },
  {
   "cell_type": "code",
   "execution_count": 102,
   "metadata": {},
   "outputs": [
    {
     "name": "stdout",
     "output_type": "stream",
     "text": [
      "P('subj-pron'|subj=male) =  0.3664112500846386\n",
      "P('non-subj-pron'|subj=male) =  0.6335887586077055\n"
     ]
    }
   ],
   "source": [
    "print(\"P('subj-pron'|subj=male) = \", compute_average(motion_connective1_6m,'he'))\n",
    "print(\"P('non-subj-pron'|subj=male) = \", compute_average(motion_connective1_6m,'she'))"
   ]
  },
  {
   "cell_type": "code",
   "execution_count": 103,
   "metadata": {},
   "outputs": [],
   "source": [
    "c1_average_subj_male_subj_pron['jogged'] = compute_average(motion_connective1_6m,'he')\n",
    "c1_average_subj_male_obj_pron['jogged'] = compute_average(motion_connective1_6m,'she')"
   ]
  },
  {
   "cell_type": "markdown",
   "metadata": {},
   "source": [
    "## Summary of Results"
   ]
  },
  {
   "cell_type": "code",
   "execution_count": 104,
   "metadata": {
    "scrolled": true
   },
   "outputs": [
    {
     "data": {
      "text/html": [
       "<div>\n",
       "<style scoped>\n",
       "    .dataframe tbody tr th:only-of-type {\n",
       "        vertical-align: middle;\n",
       "    }\n",
       "\n",
       "    .dataframe tbody tr th {\n",
       "        vertical-align: top;\n",
       "    }\n",
       "\n",
       "    .dataframe thead th {\n",
       "        text-align: right;\n",
       "    }\n",
       "</style>\n",
       "<table border=\"1\" class=\"dataframe\">\n",
       "  <thead>\n",
       "    <tr style=\"text-align: right;\">\n",
       "      <th></th>\n",
       "      <th>verb</th>\n",
       "      <th>subj_ref_female_subj</th>\n",
       "      <th>obj_ref_female_subj</th>\n",
       "    </tr>\n",
       "  </thead>\n",
       "  <tbody>\n",
       "    <tr>\n",
       "      <th>0</th>\n",
       "      <td>flew</td>\n",
       "      <td>0.844126</td>\n",
       "      <td>0.155874</td>\n",
       "    </tr>\n",
       "    <tr>\n",
       "      <th>1</th>\n",
       "      <td>walked</td>\n",
       "      <td>0.840004</td>\n",
       "      <td>0.159996</td>\n",
       "    </tr>\n",
       "    <tr>\n",
       "      <th>2</th>\n",
       "      <td>ran</td>\n",
       "      <td>0.825414</td>\n",
       "      <td>0.174586</td>\n",
       "    </tr>\n",
       "    <tr>\n",
       "      <th>3</th>\n",
       "      <td>swam</td>\n",
       "      <td>0.813354</td>\n",
       "      <td>0.186646</td>\n",
       "    </tr>\n",
       "    <tr>\n",
       "      <th>4</th>\n",
       "      <td>drove</td>\n",
       "      <td>0.707900</td>\n",
       "      <td>0.292100</td>\n",
       "    </tr>\n",
       "    <tr>\n",
       "      <th>5</th>\n",
       "      <td>jogged</td>\n",
       "      <td>0.711357</td>\n",
       "      <td>0.288643</td>\n",
       "    </tr>\n",
       "  </tbody>\n",
       "</table>\n",
       "</div>"
      ],
      "text/plain": [
       "     verb  subj_ref_female_subj  obj_ref_female_subj\n",
       "0    flew              0.844126             0.155874\n",
       "1  walked              0.840004             0.159996\n",
       "2     ran              0.825414             0.174586\n",
       "3    swam              0.813354             0.186646\n",
       "4   drove              0.707900             0.292100\n",
       "5  jogged              0.711357             0.288643"
      ]
     },
     "execution_count": 104,
     "metadata": {},
     "output_type": "execute_result"
    }
   ],
   "source": [
    "c1_results_fsubj_subjpron = pd.DataFrame(list(c1_average_subj_female_subj_pron.items()),columns=['verb','subj_ref_female_subj'])\n",
    "c1_results_fsubj_objpron = pd.DataFrame(list(c1_average_subj_female_obj_pron.items()),columns=['verb','obj_ref_female_subj'])\n",
    "c1_results_fsubj = c1_results_fsubj_subjpron.merge(c1_results_fsubj_objpron)\n",
    "c1_results_fsubj"
   ]
  },
  {
   "cell_type": "code",
   "execution_count": 105,
   "metadata": {},
   "outputs": [
    {
     "data": {
      "text/html": [
       "<div>\n",
       "<style scoped>\n",
       "    .dataframe tbody tr th:only-of-type {\n",
       "        vertical-align: middle;\n",
       "    }\n",
       "\n",
       "    .dataframe tbody tr th {\n",
       "        vertical-align: top;\n",
       "    }\n",
       "\n",
       "    .dataframe thead th {\n",
       "        text-align: right;\n",
       "    }\n",
       "</style>\n",
       "<table border=\"1\" class=\"dataframe\">\n",
       "  <thead>\n",
       "    <tr style=\"text-align: right;\">\n",
       "      <th></th>\n",
       "      <th>verb</th>\n",
       "      <th>subj_ref_male_subj</th>\n",
       "      <th>obj_ref_male_subj</th>\n",
       "    </tr>\n",
       "  </thead>\n",
       "  <tbody>\n",
       "    <tr>\n",
       "      <th>0</th>\n",
       "      <td>flew</td>\n",
       "      <td>0.416886</td>\n",
       "      <td>0.583114</td>\n",
       "    </tr>\n",
       "    <tr>\n",
       "      <th>1</th>\n",
       "      <td>walked</td>\n",
       "      <td>0.429685</td>\n",
       "      <td>0.570315</td>\n",
       "    </tr>\n",
       "    <tr>\n",
       "      <th>2</th>\n",
       "      <td>ran</td>\n",
       "      <td>0.398048</td>\n",
       "      <td>0.601952</td>\n",
       "    </tr>\n",
       "    <tr>\n",
       "      <th>3</th>\n",
       "      <td>swam</td>\n",
       "      <td>0.534772</td>\n",
       "      <td>0.465228</td>\n",
       "    </tr>\n",
       "    <tr>\n",
       "      <th>4</th>\n",
       "      <td>drove</td>\n",
       "      <td>0.395289</td>\n",
       "      <td>0.604711</td>\n",
       "    </tr>\n",
       "    <tr>\n",
       "      <th>5</th>\n",
       "      <td>jogged</td>\n",
       "      <td>0.366411</td>\n",
       "      <td>0.633589</td>\n",
       "    </tr>\n",
       "  </tbody>\n",
       "</table>\n",
       "</div>"
      ],
      "text/plain": [
       "     verb  subj_ref_male_subj  obj_ref_male_subj\n",
       "0    flew            0.416886           0.583114\n",
       "1  walked            0.429685           0.570315\n",
       "2     ran            0.398048           0.601952\n",
       "3    swam            0.534772           0.465228\n",
       "4   drove            0.395289           0.604711\n",
       "5  jogged            0.366411           0.633589"
      ]
     },
     "execution_count": 105,
     "metadata": {},
     "output_type": "execute_result"
    }
   ],
   "source": [
    "c1_results_msubj_subjpron = pd.DataFrame(list(c1_average_subj_male_subj_pron.items()),columns=['verb','subj_ref_male_subj'])\n",
    "c1_results_msubj_objpron = pd.DataFrame(list(c1_average_subj_male_obj_pron.items()),columns=['verb','obj_ref_male_subj'])\n",
    "c1_results_msubj = c1_results_msubj_subjpron.merge(c1_results_msubj_objpron)\n",
    "c1_results_msubj\n"
   ]
  },
  {
   "cell_type": "code",
   "execution_count": 106,
   "metadata": {
    "scrolled": true
   },
   "outputs": [
    {
     "data": {
      "text/html": [
       "<div>\n",
       "<style scoped>\n",
       "    .dataframe tbody tr th:only-of-type {\n",
       "        vertical-align: middle;\n",
       "    }\n",
       "\n",
       "    .dataframe tbody tr th {\n",
       "        vertical-align: top;\n",
       "    }\n",
       "\n",
       "    .dataframe thead th {\n",
       "        text-align: right;\n",
       "    }\n",
       "</style>\n",
       "<table border=\"1\" class=\"dataframe\">\n",
       "  <thead>\n",
       "    <tr style=\"text-align: right;\">\n",
       "      <th></th>\n",
       "      <th>verb</th>\n",
       "      <th>subj_ref_female_subj</th>\n",
       "      <th>obj_ref_female_subj</th>\n",
       "      <th>subj_ref_male_subj</th>\n",
       "      <th>obj_ref_male_subj</th>\n",
       "    </tr>\n",
       "  </thead>\n",
       "  <tbody>\n",
       "    <tr>\n",
       "      <th>0</th>\n",
       "      <td>flew</td>\n",
       "      <td>0.844126</td>\n",
       "      <td>0.155874</td>\n",
       "      <td>0.416886</td>\n",
       "      <td>0.583114</td>\n",
       "    </tr>\n",
       "    <tr>\n",
       "      <th>1</th>\n",
       "      <td>walked</td>\n",
       "      <td>0.840004</td>\n",
       "      <td>0.159996</td>\n",
       "      <td>0.429685</td>\n",
       "      <td>0.570315</td>\n",
       "    </tr>\n",
       "    <tr>\n",
       "      <th>2</th>\n",
       "      <td>ran</td>\n",
       "      <td>0.825414</td>\n",
       "      <td>0.174586</td>\n",
       "      <td>0.398048</td>\n",
       "      <td>0.601952</td>\n",
       "    </tr>\n",
       "    <tr>\n",
       "      <th>3</th>\n",
       "      <td>swam</td>\n",
       "      <td>0.813354</td>\n",
       "      <td>0.186646</td>\n",
       "      <td>0.534772</td>\n",
       "      <td>0.465228</td>\n",
       "    </tr>\n",
       "    <tr>\n",
       "      <th>4</th>\n",
       "      <td>drove</td>\n",
       "      <td>0.707900</td>\n",
       "      <td>0.292100</td>\n",
       "      <td>0.395289</td>\n",
       "      <td>0.604711</td>\n",
       "    </tr>\n",
       "    <tr>\n",
       "      <th>5</th>\n",
       "      <td>jogged</td>\n",
       "      <td>0.711357</td>\n",
       "      <td>0.288643</td>\n",
       "      <td>0.366411</td>\n",
       "      <td>0.633589</td>\n",
       "    </tr>\n",
       "  </tbody>\n",
       "</table>\n",
       "</div>"
      ],
      "text/plain": [
       "     verb  subj_ref_female_subj  obj_ref_female_subj  subj_ref_male_subj  \\\n",
       "0    flew              0.844126             0.155874            0.416886   \n",
       "1  walked              0.840004             0.159996            0.429685   \n",
       "2     ran              0.825414             0.174586            0.398048   \n",
       "3    swam              0.813354             0.186646            0.534772   \n",
       "4   drove              0.707900             0.292100            0.395289   \n",
       "5  jogged              0.711357             0.288643            0.366411   \n",
       "\n",
       "   obj_ref_male_subj  \n",
       "0           0.583114  \n",
       "1           0.570315  \n",
       "2           0.601952  \n",
       "3           0.465228  \n",
       "4           0.604711  \n",
       "5           0.633589  "
      ]
     },
     "execution_count": 106,
     "metadata": {},
     "output_type": "execute_result"
    }
   ],
   "source": [
    "c1_results = c1_results_fsubj.merge(c1_results_msubj)\n",
    "c1_results"
   ]
  },
  {
   "cell_type": "code",
   "execution_count": 107,
   "metadata": {
    "scrolled": true
   },
   "outputs": [
    {
     "name": "stdout",
     "output_type": "stream",
     "text": [
      "P(subj_reference |subj=female) 0.790359122471677\n",
      "P(obj_reference |subj=female) 0.2096408827152724\n"
     ]
    }
   ],
   "source": [
    "print(\"P(subj_reference |subj=female)\", compute_average(c1_results,'subj_ref_female_subj'))\n",
    "print(\"P(obj_reference |subj=female)\", compute_average(c1_results,'obj_ref_female_subj'))"
   ]
  },
  {
   "cell_type": "code",
   "execution_count": 108,
   "metadata": {},
   "outputs": [
    {
     "name": "stdout",
     "output_type": "stream",
     "text": [
      "P(subj_reference |subj=male) 0.42351505998522043\n",
      "P(obj_reference |subj=male) 0.5764849439470304\n"
     ]
    }
   ],
   "source": [
    "print(\"P(subj_reference |subj=male)\", compute_average(c1_results,'subj_ref_male_subj'))\n",
    "print(\"P(obj_reference |subj=male)\", compute_average(c1_results,'obj_ref_male_subj'))"
   ]
  },
  {
   "cell_type": "markdown",
   "metadata": {},
   "source": [
    "## Connective: \"and, as a result\""
   ]
  },
  {
   "cell_type": "code",
   "execution_count": 109,
   "metadata": {},
   "outputs": [],
   "source": [
    "c2_average_subj_female_subj_pron = {}\n",
    "c2_average_subj_female_obj_pron = {}\n",
    "c2_average_subj_male_subj_pron = {}\n",
    "c2_average_subj_male_obj_pron = {}"
   ]
  },
  {
   "cell_type": "markdown",
   "metadata": {},
   "source": [
    "### verb: \"flew\""
   ]
  },
  {
   "cell_type": "code",
   "execution_count": 110,
   "metadata": {},
   "outputs": [
    {
     "data": {
      "text/html": [
       "<div>\n",
       "<style scoped>\n",
       "    .dataframe tbody tr th:only-of-type {\n",
       "        vertical-align: middle;\n",
       "    }\n",
       "\n",
       "    .dataframe tbody tr th {\n",
       "        vertical-align: top;\n",
       "    }\n",
       "\n",
       "    .dataframe thead th {\n",
       "        text-align: right;\n",
       "    }\n",
       "</style>\n",
       "<table border=\"1\" class=\"dataframe\">\n",
       "  <thead>\n",
       "    <tr style=\"text-align: right;\">\n",
       "      <th></th>\n",
       "      <th>stimulus</th>\n",
       "      <th>he</th>\n",
       "      <th>she</th>\n",
       "    </tr>\n",
       "  </thead>\n",
       "  <tbody>\n",
       "    <tr>\n",
       "      <th>0</th>\n",
       "      <td>Miss Smith flew to Mr. Smith and, as a result,</td>\n",
       "      <td>0.272546</td>\n",
       "      <td>0.727453</td>\n",
       "    </tr>\n",
       "    <tr>\n",
       "      <th>1</th>\n",
       "      <td>The woman flew to the man and, as a result,</td>\n",
       "      <td>0.572794</td>\n",
       "      <td>0.427206</td>\n",
       "    </tr>\n",
       "    <tr>\n",
       "      <th>2</th>\n",
       "      <td>Mary flew to John and, as a result,</td>\n",
       "      <td>0.409119</td>\n",
       "      <td>0.590881</td>\n",
       "    </tr>\n",
       "    <tr>\n",
       "      <th>3</th>\n",
       "      <td>Alice flew to Bob and, as a result,</td>\n",
       "      <td>0.593004</td>\n",
       "      <td>0.406996</td>\n",
       "    </tr>\n",
       "    <tr>\n",
       "      <th>4</th>\n",
       "      <td>The actress flew to the actor and, as a result,</td>\n",
       "      <td>0.656443</td>\n",
       "      <td>0.343557</td>\n",
       "    </tr>\n",
       "  </tbody>\n",
       "</table>\n",
       "</div>"
      ],
      "text/plain": [
       "                                          stimulus        he       she\n",
       "0   Miss Smith flew to Mr. Smith and, as a result,  0.272546  0.727453\n",
       "1      The woman flew to the man and, as a result,  0.572794  0.427206\n",
       "2              Mary flew to John and, as a result,  0.409119  0.590881\n",
       "3              Alice flew to Bob and, as a result,  0.593004  0.406996\n",
       "4  The actress flew to the actor and, as a result,  0.656443  0.343557"
      ]
     },
     "execution_count": 110,
     "metadata": {},
     "output_type": "execute_result"
    }
   ],
   "source": [
    "motion_connective2_1 = pd.read_csv(\"../results/motion/connective2/1.csv\")\n",
    "motion_connective2_1.head()"
   ]
  },
  {
   "cell_type": "code",
   "execution_count": 111,
   "metadata": {},
   "outputs": [],
   "source": [
    "# female subject\n",
    "motion_connective2_1f = motion_connective2_1[0:12]\n",
    "motion_connective2_1f = motion_connective2_1f[[\"stimulus\",\"she\",\"he\"]]\n",
    "# male subject\n",
    "motion_connective2_1m = motion_connective2_1[12:24]"
   ]
  },
  {
   "cell_type": "markdown",
   "metadata": {},
   "source": [
    "#### female subject"
   ]
  },
  {
   "cell_type": "code",
   "execution_count": 112,
   "metadata": {},
   "outputs": [
    {
     "data": {
      "text/html": [
       "<div>\n",
       "<style scoped>\n",
       "    .dataframe tbody tr th:only-of-type {\n",
       "        vertical-align: middle;\n",
       "    }\n",
       "\n",
       "    .dataframe tbody tr th {\n",
       "        vertical-align: top;\n",
       "    }\n",
       "\n",
       "    .dataframe thead th {\n",
       "        text-align: right;\n",
       "    }\n",
       "</style>\n",
       "<table border=\"1\" class=\"dataframe\">\n",
       "  <thead>\n",
       "    <tr style=\"text-align: right;\">\n",
       "      <th></th>\n",
       "      <th>stimulus</th>\n",
       "      <th>she</th>\n",
       "      <th>he</th>\n",
       "    </tr>\n",
       "  </thead>\n",
       "  <tbody>\n",
       "    <tr>\n",
       "      <th>0</th>\n",
       "      <td>Miss Smith flew to Mr. Smith and, as a result,</td>\n",
       "      <td>0.727453</td>\n",
       "      <td>0.272546</td>\n",
       "    </tr>\n",
       "    <tr>\n",
       "      <th>1</th>\n",
       "      <td>The woman flew to the man and, as a result,</td>\n",
       "      <td>0.427206</td>\n",
       "      <td>0.572794</td>\n",
       "    </tr>\n",
       "    <tr>\n",
       "      <th>2</th>\n",
       "      <td>Mary flew to John and, as a result,</td>\n",
       "      <td>0.590881</td>\n",
       "      <td>0.409119</td>\n",
       "    </tr>\n",
       "    <tr>\n",
       "      <th>3</th>\n",
       "      <td>Alice flew to Bob and, as a result,</td>\n",
       "      <td>0.406996</td>\n",
       "      <td>0.593004</td>\n",
       "    </tr>\n",
       "    <tr>\n",
       "      <th>4</th>\n",
       "      <td>The actress flew to the actor and, as a result,</td>\n",
       "      <td>0.343557</td>\n",
       "      <td>0.656443</td>\n",
       "    </tr>\n",
       "    <tr>\n",
       "      <th>5</th>\n",
       "      <td>The girl flew to the boy and, as a result,</td>\n",
       "      <td>0.354411</td>\n",
       "      <td>0.645589</td>\n",
       "    </tr>\n",
       "    <tr>\n",
       "      <th>6</th>\n",
       "      <td>Mrs. Taylor flew to Mr. Williams and, as a res...</td>\n",
       "      <td>0.684197</td>\n",
       "      <td>0.315803</td>\n",
       "    </tr>\n",
       "    <tr>\n",
       "      <th>7</th>\n",
       "      <td>Emma flew to David and, as a result,</td>\n",
       "      <td>0.631145</td>\n",
       "      <td>0.368855</td>\n",
       "    </tr>\n",
       "    <tr>\n",
       "      <th>8</th>\n",
       "      <td>The princess flew to the prince and, as a result,</td>\n",
       "      <td>0.613404</td>\n",
       "      <td>0.386596</td>\n",
       "    </tr>\n",
       "    <tr>\n",
       "      <th>9</th>\n",
       "      <td>Sarah flew to Robert and, as a result,</td>\n",
       "      <td>0.425860</td>\n",
       "      <td>0.574140</td>\n",
       "    </tr>\n",
       "    <tr>\n",
       "      <th>10</th>\n",
       "      <td>Mrs. Williams flew to Mr. Taylor and, as a res...</td>\n",
       "      <td>0.675693</td>\n",
       "      <td>0.324307</td>\n",
       "    </tr>\n",
       "    <tr>\n",
       "      <th>11</th>\n",
       "      <td>Emily flew to Paul and, as a result,</td>\n",
       "      <td>0.571660</td>\n",
       "      <td>0.428340</td>\n",
       "    </tr>\n",
       "  </tbody>\n",
       "</table>\n",
       "</div>"
      ],
      "text/plain": [
       "                                             stimulus       she        he\n",
       "0      Miss Smith flew to Mr. Smith and, as a result,  0.727453  0.272546\n",
       "1         The woman flew to the man and, as a result,  0.427206  0.572794\n",
       "2                 Mary flew to John and, as a result,  0.590881  0.409119\n",
       "3                 Alice flew to Bob and, as a result,  0.406996  0.593004\n",
       "4     The actress flew to the actor and, as a result,  0.343557  0.656443\n",
       "5          The girl flew to the boy and, as a result,  0.354411  0.645589\n",
       "6   Mrs. Taylor flew to Mr. Williams and, as a res...  0.684197  0.315803\n",
       "7                Emma flew to David and, as a result,  0.631145  0.368855\n",
       "8   The princess flew to the prince and, as a result,  0.613404  0.386596\n",
       "9              Sarah flew to Robert and, as a result,  0.425860  0.574140\n",
       "10  Mrs. Williams flew to Mr. Taylor and, as a res...  0.675693  0.324307\n",
       "11               Emily flew to Paul and, as a result,  0.571660  0.428340"
      ]
     },
     "execution_count": 112,
     "metadata": {},
     "output_type": "execute_result"
    }
   ],
   "source": [
    "motion_connective2_1f"
   ]
  },
  {
   "cell_type": "code",
   "execution_count": 113,
   "metadata": {},
   "outputs": [
    {
     "name": "stdout",
     "output_type": "stream",
     "text": [
      "P('subj-pron'|subj=female) =  0.5377053320407867\n",
      "P('non-subj-pron'|subj=female) =  0.46229466299215954\n"
     ]
    }
   ],
   "source": [
    "print(\"P('subj-pron'|subj=female) = \", compute_average(motion_connective2_1f,'she'))\n",
    "print(\"P('non-subj-pron'|subj=female) = \", compute_average(motion_connective2_1f,'he'))"
   ]
  },
  {
   "cell_type": "code",
   "execution_count": 114,
   "metadata": {},
   "outputs": [],
   "source": [
    "c2_average_subj_female_subj_pron['flew'] = compute_average(motion_connective2_1f,'she')\n",
    "c2_average_subj_female_obj_pron['flew'] = compute_average(motion_connective2_1f,'he')"
   ]
  },
  {
   "cell_type": "markdown",
   "metadata": {},
   "source": [
    "#### male subject"
   ]
  },
  {
   "cell_type": "code",
   "execution_count": 115,
   "metadata": {},
   "outputs": [
    {
     "data": {
      "text/html": [
       "<div>\n",
       "<style scoped>\n",
       "    .dataframe tbody tr th:only-of-type {\n",
       "        vertical-align: middle;\n",
       "    }\n",
       "\n",
       "    .dataframe tbody tr th {\n",
       "        vertical-align: top;\n",
       "    }\n",
       "\n",
       "    .dataframe thead th {\n",
       "        text-align: right;\n",
       "    }\n",
       "</style>\n",
       "<table border=\"1\" class=\"dataframe\">\n",
       "  <thead>\n",
       "    <tr style=\"text-align: right;\">\n",
       "      <th></th>\n",
       "      <th>stimulus</th>\n",
       "      <th>he</th>\n",
       "      <th>she</th>\n",
       "    </tr>\n",
       "  </thead>\n",
       "  <tbody>\n",
       "    <tr>\n",
       "      <th>12</th>\n",
       "      <td>Mr. Smith flew to Miss Smith and, as a result,</td>\n",
       "      <td>0.566708</td>\n",
       "      <td>0.433292</td>\n",
       "    </tr>\n",
       "    <tr>\n",
       "      <th>13</th>\n",
       "      <td>The man flew to the woman and, as a result,</td>\n",
       "      <td>0.704931</td>\n",
       "      <td>0.295069</td>\n",
       "    </tr>\n",
       "    <tr>\n",
       "      <th>14</th>\n",
       "      <td>John flew to Mary and, as a result,</td>\n",
       "      <td>0.409214</td>\n",
       "      <td>0.590786</td>\n",
       "    </tr>\n",
       "    <tr>\n",
       "      <th>15</th>\n",
       "      <td>Bob flew to Alice and, as a result,</td>\n",
       "      <td>0.921213</td>\n",
       "      <td>0.078787</td>\n",
       "    </tr>\n",
       "    <tr>\n",
       "      <th>16</th>\n",
       "      <td>The actor flew to the actress and, as a result,</td>\n",
       "      <td>0.801836</td>\n",
       "      <td>0.198164</td>\n",
       "    </tr>\n",
       "    <tr>\n",
       "      <th>17</th>\n",
       "      <td>The boy flew to the girl and, as a result,</td>\n",
       "      <td>0.900262</td>\n",
       "      <td>0.099738</td>\n",
       "    </tr>\n",
       "    <tr>\n",
       "      <th>18</th>\n",
       "      <td>Mr. William flew to Mrs. Taylor and, as a result,</td>\n",
       "      <td>0.425124</td>\n",
       "      <td>0.574876</td>\n",
       "    </tr>\n",
       "    <tr>\n",
       "      <th>19</th>\n",
       "      <td>David flew to Emma and, as a result,</td>\n",
       "      <td>0.599851</td>\n",
       "      <td>0.400149</td>\n",
       "    </tr>\n",
       "    <tr>\n",
       "      <th>20</th>\n",
       "      <td>The prince flew to the princess and, as a result,</td>\n",
       "      <td>0.688104</td>\n",
       "      <td>0.311896</td>\n",
       "    </tr>\n",
       "    <tr>\n",
       "      <th>21</th>\n",
       "      <td>Robert flew to Sarah and, as a result,</td>\n",
       "      <td>0.813802</td>\n",
       "      <td>0.186198</td>\n",
       "    </tr>\n",
       "    <tr>\n",
       "      <th>22</th>\n",
       "      <td>Mr. Taylor flew to Mrs. Williams and, as a res...</td>\n",
       "      <td>0.488505</td>\n",
       "      <td>0.511495</td>\n",
       "    </tr>\n",
       "    <tr>\n",
       "      <th>23</th>\n",
       "      <td>Paul flew to Emily and, as a result,</td>\n",
       "      <td>0.651846</td>\n",
       "      <td>0.348154</td>\n",
       "    </tr>\n",
       "  </tbody>\n",
       "</table>\n",
       "</div>"
      ],
      "text/plain": [
       "                                             stimulus        he       she\n",
       "12     Mr. Smith flew to Miss Smith and, as a result,  0.566708  0.433292\n",
       "13        The man flew to the woman and, as a result,  0.704931  0.295069\n",
       "14                John flew to Mary and, as a result,  0.409214  0.590786\n",
       "15                Bob flew to Alice and, as a result,  0.921213  0.078787\n",
       "16    The actor flew to the actress and, as a result,  0.801836  0.198164\n",
       "17         The boy flew to the girl and, as a result,  0.900262  0.099738\n",
       "18  Mr. William flew to Mrs. Taylor and, as a result,  0.425124  0.574876\n",
       "19               David flew to Emma and, as a result,  0.599851  0.400149\n",
       "20  The prince flew to the princess and, as a result,  0.688104  0.311896\n",
       "21             Robert flew to Sarah and, as a result,  0.813802  0.186198\n",
       "22  Mr. Taylor flew to Mrs. Williams and, as a res...  0.488505  0.511495\n",
       "23               Paul flew to Emily and, as a result,  0.651846  0.348154"
      ]
     },
     "execution_count": 115,
     "metadata": {},
     "output_type": "execute_result"
    }
   ],
   "source": [
    "motion_connective2_1m"
   ]
  },
  {
   "cell_type": "code",
   "execution_count": 116,
   "metadata": {},
   "outputs": [
    {
     "name": "stdout",
     "output_type": "stream",
     "text": [
      "P('subj-pron'|subj=male) =  0.6642828633387884\n",
      "P('non-subj-pron'|subj=male) =  0.33571713728209335\n"
     ]
    }
   ],
   "source": [
    "print(\"P('subj-pron'|subj=male) = \", compute_average(motion_connective2_1m,'he'))\n",
    "print(\"P('non-subj-pron'|subj=male) = \", compute_average(motion_connective2_1m,'she'))"
   ]
  },
  {
   "cell_type": "code",
   "execution_count": 117,
   "metadata": {},
   "outputs": [],
   "source": [
    "c2_average_subj_male_subj_pron['flew'] = compute_average(motion_connective2_1m,'he')\n",
    "c2_average_subj_male_obj_pron['flew'] = compute_average(motion_connective2_1m,'she')"
   ]
  },
  {
   "cell_type": "markdown",
   "metadata": {},
   "source": [
    "### verb: \"walked\""
   ]
  },
  {
   "cell_type": "code",
   "execution_count": 118,
   "metadata": {},
   "outputs": [
    {
     "data": {
      "text/html": [
       "<div>\n",
       "<style scoped>\n",
       "    .dataframe tbody tr th:only-of-type {\n",
       "        vertical-align: middle;\n",
       "    }\n",
       "\n",
       "    .dataframe tbody tr th {\n",
       "        vertical-align: top;\n",
       "    }\n",
       "\n",
       "    .dataframe thead th {\n",
       "        text-align: right;\n",
       "    }\n",
       "</style>\n",
       "<table border=\"1\" class=\"dataframe\">\n",
       "  <thead>\n",
       "    <tr style=\"text-align: right;\">\n",
       "      <th></th>\n",
       "      <th>stimulus</th>\n",
       "      <th>he</th>\n",
       "      <th>she</th>\n",
       "    </tr>\n",
       "  </thead>\n",
       "  <tbody>\n",
       "    <tr>\n",
       "      <th>0</th>\n",
       "      <td>Miss Smith walked to Mr. Smith and, as a result,</td>\n",
       "      <td>0.332232</td>\n",
       "      <td>0.667768</td>\n",
       "    </tr>\n",
       "    <tr>\n",
       "      <th>1</th>\n",
       "      <td>The woman walked to the man and, as a result,</td>\n",
       "      <td>0.542243</td>\n",
       "      <td>0.457757</td>\n",
       "    </tr>\n",
       "    <tr>\n",
       "      <th>2</th>\n",
       "      <td>Mary walked to John and, as a result,</td>\n",
       "      <td>0.308960</td>\n",
       "      <td>0.691040</td>\n",
       "    </tr>\n",
       "    <tr>\n",
       "      <th>3</th>\n",
       "      <td>Alice walked to Bob and, as a result,</td>\n",
       "      <td>0.416278</td>\n",
       "      <td>0.583722</td>\n",
       "    </tr>\n",
       "    <tr>\n",
       "      <th>4</th>\n",
       "      <td>The actress walked to the actor and, as a result,</td>\n",
       "      <td>0.528391</td>\n",
       "      <td>0.471609</td>\n",
       "    </tr>\n",
       "  </tbody>\n",
       "</table>\n",
       "</div>"
      ],
      "text/plain": [
       "                                            stimulus        he       she\n",
       "0   Miss Smith walked to Mr. Smith and, as a result,  0.332232  0.667768\n",
       "1      The woman walked to the man and, as a result,  0.542243  0.457757\n",
       "2              Mary walked to John and, as a result,  0.308960  0.691040\n",
       "3              Alice walked to Bob and, as a result,  0.416278  0.583722\n",
       "4  The actress walked to the actor and, as a result,  0.528391  0.471609"
      ]
     },
     "execution_count": 118,
     "metadata": {},
     "output_type": "execute_result"
    }
   ],
   "source": [
    "motion_connective2_2 = pd.read_csv(\"../results/motion/connective2/2.csv\")\n",
    "motion_connective2_2.head()"
   ]
  },
  {
   "cell_type": "code",
   "execution_count": 119,
   "metadata": {},
   "outputs": [],
   "source": [
    "# female subject\n",
    "motion_connective2_2f = motion_connective2_2[0:12]\n",
    "motion_connective2_2f = motion_connective2_2f[[\"stimulus\",\"she\",\"he\"]]\n",
    "# male subject\n",
    "motion_connective2_2m = motion_connective2_2[12:24]"
   ]
  },
  {
   "cell_type": "markdown",
   "metadata": {},
   "source": [
    "#### female subject"
   ]
  },
  {
   "cell_type": "code",
   "execution_count": 120,
   "metadata": {},
   "outputs": [
    {
     "data": {
      "text/html": [
       "<div>\n",
       "<style scoped>\n",
       "    .dataframe tbody tr th:only-of-type {\n",
       "        vertical-align: middle;\n",
       "    }\n",
       "\n",
       "    .dataframe tbody tr th {\n",
       "        vertical-align: top;\n",
       "    }\n",
       "\n",
       "    .dataframe thead th {\n",
       "        text-align: right;\n",
       "    }\n",
       "</style>\n",
       "<table border=\"1\" class=\"dataframe\">\n",
       "  <thead>\n",
       "    <tr style=\"text-align: right;\">\n",
       "      <th></th>\n",
       "      <th>stimulus</th>\n",
       "      <th>she</th>\n",
       "      <th>he</th>\n",
       "    </tr>\n",
       "  </thead>\n",
       "  <tbody>\n",
       "    <tr>\n",
       "      <th>0</th>\n",
       "      <td>Miss Smith walked to Mr. Smith and, as a result,</td>\n",
       "      <td>0.667768</td>\n",
       "      <td>0.332232</td>\n",
       "    </tr>\n",
       "    <tr>\n",
       "      <th>1</th>\n",
       "      <td>The woman walked to the man and, as a result,</td>\n",
       "      <td>0.457757</td>\n",
       "      <td>0.542243</td>\n",
       "    </tr>\n",
       "    <tr>\n",
       "      <th>2</th>\n",
       "      <td>Mary walked to John and, as a result,</td>\n",
       "      <td>0.691040</td>\n",
       "      <td>0.308960</td>\n",
       "    </tr>\n",
       "    <tr>\n",
       "      <th>3</th>\n",
       "      <td>Alice walked to Bob and, as a result,</td>\n",
       "      <td>0.583722</td>\n",
       "      <td>0.416278</td>\n",
       "    </tr>\n",
       "    <tr>\n",
       "      <th>4</th>\n",
       "      <td>The actress walked to the actor and, as a result,</td>\n",
       "      <td>0.471609</td>\n",
       "      <td>0.528391</td>\n",
       "    </tr>\n",
       "    <tr>\n",
       "      <th>5</th>\n",
       "      <td>The girl walked to the boy and, as a result,</td>\n",
       "      <td>0.462910</td>\n",
       "      <td>0.537090</td>\n",
       "    </tr>\n",
       "    <tr>\n",
       "      <th>6</th>\n",
       "      <td>Mrs. Taylor walked to Mr. Williams and, as a r...</td>\n",
       "      <td>0.651650</td>\n",
       "      <td>0.348350</td>\n",
       "    </tr>\n",
       "    <tr>\n",
       "      <th>7</th>\n",
       "      <td>Emma walked to David and, as a result,</td>\n",
       "      <td>0.751373</td>\n",
       "      <td>0.248627</td>\n",
       "    </tr>\n",
       "    <tr>\n",
       "      <th>8</th>\n",
       "      <td>The princess walked to the prince and, as a re...</td>\n",
       "      <td>0.525563</td>\n",
       "      <td>0.474437</td>\n",
       "    </tr>\n",
       "    <tr>\n",
       "      <th>9</th>\n",
       "      <td>Sarah walked to Robert and, as a result,</td>\n",
       "      <td>0.567209</td>\n",
       "      <td>0.432791</td>\n",
       "    </tr>\n",
       "    <tr>\n",
       "      <th>10</th>\n",
       "      <td>Mrs. Williams walked to Mr. Taylor and, as a r...</td>\n",
       "      <td>0.616354</td>\n",
       "      <td>0.383646</td>\n",
       "    </tr>\n",
       "    <tr>\n",
       "      <th>11</th>\n",
       "      <td>Emily walked to Paul and, as a result,</td>\n",
       "      <td>0.713924</td>\n",
       "      <td>0.286076</td>\n",
       "    </tr>\n",
       "  </tbody>\n",
       "</table>\n",
       "</div>"
      ],
      "text/plain": [
       "                                             stimulus       she        he\n",
       "0    Miss Smith walked to Mr. Smith and, as a result,  0.667768  0.332232\n",
       "1       The woman walked to the man and, as a result,  0.457757  0.542243\n",
       "2               Mary walked to John and, as a result,  0.691040  0.308960\n",
       "3               Alice walked to Bob and, as a result,  0.583722  0.416278\n",
       "4   The actress walked to the actor and, as a result,  0.471609  0.528391\n",
       "5        The girl walked to the boy and, as a result,  0.462910  0.537090\n",
       "6   Mrs. Taylor walked to Mr. Williams and, as a r...  0.651650  0.348350\n",
       "7              Emma walked to David and, as a result,  0.751373  0.248627\n",
       "8   The princess walked to the prince and, as a re...  0.525563  0.474437\n",
       "9            Sarah walked to Robert and, as a result,  0.567209  0.432791\n",
       "10  Mrs. Williams walked to Mr. Taylor and, as a r...  0.616354  0.383646\n",
       "11             Emily walked to Paul and, as a result,  0.713924  0.286076"
      ]
     },
     "execution_count": 120,
     "metadata": {},
     "output_type": "execute_result"
    }
   ],
   "source": [
    "motion_connective2_2f"
   ]
  },
  {
   "cell_type": "code",
   "execution_count": 121,
   "metadata": {},
   "outputs": [
    {
     "name": "stdout",
     "output_type": "stream",
     "text": [
      "P('subj-pron'|subj=female) =  0.5967399155100187\n",
      "P('non-subj-pron'|subj=female) =  0.40326008573174477\n"
     ]
    }
   ],
   "source": [
    "print(\"P('subj-pron'|subj=female) = \", compute_average(motion_connective2_2f,'she'))\n",
    "print(\"P('non-subj-pron'|subj=female) = \", compute_average(motion_connective2_2f,'he'))"
   ]
  },
  {
   "cell_type": "code",
   "execution_count": 122,
   "metadata": {},
   "outputs": [],
   "source": [
    "c2_average_subj_female_subj_pron['walked'] = compute_average(motion_connective2_2f,'she')\n",
    "c2_average_subj_female_obj_pron['walked'] = compute_average(motion_connective2_2f,'he')"
   ]
  },
  {
   "cell_type": "markdown",
   "metadata": {},
   "source": [
    "#### male subject"
   ]
  },
  {
   "cell_type": "code",
   "execution_count": 123,
   "metadata": {},
   "outputs": [
    {
     "data": {
      "text/html": [
       "<div>\n",
       "<style scoped>\n",
       "    .dataframe tbody tr th:only-of-type {\n",
       "        vertical-align: middle;\n",
       "    }\n",
       "\n",
       "    .dataframe tbody tr th {\n",
       "        vertical-align: top;\n",
       "    }\n",
       "\n",
       "    .dataframe thead th {\n",
       "        text-align: right;\n",
       "    }\n",
       "</style>\n",
       "<table border=\"1\" class=\"dataframe\">\n",
       "  <thead>\n",
       "    <tr style=\"text-align: right;\">\n",
       "      <th></th>\n",
       "      <th>stimulus</th>\n",
       "      <th>he</th>\n",
       "      <th>she</th>\n",
       "    </tr>\n",
       "  </thead>\n",
       "  <tbody>\n",
       "    <tr>\n",
       "      <th>12</th>\n",
       "      <td>Mr. Smith walked to Miss Smith and, as a result,</td>\n",
       "      <td>0.324353</td>\n",
       "      <td>0.675647</td>\n",
       "    </tr>\n",
       "    <tr>\n",
       "      <th>13</th>\n",
       "      <td>The man walked to the woman and, as a result,</td>\n",
       "      <td>0.497227</td>\n",
       "      <td>0.502774</td>\n",
       "    </tr>\n",
       "    <tr>\n",
       "      <th>14</th>\n",
       "      <td>John walked to Mary and, as a result,</td>\n",
       "      <td>0.310685</td>\n",
       "      <td>0.689315</td>\n",
       "    </tr>\n",
       "    <tr>\n",
       "      <th>15</th>\n",
       "      <td>Bob walked to Alice and, as a result,</td>\n",
       "      <td>0.811782</td>\n",
       "      <td>0.188218</td>\n",
       "    </tr>\n",
       "    <tr>\n",
       "      <th>16</th>\n",
       "      <td>The actor walked to the actress and, as a result,</td>\n",
       "      <td>0.686329</td>\n",
       "      <td>0.313671</td>\n",
       "    </tr>\n",
       "    <tr>\n",
       "      <th>17</th>\n",
       "      <td>The boy walked to the girl and, as a result,</td>\n",
       "      <td>0.691445</td>\n",
       "      <td>0.308555</td>\n",
       "    </tr>\n",
       "    <tr>\n",
       "      <th>18</th>\n",
       "      <td>Mr. William walked to Mrs. Taylor and, as a re...</td>\n",
       "      <td>0.215103</td>\n",
       "      <td>0.784896</td>\n",
       "    </tr>\n",
       "    <tr>\n",
       "      <th>19</th>\n",
       "      <td>David walked to Emma and, as a result,</td>\n",
       "      <td>0.275194</td>\n",
       "      <td>0.724806</td>\n",
       "    </tr>\n",
       "    <tr>\n",
       "      <th>20</th>\n",
       "      <td>The prince walked to the princess and, as a re...</td>\n",
       "      <td>0.426459</td>\n",
       "      <td>0.573541</td>\n",
       "    </tr>\n",
       "    <tr>\n",
       "      <th>21</th>\n",
       "      <td>Robert walked to Sarah and, as a result,</td>\n",
       "      <td>0.443321</td>\n",
       "      <td>0.556679</td>\n",
       "    </tr>\n",
       "    <tr>\n",
       "      <th>22</th>\n",
       "      <td>Mr. Taylor walked to Mrs. Williams and, as a r...</td>\n",
       "      <td>0.226436</td>\n",
       "      <td>0.773564</td>\n",
       "    </tr>\n",
       "    <tr>\n",
       "      <th>23</th>\n",
       "      <td>Paul walked to Emily and, as a result,</td>\n",
       "      <td>0.342113</td>\n",
       "      <td>0.657887</td>\n",
       "    </tr>\n",
       "  </tbody>\n",
       "</table>\n",
       "</div>"
      ],
      "text/plain": [
       "                                             stimulus        he       she\n",
       "12   Mr. Smith walked to Miss Smith and, as a result,  0.324353  0.675647\n",
       "13      The man walked to the woman and, as a result,  0.497227  0.502774\n",
       "14              John walked to Mary and, as a result,  0.310685  0.689315\n",
       "15              Bob walked to Alice and, as a result,  0.811782  0.188218\n",
       "16  The actor walked to the actress and, as a result,  0.686329  0.313671\n",
       "17       The boy walked to the girl and, as a result,  0.691445  0.308555\n",
       "18  Mr. William walked to Mrs. Taylor and, as a re...  0.215103  0.784896\n",
       "19             David walked to Emma and, as a result,  0.275194  0.724806\n",
       "20  The prince walked to the princess and, as a re...  0.426459  0.573541\n",
       "21           Robert walked to Sarah and, as a result,  0.443321  0.556679\n",
       "22  Mr. Taylor walked to Mrs. Williams and, as a r...  0.226436  0.773564\n",
       "23             Paul walked to Emily and, as a result,  0.342113  0.657887"
      ]
     },
     "execution_count": 123,
     "metadata": {},
     "output_type": "execute_result"
    }
   ],
   "source": [
    "motion_connective2_2m"
   ]
  },
  {
   "cell_type": "code",
   "execution_count": 124,
   "metadata": {},
   "outputs": [
    {
     "name": "stdout",
     "output_type": "stream",
     "text": [
      "P('subj-pron'|subj=male) =  0.4375372864305973\n",
      "P('non-subj-pron'|subj=male) =  0.5624627222617468\n"
     ]
    }
   ],
   "source": [
    "print(\"P('subj-pron'|subj=male) = \", compute_average(motion_connective2_2m,'he'))\n",
    "print(\"P('non-subj-pron'|subj=male) = \", compute_average(motion_connective2_2m,'she'))"
   ]
  },
  {
   "cell_type": "code",
   "execution_count": 125,
   "metadata": {},
   "outputs": [],
   "source": [
    "c2_average_subj_male_subj_pron['walked'] = compute_average(motion_connective2_2m,'he')\n",
    "c2_average_subj_male_obj_pron['walked'] = compute_average(motion_connective2_2m,'she')"
   ]
  },
  {
   "cell_type": "markdown",
   "metadata": {},
   "source": [
    "### verb: \"ran\""
   ]
  },
  {
   "cell_type": "code",
   "execution_count": 126,
   "metadata": {},
   "outputs": [
    {
     "data": {
      "text/html": [
       "<div>\n",
       "<style scoped>\n",
       "    .dataframe tbody tr th:only-of-type {\n",
       "        vertical-align: middle;\n",
       "    }\n",
       "\n",
       "    .dataframe tbody tr th {\n",
       "        vertical-align: top;\n",
       "    }\n",
       "\n",
       "    .dataframe thead th {\n",
       "        text-align: right;\n",
       "    }\n",
       "</style>\n",
       "<table border=\"1\" class=\"dataframe\">\n",
       "  <thead>\n",
       "    <tr style=\"text-align: right;\">\n",
       "      <th></th>\n",
       "      <th>stimulus</th>\n",
       "      <th>he</th>\n",
       "      <th>she</th>\n",
       "    </tr>\n",
       "  </thead>\n",
       "  <tbody>\n",
       "    <tr>\n",
       "      <th>0</th>\n",
       "      <td>Miss Smith ran to Mr. Smith and, as a result,</td>\n",
       "      <td>0.453572</td>\n",
       "      <td>0.546428</td>\n",
       "    </tr>\n",
       "    <tr>\n",
       "      <th>1</th>\n",
       "      <td>The woman ran to the man and, as a result,</td>\n",
       "      <td>0.692768</td>\n",
       "      <td>0.307232</td>\n",
       "    </tr>\n",
       "    <tr>\n",
       "      <th>2</th>\n",
       "      <td>Mary ran to John and, as a result,</td>\n",
       "      <td>0.353917</td>\n",
       "      <td>0.646083</td>\n",
       "    </tr>\n",
       "    <tr>\n",
       "      <th>3</th>\n",
       "      <td>Alice ran to Bob and, as a result,</td>\n",
       "      <td>0.447766</td>\n",
       "      <td>0.552234</td>\n",
       "    </tr>\n",
       "    <tr>\n",
       "      <th>4</th>\n",
       "      <td>The actress ran to the actor and, as a result,</td>\n",
       "      <td>0.683930</td>\n",
       "      <td>0.316070</td>\n",
       "    </tr>\n",
       "  </tbody>\n",
       "</table>\n",
       "</div>"
      ],
      "text/plain": [
       "                                         stimulus        he       she\n",
       "0   Miss Smith ran to Mr. Smith and, as a result,  0.453572  0.546428\n",
       "1      The woman ran to the man and, as a result,  0.692768  0.307232\n",
       "2              Mary ran to John and, as a result,  0.353917  0.646083\n",
       "3              Alice ran to Bob and, as a result,  0.447766  0.552234\n",
       "4  The actress ran to the actor and, as a result,  0.683930  0.316070"
      ]
     },
     "execution_count": 126,
     "metadata": {},
     "output_type": "execute_result"
    }
   ],
   "source": [
    "motion_connective2_3 = pd.read_csv(\"../results/motion/connective2/3.csv\")\n",
    "motion_connective2_3.head()"
   ]
  },
  {
   "cell_type": "code",
   "execution_count": 127,
   "metadata": {},
   "outputs": [],
   "source": [
    "# female subject\n",
    "motion_connective2_3f = motion_connective2_3[0:12]\n",
    "motion_connective2_3f = motion_connective2_3f[[\"stimulus\",\"she\",\"he\"]]\n",
    "# male subject\n",
    "motion_connective2_3m = motion_connective2_3[12:24]"
   ]
  },
  {
   "cell_type": "markdown",
   "metadata": {},
   "source": [
    "#### female subject"
   ]
  },
  {
   "cell_type": "code",
   "execution_count": 128,
   "metadata": {},
   "outputs": [
    {
     "name": "stdout",
     "output_type": "stream",
     "text": [
      "P('subj-pron'|subj=female) =  0.5056198587020239\n",
      "P('non-subj-pron'|subj=female) =  0.4943801388144493\n"
     ]
    }
   ],
   "source": [
    "print(\"P('subj-pron'|subj=female) = \", compute_average(motion_connective2_3f,'she'))\n",
    "print(\"P('non-subj-pron'|subj=female) = \", compute_average(motion_connective2_3f,'he'))"
   ]
  },
  {
   "cell_type": "code",
   "execution_count": 129,
   "metadata": {},
   "outputs": [],
   "source": [
    "c2_average_subj_female_subj_pron['ran'] = compute_average(motion_connective2_3f,'she')\n",
    "c2_average_subj_female_obj_pron['ran'] = compute_average(motion_connective2_3f,'he')"
   ]
  },
  {
   "cell_type": "markdown",
   "metadata": {},
   "source": [
    "#### male subject"
   ]
  },
  {
   "cell_type": "code",
   "execution_count": 130,
   "metadata": {},
   "outputs": [
    {
     "data": {
      "text/html": [
       "<div>\n",
       "<style scoped>\n",
       "    .dataframe tbody tr th:only-of-type {\n",
       "        vertical-align: middle;\n",
       "    }\n",
       "\n",
       "    .dataframe tbody tr th {\n",
       "        vertical-align: top;\n",
       "    }\n",
       "\n",
       "    .dataframe thead th {\n",
       "        text-align: right;\n",
       "    }\n",
       "</style>\n",
       "<table border=\"1\" class=\"dataframe\">\n",
       "  <thead>\n",
       "    <tr style=\"text-align: right;\">\n",
       "      <th></th>\n",
       "      <th>stimulus</th>\n",
       "      <th>he</th>\n",
       "      <th>she</th>\n",
       "    </tr>\n",
       "  </thead>\n",
       "  <tbody>\n",
       "    <tr>\n",
       "      <th>12</th>\n",
       "      <td>Mr. Smith ran to Miss Smith and, as a result,</td>\n",
       "      <td>0.267955</td>\n",
       "      <td>0.732045</td>\n",
       "    </tr>\n",
       "    <tr>\n",
       "      <th>13</th>\n",
       "      <td>The man ran to the woman and, as a result,</td>\n",
       "      <td>0.405808</td>\n",
       "      <td>0.594192</td>\n",
       "    </tr>\n",
       "    <tr>\n",
       "      <th>14</th>\n",
       "      <td>John ran to Mary and, as a result,</td>\n",
       "      <td>0.270919</td>\n",
       "      <td>0.729081</td>\n",
       "    </tr>\n",
       "    <tr>\n",
       "      <th>15</th>\n",
       "      <td>Bob ran to Alice and, as a result,</td>\n",
       "      <td>0.620601</td>\n",
       "      <td>0.379400</td>\n",
       "    </tr>\n",
       "    <tr>\n",
       "      <th>16</th>\n",
       "      <td>The actor ran to the actress and, as a result,</td>\n",
       "      <td>0.416336</td>\n",
       "      <td>0.583664</td>\n",
       "    </tr>\n",
       "    <tr>\n",
       "      <th>17</th>\n",
       "      <td>The boy ran to the girl and, as a result,</td>\n",
       "      <td>0.671091</td>\n",
       "      <td>0.328909</td>\n",
       "    </tr>\n",
       "    <tr>\n",
       "      <th>18</th>\n",
       "      <td>Mr. William ran to Mrs. Taylor and, as a result,</td>\n",
       "      <td>0.124639</td>\n",
       "      <td>0.875361</td>\n",
       "    </tr>\n",
       "    <tr>\n",
       "      <th>19</th>\n",
       "      <td>David ran to Emma and, as a result,</td>\n",
       "      <td>0.167231</td>\n",
       "      <td>0.832769</td>\n",
       "    </tr>\n",
       "    <tr>\n",
       "      <th>20</th>\n",
       "      <td>The prince ran to the princess and, as a result,</td>\n",
       "      <td>0.283427</td>\n",
       "      <td>0.716573</td>\n",
       "    </tr>\n",
       "    <tr>\n",
       "      <th>21</th>\n",
       "      <td>Robert ran to Sarah and, as a result,</td>\n",
       "      <td>0.222498</td>\n",
       "      <td>0.777502</td>\n",
       "    </tr>\n",
       "    <tr>\n",
       "      <th>22</th>\n",
       "      <td>Mr. Taylor ran to Mrs. Williams and, as a result,</td>\n",
       "      <td>0.104133</td>\n",
       "      <td>0.895867</td>\n",
       "    </tr>\n",
       "    <tr>\n",
       "      <th>23</th>\n",
       "      <td>Paul ran to Emily and, as a result,</td>\n",
       "      <td>0.253629</td>\n",
       "      <td>0.746371</td>\n",
       "    </tr>\n",
       "  </tbody>\n",
       "</table>\n",
       "</div>"
      ],
      "text/plain": [
       "                                             stimulus        he       she\n",
       "12      Mr. Smith ran to Miss Smith and, as a result,  0.267955  0.732045\n",
       "13         The man ran to the woman and, as a result,  0.405808  0.594192\n",
       "14                 John ran to Mary and, as a result,  0.270919  0.729081\n",
       "15                 Bob ran to Alice and, as a result,  0.620601  0.379400\n",
       "16     The actor ran to the actress and, as a result,  0.416336  0.583664\n",
       "17          The boy ran to the girl and, as a result,  0.671091  0.328909\n",
       "18   Mr. William ran to Mrs. Taylor and, as a result,  0.124639  0.875361\n",
       "19                David ran to Emma and, as a result,  0.167231  0.832769\n",
       "20   The prince ran to the princess and, as a result,  0.283427  0.716573\n",
       "21              Robert ran to Sarah and, as a result,  0.222498  0.777502\n",
       "22  Mr. Taylor ran to Mrs. Williams and, as a result,  0.104133  0.895867\n",
       "23                Paul ran to Emily and, as a result,  0.253629  0.746371"
      ]
     },
     "execution_count": 130,
     "metadata": {},
     "output_type": "execute_result"
    }
   ],
   "source": [
    "motion_connective2_3m"
   ]
  },
  {
   "cell_type": "code",
   "execution_count": 131,
   "metadata": {},
   "outputs": [
    {
     "name": "stdout",
     "output_type": "stream",
     "text": [
      "P('subj-pron'|subj=male) =  0.3173554688692093\n",
      "P('non-subj-pron'|subj=male) =  0.6826445187131563\n"
     ]
    }
   ],
   "source": [
    "print(\"P('subj-pron'|subj=male) = \", compute_average(motion_connective2_3m,'he'))\n",
    "print(\"P('non-subj-pron'|subj=male) = \", compute_average(motion_connective2_3m,'she'))"
   ]
  },
  {
   "cell_type": "code",
   "execution_count": 132,
   "metadata": {},
   "outputs": [],
   "source": [
    "c2_average_subj_male_subj_pron['ran'] = compute_average(motion_connective2_3m,'he')\n",
    "c2_average_subj_male_obj_pron['ran'] = compute_average(motion_connective2_3m,'she')"
   ]
  },
  {
   "cell_type": "markdown",
   "metadata": {},
   "source": [
    "### verb: \"swam\""
   ]
  },
  {
   "cell_type": "code",
   "execution_count": 133,
   "metadata": {},
   "outputs": [
    {
     "data": {
      "text/html": [
       "<div>\n",
       "<style scoped>\n",
       "    .dataframe tbody tr th:only-of-type {\n",
       "        vertical-align: middle;\n",
       "    }\n",
       "\n",
       "    .dataframe tbody tr th {\n",
       "        vertical-align: top;\n",
       "    }\n",
       "\n",
       "    .dataframe thead th {\n",
       "        text-align: right;\n",
       "    }\n",
       "</style>\n",
       "<table border=\"1\" class=\"dataframe\">\n",
       "  <thead>\n",
       "    <tr style=\"text-align: right;\">\n",
       "      <th></th>\n",
       "      <th>stimulus</th>\n",
       "      <th>he</th>\n",
       "      <th>she</th>\n",
       "    </tr>\n",
       "  </thead>\n",
       "  <tbody>\n",
       "    <tr>\n",
       "      <th>0</th>\n",
       "      <td>Miss Smith swam to Mr. Smith and, as a result,</td>\n",
       "      <td>0.263410</td>\n",
       "      <td>0.736590</td>\n",
       "    </tr>\n",
       "    <tr>\n",
       "      <th>1</th>\n",
       "      <td>The woman swam to the man and, as a result,</td>\n",
       "      <td>0.433127</td>\n",
       "      <td>0.566873</td>\n",
       "    </tr>\n",
       "    <tr>\n",
       "      <th>2</th>\n",
       "      <td>Mary swam to John and, as a result,</td>\n",
       "      <td>0.252037</td>\n",
       "      <td>0.747963</td>\n",
       "    </tr>\n",
       "    <tr>\n",
       "      <th>3</th>\n",
       "      <td>Alice swam to Bob and, as a result,</td>\n",
       "      <td>0.397680</td>\n",
       "      <td>0.602319</td>\n",
       "    </tr>\n",
       "    <tr>\n",
       "      <th>4</th>\n",
       "      <td>The actress swam to the actor and, as a result,</td>\n",
       "      <td>0.522282</td>\n",
       "      <td>0.477718</td>\n",
       "    </tr>\n",
       "  </tbody>\n",
       "</table>\n",
       "</div>"
      ],
      "text/plain": [
       "                                          stimulus        he       she\n",
       "0   Miss Smith swam to Mr. Smith and, as a result,  0.263410  0.736590\n",
       "1      The woman swam to the man and, as a result,  0.433127  0.566873\n",
       "2              Mary swam to John and, as a result,  0.252037  0.747963\n",
       "3              Alice swam to Bob and, as a result,  0.397680  0.602319\n",
       "4  The actress swam to the actor and, as a result,  0.522282  0.477718"
      ]
     },
     "execution_count": 133,
     "metadata": {},
     "output_type": "execute_result"
    }
   ],
   "source": [
    "motion_connective2_4 = pd.read_csv(\"../results/motion/connective2/4.csv\")\n",
    "motion_connective2_4.head()"
   ]
  },
  {
   "cell_type": "code",
   "execution_count": 134,
   "metadata": {},
   "outputs": [],
   "source": [
    "# female subject\n",
    "motion_connective2_4f = motion_connective2_4[0:12]\n",
    "motion_connective2_4f = motion_connective2_4f[[\"stimulus\",\"she\",\"he\"]]\n",
    "# male subject\n",
    "motion_connective2_4m = motion_connective2_4[12:24]"
   ]
  },
  {
   "cell_type": "markdown",
   "metadata": {},
   "source": [
    "#### female subject"
   ]
  },
  {
   "cell_type": "code",
   "execution_count": 135,
   "metadata": {},
   "outputs": [
    {
     "data": {
      "text/html": [
       "<div>\n",
       "<style scoped>\n",
       "    .dataframe tbody tr th:only-of-type {\n",
       "        vertical-align: middle;\n",
       "    }\n",
       "\n",
       "    .dataframe tbody tr th {\n",
       "        vertical-align: top;\n",
       "    }\n",
       "\n",
       "    .dataframe thead th {\n",
       "        text-align: right;\n",
       "    }\n",
       "</style>\n",
       "<table border=\"1\" class=\"dataframe\">\n",
       "  <thead>\n",
       "    <tr style=\"text-align: right;\">\n",
       "      <th></th>\n",
       "      <th>stimulus</th>\n",
       "      <th>she</th>\n",
       "      <th>he</th>\n",
       "    </tr>\n",
       "  </thead>\n",
       "  <tbody>\n",
       "    <tr>\n",
       "      <th>0</th>\n",
       "      <td>Miss Smith swam to Mr. Smith and, as a result,</td>\n",
       "      <td>0.736590</td>\n",
       "      <td>0.263410</td>\n",
       "    </tr>\n",
       "    <tr>\n",
       "      <th>1</th>\n",
       "      <td>The woman swam to the man and, as a result,</td>\n",
       "      <td>0.566873</td>\n",
       "      <td>0.433127</td>\n",
       "    </tr>\n",
       "    <tr>\n",
       "      <th>2</th>\n",
       "      <td>Mary swam to John and, as a result,</td>\n",
       "      <td>0.747963</td>\n",
       "      <td>0.252037</td>\n",
       "    </tr>\n",
       "    <tr>\n",
       "      <th>3</th>\n",
       "      <td>Alice swam to Bob and, as a result,</td>\n",
       "      <td>0.602319</td>\n",
       "      <td>0.397680</td>\n",
       "    </tr>\n",
       "    <tr>\n",
       "      <th>4</th>\n",
       "      <td>The actress swam to the actor and, as a result,</td>\n",
       "      <td>0.477718</td>\n",
       "      <td>0.522282</td>\n",
       "    </tr>\n",
       "    <tr>\n",
       "      <th>5</th>\n",
       "      <td>The girl swam to the boy and, as a result,</td>\n",
       "      <td>0.488720</td>\n",
       "      <td>0.511280</td>\n",
       "    </tr>\n",
       "    <tr>\n",
       "      <th>6</th>\n",
       "      <td>Mrs. Taylor swam to Mr. Williams and, as a res...</td>\n",
       "      <td>0.783100</td>\n",
       "      <td>0.216900</td>\n",
       "    </tr>\n",
       "    <tr>\n",
       "      <th>7</th>\n",
       "      <td>Emma swam to David and, as a result,</td>\n",
       "      <td>0.751810</td>\n",
       "      <td>0.248190</td>\n",
       "    </tr>\n",
       "    <tr>\n",
       "      <th>8</th>\n",
       "      <td>The princess swam to the prince and, as a result,</td>\n",
       "      <td>0.639065</td>\n",
       "      <td>0.360935</td>\n",
       "    </tr>\n",
       "    <tr>\n",
       "      <th>9</th>\n",
       "      <td>Sarah swam to Robert and, as a result,</td>\n",
       "      <td>0.510504</td>\n",
       "      <td>0.489496</td>\n",
       "    </tr>\n",
       "    <tr>\n",
       "      <th>10</th>\n",
       "      <td>Mrs. Williams swam to Mr. Taylor and, as a res...</td>\n",
       "      <td>0.762582</td>\n",
       "      <td>0.237418</td>\n",
       "    </tr>\n",
       "    <tr>\n",
       "      <th>11</th>\n",
       "      <td>Emily swam to Paul and, as a result,</td>\n",
       "      <td>0.749190</td>\n",
       "      <td>0.250810</td>\n",
       "    </tr>\n",
       "  </tbody>\n",
       "</table>\n",
       "</div>"
      ],
      "text/plain": [
       "                                             stimulus       she        he\n",
       "0      Miss Smith swam to Mr. Smith and, as a result,  0.736590  0.263410\n",
       "1         The woman swam to the man and, as a result,  0.566873  0.433127\n",
       "2                 Mary swam to John and, as a result,  0.747963  0.252037\n",
       "3                 Alice swam to Bob and, as a result,  0.602319  0.397680\n",
       "4     The actress swam to the actor and, as a result,  0.477718  0.522282\n",
       "5          The girl swam to the boy and, as a result,  0.488720  0.511280\n",
       "6   Mrs. Taylor swam to Mr. Williams and, as a res...  0.783100  0.216900\n",
       "7                Emma swam to David and, as a result,  0.751810  0.248190\n",
       "8   The princess swam to the prince and, as a result,  0.639065  0.360935\n",
       "9              Sarah swam to Robert and, as a result,  0.510504  0.489496\n",
       "10  Mrs. Williams swam to Mr. Taylor and, as a res...  0.762582  0.237418\n",
       "11               Emily swam to Paul and, as a result,  0.749190  0.250810"
      ]
     },
     "execution_count": 135,
     "metadata": {},
     "output_type": "execute_result"
    }
   ],
   "source": [
    "motion_connective2_4f"
   ]
  },
  {
   "cell_type": "code",
   "execution_count": 136,
   "metadata": {},
   "outputs": [
    {
     "name": "stdout",
     "output_type": "stream",
     "text": [
      "P('subj-pron'|subj=female) =  0.651369551817576\n",
      "P('non-subj-pron'|subj=female) =  0.34863045811653137\n"
     ]
    }
   ],
   "source": [
    "print(\"P('subj-pron'|subj=female) = \", compute_average(motion_connective2_4f,'she'))\n",
    "print(\"P('non-subj-pron'|subj=female) = \", compute_average(motion_connective2_4f,'he'))"
   ]
  },
  {
   "cell_type": "code",
   "execution_count": 137,
   "metadata": {},
   "outputs": [],
   "source": [
    "c2_average_subj_female_subj_pron['swam'] = compute_average(motion_connective2_4f,'she')\n",
    "c2_average_subj_female_obj_pron['swam'] = compute_average(motion_connective2_4f,'he')"
   ]
  },
  {
   "cell_type": "markdown",
   "metadata": {},
   "source": [
    "#### male subject"
   ]
  },
  {
   "cell_type": "code",
   "execution_count": 138,
   "metadata": {},
   "outputs": [
    {
     "data": {
      "text/html": [
       "<div>\n",
       "<style scoped>\n",
       "    .dataframe tbody tr th:only-of-type {\n",
       "        vertical-align: middle;\n",
       "    }\n",
       "\n",
       "    .dataframe tbody tr th {\n",
       "        vertical-align: top;\n",
       "    }\n",
       "\n",
       "    .dataframe thead th {\n",
       "        text-align: right;\n",
       "    }\n",
       "</style>\n",
       "<table border=\"1\" class=\"dataframe\">\n",
       "  <thead>\n",
       "    <tr style=\"text-align: right;\">\n",
       "      <th></th>\n",
       "      <th>stimulus</th>\n",
       "      <th>he</th>\n",
       "      <th>she</th>\n",
       "    </tr>\n",
       "  </thead>\n",
       "  <tbody>\n",
       "    <tr>\n",
       "      <th>12</th>\n",
       "      <td>Mr. Smith swam to Miss Smith because</td>\n",
       "      <td>0.665454</td>\n",
       "      <td>0.334546</td>\n",
       "    </tr>\n",
       "    <tr>\n",
       "      <th>13</th>\n",
       "      <td>The man swam to the woman because</td>\n",
       "      <td>0.567950</td>\n",
       "      <td>0.432050</td>\n",
       "    </tr>\n",
       "    <tr>\n",
       "      <th>14</th>\n",
       "      <td>John swam to Mary because</td>\n",
       "      <td>0.692425</td>\n",
       "      <td>0.307575</td>\n",
       "    </tr>\n",
       "    <tr>\n",
       "      <th>15</th>\n",
       "      <td>Bob swam to Alice because</td>\n",
       "      <td>0.839377</td>\n",
       "      <td>0.160623</td>\n",
       "    </tr>\n",
       "    <tr>\n",
       "      <th>16</th>\n",
       "      <td>The actor swam to the actress because</td>\n",
       "      <td>0.220827</td>\n",
       "      <td>0.779173</td>\n",
       "    </tr>\n",
       "    <tr>\n",
       "      <th>17</th>\n",
       "      <td>The boy swam to the girl because</td>\n",
       "      <td>0.497897</td>\n",
       "      <td>0.502103</td>\n",
       "    </tr>\n",
       "    <tr>\n",
       "      <th>18</th>\n",
       "      <td>Mr. William swam to Mrs. Taylor because</td>\n",
       "      <td>0.382467</td>\n",
       "      <td>0.617533</td>\n",
       "    </tr>\n",
       "    <tr>\n",
       "      <th>19</th>\n",
       "      <td>David swam to Emma because</td>\n",
       "      <td>0.582331</td>\n",
       "      <td>0.417669</td>\n",
       "    </tr>\n",
       "    <tr>\n",
       "      <th>20</th>\n",
       "      <td>The prince swam to the princess because</td>\n",
       "      <td>0.598237</td>\n",
       "      <td>0.401763</td>\n",
       "    </tr>\n",
       "    <tr>\n",
       "      <th>21</th>\n",
       "      <td>Robert swam to Sarah because</td>\n",
       "      <td>0.524702</td>\n",
       "      <td>0.475298</td>\n",
       "    </tr>\n",
       "    <tr>\n",
       "      <th>22</th>\n",
       "      <td>Mr. Taylor swam to Mrs. Williams because</td>\n",
       "      <td>0.251577</td>\n",
       "      <td>0.748423</td>\n",
       "    </tr>\n",
       "    <tr>\n",
       "      <th>23</th>\n",
       "      <td>Paul swam to Emily because</td>\n",
       "      <td>0.594019</td>\n",
       "      <td>0.405981</td>\n",
       "    </tr>\n",
       "  </tbody>\n",
       "</table>\n",
       "</div>"
      ],
      "text/plain": [
       "                                    stimulus        he       she\n",
       "12      Mr. Smith swam to Miss Smith because  0.665454  0.334546\n",
       "13         The man swam to the woman because  0.567950  0.432050\n",
       "14                 John swam to Mary because  0.692425  0.307575\n",
       "15                 Bob swam to Alice because  0.839377  0.160623\n",
       "16     The actor swam to the actress because  0.220827  0.779173\n",
       "17          The boy swam to the girl because  0.497897  0.502103\n",
       "18   Mr. William swam to Mrs. Taylor because  0.382467  0.617533\n",
       "19                David swam to Emma because  0.582331  0.417669\n",
       "20   The prince swam to the princess because  0.598237  0.401763\n",
       "21              Robert swam to Sarah because  0.524702  0.475298\n",
       "22  Mr. Taylor swam to Mrs. Williams because  0.251577  0.748423\n",
       "23                Paul swam to Emily because  0.594019  0.405981"
      ]
     },
     "execution_count": 138,
     "metadata": {},
     "output_type": "execute_result"
    }
   ],
   "source": [
    "motion_connective1_4m"
   ]
  },
  {
   "cell_type": "code",
   "execution_count": 139,
   "metadata": {},
   "outputs": [
    {
     "name": "stdout",
     "output_type": "stream",
     "text": [
      "P('subj-pron'|subj=male) =  0.5828959718346596\n",
      "P('non-subj-pron'|subj=male) =  0.4171040231982867\n"
     ]
    }
   ],
   "source": [
    "print(\"P('subj-pron'|subj=male) = \", compute_average(motion_connective2_4m,'he'))\n",
    "print(\"P('non-subj-pron'|subj=male) = \", compute_average(motion_connective2_4m,'she'))"
   ]
  },
  {
   "cell_type": "code",
   "execution_count": 140,
   "metadata": {},
   "outputs": [],
   "source": [
    "c2_average_subj_male_subj_pron['swam'] = compute_average(motion_connective2_4m,'he')\n",
    "c2_average_subj_male_obj_pron['swam'] = compute_average(motion_connective2_4m,'she')"
   ]
  },
  {
   "cell_type": "markdown",
   "metadata": {},
   "source": [
    "### verb: \"rolled\""
   ]
  },
  {
   "cell_type": "code",
   "execution_count": 141,
   "metadata": {},
   "outputs": [
    {
     "data": {
      "text/html": [
       "<div>\n",
       "<style scoped>\n",
       "    .dataframe tbody tr th:only-of-type {\n",
       "        vertical-align: middle;\n",
       "    }\n",
       "\n",
       "    .dataframe tbody tr th {\n",
       "        vertical-align: top;\n",
       "    }\n",
       "\n",
       "    .dataframe thead th {\n",
       "        text-align: right;\n",
       "    }\n",
       "</style>\n",
       "<table border=\"1\" class=\"dataframe\">\n",
       "  <thead>\n",
       "    <tr style=\"text-align: right;\">\n",
       "      <th></th>\n",
       "      <th>stimulus</th>\n",
       "      <th>he</th>\n",
       "      <th>she</th>\n",
       "    </tr>\n",
       "  </thead>\n",
       "  <tbody>\n",
       "    <tr>\n",
       "      <th>0</th>\n",
       "      <td>Miss Smith drove to Mr. Smith and, as a result,</td>\n",
       "      <td>0.333011</td>\n",
       "      <td>0.666989</td>\n",
       "    </tr>\n",
       "    <tr>\n",
       "      <th>1</th>\n",
       "      <td>The woman drove to the man and, as a result,</td>\n",
       "      <td>0.590636</td>\n",
       "      <td>0.409364</td>\n",
       "    </tr>\n",
       "    <tr>\n",
       "      <th>2</th>\n",
       "      <td>Mary drove to John and, as a result,</td>\n",
       "      <td>0.369075</td>\n",
       "      <td>0.630925</td>\n",
       "    </tr>\n",
       "    <tr>\n",
       "      <th>3</th>\n",
       "      <td>Alice drove to Bob and, as a result,</td>\n",
       "      <td>0.474266</td>\n",
       "      <td>0.525734</td>\n",
       "    </tr>\n",
       "    <tr>\n",
       "      <th>4</th>\n",
       "      <td>The actress drove to the actor and, as a result,</td>\n",
       "      <td>0.563432</td>\n",
       "      <td>0.436568</td>\n",
       "    </tr>\n",
       "  </tbody>\n",
       "</table>\n",
       "</div>"
      ],
      "text/plain": [
       "                                           stimulus        he       she\n",
       "0   Miss Smith drove to Mr. Smith and, as a result,  0.333011  0.666989\n",
       "1      The woman drove to the man and, as a result,  0.590636  0.409364\n",
       "2              Mary drove to John and, as a result,  0.369075  0.630925\n",
       "3              Alice drove to Bob and, as a result,  0.474266  0.525734\n",
       "4  The actress drove to the actor and, as a result,  0.563432  0.436568"
      ]
     },
     "execution_count": 141,
     "metadata": {},
     "output_type": "execute_result"
    }
   ],
   "source": [
    "motion_connective2_5 = pd.read_csv(\"../results/motion/connective2/5.csv\")\n",
    "motion_connective2_5.head()"
   ]
  },
  {
   "cell_type": "code",
   "execution_count": 142,
   "metadata": {},
   "outputs": [],
   "source": [
    "# female subject\n",
    "motion_connective2_5f = motion_connective2_5[0:12]\n",
    "motion_connective2_5f = motion_connective2_5[[\"stimulus\",\"she\",\"he\"]]\n",
    "# male subject\n",
    "motion_connective2_5m = motion_connective2_5[12:24]"
   ]
  },
  {
   "cell_type": "markdown",
   "metadata": {},
   "source": [
    "#### female subject"
   ]
  },
  {
   "cell_type": "code",
   "execution_count": 143,
   "metadata": {},
   "outputs": [
    {
     "name": "stdout",
     "output_type": "stream",
     "text": [
      "P('subj-pron'|subj=female) =  0.5596290665368239\n",
      "P('non-subj-pron'|subj=female) =  0.44037093470493954\n"
     ]
    }
   ],
   "source": [
    "print(\"P('subj-pron'|subj=female) = \", compute_average(motion_connective2_5f,'she'))\n",
    "print(\"P('non-subj-pron'|subj=female) = \", compute_average(motion_connective2_5f,'he'))"
   ]
  },
  {
   "cell_type": "code",
   "execution_count": 144,
   "metadata": {},
   "outputs": [],
   "source": [
    "c2_average_subj_female_subj_pron['drove'] = compute_average(motion_connective2_5f,'she')\n",
    "c2_average_subj_female_obj_pron['drove'] = compute_average(motion_connective2_5f,'he')"
   ]
  },
  {
   "cell_type": "markdown",
   "metadata": {},
   "source": [
    "#### male subject"
   ]
  },
  {
   "cell_type": "code",
   "execution_count": 145,
   "metadata": {},
   "outputs": [
    {
     "data": {
      "text/html": [
       "<div>\n",
       "<style scoped>\n",
       "    .dataframe tbody tr th:only-of-type {\n",
       "        vertical-align: middle;\n",
       "    }\n",
       "\n",
       "    .dataframe tbody tr th {\n",
       "        vertical-align: top;\n",
       "    }\n",
       "\n",
       "    .dataframe thead th {\n",
       "        text-align: right;\n",
       "    }\n",
       "</style>\n",
       "<table border=\"1\" class=\"dataframe\">\n",
       "  <thead>\n",
       "    <tr style=\"text-align: right;\">\n",
       "      <th></th>\n",
       "      <th>stimulus</th>\n",
       "      <th>he</th>\n",
       "      <th>she</th>\n",
       "    </tr>\n",
       "  </thead>\n",
       "  <tbody>\n",
       "    <tr>\n",
       "      <th>12</th>\n",
       "      <td>Mr. Smith drove to Miss Smith and, as a result,</td>\n",
       "      <td>0.330816</td>\n",
       "      <td>0.669184</td>\n",
       "    </tr>\n",
       "    <tr>\n",
       "      <th>13</th>\n",
       "      <td>The man drove to the woman and, as a result,</td>\n",
       "      <td>0.532023</td>\n",
       "      <td>0.467977</td>\n",
       "    </tr>\n",
       "    <tr>\n",
       "      <th>14</th>\n",
       "      <td>John drove to Mary and, as a result,</td>\n",
       "      <td>0.342280</td>\n",
       "      <td>0.657720</td>\n",
       "    </tr>\n",
       "    <tr>\n",
       "      <th>15</th>\n",
       "      <td>Bob drove to Alice and, as a result,</td>\n",
       "      <td>0.807172</td>\n",
       "      <td>0.192828</td>\n",
       "    </tr>\n",
       "    <tr>\n",
       "      <th>16</th>\n",
       "      <td>The actor drove to the actress and, as a result,</td>\n",
       "      <td>0.621141</td>\n",
       "      <td>0.378859</td>\n",
       "    </tr>\n",
       "    <tr>\n",
       "      <th>17</th>\n",
       "      <td>The boy drove to the girl and, as a result,</td>\n",
       "      <td>0.753425</td>\n",
       "      <td>0.246576</td>\n",
       "    </tr>\n",
       "    <tr>\n",
       "      <th>18</th>\n",
       "      <td>Mr. William drove to Mrs. Taylor and, as a res...</td>\n",
       "      <td>0.262314</td>\n",
       "      <td>0.737686</td>\n",
       "    </tr>\n",
       "    <tr>\n",
       "      <th>19</th>\n",
       "      <td>David drove to Emma and, as a result,</td>\n",
       "      <td>0.282166</td>\n",
       "      <td>0.717834</td>\n",
       "    </tr>\n",
       "    <tr>\n",
       "      <th>20</th>\n",
       "      <td>The prince drove to the princess and, as a res...</td>\n",
       "      <td>0.443284</td>\n",
       "      <td>0.556716</td>\n",
       "    </tr>\n",
       "    <tr>\n",
       "      <th>21</th>\n",
       "      <td>Robert drove to Sarah and, as a result,</td>\n",
       "      <td>0.429449</td>\n",
       "      <td>0.570551</td>\n",
       "    </tr>\n",
       "    <tr>\n",
       "      <th>22</th>\n",
       "      <td>Mr. Taylor drove to Mrs. Williams and, as a re...</td>\n",
       "      <td>0.233661</td>\n",
       "      <td>0.766339</td>\n",
       "    </tr>\n",
       "    <tr>\n",
       "      <th>23</th>\n",
       "      <td>Paul drove to Emily and, as a result,</td>\n",
       "      <td>0.337728</td>\n",
       "      <td>0.662272</td>\n",
       "    </tr>\n",
       "  </tbody>\n",
       "</table>\n",
       "</div>"
      ],
      "text/plain": [
       "                                             stimulus        he       she\n",
       "12    Mr. Smith drove to Miss Smith and, as a result,  0.330816  0.669184\n",
       "13       The man drove to the woman and, as a result,  0.532023  0.467977\n",
       "14               John drove to Mary and, as a result,  0.342280  0.657720\n",
       "15               Bob drove to Alice and, as a result,  0.807172  0.192828\n",
       "16   The actor drove to the actress and, as a result,  0.621141  0.378859\n",
       "17        The boy drove to the girl and, as a result,  0.753425  0.246576\n",
       "18  Mr. William drove to Mrs. Taylor and, as a res...  0.262314  0.737686\n",
       "19              David drove to Emma and, as a result,  0.282166  0.717834\n",
       "20  The prince drove to the princess and, as a res...  0.443284  0.556716\n",
       "21            Robert drove to Sarah and, as a result,  0.429449  0.570551\n",
       "22  Mr. Taylor drove to Mrs. Williams and, as a re...  0.233661  0.766339\n",
       "23              Paul drove to Emily and, as a result,  0.337728  0.662272"
      ]
     },
     "execution_count": 145,
     "metadata": {},
     "output_type": "execute_result"
    }
   ],
   "source": [
    "motion_connective2_5m"
   ]
  },
  {
   "cell_type": "code",
   "execution_count": 146,
   "metadata": {},
   "outputs": [
    {
     "name": "stdout",
     "output_type": "stream",
     "text": [
      "P('subj-pron'|subj=male) =  0.44795502970616025\n",
      "P('non-subj-pron'|subj=male) =  0.5520449678103129\n"
     ]
    }
   ],
   "source": [
    "print(\"P('subj-pron'|subj=male) = \", compute_average(motion_connective2_5m,'he'))\n",
    "print(\"P('non-subj-pron'|subj=male) = \", compute_average(motion_connective2_5m,'she'))"
   ]
  },
  {
   "cell_type": "code",
   "execution_count": 147,
   "metadata": {},
   "outputs": [],
   "source": [
    "c2_average_subj_male_subj_pron['drove'] = compute_average(motion_connective2_5m,'he')\n",
    "c2_average_subj_male_obj_pron['drove'] = compute_average(motion_connective2_5m,'she')"
   ]
  },
  {
   "cell_type": "markdown",
   "metadata": {},
   "source": [
    "### verb: \"jogged\""
   ]
  },
  {
   "cell_type": "code",
   "execution_count": 148,
   "metadata": {},
   "outputs": [
    {
     "data": {
      "text/html": [
       "<div>\n",
       "<style scoped>\n",
       "    .dataframe tbody tr th:only-of-type {\n",
       "        vertical-align: middle;\n",
       "    }\n",
       "\n",
       "    .dataframe tbody tr th {\n",
       "        vertical-align: top;\n",
       "    }\n",
       "\n",
       "    .dataframe thead th {\n",
       "        text-align: right;\n",
       "    }\n",
       "</style>\n",
       "<table border=\"1\" class=\"dataframe\">\n",
       "  <thead>\n",
       "    <tr style=\"text-align: right;\">\n",
       "      <th></th>\n",
       "      <th>stimulus</th>\n",
       "      <th>he</th>\n",
       "      <th>she</th>\n",
       "    </tr>\n",
       "  </thead>\n",
       "  <tbody>\n",
       "    <tr>\n",
       "      <th>0</th>\n",
       "      <td>Miss Smith jogged to Mr. Smith and, as a result,</td>\n",
       "      <td>0.385017</td>\n",
       "      <td>0.614983</td>\n",
       "    </tr>\n",
       "    <tr>\n",
       "      <th>1</th>\n",
       "      <td>The woman jogged to the man and, as a result,</td>\n",
       "      <td>0.639443</td>\n",
       "      <td>0.360557</td>\n",
       "    </tr>\n",
       "    <tr>\n",
       "      <th>2</th>\n",
       "      <td>Mary jogged to John and, as a result,</td>\n",
       "      <td>0.396470</td>\n",
       "      <td>0.603530</td>\n",
       "    </tr>\n",
       "    <tr>\n",
       "      <th>3</th>\n",
       "      <td>Alice jogged to Bob and, as a result,</td>\n",
       "      <td>0.596463</td>\n",
       "      <td>0.403537</td>\n",
       "    </tr>\n",
       "    <tr>\n",
       "      <th>4</th>\n",
       "      <td>The actress jogged to the actor and, as a result,</td>\n",
       "      <td>0.684315</td>\n",
       "      <td>0.315685</td>\n",
       "    </tr>\n",
       "  </tbody>\n",
       "</table>\n",
       "</div>"
      ],
      "text/plain": [
       "                                            stimulus        he       she\n",
       "0   Miss Smith jogged to Mr. Smith and, as a result,  0.385017  0.614983\n",
       "1      The woman jogged to the man and, as a result,  0.639443  0.360557\n",
       "2              Mary jogged to John and, as a result,  0.396470  0.603530\n",
       "3              Alice jogged to Bob and, as a result,  0.596463  0.403537\n",
       "4  The actress jogged to the actor and, as a result,  0.684315  0.315685"
      ]
     },
     "execution_count": 148,
     "metadata": {},
     "output_type": "execute_result"
    }
   ],
   "source": [
    "motion_connective2_6 = pd.read_csv(\"../results/motion/connective2/6.csv\")\n",
    "motion_connective2_6.head()"
   ]
  },
  {
   "cell_type": "code",
   "execution_count": 149,
   "metadata": {},
   "outputs": [],
   "source": [
    "# female subject\n",
    "motion_connective2_6f = motion_connective2_6[0:12]\n",
    "motion_connective2_6f = motion_connective2_6[[\"stimulus\",\"she\",\"he\"]]\n",
    "# male subject\n",
    "motion_connective2_6m = motion_connective2_6[12:24]"
   ]
  },
  {
   "cell_type": "markdown",
   "metadata": {},
   "source": [
    "#### female subject"
   ]
  },
  {
   "cell_type": "code",
   "execution_count": 150,
   "metadata": {},
   "outputs": [
    {
     "data": {
      "text/html": [
       "<div>\n",
       "<style scoped>\n",
       "    .dataframe tbody tr th:only-of-type {\n",
       "        vertical-align: middle;\n",
       "    }\n",
       "\n",
       "    .dataframe tbody tr th {\n",
       "        vertical-align: top;\n",
       "    }\n",
       "\n",
       "    .dataframe thead th {\n",
       "        text-align: right;\n",
       "    }\n",
       "</style>\n",
       "<table border=\"1\" class=\"dataframe\">\n",
       "  <thead>\n",
       "    <tr style=\"text-align: right;\">\n",
       "      <th></th>\n",
       "      <th>stimulus</th>\n",
       "      <th>she</th>\n",
       "      <th>he</th>\n",
       "    </tr>\n",
       "  </thead>\n",
       "  <tbody>\n",
       "    <tr>\n",
       "      <th>0</th>\n",
       "      <td>Miss Smith jogged to Mr. Smith and, as a result,</td>\n",
       "      <td>0.614983</td>\n",
       "      <td>0.385017</td>\n",
       "    </tr>\n",
       "    <tr>\n",
       "      <th>1</th>\n",
       "      <td>The woman jogged to the man and, as a result,</td>\n",
       "      <td>0.360557</td>\n",
       "      <td>0.639443</td>\n",
       "    </tr>\n",
       "    <tr>\n",
       "      <th>2</th>\n",
       "      <td>Mary jogged to John and, as a result,</td>\n",
       "      <td>0.603530</td>\n",
       "      <td>0.396470</td>\n",
       "    </tr>\n",
       "    <tr>\n",
       "      <th>3</th>\n",
       "      <td>Alice jogged to Bob and, as a result,</td>\n",
       "      <td>0.403537</td>\n",
       "      <td>0.596463</td>\n",
       "    </tr>\n",
       "    <tr>\n",
       "      <th>4</th>\n",
       "      <td>The actress jogged to the actor and, as a result,</td>\n",
       "      <td>0.315685</td>\n",
       "      <td>0.684315</td>\n",
       "    </tr>\n",
       "    <tr>\n",
       "      <th>5</th>\n",
       "      <td>The girl jogged to the boy and, as a result,</td>\n",
       "      <td>0.362694</td>\n",
       "      <td>0.637306</td>\n",
       "    </tr>\n",
       "    <tr>\n",
       "      <th>6</th>\n",
       "      <td>Mrs. Taylor jogged to Mr. Williams and, as a r...</td>\n",
       "      <td>0.614512</td>\n",
       "      <td>0.385488</td>\n",
       "    </tr>\n",
       "    <tr>\n",
       "      <th>7</th>\n",
       "      <td>Emma jogged to David and, as a result,</td>\n",
       "      <td>0.659160</td>\n",
       "      <td>0.340840</td>\n",
       "    </tr>\n",
       "    <tr>\n",
       "      <th>8</th>\n",
       "      <td>The princess jogged to the prince and, as a re...</td>\n",
       "      <td>0.503579</td>\n",
       "      <td>0.496421</td>\n",
       "    </tr>\n",
       "    <tr>\n",
       "      <th>9</th>\n",
       "      <td>Sarah jogged to Robert and, as a result,</td>\n",
       "      <td>0.386725</td>\n",
       "      <td>0.613275</td>\n",
       "    </tr>\n",
       "    <tr>\n",
       "      <th>10</th>\n",
       "      <td>Mrs. Williams jogged to Mr. Taylor and, as a r...</td>\n",
       "      <td>0.598865</td>\n",
       "      <td>0.401135</td>\n",
       "    </tr>\n",
       "    <tr>\n",
       "      <th>11</th>\n",
       "      <td>Emily jogged to Paul and, as a result,</td>\n",
       "      <td>0.586364</td>\n",
       "      <td>0.413636</td>\n",
       "    </tr>\n",
       "    <tr>\n",
       "      <th>12</th>\n",
       "      <td>Mr. Smith jogged to Miss Smith and, as a result,</td>\n",
       "      <td>0.531846</td>\n",
       "      <td>0.468154</td>\n",
       "    </tr>\n",
       "    <tr>\n",
       "      <th>13</th>\n",
       "      <td>The man jogged to the woman and, as a result,</td>\n",
       "      <td>0.316766</td>\n",
       "      <td>0.683234</td>\n",
       "    </tr>\n",
       "    <tr>\n",
       "      <th>14</th>\n",
       "      <td>John jogged to Mary and, as a result,</td>\n",
       "      <td>0.562054</td>\n",
       "      <td>0.437946</td>\n",
       "    </tr>\n",
       "    <tr>\n",
       "      <th>15</th>\n",
       "      <td>Bob jogged to Alice and, as a result,</td>\n",
       "      <td>0.147357</td>\n",
       "      <td>0.852643</td>\n",
       "    </tr>\n",
       "    <tr>\n",
       "      <th>16</th>\n",
       "      <td>The actor jogged to the actress and, as a result,</td>\n",
       "      <td>0.275459</td>\n",
       "      <td>0.724541</td>\n",
       "    </tr>\n",
       "    <tr>\n",
       "      <th>17</th>\n",
       "      <td>The boy jogged to the girl and, as a result,</td>\n",
       "      <td>0.160187</td>\n",
       "      <td>0.839813</td>\n",
       "    </tr>\n",
       "    <tr>\n",
       "      <th>18</th>\n",
       "      <td>Mr. William jogged to Mrs. Taylor and, as a re...</td>\n",
       "      <td>0.656265</td>\n",
       "      <td>0.343735</td>\n",
       "    </tr>\n",
       "    <tr>\n",
       "      <th>19</th>\n",
       "      <td>David jogged to Emma and, as a result,</td>\n",
       "      <td>0.688577</td>\n",
       "      <td>0.311423</td>\n",
       "    </tr>\n",
       "    <tr>\n",
       "      <th>20</th>\n",
       "      <td>The prince jogged to the princess and, as a re...</td>\n",
       "      <td>0.472755</td>\n",
       "      <td>0.527245</td>\n",
       "    </tr>\n",
       "    <tr>\n",
       "      <th>21</th>\n",
       "      <td>Robert jogged to Sarah and, as a result,</td>\n",
       "      <td>0.440677</td>\n",
       "      <td>0.559323</td>\n",
       "    </tr>\n",
       "    <tr>\n",
       "      <th>22</th>\n",
       "      <td>Mr. Taylor jogged to Mrs. Williams and, as a r...</td>\n",
       "      <td>0.661271</td>\n",
       "      <td>0.338729</td>\n",
       "    </tr>\n",
       "    <tr>\n",
       "      <th>23</th>\n",
       "      <td>Paul jogged to Emily and, as a result,</td>\n",
       "      <td>0.590038</td>\n",
       "      <td>0.409962</td>\n",
       "    </tr>\n",
       "  </tbody>\n",
       "</table>\n",
       "</div>"
      ],
      "text/plain": [
       "                                             stimulus       she        he\n",
       "0    Miss Smith jogged to Mr. Smith and, as a result,  0.614983  0.385017\n",
       "1       The woman jogged to the man and, as a result,  0.360557  0.639443\n",
       "2               Mary jogged to John and, as a result,  0.603530  0.396470\n",
       "3               Alice jogged to Bob and, as a result,  0.403537  0.596463\n",
       "4   The actress jogged to the actor and, as a result,  0.315685  0.684315\n",
       "5        The girl jogged to the boy and, as a result,  0.362694  0.637306\n",
       "6   Mrs. Taylor jogged to Mr. Williams and, as a r...  0.614512  0.385488\n",
       "7              Emma jogged to David and, as a result,  0.659160  0.340840\n",
       "8   The princess jogged to the prince and, as a re...  0.503579  0.496421\n",
       "9            Sarah jogged to Robert and, as a result,  0.386725  0.613275\n",
       "10  Mrs. Williams jogged to Mr. Taylor and, as a r...  0.598865  0.401135\n",
       "11             Emily jogged to Paul and, as a result,  0.586364  0.413636\n",
       "12   Mr. Smith jogged to Miss Smith and, as a result,  0.531846  0.468154\n",
       "13      The man jogged to the woman and, as a result,  0.316766  0.683234\n",
       "14              John jogged to Mary and, as a result,  0.562054  0.437946\n",
       "15              Bob jogged to Alice and, as a result,  0.147357  0.852643\n",
       "16  The actor jogged to the actress and, as a result,  0.275459  0.724541\n",
       "17       The boy jogged to the girl and, as a result,  0.160187  0.839813\n",
       "18  Mr. William jogged to Mrs. Taylor and, as a re...  0.656265  0.343735\n",
       "19             David jogged to Emma and, as a result,  0.688577  0.311423\n",
       "20  The prince jogged to the princess and, as a re...  0.472755  0.527245\n",
       "21           Robert jogged to Sarah and, as a result,  0.440677  0.559323\n",
       "22  Mr. Taylor jogged to Mrs. Williams and, as a r...  0.661271  0.338729\n",
       "23             Paul jogged to Emily and, as a result,  0.590038  0.409962"
      ]
     },
     "execution_count": 150,
     "metadata": {},
     "output_type": "execute_result"
    }
   ],
   "source": [
    "motion_connective2_6f"
   ]
  },
  {
   "cell_type": "code",
   "execution_count": 151,
   "metadata": {},
   "outputs": [
    {
     "name": "stdout",
     "output_type": "stream",
     "text": [
      "P('subj-pron'|subj=female) =  0.4797266982495785\n",
      "P('non-subj-pron'|subj=female) =  0.5202733067174753\n"
     ]
    }
   ],
   "source": [
    "print(\"P('subj-pron'|subj=female) = \", compute_average(motion_connective2_6f,'she'))\n",
    "print(\"P('non-subj-pron'|subj=female) = \", compute_average(motion_connective2_6f,'he'))"
   ]
  },
  {
   "cell_type": "code",
   "execution_count": 152,
   "metadata": {},
   "outputs": [],
   "source": [
    "c2_average_subj_female_subj_pron['jogged'] = compute_average(motion_connective2_6f,'she')\n",
    "c2_average_subj_female_obj_pron['jogged'] = compute_average(motion_connective2_6f,'he')"
   ]
  },
  {
   "cell_type": "markdown",
   "metadata": {},
   "source": [
    "#### male subject"
   ]
  },
  {
   "cell_type": "code",
   "execution_count": 153,
   "metadata": {},
   "outputs": [
    {
     "data": {
      "text/html": [
       "<div>\n",
       "<style scoped>\n",
       "    .dataframe tbody tr th:only-of-type {\n",
       "        vertical-align: middle;\n",
       "    }\n",
       "\n",
       "    .dataframe tbody tr th {\n",
       "        vertical-align: top;\n",
       "    }\n",
       "\n",
       "    .dataframe thead th {\n",
       "        text-align: right;\n",
       "    }\n",
       "</style>\n",
       "<table border=\"1\" class=\"dataframe\">\n",
       "  <thead>\n",
       "    <tr style=\"text-align: right;\">\n",
       "      <th></th>\n",
       "      <th>stimulus</th>\n",
       "      <th>he</th>\n",
       "      <th>she</th>\n",
       "    </tr>\n",
       "  </thead>\n",
       "  <tbody>\n",
       "    <tr>\n",
       "      <th>12</th>\n",
       "      <td>Mr. Smith jogged to Miss Smith and, as a result,</td>\n",
       "      <td>0.468154</td>\n",
       "      <td>0.531846</td>\n",
       "    </tr>\n",
       "    <tr>\n",
       "      <th>13</th>\n",
       "      <td>The man jogged to the woman and, as a result,</td>\n",
       "      <td>0.683234</td>\n",
       "      <td>0.316766</td>\n",
       "    </tr>\n",
       "    <tr>\n",
       "      <th>14</th>\n",
       "      <td>John jogged to Mary and, as a result,</td>\n",
       "      <td>0.437946</td>\n",
       "      <td>0.562054</td>\n",
       "    </tr>\n",
       "    <tr>\n",
       "      <th>15</th>\n",
       "      <td>Bob jogged to Alice and, as a result,</td>\n",
       "      <td>0.852643</td>\n",
       "      <td>0.147357</td>\n",
       "    </tr>\n",
       "    <tr>\n",
       "      <th>16</th>\n",
       "      <td>The actor jogged to the actress and, as a result,</td>\n",
       "      <td>0.724541</td>\n",
       "      <td>0.275459</td>\n",
       "    </tr>\n",
       "    <tr>\n",
       "      <th>17</th>\n",
       "      <td>The boy jogged to the girl and, as a result,</td>\n",
       "      <td>0.839813</td>\n",
       "      <td>0.160187</td>\n",
       "    </tr>\n",
       "    <tr>\n",
       "      <th>18</th>\n",
       "      <td>Mr. William jogged to Mrs. Taylor and, as a re...</td>\n",
       "      <td>0.343735</td>\n",
       "      <td>0.656265</td>\n",
       "    </tr>\n",
       "    <tr>\n",
       "      <th>19</th>\n",
       "      <td>David jogged to Emma and, as a result,</td>\n",
       "      <td>0.311423</td>\n",
       "      <td>0.688577</td>\n",
       "    </tr>\n",
       "    <tr>\n",
       "      <th>20</th>\n",
       "      <td>The prince jogged to the princess and, as a re...</td>\n",
       "      <td>0.527245</td>\n",
       "      <td>0.472755</td>\n",
       "    </tr>\n",
       "    <tr>\n",
       "      <th>21</th>\n",
       "      <td>Robert jogged to Sarah and, as a result,</td>\n",
       "      <td>0.559323</td>\n",
       "      <td>0.440677</td>\n",
       "    </tr>\n",
       "    <tr>\n",
       "      <th>22</th>\n",
       "      <td>Mr. Taylor jogged to Mrs. Williams and, as a r...</td>\n",
       "      <td>0.338729</td>\n",
       "      <td>0.661271</td>\n",
       "    </tr>\n",
       "    <tr>\n",
       "      <th>23</th>\n",
       "      <td>Paul jogged to Emily and, as a result,</td>\n",
       "      <td>0.409962</td>\n",
       "      <td>0.590038</td>\n",
       "    </tr>\n",
       "  </tbody>\n",
       "</table>\n",
       "</div>"
      ],
      "text/plain": [
       "                                             stimulus        he       she\n",
       "12   Mr. Smith jogged to Miss Smith and, as a result,  0.468154  0.531846\n",
       "13      The man jogged to the woman and, as a result,  0.683234  0.316766\n",
       "14              John jogged to Mary and, as a result,  0.437946  0.562054\n",
       "15              Bob jogged to Alice and, as a result,  0.852643  0.147357\n",
       "16  The actor jogged to the actress and, as a result,  0.724541  0.275459\n",
       "17       The boy jogged to the girl and, as a result,  0.839813  0.160187\n",
       "18  Mr. William jogged to Mrs. Taylor and, as a re...  0.343735  0.656265\n",
       "19             David jogged to Emma and, as a result,  0.311423  0.688577\n",
       "20  The prince jogged to the princess and, as a re...  0.527245  0.472755\n",
       "21           Robert jogged to Sarah and, as a result,  0.559323  0.440677\n",
       "22  Mr. Taylor jogged to Mrs. Williams and, as a r...  0.338729  0.661271\n",
       "23             Paul jogged to Emily and, as a result,  0.409962  0.590038"
      ]
     },
     "execution_count": 153,
     "metadata": {},
     "output_type": "execute_result"
    }
   ],
   "source": [
    "motion_connective2_6m"
   ]
  },
  {
   "cell_type": "code",
   "execution_count": 154,
   "metadata": {},
   "outputs": [
    {
     "name": "stdout",
     "output_type": "stream",
     "text": [
      "P('subj-pron'|subj=male) =  0.5413958430290222\n",
      "P('non-subj-pron'|subj=male) =  0.45860417435566586\n"
     ]
    }
   ],
   "source": [
    "print(\"P('subj-pron'|subj=male) = \", compute_average(motion_connective2_6m,'he'))\n",
    "print(\"P('non-subj-pron'|subj=male) = \", compute_average(motion_connective2_6m,'she'))"
   ]
  },
  {
   "cell_type": "code",
   "execution_count": 155,
   "metadata": {},
   "outputs": [],
   "source": [
    "c2_average_subj_male_subj_pron['jogged'] = compute_average(motion_connective2_6m,'he')\n",
    "c2_average_subj_male_obj_pron['jogged'] = compute_average(motion_connective2_6m,'she')"
   ]
  },
  {
   "cell_type": "markdown",
   "metadata": {},
   "source": [
    "## Summary of Results"
   ]
  },
  {
   "cell_type": "code",
   "execution_count": 156,
   "metadata": {},
   "outputs": [
    {
     "data": {
      "text/html": [
       "<div>\n",
       "<style scoped>\n",
       "    .dataframe tbody tr th:only-of-type {\n",
       "        vertical-align: middle;\n",
       "    }\n",
       "\n",
       "    .dataframe tbody tr th {\n",
       "        vertical-align: top;\n",
       "    }\n",
       "\n",
       "    .dataframe thead th {\n",
       "        text-align: right;\n",
       "    }\n",
       "</style>\n",
       "<table border=\"1\" class=\"dataframe\">\n",
       "  <thead>\n",
       "    <tr style=\"text-align: right;\">\n",
       "      <th></th>\n",
       "      <th>verb</th>\n",
       "      <th>subj_ref_female_subj</th>\n",
       "      <th>obj_ref_female_subj</th>\n",
       "    </tr>\n",
       "  </thead>\n",
       "  <tbody>\n",
       "    <tr>\n",
       "      <th>0</th>\n",
       "      <td>flew</td>\n",
       "      <td>0.537705</td>\n",
       "      <td>0.462295</td>\n",
       "    </tr>\n",
       "    <tr>\n",
       "      <th>1</th>\n",
       "      <td>walked</td>\n",
       "      <td>0.596740</td>\n",
       "      <td>0.403260</td>\n",
       "    </tr>\n",
       "    <tr>\n",
       "      <th>2</th>\n",
       "      <td>ran</td>\n",
       "      <td>0.505620</td>\n",
       "      <td>0.494380</td>\n",
       "    </tr>\n",
       "    <tr>\n",
       "      <th>3</th>\n",
       "      <td>swam</td>\n",
       "      <td>0.651370</td>\n",
       "      <td>0.348630</td>\n",
       "    </tr>\n",
       "    <tr>\n",
       "      <th>4</th>\n",
       "      <td>drove</td>\n",
       "      <td>0.559629</td>\n",
       "      <td>0.440371</td>\n",
       "    </tr>\n",
       "    <tr>\n",
       "      <th>5</th>\n",
       "      <td>jogged</td>\n",
       "      <td>0.479727</td>\n",
       "      <td>0.520273</td>\n",
       "    </tr>\n",
       "  </tbody>\n",
       "</table>\n",
       "</div>"
      ],
      "text/plain": [
       "     verb  subj_ref_female_subj  obj_ref_female_subj\n",
       "0    flew              0.537705             0.462295\n",
       "1  walked              0.596740             0.403260\n",
       "2     ran              0.505620             0.494380\n",
       "3    swam              0.651370             0.348630\n",
       "4   drove              0.559629             0.440371\n",
       "5  jogged              0.479727             0.520273"
      ]
     },
     "execution_count": 156,
     "metadata": {},
     "output_type": "execute_result"
    }
   ],
   "source": [
    "c2_results_fsubj_subjpron = pd.DataFrame(list(c2_average_subj_female_subj_pron.items()),columns=['verb','subj_ref_female_subj'])\n",
    "c2_results_fsubj_objpron = pd.DataFrame(list(c2_average_subj_female_obj_pron.items()),columns=['verb','obj_ref_female_subj'])\n",
    "c2_results_fsubj = c2_results_fsubj_subjpron.merge(c2_results_fsubj_objpron)\n",
    "c2_results_fsubj"
   ]
  },
  {
   "cell_type": "code",
   "execution_count": 157,
   "metadata": {},
   "outputs": [
    {
     "data": {
      "text/html": [
       "<div>\n",
       "<style scoped>\n",
       "    .dataframe tbody tr th:only-of-type {\n",
       "        vertical-align: middle;\n",
       "    }\n",
       "\n",
       "    .dataframe tbody tr th {\n",
       "        vertical-align: top;\n",
       "    }\n",
       "\n",
       "    .dataframe thead th {\n",
       "        text-align: right;\n",
       "    }\n",
       "</style>\n",
       "<table border=\"1\" class=\"dataframe\">\n",
       "  <thead>\n",
       "    <tr style=\"text-align: right;\">\n",
       "      <th></th>\n",
       "      <th>verb</th>\n",
       "      <th>subj_ref_male_subj</th>\n",
       "      <th>obj_ref_male_subj</th>\n",
       "    </tr>\n",
       "  </thead>\n",
       "  <tbody>\n",
       "    <tr>\n",
       "      <th>0</th>\n",
       "      <td>flew</td>\n",
       "      <td>0.664283</td>\n",
       "      <td>0.335717</td>\n",
       "    </tr>\n",
       "    <tr>\n",
       "      <th>1</th>\n",
       "      <td>walked</td>\n",
       "      <td>0.437537</td>\n",
       "      <td>0.562463</td>\n",
       "    </tr>\n",
       "    <tr>\n",
       "      <th>2</th>\n",
       "      <td>ran</td>\n",
       "      <td>0.317355</td>\n",
       "      <td>0.682645</td>\n",
       "    </tr>\n",
       "    <tr>\n",
       "      <th>3</th>\n",
       "      <td>swam</td>\n",
       "      <td>0.582896</td>\n",
       "      <td>0.417104</td>\n",
       "    </tr>\n",
       "    <tr>\n",
       "      <th>4</th>\n",
       "      <td>drove</td>\n",
       "      <td>0.447955</td>\n",
       "      <td>0.552045</td>\n",
       "    </tr>\n",
       "    <tr>\n",
       "      <th>5</th>\n",
       "      <td>jogged</td>\n",
       "      <td>0.541396</td>\n",
       "      <td>0.458604</td>\n",
       "    </tr>\n",
       "  </tbody>\n",
       "</table>\n",
       "</div>"
      ],
      "text/plain": [
       "     verb  subj_ref_male_subj  obj_ref_male_subj\n",
       "0    flew            0.664283           0.335717\n",
       "1  walked            0.437537           0.562463\n",
       "2     ran            0.317355           0.682645\n",
       "3    swam            0.582896           0.417104\n",
       "4   drove            0.447955           0.552045\n",
       "5  jogged            0.541396           0.458604"
      ]
     },
     "execution_count": 157,
     "metadata": {},
     "output_type": "execute_result"
    }
   ],
   "source": [
    "c2_results_msubj_subjpron = pd.DataFrame(list(c2_average_subj_male_subj_pron.items()),columns=['verb','subj_ref_male_subj'])\n",
    "c2_results_msubj_objpron = pd.DataFrame(list(c2_average_subj_male_obj_pron.items()),columns=['verb','obj_ref_male_subj'])\n",
    "c2_results_msubj = c2_results_msubj_subjpron.merge(c2_results_msubj_objpron)\n",
    "c2_results_msubj"
   ]
  },
  {
   "cell_type": "code",
   "execution_count": 158,
   "metadata": {},
   "outputs": [
    {
     "data": {
      "text/html": [
       "<div>\n",
       "<style scoped>\n",
       "    .dataframe tbody tr th:only-of-type {\n",
       "        vertical-align: middle;\n",
       "    }\n",
       "\n",
       "    .dataframe tbody tr th {\n",
       "        vertical-align: top;\n",
       "    }\n",
       "\n",
       "    .dataframe thead th {\n",
       "        text-align: right;\n",
       "    }\n",
       "</style>\n",
       "<table border=\"1\" class=\"dataframe\">\n",
       "  <thead>\n",
       "    <tr style=\"text-align: right;\">\n",
       "      <th></th>\n",
       "      <th>verb</th>\n",
       "      <th>subj_ref_female_subj</th>\n",
       "      <th>obj_ref_female_subj</th>\n",
       "      <th>subj_ref_male_subj</th>\n",
       "      <th>obj_ref_male_subj</th>\n",
       "    </tr>\n",
       "  </thead>\n",
       "  <tbody>\n",
       "    <tr>\n",
       "      <th>0</th>\n",
       "      <td>flew</td>\n",
       "      <td>0.537705</td>\n",
       "      <td>0.462295</td>\n",
       "      <td>0.664283</td>\n",
       "      <td>0.335717</td>\n",
       "    </tr>\n",
       "    <tr>\n",
       "      <th>1</th>\n",
       "      <td>walked</td>\n",
       "      <td>0.596740</td>\n",
       "      <td>0.403260</td>\n",
       "      <td>0.437537</td>\n",
       "      <td>0.562463</td>\n",
       "    </tr>\n",
       "    <tr>\n",
       "      <th>2</th>\n",
       "      <td>ran</td>\n",
       "      <td>0.505620</td>\n",
       "      <td>0.494380</td>\n",
       "      <td>0.317355</td>\n",
       "      <td>0.682645</td>\n",
       "    </tr>\n",
       "    <tr>\n",
       "      <th>3</th>\n",
       "      <td>swam</td>\n",
       "      <td>0.651370</td>\n",
       "      <td>0.348630</td>\n",
       "      <td>0.582896</td>\n",
       "      <td>0.417104</td>\n",
       "    </tr>\n",
       "    <tr>\n",
       "      <th>4</th>\n",
       "      <td>drove</td>\n",
       "      <td>0.559629</td>\n",
       "      <td>0.440371</td>\n",
       "      <td>0.447955</td>\n",
       "      <td>0.552045</td>\n",
       "    </tr>\n",
       "    <tr>\n",
       "      <th>5</th>\n",
       "      <td>jogged</td>\n",
       "      <td>0.479727</td>\n",
       "      <td>0.520273</td>\n",
       "      <td>0.541396</td>\n",
       "      <td>0.458604</td>\n",
       "    </tr>\n",
       "  </tbody>\n",
       "</table>\n",
       "</div>"
      ],
      "text/plain": [
       "     verb  subj_ref_female_subj  obj_ref_female_subj  subj_ref_male_subj  \\\n",
       "0    flew              0.537705             0.462295            0.664283   \n",
       "1  walked              0.596740             0.403260            0.437537   \n",
       "2     ran              0.505620             0.494380            0.317355   \n",
       "3    swam              0.651370             0.348630            0.582896   \n",
       "4   drove              0.559629             0.440371            0.447955   \n",
       "5  jogged              0.479727             0.520273            0.541396   \n",
       "\n",
       "   obj_ref_male_subj  \n",
       "0           0.335717  \n",
       "1           0.562463  \n",
       "2           0.682645  \n",
       "3           0.417104  \n",
       "4           0.552045  \n",
       "5           0.458604  "
      ]
     },
     "execution_count": 158,
     "metadata": {},
     "output_type": "execute_result"
    }
   ],
   "source": [
    "c2_results = c2_results_fsubj.merge(c2_results_msubj)\n",
    "c2_results"
   ]
  },
  {
   "cell_type": "code",
   "execution_count": 159,
   "metadata": {},
   "outputs": [
    {
     "name": "stdout",
     "output_type": "stream",
     "text": [
      "P(subj_reference |subj=female) 0.5551317371428013\n",
      "P(obj_reference |subj=female) 0.44486826451288336\n"
     ]
    }
   ],
   "source": [
    "print(\"P(subj_reference |subj=female)\", compute_average(c2_results,'subj_ref_female_subj'))\n",
    "print(\"P(obj_reference |subj=female)\", compute_average(c2_results,'obj_ref_female_subj'))"
   ]
  },
  {
   "cell_type": "code",
   "execution_count": 160,
   "metadata": {},
   "outputs": [
    {
     "name": "stdout",
     "output_type": "stream",
     "text": [
      "P(subj_reference |subj=male) 0.4985704105347395\n",
      "P(obj_reference |subj=male) 0.5014295906035436\n"
     ]
    }
   ],
   "source": [
    "print(\"P(subj_reference |subj=male)\", compute_average(c2_results,'subj_ref_male_subj'))\n",
    "print(\"P(obj_reference |subj=male)\", compute_average(c2_results,'obj_ref_male_subj'))"
   ]
  },
  {
   "cell_type": "code",
   "execution_count": 161,
   "metadata": {},
   "outputs": [],
   "source": [
    "# save results to csv\n",
    "col_headers = ['verb','subj_ref_female_subj','obj_ref_female_subj','subj_ref_male_subj','obj_ref_male_subj']\n",
    "np_results.to_csv(\"../results/summary/motion-noprompt.csv\",index=False,header=col_headers)\n",
    "c1_results.to_csv(\"../results/summary/motion-connective1.csv\",index=False,header=col_headers)\n",
    "c2_results.to_csv(\"../results/summary/motion-connective2.csv\",index=False,header=col_headers)"
   ]
  }
 ],
 "metadata": {
  "kernelspec": {
   "display_name": "Python 3",
   "language": "python",
   "name": "python3"
  },
  "language_info": {
   "codemirror_mode": {
    "name": "ipython",
    "version": 3
   },
   "file_extension": ".py",
   "mimetype": "text/x-python",
   "name": "python",
   "nbconvert_exporter": "python",
   "pygments_lexer": "ipython3",
   "version": "3.7.6"
  }
 },
 "nbformat": 4,
 "nbformat_minor": 4
}
